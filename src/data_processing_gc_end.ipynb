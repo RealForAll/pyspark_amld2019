{
 "cells": [
  {
   "cell_type": "markdown",
   "metadata": {
    "colab_type": "text",
    "id": "RshrqmfOPDg0"
   },
   "source": [
    "# Introduction to data processing with PySpark\n",
    "**Note: This notebook is for use on Google Colab. For running pyspark locally you need to first install PySpark and then follow [this notebook](data_processing_pyspark.ipynb).**"
   ]
  },
  {
   "cell_type": "markdown",
   "metadata": {
    "colab_type": "text",
    "id": "3z29zkUQPsAh"
   },
   "source": [
    "## Installation of Java and Spark"
   ]
  },
  {
   "cell_type": "code",
   "execution_count": null,
   "metadata": {
    "colab": {},
    "colab_type": "code",
    "id": "M1-JiF-oPLnx"
   },
   "outputs": [],
   "source": [
    "!apt-get install openjdk-8-jdk-headless -qq > /dev/null\n",
    "!wget -q www-us.apache.org/dist/spark/spark-2.4.0/spark-2.4.0-bin-hadoop2.7.tgz  \n",
    "!tar xf spark-2.4.0-bin-hadoop2.7.tgz\n",
    "!pip install -q findspark"
   ]
  },
  {
   "cell_type": "code",
   "execution_count": null,
   "metadata": {
    "colab": {},
    "colab_type": "code",
    "id": "d2MohvQnPYTb"
   },
   "outputs": [],
   "source": [
    "import os\n",
    "os.environ[\"JAVA_HOME\"]=\"/usr/lib/jvm/java-8-openjdk-amd64\"\n",
    "os.environ[\"SPARK_HOME\"]=\"/content/spark-2.4.0-bin-hadoop2.7\""
   ]
  },
  {
   "cell_type": "code",
   "execution_count": null,
   "metadata": {
    "colab": {},
    "colab_type": "code",
    "id": "e_DIOgDrQR5N"
   },
   "outputs": [],
   "source": [
    "import findspark\n",
    "findspark.init()"
   ]
  },
  {
   "cell_type": "markdown",
   "metadata": {
    "colab_type": "text",
    "id": "wmR2JGYzRw6x"
   },
   "source": [
    "## Upload data\n",
    "### Method 1"
   ]
  },
  {
   "cell_type": "code",
   "execution_count": null,
   "metadata": {
    "colab": {
     "base_uri": "https://localhost:8080/",
     "height": 118,
     "resources": {
      "http://localhost:8080/nbextensions/google.colab/files.js": {
       "data": "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",
       "headers": [
        [
         "content-type",
         "application/javascript"
        ]
       ],
       "ok": true,
       "status": 200,
       "status_text": "OK"
      }
     }
    },
    "colab_type": "code",
    "id": "yCUO5aK0SVEu",
    "outputId": "37eb2499-3e80-4375-c24f-c29c8eae28bc"
   },
   "outputs": [
    {
     "data": {
      "text/html": [
       "\n",
       "     <input type=\"file\" id=\"files-2b5acd27-402a-4652-bd7f-855b4e4d403d\" name=\"files[]\" multiple disabled />\n",
       "     <output id=\"result-2b5acd27-402a-4652-bd7f-855b4e4d403d\">\n",
       "      Upload widget is only available when the cell has been executed in the\n",
       "      current browser session. Please rerun this cell to enable.\n",
       "      </output>\n",
       "      <script src=\"/nbextensions/google.colab/files.js\"></script> "
      ],
      "text/plain": [
       "<IPython.core.display.HTML object>"
      ]
     },
     "metadata": {
      "tags": []
     },
     "output_type": "display_data"
    },
    {
     "name": "stdout",
     "output_type": "stream",
     "text": [
      "Saving lausanne_rental.csv to lausanne_rental (1).csv\n"
     ]
    },
    {
     "data": {
      "text/plain": [
       "{'lausanne_rental.csv': b'Id,SurfaceArea,NumRooms,Type,Address,Description,Rent,Bookmark,Link\\n5286965.0,52.0,2.5,flat,\"Route Aloys-Fauquez 124, 1018 Lausanne, VD\",Agr\\xc3\\xa9able 2 pi\\xc3\\xa8ces proche de toutes les commodit\\xc3\\xa9s,1460.0,New,/en/d/flat-rent-lausanne/5286965?s=2&t=1&l=2023&ct=615&ci=1&pn=1\\n5277530.0,80.0,3.0,flat,\"Avenue de B\\xc3\\xa9thusy 53, 1012 Lausanne, VD\",Proche du centre ville,2100.0,,/en/d/flat-rent-lausanne/5277530?s=2&t=1&l=2023&ct=615&ci=2&pn=1\\n5249019.0,74.0,3.5,stepped-apartment,\"Route des Plaines-du-Loup 42, 1018 Lausanne, VD\",\"Magnifique 3,5 pi\\xc3\\xa8ces avec jardin priv\\xc3\\xa9 -Immeuble r\\xc3\\xa9cent \\xc3\\xa0 Lausanne\",2150.0,Highlight,/en/d/stepped-apartment-rent-lausanne/5249019?s=2&t=1&l=2023&ct=615&ci=3&pn=1\\n5274375.0,108.0,3.5,duplex-maisonette,\"Route de Prilly 12, 1004 Lausanne, VD\",Magnifique logement en duplex enti\\xc3\\xa8rement neuf,3160.0,,/en/d/duplex-maisonette-rent-lausanne/5274375?s=2&t=1&l=2023&ct=615&ci=4&pn=1\\n5274374.0,80.0,3.5,flat,\"Route de Prilly 12, 1004 Lausanne, VD\",Nouveaux logements,2085.0,,/en/d/flat-rent-lausanne/5274374?s=2&t=1&l=2023&ct=615&ci=5&pn=1\\n5278160.0,55.0,2.5,flat,\"Route Aloys-Fauquez 122, 1018 Lausanne, VD\",\"Grand 2,5 pi\\xc3\\xa8ces \\xc3\\xa0 Lausanne\",1450.0,,/en/d/flat-rent-lausanne/5278160?s=2&t=1&l=2023&ct=615&ci=6&pn=1\\n5277696.0,128.0,3.5,duplex-maisonette,\"Rue du Bourg 15, 1003 Lausanne, VD\",Superbe duplex \\xc3\\xa0 louer au centre de Lausanne,3000.0,,/en/d/duplex-maisonette-rent-lausanne/5277696?s=2&t=1&l=2023&ct=615&ci=7&pn=1\\n5256077.0,130.0,4.5,penthouse,\"Avenue Druey 13, 1018 Lausanne, VD\",Belle Attique R\\xc3\\xa9nov\\xc3\\xa9 Moderne avec Vue,4580.0,,/en/d/penthouse-rent-lausanne/5256077?s=2&t=1&l=2023&ct=615&ci=8&pn=1\\n5134449.0,123.0,4.5,flat,\"Chemin de Pierrefleur 23B, 1004 Lausanne, VD\",Appartement 4.5 pi\\xc3\\xa8ces \\xc3\\xa0 LAUSANNE,2950.0,,/en/d/flat-rent-lausanne/5134449?s=2&t=1&l=2023&ct=615&ci=9&pn=1\\n5275170.0,13.0,,single-room,\"Av. de Chailly 52, 1012 Lausanne, VD\",Pour petit budget - Quartier tranquille proche des commodit\\xc3\\xa9s,360.0,,/en/d/single-room-rent-lausanne/5275170?s=2&t=1&l=2023&ct=615&ci=10&pn=1\\n5212203.0,13.0,,single-room,\"Av. de Chailly 52, 1012 Lausanne, VD\",Proche de toutes les commodit\\xc3\\xa9s,380.0,,/en/d/single-room-rent-lausanne/5212203?s=2&t=1&l=2023&ct=615&ci=11&pn=1\\n5251291.0,19.0,,flat,\"Av. de Riant-Mont 15, 1004 Lausanne, VD\",\"Appartement, 1.0 pi\\xc3\\xa8ce(s)\",637.0,,\"/en/d/flat-rent-s)\\xc2\\xbblausanne/5251291?s=2&t=1&l=2023&ct=615&ci=12&pn=1## \\xc2\\xabAppartement, 1.0 pi\\xc3\\xa8ce(s\"\\n5279333.0,20.0,,flat,\"Av. de Tivoli 19Bis, 1007 Lausanne, VD\",\"Appartement, 1.0 pi\\xc3\\xa8ce(s)\",725.0,,\"/en/d/flat-rent-s)\\xc2\\xbblausanne/5279333?s=2&t=1&l=2023&ct=615&ci=13&pn=1## \\xc2\\xabAppartement, 1.0 pi\\xc3\\xa8ce(s\"\\n5280881.0,27.0,,flat,\"Isabelle de Montolieu 161, 1010 Lausanne, VD\",Haut de la Ville - quartier Vennes - proche de l\\'autoroute,780.0,,/en/d/flat-rent-lausanne/5280881?s=2&t=1&l=2023&ct=615&ci=14&pn=1\\n5286962.0,21.0,,flat,\"Rue St-Martin 28, 1005 Lausanne, VD\",Votre nouveau chez vous,840.0,New,/en/d/flat-rent-lausanne/5286962?s=2&t=1&l=2023&ct=615&ci=15&pn=1\\n5280449.0,24.0,,flat,\"Avenue Sainte-Luce 4B, 1003 Lausanne, VD\",\"Lausanne, studio au rez de chauss\\xc3\\xa9e\",850.0,,/en/d/flat-rent-lausanne/5280449?s=2&t=1&l=2023&ct=615&ci=16&pn=1\\n4939726.0,18.0,,single-room,\"Chemin de Montolivet 19, 1006 Lausanne, VD\",1006 Lausanne - Montolivet 19 - Chambre meubl\\xc3\\xa9e n\\xc2\\xb0 214,860.0,,/en/d/single-room-rent-lausanne/4939726?s=2&t=1&l=2023&ct=615&ci=17&pn=1\\n5085420.0,29.0,,flat,\"Ch. du Devin 64, 1012 Lausanne, VD\",Grand studio au calme,940.0,,/en/d/flat-rent-lausanne/5085420?s=2&t=1&l=2023&ct=615&ci=18&pn=1\\n5234626.0,33.0,,studio,\"Chemin de Boston 9B, 1004 Lausanne, VD\",Spacieux et fonctionnel,1030.0,,/en/d/studio-rent-lausanne/5234626?s=2&t=1&l=2023&ct=615&ci=19&pn=1\\n5189187.0,14.0,,furnished-residential-property,\"Avenue de Menthon 16, 1005 Lausanne, VD\",Avenue de Menthon 16 \\xc3\\xa0 1005 Lausanne,1050.0,,/en/d/furnished-residential-property-rent-lausanne/5189187?s=2&t=1&l=2023&ct=615&ci=20&pn=1\\n5097804.0,21.0,,furnished-residential-property,\"Chemin de Montolivet 19, 1006 Lausanne, VD\",1006 Lausanne - Ch. de Montolivet 19,1060.0,,/en/d/furnished-residential-property-rent-lausanne/5097804?s=2&t=1&l=2023&ct=615&ci=21&pn=1\\n5136126.0,45.0,1.5,flat,\"Chemin du Calvaire 17, 1005 Lausanne, VD\",Pr\\xc3\\xa8s du CHUV er m\\xc3\\xa9tro ! Endroit central et calme!,1090.0,,/en/d/flat-rent-lausanne/5136126?s=2&t=1&l=2023&ct=615&ci=22&pn=1\\n5288089.0,42.0,2.0,flat,\"Av. de Tivoli 19Bis, 1007 Lausanne, VD\",\"Appartement, 2.0 pi\\xc3\\xa8ce(s)\",1095.0,New,\"/en/d/flat-rent-s)\\xc2\\xbblausanne/5288089?s=2&t=1&l=2023&ct=615&ci=23&pn=1## \\xc2\\xabAppartement, 2.0 pi\\xc3\\xa8ce(s\"\\n5282677.0,26.0,,flat,\"Avenue de Valmont 7, 1010 Lausanne, VD\",Moderne et lumineux - Id\\xc3\\xa9al pour c\\xc3\\xa9libataires et / ou pendulaires,1130.0,,/en/d/flat-rent-lausanne/5282677?s=2&t=1&l=2023&ct=615&ci=24&pn=1\\n5267201.0,46.0,2.0,flat,\"Chemin du Devin 31B, 1012 Lausanne, VD\",Appartement de 2 pi\\xc3\\xa8ces au 1er \\xc3\\xa9tage,1150.0,,/en/d/flat-rent-lausanne/5267201?s=2&t=1&l=2023&ct=615&ci=25&pn=2\\n4496396.0,28.0,,studio,\"Chemin du Calvaire 17, 1005 Lausanne, VD\",Pr\\xc3\\xa8s du CHUV et m\\xc3\\xa9tro! Studio charmant \\xc3\\xa0 louer!,1155.0,,/en/d/studio-rent-lausanne/4496396?s=2&t=1&l=2023&ct=615&ci=26&pn=2\\n4742198.0,24.0,,studio,\"Avenue de Morges 72bis, 1004 Lausanne, VD\",Studio au 3\\xc3\\xa8me \\xc3\\xa9tgae,1155.0,,/en/d/studio-rent-lausanne/4742198?s=2&t=1&l=2023&ct=615&ci=27&pn=2\\n5195763.0,37.0,,studio,\"Avenue de Valmont 12, 1010 Lausanne, VD\",Quartier verdoyant,1160.0,,/en/d/studio-rent-lausanne/5195763?s=2&t=1&l=2023&ct=615&ci=28&pn=2\\n5288317.0,33.0,,flat,\"Avenue Marc-Dufour 46, 1007 Lausanne, VD\",\"Quartier calme, 1 pi\\xc3\\xa8ce de 33 m2 r\\xc3\\xa9nov\\xc3\\xa9\",1160.0,New,/en/d/flat-rent-lausanne/5288317?s=2&t=1&l=2023&ct=615&ci=29&pn=2\\n5271558.0,30.0,1.5,flat,\"Rue des Cr\\xc3\\xaates 25, 1018 Lausanne, VD\",Agr\\xc3\\xa9able petit appartement \\xc3\\xa0 proximit\\xc3\\xa9 du centre de Lausanne,1180.0,,/en/d/flat-rent-lausanne/5271558?s=2&t=1&l=2023&ct=615&ci=30&pn=2\\n5198531.0,129.0,,flat,\"1010 Lausanne, VD\",Appartements de 1 \\xc3\\xa0 4.5 pi\\xc3\\xa8ces avec vues panoramiques,1190.0,,/en/d/flat-rent-lausanne/5198531?s=2&t=1&l=2023&ct=615&ci=31&pn=2\\n5287728.0,51.0,2.0,flat,\"Avenue de Collonges 9, 1004 Lausanne, VD\",Id\\xc3\\xa9alement situ\\xc3\\xa9,1190.0,New,/en/d/flat-rent-lausanne/5287728?s=2&t=1&l=2023&ct=615&ci=32&pn=2\\n5279334.0,50.0,2.0,flat,\"Av. Recordon 16, 1004 Lausanne, VD\",\"Appartement, 2.0 pi\\xc3\\xa8ce(s)\",1210.0,,\"/en/d/flat-rent-s)\\xc2\\xbblausanne/5279334?s=2&t=1&l=2023&ct=615&ci=33&pn=2## \\xc2\\xabAppartement, 2.0 pi\\xc3\\xa8ce(s\"\\n5276306.0,,2.5,flat,\"Chemin du Boisy 50, 1004 Lausanne, VD\",\"Lausanne, Boisy 50\",1219.0,,/en/d/flat-rent-lausanne/5276306?s=2&t=1&l=2023&ct=615&ci=34&pn=2\\n4742202.0,24.0,,studio,\"Avenue de Morges 72bis, 1004 Lausanne, VD\",Studio neuf au 4\\xc3\\xa8me \\xc3\\xa9tage,1230.0,,/en/d/studio-rent-lausanne/4742202?s=2&t=1&l=2023&ct=615&ci=35&pn=2\\n5270355.0,30.0,,flat,\"Av. de Morges 7, 1004 Lausanne, VD\",\"Au coeur du centre ville, tr\\xc3\\xa8s beau studio bien am\\xc3\\xa9nag\\xc3\\xa9\",1240.0,,/en/d/flat-rent-lausanne/5270355?s=2&t=1&l=2023&ct=615&ci=36&pn=2\\n4742205.0,34.0,,studio,\"Avenue de Morges 72bis, 1004 Lausanne, VD\",Studio au 4\\xc3\\xa8me \\xc3\\xa9tage,1280.0,New,/en/d/studio-rent-lausanne/4742205?s=2&t=1&l=2023&ct=615&ci=37&pn=2\\n5145387.0,40.0,,flat,\"Rue Saint-Pierre 4, 1003 Lausanne, VD\",Au coeur de Lausanne,1290.0,,/en/d/flat-rent-lausanne/5145387?s=2&t=1&l=2023&ct=615&ci=38&pn=2\\n5255287.0,30.0,1.5,flat,\"route de Cossonay, 1004 Lausanne, VD\",Magnifique Studio neuf au coeur de Prilly centre.,1300.0,,/en/d/flat-rent-lausanne/5255287?s=2&t=1&l=2023&ct=615&ci=39&pn=2\\n5273432.0,47.0,2.5,flat,\"Ch. de la Cassinette 1, 1018 Lausanne, VD\",\"Appartement, 2.5 pi\\xc3\\xa8ce(s)\",1300.0,,\"/en/d/flat-rent-s)\\xc2\\xbblausanne/5273432?s=2&t=1&l=2023&ct=615&ci=40&pn=2## \\xc2\\xabAppartement, 2.5 pi\\xc3\\xa8ce(s\"\\n5280779.0,55.0,2.0,flat,\"Plaines-du-Loup 44, 1018 Lausanne, VD\",\"Appartement, 2.0 pi\\xc3\\xa8ce(s)\",1300.0,,\"/en/d/flat-rent-s)\\xc2\\xbblausanne/5280779?s=2&t=1&l=2023&ct=615&ci=41&pn=2## \\xc2\\xabAppartement, 2.0 pi\\xc3\\xa8ce(s\"\\n5279571.0,46.0,2.0,flat,\"Rue de la Pontaise 41, 1018 Lausanne, VD\",Joli logement proche de toutes commodit\\xc3\\xa9s,1310.0,,/en/d/flat-rent-lausanne/5279571?s=2&t=1&l=2023&ct=615&ci=42&pn=2\\n5286623.0,40.0,2.5,flat,\"Avenue d\\'Echallens 118, 1004 Lausanne, VD\",Tr\\xc3\\xa8s joli appartement de 2.5 pi\\xc3\\xa8ces au rez-de-chauss\\xc3\\xa9e,1310.0,New,/en/d/flat-rent-lausanne/5286623?s=2&t=1&l=2023&ct=615&ci=43&pn=2\\n4865311.0,45.0,,flat,\"Avenue Dapples 22, 1006 Lausanne, VD\",\"Quartier sous-gare, studio de 45m2 avec cachet\",1340.0,,/en/d/flat-rent-lausanne/4865311?s=2&t=1&l=2023&ct=615&ci=44&pn=2\\n5073360.0,,1.5,furnished-residential-property,\"Avenue de Menthon 16, 1005 Lausanne, VD\",Avenue de Menthon 16 \\xc3\\xa0 1005 Lausanne,1350.0,,/en/d/furnished-residential-property-rent-lausanne/5073360?s=2&t=1&l=2023&ct=615&ci=45&pn=2\\n5279335.0,67.0,3.0,flat,\"Rte Aloys-Fauquez 9, 1018 Lausanne, VD\",\"Appartement, 3.0 pi\\xc3\\xa8ce(s)\",1350.0,,\"/en/d/flat-rent-s)\\xc2\\xbblausanne/5279335?s=2&t=1&l=2023&ct=615&ci=46&pn=2## \\xc2\\xabAppartement, 3.0 pi\\xc3\\xa8ce(s\"\\n5282484.0,52.0,2.0,furnished-residential-property,\"Rue Marterey 28, 1005 Lausanne, VD\",Joli appartement meubl\\xc3\\xa9 en sous-location avec balcon,1350.0,,/en/d/furnished-residential-property-rent-lausanne/5282484?s=2&t=1&l=2023&ct=615&ci=47&pn=2\\n5286102.0,52.0,2.5,flat,\"Ch. des Paleyres 14, 1006 Lausanne, VD\",\"Appartement, 2.5 pi\\xc3\\xa8ce(s)\",1355.0,New,\"/en/d/flat-rent-s)\\xc2\\xbblausanne/5286102?s=2&t=1&l=2023&ct=615&ci=48&pn=2## \\xc2\\xabAppartement, 2.5 pi\\xc3\\xa8ce(s\"\\n5281117.0,41.0,2.0,flat,\"Chemin de M\\xc3\\xa9mise 8, 1018 Lausanne, VD\",Appartement de 2 pi\\xc3\\xa8ces,1360.0,,/en/d/flat-rent-lausanne/5281117?s=2&t=1&l=2023&ct=615&ci=49&pn=3\\n5282054.0,52.0,2.5,flat,\"Ch. de Pierrefleur 41, 1004 Lausanne, VD\",Bel appartement \\xc3\\xa0 louer dans un quartier calme et verdoyant,1365.0,,/en/d/flat-rent-lausanne/5282054?s=2&t=1&l=2023&ct=615&ci=50&pn=3\\n4911690.0,43.0,2.0,flat,\"Chemin de Montmeillan 19-21, 1005 Lausanne, VD\",Appartement cherche single ou jeune couple !,1370.0,,/en/d/flat-rent-lausanne/4911690?s=2&t=1&l=2023&ct=615&ci=51&pn=3\\n5252335.0,45.0,1.5,flat,\"Rue de l\\' Ale 31, 1003 Lausanne, VD\",Appartement de 1.5 pi\\xc3\\xa8ces,1375.0,,/en/d/flat-rent-lausanne/5252335?s=2&t=1&l=2023&ct=615&ci=52&pn=3\\n5188207.0,45.0,2.0,flat,\"9 chemin de Vulliette, 1000 Lausanne, VD\",2.5 pi\\xc3\\xa8ces \\xc3\\xa0 Vers-chez-les-Blanc,1380.0,,/en/d/flat-rent-lausanne/5188207?s=2&t=1&l=2023&ct=615&ci=53&pn=3\\n5175250.0,43.0,2.0,flat,\"Ch. de Renens 58 B, 1004 Lausanne, VD\",Appartement proche gare Malley,1390.0,,/en/d/flat-rent-lausanne/5175250?s=2&t=1&l=2023&ct=615&ci=54&pn=3\\n5286104.0,53.0,2.5,flat,\"Av. Vinet 9, 1004 Lausanne, VD\",\"Appartement, 2.5 pi\\xc3\\xa8ce(s)\",1390.0,New,\"/en/d/flat-rent-s)\\xc2\\xbblausanne/5286104?s=2&t=1&l=2023&ct=615&ci=55&pn=3## \\xc2\\xabAppartement, 2.5 pi\\xc3\\xa8ce(s\"\\n5265498.0,41.0,2.0,flat,\"Chemin de M\\xc3\\xa9mise 8, 1018 Lausanne, VD\",Magnifique appartement au centre-ville de Lausanne,1400.0,,/en/d/flat-rent-lausanne/5265498?s=2&t=1&l=2023&ct=615&ci=56&pn=3\\n5273647.0,53.0,2.0,flat,\"Isabelle de Montolieu 119, 1010 Lausanne, VD\",Proche de toutes commodit\\xc3\\xa9s !,1400.0,,/en/d/flat-rent-lausanne/5273647?s=2&t=1&l=2023&ct=615&ci=57&pn=3\\n5212855.0,47.0,,flat,\"Rue de la Tour 5, 1004 Lausanne, VD\",Charmant appartement \\xc3\\xa0 louer au coeur de Lausanne,1420.0,,/en/d/flat-rent-lausanne/5212855?s=2&t=1&l=2023&ct=615&ci=58&pn=3\\n5276797.0,42.0,2.0,flat,\"Avenue de France 18A, 1004 Lausanne, VD\",Magnifique 2 pi\\xc3\\xa8ces au coeur de Lausanne !,1420.0,,/en/d/flat-rent-lausanne/5276797?s=2&t=1&l=2023&ct=615&ci=59&pn=3\\n5284128.0,49.0,2.5,flat,\"Chemin de Champrilly 19, 1004 Lausanne, VD\",Tr\\xc3\\xa8s joli logement dans quartier calme,1440.0,,/en/d/flat-rent-lausanne/5284128?s=2&t=1&l=2023&ct=615&ci=60&pn=3\\n5267589.0,44.0,2.0,duplex-maisonette,\"Chemin de la Vulliette 12C, 1000 Lausanne, VD\",2 pi\\xc3\\xa8ces en duplex de 44m2 habitables !,1450.0,,/en/d/duplex-maisonette-rent-lausanne/5267589?s=2&t=1&l=2023&ct=615&ci=61&pn=3\\n5267676.0,47.0,2.0,flat,\"Rue du Tunnel 18, 1005 Lausanne, VD\",\"Appartement, 2.0 pi\\xc3\\xa8ce(s)\",1450.0,,\"/en/d/flat-rent-s)\\xc2\\xbblausanne/5267676?s=2&t=1&l=2023&ct=615&ci=62&pn=3## \\xc2\\xabAppartement, 2.0 pi\\xc3\\xa8ce(s\"\\n5268607.0,45.0,2.0,flat,\"Chemin de Bochardon 7, 1012 Lausanne, VD\",Logement lumineux,1450.0,,/en/d/flat-rent-lausanne/5268607?s=2&t=1&l=2023&ct=615&ci=63&pn=3\\n5274337.0,48.0,2.5,flat,\"Rue du Tunnel 18, 1005 Lausanne, VD\",\"Appartement, 2.5 pi\\xc3\\xa8ce(s)\",1450.0,,\"/en/d/flat-rent-s)\\xc2\\xbblausanne/5274337?s=2&t=1&l=2023&ct=615&ci=64&pn=3## \\xc2\\xabAppartement, 2.5 pi\\xc3\\xa8ce(s\"\\n5205092.0,68.0,3.0,flat,\"Route d\\' Aloys-Fauquez 56, 1018 Lausanne, VD\",Appartement de 3 pi\\xc3\\xa8ces au 2\\xc3\\xa8me \\xc3\\xa9tage,1460.0,,/en/d/flat-rent-lausanne/5205092?s=2&t=1&l=2023&ct=615&ci=65&pn=3\\n4833436.0,34.0,1.5,studio,\"Rue de la Feuill\\xc3\\xa8re 23, 1010 Lausanne, VD\",Joli studio au 2\\xc3\\xa8me \\xc3\\xa9tage d\\'un immeuble r\\xc3\\xa9cent,1490.0,,/en/d/studio-rent-lausanne/4833436?s=2&t=1&l=2023&ct=615&ci=66&pn=3\\n5194041.0,43.0,2.5,flat,\"Av. Recordon 21, 1004 Lausanne, VD\",Appartement de 2 pi\\xc3\\xa8ces compl\\xc3\\xa9tment r\\xc3\\xa9nov\\xc3\\xa9 d\\'environ 43 m2,1490.0,,/en/d/flat-rent-lausanne/5194041?s=2&t=1&l=2023&ct=615&ci=67&pn=3\\n5196419.0,61.0,2.5,flat,\"Chemin du Martinet 28, 1007 Lausanne, VD\",A Malley Joli appartement avec balcon \\xc3\\xa0 louer,1490.0,,/en/d/flat-rent-lausanne/5196419?s=2&t=1&l=2023&ct=615&ci=68&pn=3\\n5230841.0,,1.5,furnished-residential-property,\"Ch. du Devin 47 A-B, 1012 Lausanne, VD\",Charmant studio meubl\\xc3\\xa9 avec go\\xc3\\xbbt dans un quartier r\\xc3\\xa9sidentiel et calme,1490.0,,/en/d/furnished-residential-property-rent-lausanne/5230841?s=2&t=1&l=2023&ct=615&ci=69&pn=3\\n5267198.0,63.0,3.0,flat,\"Ch. du Devin 31A, 1012 Lausanne, VD\",Appartement de 3 pi\\xc3\\xa8ces au Niv. -3,1500.0,,/en/d/flat-rent-lausanne/5267198?s=2&t=1&l=2023&ct=615&ci=70&pn=3\\n5278485.0,55.0,2.5,flat,\"Ch. de Renens 54, 1004 Lausanne, VD\",\"Appartement, 2.5 pi\\xc3\\xa8ce(s)\",1500.0,,\"/en/d/flat-rent-s)\\xc2\\xbblausanne/5278485?s=2&t=1&l=2023&ct=615&ci=71&pn=3## \\xc2\\xabAppartement, 2.5 pi\\xc3\\xa8ce(s\"\\n5256611.0,49.0,2.0,flat,\"Passage Fr.-Bocion 5, 1007 Lausanne, VD\",Agr\\xc3\\xa9able logement \\xc3\\xa0 deux pas d\\'Ouchy,1510.0,,/en/d/flat-rent-lausanne/5256611?s=2&t=1&l=2023&ct=615&ci=72&pn=3\\n5128286.0,49.0,2.0,flat,\"Passage Fr.-Bocion 5, 1007 Lausanne, VD\",\"Ouchy, deux agr\\xc3\\xa9ables logements de 2 pi\\xc3\\xa8ces\",1520.0,,/en/d/flat-rent-lausanne/5128286?s=2&t=1&l=2023&ct=615&ci=73&pn=4\\n5273119.0,48.0,2.0,flat,\"9 Chemin de Maillefer, 1018 Lausanne, VD\",Joli appartement dans les hauts de Lausanne,1525.0,,/en/d/flat-rent-lausanne/5273119?s=2&t=1&l=2023&ct=615&ci=74&pn=4\\n4726639.0,42.0,1.5,flat,\"Route de la Feuill\\xc3\\xa8re 21, 1010 Lausanne, VD\",Spacieux et moderne appartement avec une place de parc comprise.,1530.0,,/en/d/flat-rent-lausanne/4726639?s=2&t=1&l=2023&ct=615&ci=75&pn=4\\n5185782.0,42.0,1.5,flat,\"Route de la Feuill\\xc3\\xa8re 19, 1010 Lausanne, VD\",\"Spacieux appartement moderne, id\\xc3\\xa9al pour c\\xc3\\xa9libataire\",1530.0,,/en/d/flat-rent-lausanne/5185782?s=2&t=1&l=2023&ct=615&ci=76&pn=4\\n5279789.0,61.0,2.5,flat,\"Avenue de Riant-Mont 14, 1004 Lausanne, VD\",Appartement de 2.5 pi\\xc3\\xa8ces avec vue sur le lac,1530.0,,/en/d/flat-rent-lausanne/5279789?s=2&t=1&l=2023&ct=615&ci=77&pn=4\\n4892242.0,48.0,2.0,flat,\"Rue des Echelettes 8, 1004 Lausanne, VD\",Votre nouveau logement de 2 pi\\xc3\\xa8ces au centre-ville,1540.0,,/en/d/flat-rent-lausanne/4892242?s=2&t=1&l=2023&ct=615&ci=78&pn=4\\n5206728.0,66.0,2.5,flat,\"Av. de Chailly 50, 1012 Lausanne, VD\",\"Charmant appartement de 2.5 pi\\xc3\\xa8ces, au coeur du quartier de Chailly\",1540.0,,/en/d/flat-rent-lausanne/5206728?s=2&t=1&l=2023&ct=615&ci=79&pn=4\\n5243896.0,45.0,3.0,flat,\"Chemin des Lilas 5, 1018 Lausanne, VD\",Charmant appartement de 3 pi\\xc3\\xa8ces \\xc3\\xa0 louer quartier de la Pontaise,1540.0,,/en/d/flat-rent-lausanne/5243896?s=2&t=1&l=2023&ct=615&ci=80&pn=4\\n5179846.0,46.0,2.0,flat,\"Ch. du Devin 76, 1012 Lausanne, VD\",Quartier calme \\xc3\\xa0 proximit\\xc3\\xa9 du centre de Chailly,1560.0,,/en/d/flat-rent-lausanne/5179846?s=2&t=1&l=2023&ct=615&ci=81&pn=4\\n5253621.0,43.0,1.5,flat,\"Rue des Echelettes 11, 1004 Lausanne, VD\",Appartement neuf de 43 m2 au centre ville,1560.0,,/en/d/flat-rent-lausanne/5253621?s=2&t=1&l=2023&ct=615&ci=82&pn=4\\n4988081.0,53.0,2.0,flat,\"Chemin du Furet 12, 1018 Lausanne, VD\",\"Quartier tr\\xc3\\xa8s calme, lumineux logement\",1590.0,,/en/d/flat-rent-lausanne/4988081?s=2&t=1&l=2023&ct=615&ci=83&pn=4\\n5105111.0,70.0,3.5,flat,\"Chemin du Martient 28, 1007 Lausanne, VD\",Au Malley ! Endoit central! Splendid appartement avec balcon!,1590.0,,/en/d/flat-rent-lausanne/5105111?s=2&t=1&l=2023&ct=615&ci=84&pn=4\\n5270609.0,56.0,2.0,flat,\"Rue Pr\\xc3\\xa9-du-March\\xc3\\xa9 19, 1004 Lausanne, VD\",2-pi\\xc3\\xa8ces-Appartement \\xc3\\xa0 LAUSANNE,1590.0,,/en/d/flat-rent-lausanne/5270609?s=2&t=1&l=2023&ct=615&ci=85&pn=4\\n5096354.0,25.0,,furnished-residential-property,\"Rue de la Mercerie 18, 1003 Lausanne, VD\",1003 Lausanne - Mercerie 18,1600.0,,/en/d/furnished-residential-property-rent-lausanne/5096354?s=2&t=1&l=2023&ct=615&ci=86&pn=4\\n5214781.0,50.0,2.5,attic-flat,\"1000 Lausanne, VD\",\"Urgent ! Joli 2,5 pi\\xc3\\xa8ces mansard\\xc3\\xa9 - Type loft \\xc3\\xa0 Prilly\",1600.0,,/en/d/attic-flat-rent-lausanne/5214781?s=2&t=1&l=2023&ct=615&ci=87&pn=4\\n5254016.0,25.0,,flat,\"Rue de la Mercerie 18, 1003 Lausanne, VD\",Rue de la Mercerie 18 - 1003 Lausanne,1600.0,,/en/d/flat-rent-lausanne/5254016?s=2&t=1&l=2023&ct=615&ci=88&pn=4\\n5283324.0,,2.5,flat,\"Boulevard de Grancy 1, 1006 Lausanne, VD\",Spacieux appartement de 2.5 pi\\xc3\\xa8ces - QUARTIER SOUS GARE,1600.0,,/en/d/flat-rent-lausanne/5283324?s=2&t=1&l=2023&ct=615&ci=89&pn=4\\n5245917.0,54.0,2.5,flat,\"Av. Victor Ruffy 50, 1012 Lausanne, VD\",\"Superbe logement r\\xc3\\xa9nov\\xc3\\xa9, proche Chailly et CHUV\",1610.0,,/en/d/flat-rent-lausanne/5245917?s=2&t=1&l=2023&ct=615&ci=90&pn=4\\n5013012.0,55.0,1.5,studio,\"Rue de Bourg, 1003 Lausanne, VD\",Spacieux studio de 55m2 \\xc3\\xa0 la Rue de Bourg \\xc3\\xa0 Lausanne - objet rare,1620.0,,/en/d/studio-rent-lausanne/5013012?s=2&t=1&l=2023&ct=615&ci=91&pn=4\\n5223727.0,55.0,2.5,flat,\"Chemin de Pierrefleur 3, 1004 Lausanne, VD\",Magnifique logement n\\xc2\\xb0 2 neuf de 2.5 pi\\xc3\\xa8ces avec balcon au rez sup.,1620.0,,/en/d/flat-rent-lausanne/5223727?s=2&t=1&l=2023&ct=615&ci=92&pn=4\\n5245923.0,54.0,2.5,flat,\"Av. Victor Ruffy 50, 1012 Lausanne, VD\",\"Superbe logement r\\xc3\\xa9nov\\xc3\\xa9, proche Chailly et CHUV\",1620.0,,/en/d/flat-rent-lausanne/5245923?s=2&t=1&l=2023&ct=615&ci=93&pn=4\\n5278168.0,,2.0,flat,\"Avenue du Mont-d\\'Or 38, 1007 Lausanne, VD\",Appartement de 2 pi\\xc3\\xa8ces au rez - Mont-d\\'Or 38 \\xc3\\xa0 Lausanne,1620.0,,/en/d/flat-rent-lausanne/5278168?s=2&t=1&l=2023&ct=615&ci=94&pn=4\\n5262523.0,58.0,2.5,flat,\"Avenue de S\\xc3\\xa9velin 13 A, 1004 Lausanne, VD\",Maginfique logement,1630.0,,/en/d/flat-rent-lausanne/5262523?s=2&t=1&l=2023&ct=615&ci=95&pn=4\\n5288318.0,61.0,3.5,flat,\"Ch. du Devin 57bis, 1012 Lausanne, VD\",\"Logement lumineux, vue sur le lac L\\xc3\\xa9man\",1630.0,New,/en/d/flat-rent-lausanne/5288318?s=2&t=1&l=2023&ct=615&ci=96&pn=4\\n5185686.0,50.0,2.0,flat,\"1004 Lausanne, VD\",Beaulieu - Lausanne,1634.0,,/en/d/flat-rent-lausanne/5185686?s=2&t=1&l=2023&ct=615&ci=97&pn=5\\n5176432.0,54.0,2.0,flat,\"2 Chemin de la Fauvette, 1012 Lausanne, VD\",2 pi\\xc3\\xa8ces au coeur de Chailly,1635.0,,/en/d/flat-rent-lausanne/5176432?s=2&t=1&l=2023&ct=615&ci=98&pn=5\\n5276842.0,70.0,3.5,flat,\"Av. du Grey 44, 1004 Lausanne, VD\",D\\xc3\\xa9gagement sur le lac,1645.0,,/en/d/flat-rent-lausanne/5276842?s=2&t=1&l=2023&ct=615&ci=99&pn=5\\n5238006.0,52.0,2.5,flat,\"Avenue de la Sallaz 64, 1010 Lausanne, VD\",Lausanne centre 2.5 louer tout suite,1650.0,,/en/d/flat-rent-lausanne/5238006?s=2&t=1&l=2023&ct=615&ci=100&pn=5\\n5278166.0,73.0,3.5,flat,\"Avenue de France 28, 1004 Lausanne, VD\",,1650.0,,/en/d/flat-rent-lausanne/5278166?s=2&t=1&l=2023&ct=615&ci=101&pn=5\\n5061095.0,52.0,2.0,flat,\"Av. de Morges 7, 1004 Lausanne, VD\",Magnifique 2 pi\\xc3\\xa8ces avec balcon,1660.0,,/en/d/flat-rent-lausanne/5061095?s=2&t=1&l=2023&ct=615&ci=102&pn=5\\n5223109.0,67.0,2.0,flat,\"Place du Tunnel 19, 1005 Lausanne, VD\",1005 Lausanne - Tunnel 19,1660.0,,/en/d/flat-rent-lausanne/5223109?s=2&t=1&l=2023&ct=615&ci=103&pn=5\\n5245918.0,54.0,2.5,flat,\"Av. Victor Ruffy 50, 1012 Lausanne, VD\",\"Superbe logement r\\xc3\\xa9nov\\xc3\\xa9, proche Chailly et CHUV\",1660.0,,/en/d/flat-rent-lausanne/5245918?s=2&t=1&l=2023&ct=615&ci=104&pn=5\\n5254017.0,67.0,2.0,flat,\"Place du Tunnel 19, 1005 Lausanne, VD\",Place du Tunnel 19 - 1005 Lausanne,1660.0,,/en/d/flat-rent-lausanne/5254017?s=2&t=1&l=2023&ct=615&ci=105&pn=5\\n5273648.0,52.0,2.0,flat,\"Avenue du L\\xc3\\xa9man 28, 1005 Lausanne, VD\",Bel appartement de 2 pi\\xc3\\xa8ces avec un grand balcon,1660.0,,/en/d/flat-rent-lausanne/5273648?s=2&t=1&l=2023&ct=615&ci=106&pn=5\\n5074668.0,68.0,3.0,flat,\"Av. de Chailly 50, 1012 Lausanne, VD\",Bel appartement \\xc3\\xa0 Chailly!,1665.0,,/en/d/flat-rent-lausanne/5074668?s=2&t=1&l=2023&ct=615&ci=107&pn=5\\n5233852.0,56.0,2.5,flat,\"Avenue d\\'Echallens 121, 1004 Lausanne, VD\",Votre nouveau logement de r\\xc3\\xaave,1670.0,,/en/d/flat-rent-lausanne/5233852?s=2&t=1&l=2023&ct=615&ci=108&pn=5\\n5147488.0,65.0,2.5,flat,\"Chemin de Maillefer 10, 1018 Lausanne, VD\",Enti\\xc3\\xa8rement r\\xc3\\xa9nov\\xc3\\xa9 en 2014,1690.0,,/en/d/flat-rent-lausanne/5147488?s=2&t=1&l=2023&ct=615&ci=109&pn=5\\n5059287.0,58.0,3.0,flat,\"Ch. Bonne-Esp\\xc3\\xa9rance 8, 1006 Lausanne, VD\",Quartier tranquille et vue sur le lac,1700.0,,/en/d/flat-rent-lausanne/5059287?s=2&t=1&l=2023&ct=615&ci=110&pn=5\\n5091112.0,75.0,3.5,flat,\"Route du Ch\\xc3\\xa2telard 52, 1018 Lausanne, VD\",Joli 3.5 pi\\xc3\\xa8ces au 1er \\xc3\\xa9tage.,1700.0,,/en/d/flat-rent-lausanne/5091112?s=2&t=1&l=2023&ct=615&ci=111&pn=5\\n5287733.0,100.0,3.0,flat,\"Rue Caroline 10, 1000 Lausanne, VD\",Appartement de 3 pi\\xc3\\xa8ces en plein centre-ville de Lausanne,1715.0,New,/en/d/flat-rent-lausanne/5287733?s=2&t=1&l=2023&ct=615&ci=112&pn=5\\n5145481.0,65.0,3.0,flat,\"Ch. de Renens 56 D, 1004 Lausanne, VD\",Appartement r\\xc3\\xa9nov\\xc3\\xa9 \\xc3\\xa0 deux pas de la Gare CFF Malley,1720.0,,/en/d/flat-rent-lausanne/5145481?s=2&t=1&l=2023&ct=615&ci=113&pn=5\\n5244456.0,66.0,3.0,flat,\"Rue des Jardins 26, 1018 Lausanne, VD\",\"Appartement rafra\\xc3\\xaechit, proche de toutes les commodit\\xc3\\xa9s\",1720.0,,/en/d/flat-rent-lausanne/5244456?s=2&t=1&l=2023&ct=615&ci=114&pn=5\\n5272170.0,75.0,2.5,flat,\"Rue Couchirard 9, 1004 Lausanne, VD\",Spacieux 2.5 pi\\xc3\\xa8ces au rez sup\\xc3\\xa9rieur.,1730.0,,/en/d/flat-rent-lausanne/5272170?s=2&t=1&l=2023&ct=615&ci=115&pn=5\\n5135650.0,56.0,2.5,furnished-residential-property,\"1005 Lausanne, VD\",Magnifique appartement enti\\xc3\\xa8rement r\\xc3\\xa9nov\\xc3\\xa9 au centre-ville de Lausanne,1750.0,,/en/d/furnished-residential-property-rent-lausanne/5135650?s=2&t=1&l=2023&ct=615&ci=116&pn=5\\n5227939.0,39.0,2.0,furnished-residential-property,\"Rue de la Mercerie 18, 1003 Lausanne, VD\",1003 Lausanne - Rue de la Mercerie 18,1750.0,,/en/d/furnished-residential-property-rent-lausanne/5227939?s=2&t=1&l=2023&ct=615&ci=117&pn=5\\n5236158.0,52.0,2.5,flat,\"Chemin des Sauges 33, 1018 Lausanne, VD\",\"Superbe 2,5 pi\\xc3\\xa8ces NEUF avec grand balcon\",1750.0,,/en/d/flat-rent-lausanne/5236158?s=2&t=1&l=2023&ct=615&ci=118&pn=5\\n5254021.0,39.0,2.0,furnished-residential-property,\"Rue de la Mercerie 18, 1003 Lausanne, VD\",Rue de la Mercerie 18 - 1003 Lausanne,1750.0,,/en/d/furnished-residential-property-rent-lausanne/5254021?s=2&t=1&l=2023&ct=615&ci=119&pn=5\\n5255181.0,59.0,2.0,flat,\"Avenue Dapples 22, 1006 Lausanne, VD\",A louer de suite 2 pi\\xc3\\xa8ces \\xc3\\xa0 deux pas du m\\xc3\\xa9tro,1750.0,,/en/d/flat-rent-lausanne/5255181?s=2&t=1&l=2023&ct=615&ci=120&pn=5\\n5286610.0,69.0,2.5,flat,\"av. des Boveresses 72, 1010 Lausanne, VD\",Bel appartement de 2.5 pi\\xc3\\xa8ces,1750.0,New,/en/d/flat-rent-lausanne/5286610?s=2&t=1&l=2023&ct=615&ci=121&pn=6\\n5217747.0,77.0,3.5,flat,\"Ch. de Pierrefleur 41, 1004 Lausanne, VD\",Bel appartement \\xc3\\xa0 louer dans un quartier calme et verdoyant,1755.0,,/en/d/flat-rent-lausanne/5217747?s=2&t=1&l=2023&ct=615&ci=122&pn=6\\n5183852.0,63.0,2.0,flat,\"Av. Mont-Blanc 12, 1018 Lausanne, VD\",\"Appartement \"\"coup de coeur\"\"!\",1760.0,,/en/d/flat-rent-lausanne/5183852?s=2&t=1&l=2023&ct=615&ci=123&pn=6\\n5271947.0,66.0,2.5,flat,\"4 rue Dr C\\xc3\\xa9sar-Roux, 1005 Lausanne, VD\",Appartement de 2.5 pi\\xc3\\xa8ces au 5 \\xc3\\xa8me \\xc3\\xa9tage,1780.0,,/en/d/flat-rent-lausanne/5271947?s=2&t=1&l=2023&ct=615&ci=124&pn=6\\n5062232.0,,3.5,flat,\"Avenue de Montoie 45, 1007 Lausanne, VD\",\"Bel appartement de 3,5 pi\\xc3\\xa8ces au 1er \\xc3\\xa9tage\",1790.0,,/en/d/flat-rent-lausanne/5062232?s=2&t=1&l=2023&ct=615&ci=125&pn=6\\n5286099.0,76.0,3.5,flat,\"Rue du Valentin 30, 1004 Lausanne, VD\",\"Appartement, 3.5 pi\\xc3\\xa8ce(s)\",1790.0,New,\"/en/d/flat-rent-s)\\xc2\\xbblausanne/5286099?s=2&t=1&l=2023&ct=615&ci=126&pn=6## \\xc2\\xabAppartement, 3.5 pi\\xc3\\xa8ce(s\"\\n5163645.0,,,furnished-residential-property,\"Av. des Mousquines 23/25, 1005 Lausanne, VD\",\"\\xc3\\xa0 louer, Appartement meubl\\xc3\\xa9, 1005 Lausanne, R\\xc3\\xa9f 2771.400030\",1800.0,,/en/d/furnished-residential-property-rent-lausanne/5163645?s=2&t=1&l=2023&ct=615&ci=127&pn=6\\n5214539.0,75.0,3.5,flat,\"1000 Lausanne, VD\",Chasseur d\\'appartement Lausanne,1800.0,,/en/d/flat-rent-lausanne/5214539?s=2&t=1&l=2023&ct=615&ci=128&pn=6\\n5281399.0,,3.0,flat,\"Avenue de Chailly 1, 1012 Lausanne, VD\",Avenue de Chailly 1 - 1012 Lausanne,1800.0,,/en/d/flat-rent-lausanne/5281399?s=2&t=1&l=2023&ct=615&ci=129&pn=6\\n5282688.0,67.0,3.0,flat,\"Chemin des Lys 14, 1010 Lausanne, VD\",Appartement spacieux de 3 pi\\xc3\\xa8ces id\\xc3\\xa9alement situ\\xc3\\xa9,1800.0,,/en/d/flat-rent-lausanne/5282688?s=2&t=1&l=2023&ct=615&ci=130&pn=6\\n5284408.0,,3.5,flat,\"Chemin de la Vallombreuse 5ter, 1004 Lausanne, VD\",Occasion \\xc3\\xa0 saisir sur Lausanne !,1800.0,,/en/d/flat-rent-lausanne/5284408?s=2&t=1&l=2023&ct=615&ci=131&pn=6\\n5285542.0,60.0,3.5,flat,\"Chemin de Bonne-Esp\\xc3\\xa9rence, 1000 Lausanne, VD\",3.5-pi\\xc3\\xa8ces-Appartement \\xc3\\xa0 Lausanne,1800.0,New,/en/d/flat-rent-lausanne/5285542?s=2&t=1&l=2023&ct=615&ci=132&pn=6\\n5286606.0,61.0,3.0,flat,\"Chemin des Sauges 21, 1018 Lausanne, VD\",Appartement de 3 pi\\xc3\\xa8ces avec belle vue sur les hauts de Lausanne,1800.0,New,/en/d/flat-rent-lausanne/5286606?s=2&t=1&l=2023&ct=615&ci=133&pn=6\\n5267144.0,62.0,,flat,\"Chemin des Diablerets 7, 1012 Lausanne, VD\",APPARTEMENT DE 2.5 PIECES D\\'ENV 62M2,1810.0,,/en/d/flat-rent-lausanne/5267144?s=2&t=1&l=2023&ct=615&ci=134&pn=6\\n5262521.0,57.0,2.5,flat,\"Chemin de B\\xc3\\xa9r\\xc3\\xa9e 12 A, 1010 Lausanne, VD\",Situ\\xc3\\xa9 dans un quartier r\\xc3\\xa9cent (2016),1835.0,,/en/d/flat-rent-2016)\\xc2\\xbblausanne/5262521?s=2&t=1&l=2023&ct=615&ci=135&pn=6## \\xc2\\xabSitu\\xc3\\xa9 dans un quartier r\\xc3\\xa9cent (2016\\n5231006.0,62.0,2.5,flat,\"Chemin de B\\xc3\\xa9r\\xc3\\xa9e 12 B, 1010 Lausanne, VD\",\\xc3\\x80 deux pas de l\\'arr\\xc3\\xaat du M2 et des acc\\xc3\\xa8s autoroutiers.,1840.0,,/en/d/flat-rent-lausanne/5231006?s=2&t=1&l=2023&ct=615&ci=136&pn=6\\n5237169.0,50.0,2.5,flat,\"Rue de la Pontaise 10, 1018 Lausanne, VD\",2 beaux appartement de 2.5 pi\\xc3\\xa8ces avec balcon,1850.0,,/en/d/flat-rent-lausanne/5237169?s=2&t=1&l=2023&ct=615&ci=137&pn=6\\n5201479.0,87.0,3.5,flat,\"Chemin I.-de-Montolieu 111, 1010 Lausanne, VD\",Appartement de 3.5 pi\\xc3\\xa8ces au 4\\xc3\\xa8me \\xc3\\xa9tage,1870.0,,/en/d/flat-rent-lausanne/5201479?s=2&t=1&l=2023&ct=615&ci=138&pn=6\\n5267675.0,77.0,3.5,flat,\"Rue du Valentin 30, 1004 Lausanne, VD\",\"Appartement, 3.5 pi\\xc3\\xa8ce(s)\",1870.0,,\"/en/d/flat-rent-s)\\xc2\\xbblausanne/5267675?s=2&t=1&l=2023&ct=615&ci=139&pn=6## \\xc2\\xabAppartement, 3.5 pi\\xc3\\xa8ce(s\"\\n5255182.0,64.0,3.0,flat,\"Chemin du Furet 12, 1018 Lausanne, VD\",\"Dans cadre calme et verdoyant, beau 3 pi\\xc3\\xa8ces avec d\\xc3\\xa9gagement\",1880.0,,/en/d/flat-rent-lausanne/5255182?s=2&t=1&l=2023&ct=615&ci=140&pn=6\\n5086935.0,79.0,,flat,\"15 Rue de la Tour, 1004 Lausanne, VD\",Loft au centre-ville de Lausanne,1890.0,,/en/d/flat-rent-lausanne/5086935?s=2&t=1&l=2023&ct=615&ci=141&pn=6\\n5265029.0,70.0,2.5,furnished-residential-property,\"1004 Lausanne, VD\",\"MEUBL\\xc3\\x89, DUR\\xc3\\x89E D\\xc3\\x89TERMIN\\xc3\\x89E: APPARTEMENT 2\\xc2\\xbd PI\\xc3\\x88CES \\xc3\\x80 LAUSANNE (VD )\",1890.0,,\"/en/d/furnished-residential-property-rent-VD )\\xc2\\xbblausanne/5265029?s=2&t=1&l=2023&ct=615&ci=142&pn=6## \\xc2\\xabMEUBL\\xc3\\x89, DUR\\xc3\\x89E D\\xc3\\x89TERMIN\\xc3\\x89E: APPARTEMENT 2\\xc2\\xbd PI\\xc3\\x88CES \\xc3\\x80 LAUSANNE (VD \"\\n5282675.0,81.0,3.0,flat,\"Chemin des Croix-Rouges 4, 1007 Lausanne, VD\",Chemin des Croix-Rouges 4 - 1007 Lausanne,1890.0,,/en/d/flat-rent-lausanne/5282675?s=2&t=1&l=2023&ct=615&ci=143&pn=6\\n5204059.0,86.0,3.5,flat,\"Chemin de Maillefer 10, 1018 Lausanne, VD\",Appartement spacieux et lumineux.,1895.0,,/en/d/flat-rent-lausanne/5204059?s=2&t=1&l=2023&ct=615&ci=144&pn=6\\n5210636.0,90.0,3.5,flat,\"Chemin de Beau-Val 3, 1012 Lausanne, VD\",\"URGENT! sous-location ou reprise bail - appartement lumineux, calme\",1895.0,,/en/d/flat-rent-lausanne/5210636?s=2&t=1&l=2023&ct=615&ci=145&pn=7\\n5176429.0,80.0,3.0,flat,\"3 Rue des Fontenailles, 1007 Lausanne, VD\",Appartement de 3 pi\\xc3\\xa8ces sous-gare,1900.0,,/en/d/flat-rent-lausanne/5176429?s=2&t=1&l=2023&ct=615&ci=146&pn=7\\n5262520.0,75.0,3.5,flat,\"Avenue de S\\xc3\\xa9velin 13 C, 1004 Lausanne, VD\",Bel appartement de standing,1900.0,,/en/d/flat-rent-lausanne/5262520?s=2&t=1&l=2023&ct=615&ci=147&pn=7\\n4607065.0,104.0,3.5,flat,\"Chemin du Sal\\xc3\\xa8ve 9, 1004 Lausanne, VD\",Dans les hauts de Lausanne,1915.0,Virtual tour,/en/d/flat-rent-lausanne/4607065?s=2&t=1&l=2023&ct=615&ci=148&pn=7\\n5262335.0,79.0,3.5,flat,\"Ch. du Martinet 19, 1007 Lausanne, VD\",\"Proche de toutes commodit\\xc3\\xa9s, dans quartier calme\",1940.0,,/en/d/flat-rent-lausanne/5262335?s=2&t=1&l=2023&ct=615&ci=149&pn=7\\n5199031.0,81.0,3.0,flat,\"Rue Couchirard 3, 1004 Lausanne, VD\",Logement spacieux et lumineux.,1950.0,,/en/d/flat-rent-lausanne/5199031?s=2&t=1&l=2023&ct=615&ci=150&pn=7\\n5263380.0,,2.5,flat,\"Route de Berne 111, 1010 Lausanne, VD\",\"\\xc3\\xa0 louer, Appartement, 1010 Lausanne, R\\xc3\\xa9f 1998728\",1950.0,,/en/d/flat-rent-lausanne/5263380?s=2&t=1&l=2023&ct=615&ci=151&pn=7\\n5273116.0,,3.0,flat,\"Chemin de Bonne-Esp\\xc3\\xa9rance 35, 1006 Lausanne, VD\",Appartement de 3 pi\\xc3\\xa8ces au 1er \\xc3\\xa9tage - Bonne-Esp\\xc3\\xa9rance 35 \\xc3\\xa0 Lausanne,1950.0,,/en/d/flat-rent-lausanne/5273116?s=2&t=1&l=2023&ct=615&ci=152&pn=7\\n5273606.0,51.0,2.0,flat,\"Chemin de Boston 5, 1004 Lausanne, VD\",Appartement neuf avec une terrasse exceptionnelle au centre ville !,1950.0,,/en/d/flat-rent-lausanne/5273606?s=2&t=1&l=2023&ct=615&ci=153&pn=7\\n5256115.0,73.0,3.5,flat,\"Chemin de la Gravi\\xc3\\xa8re 4, 1007 Lausanne, VD\",Quartier de l\\'Ouest-Lausannois,1975.0,,/en/d/flat-rent-lausanne/5256115?s=2&t=1&l=2023&ct=615&ci=154&pn=7\\n5244454.0,80.0,4.0,flat,\"Rue des Jardins 24, 1018 Lausanne, VD\",Appartement rafra\\xc3\\xaechit de 80 m2 avec balcon,1978.0,,/en/d/flat-rent-lausanne/5244454?s=2&t=1&l=2023&ct=615&ci=155&pn=7\\n5281896.0,68.0,3.0,flat,\"Avenue de Beaulieu 22, 1004 Lausanne, VD\",Situation id\\xc3\\xa9ale,1980.0,,/en/d/flat-rent-lausanne/5281896?s=2&t=1&l=2023&ct=615&ci=156&pn=7\\n3794195.0,40.0,1.5,furnished-residential-property,\"Chemin de Longeraie 4, 1006 Lausanne, VD\",Meubl\\xc3\\xa9 1.5 pi\\xc3\\xa8ces,1990.0,,/en/d/furnished-residential-property-rent-lausanne/3794195?s=2&t=1&l=2023&ct=615&ci=157&pn=7\\n5268602.0,75.0,3.5,flat,\"Avenue des Oiseaux 10, 1018 Lausanne, VD\",\"Appartement de 3.5 pi\\xc3\\xa8ces d\\'environ 75m2 au 1er \\xc3\\xa9tage, r\\xc3\\xa9nov\\xc3\\xa9 fin 2015.\",1990.0,,/en/d/flat-rent-lausanne/5268602?s=2&t=1&l=2023&ct=615&ci=158&pn=7\\n5280224.0,72.0,3.5,flat,\"Chemin du Levant 122, 1005 Lausanne, VD\",\"A louer 3,5 pi\\xc3\\xa8ces 72m2 + parc ext\\xc3\\xa9rieur sur Lausanne\",1995.0,,/en/d/flat-rent-lausanne/5280224?s=2&t=1&l=2023&ct=615&ci=159&pn=7\\n4885817.0,,3.5,flat,\"9 Pr\\xc3\\xa9-du-March\\xc3\\xa9, 1004 Lausanne, VD\",Appartement de 3.5 pi\\xc3\\xa8ces au 2\\xc3\\xa8me \\xc3\\xa9tage,2000.0,,/en/d/flat-rent-lausanne/4885817?s=2&t=1&l=2023&ct=615&ci=160&pn=7\\n5225994.0,69.0,3.5,flat,\"Av. Victor-Ruffy 48, 1012 Lausanne, VD\",\"Appartement r\\xc3\\xa9nov\\xc3\\xa9, proche du CHUV -\",2000.0,,/en/d/flat-rent-lausanne/5225994?s=2&t=1&l=2023&ct=615&ci=161&pn=7\\n5285943.0,90.0,3.0,flat,\"Avenue de Montchoisi 2, 1006 Lausanne, VD\",\"Lausanne, 3 pi\\xc3\\xa8ces au 1er \\xc3\\xa9tage\",2030.0,New,/en/d/flat-rent-lausanne/5285943?s=2&t=1&l=2023&ct=615&ci=162&pn=7\\n5200265.0,87.0,3.5,flat,\"Chemin de la Coudrette, 1015 Lausanne, VD\",Splendide appartement 3.5 pi\\xc3\\xa8ces \\xc3\\xa0 Lausanne,2040.0,,/en/d/flat-rent-lausanne/5200265?s=2&t=1&l=2023&ct=615&ci=163&pn=7\\n5278298.0,87.0,3.5,flat,\"Chemin de la Couderette 3, 1012 Lausanne, VD\",Magnifique 3.5 p traversant / 2 chambres / 1 SDB / Balcon,2040.0,,/en/d/flat-rent-lausanne/5278298?s=2&t=1&l=2023&ct=615&ci=164&pn=7\\n5175070.0,78.0,2.0,flat,\"Avenue de Collonges 23, 1004 Lausanne, VD\",2 pi\\xc3\\xa8ces avec cachet quartier Beaulieu - Lausanne,2060.0,,/en/d/flat-rent-lausanne/5175070?s=2&t=1&l=2023&ct=615&ci=165&pn=7\\n5203443.0,102.0,4.0,flat,\"Ch. de Boissonnet 67, 1010 Lausanne, VD\",\"Appartement, 4.0 pi\\xc3\\xa8ce(s)\",2060.0,,\"/en/d/flat-rent-s)\\xc2\\xbblausanne/5203443?s=2&t=1&l=2023&ct=615&ci=166&pn=7## \\xc2\\xabAppartement, 4.0 pi\\xc3\\xa8ce(s\"\\n5215250.0,62.0,3.0,flat,\"Rue de la Borde 37, 1018 Lausanne, VD\",Rue de la Borde 37,2070.0,,/en/d/flat-rent-lausanne/5215250?s=2&t=1&l=2023&ct=615&ci=167&pn=7\\n5231075.0,82.0,3.5,flat,\"Ch. des Eterpeys 21, 1010 Lausanne, VD\",Votre nouveau chez vous!,2090.0,,/en/d/flat-rent-lausanne/5231075?s=2&t=1&l=2023&ct=615&ci=168&pn=7\\n5255066.0,68.0,3.5,flat,\"Avenue de la D\\xc3\\xb4le 3, 1005 Lausanne, VD\",Appartement de 3.5 pi\\xc3\\xa8ces avec balcon \\xc3\\xa0 louer quartier CHUV,2100.0,,/en/d/flat-rent-lausanne/5255066?s=2&t=1&l=2023&ct=615&ci=169&pn=8\\n5273608.0,53.0,2.0,flat,\"Chemin de Boston 5, 1004 Lausanne, VD\",Appartement neuf avec une terrasse exceptionnelle au centre ville !,2100.0,,/en/d/flat-rent-lausanne/5273608?s=2&t=1&l=2023&ct=615&ci=170&pn=8\\n5285608.0,83.0,3.5,flat,\"Ch. du Suchet 3, 1007 Lausanne, VD\",\"Appartement, 3.5 pi\\xc3\\xa8ce(s)\",2100.0,New,\"/en/d/flat-rent-s)\\xc2\\xbblausanne/5285608?s=2&t=1&l=2023&ct=615&ci=171&pn=8## \\xc2\\xabAppartement, 3.5 pi\\xc3\\xa8ce(s\"\\n4888516.0,79.0,3.5,flat,\"Avenue Louis-Ruchonnet 19, 1003 Lausanne, VD\",Proche du centre,2110.0,,/en/d/flat-rent-lausanne/4888516?s=2&t=1&l=2023&ct=615&ci=172&pn=8\\n5267225.0,67.0,2.0,flat,\"Ruelle du Lapin-Vert 1, 1005 Lausanne, VD\",BEAUCOUP DE CHARME POUR CE 2 PIECES DE 67M2,2120.0,,/en/d/flat-rent-lausanne/5267225?s=2&t=1&l=2023&ct=615&ci=173&pn=8\\n5259316.0,97.0,4.5,flat,\"Chemin d\\'Entrebois 33, 1018 Lausanne, VD\",,2130.0,,/en/d/flat-rent-lausanne/5259316?s=2&t=1&l=2023&ct=615&ci=174&pn=8\\n5262040.0,75.0,3.5,flat,\"Avenue Belles-Roches 1B, 1004 Lausanne, VD\",Superbe appartement de 3.5 pi\\xc3\\xa8ces au coeur de Lausanne,2135.0,,/en/d/flat-rent-lausanne/5262040?s=2&t=1&l=2023&ct=615&ci=175&pn=8\\n5186049.0,,2.5,flat,\"Rue du Valentin 64, 1004 Lausanne, VD\",Appartement luxueux et neuf de 2.5 pi\\xc3\\xa8ces au centre ville,2140.0,,/en/d/flat-rent-lausanne/5186049?s=2&t=1&l=2023&ct=615&ci=176&pn=8\\n5204063.0,96.0,3.0,flat,\"Chemin de Chandieu 3, 1006 Lausanne, VD\",Dans quartier calme.,2140.0,,/en/d/flat-rent-lausanne/5204063?s=2&t=1&l=2023&ct=615&ci=177&pn=8\\n5220845.0,70.0,2.0,flat,\"1004 Lausanne, VD\",\"Magnifique 2,5 pi\\xc3\\xa8ces / Vue imprenable / Balcon / V\\xc3\\xa9randa\",2140.0,,/en/d/flat-rent-lausanne/5220845?s=2&t=1&l=2023&ct=615&ci=178&pn=8\\n5223718.0,78.0,3.5,flat,\"Chemin de Pierrefleur 3, 1004 Lausanne, VD\",\"Magnifique logement n\\xc2\\xb0 1, neuf de 3.5 pi\\xc3\\xa8ces avec balcon au rez sup.\",2140.0,,/en/d/flat-rent-lausanne/5223718?s=2&t=1&l=2023&ct=615&ci=179&pn=8\\n5237793.0,66.0,2.5,furnished-residential-property,\"1004 Lausanne, VD\",\"MEUBL\\xc3\\x89, DUR\\xc3\\x89E D\\xc3\\x89TERMIN\\xc3\\x89E: APPARTEMENT 2\\xc2\\xbd PI\\xc3\\x88CES \\xc3\\x80 LAUSANNE - BEAULIEU/\",2142.0,,/en/d/furnished-residential-property-rent-lausanne/5237793?s=2&t=1&l=2023&ct=615&ci=180&pn=8\\n5247080.0,55.0,2.5,furnished-residential-property,\"1003 Lausanne, VD\",\"MEUBL\\xc3\\x89, DUR\\xc3\\x89E D\\xc3\\x89TERMIN\\xc3\\x89E: APPARTEMENT 2\\xc2\\xbd PI\\xc3\\x88CES \\xc3\\x80 LAUSANNE - CENTRE-VI\",2142.0,,/en/d/furnished-residential-property-rent-lausanne/5247080?s=2&t=1&l=2023&ct=615&ci=181&pn=8\\n5174695.0,100.0,4.0,flat,\"9 Pr\\xc3\\xa9-du-March\\xc3\\xa9, 1004 Lausanne, VD\",Appartement au centre ville de 4 pi\\xc3\\xa8ces au 3\\xc3\\xa8me \\xc3\\xa9tage,2150.0,,/en/d/flat-rent-lausanne/5174695?s=2&t=1&l=2023&ct=615&ci=182&pn=8\\n5152002.0,75.0,4.0,flat,\"Ch. de Monribeau 3, 1005 Lausanne, VD\",Superbe appartement de 4 pi\\xc3\\xa8ces dans un quartier calme,2160.0,,/en/d/flat-rent-lausanne/5152002?s=2&t=1&l=2023&ct=615&ci=183&pn=8\\n5197482.0,104.0,4.0,flat,\"Route Aloys-Fauquez 87 Bis, 1018 Lausanne, VD\",Appartement rafra\\xc3\\xaechit de 4 pi\\xc3\\xa8ces au 3\\xc3\\xa8me \\xc3\\xa9tage avec ascenseur.,2160.0,,/en/d/flat-rent-lausanne/5197482?s=2&t=1&l=2023&ct=615&ci=184&pn=8\\n5225997.0,85.0,4.5,flat,\"Av. Victor-Ruffy 48, 1012 Lausanne, VD\",\"Appartement r\\xc3\\xa9nov\\xc3\\xa9, proche du CHUV\",2160.0,,/en/d/flat-rent-lausanne/5225997?s=2&t=1&l=2023&ct=615&ci=185&pn=8\\n5103515.0,,2.5,furnished-residential-property,\"Route du Bugnon 42, 1005 Lausanne, VD\",Superbe 2.5 p meubl\\xc3\\xa9 / 2 chambres / 1 SDB,2200.0,,/en/d/furnished-residential-property-rent-lausanne/5103515?s=2&t=1&l=2023&ct=615&ci=186&pn=8\\n5256344.0,67.0,2.0,flat,\"1000 Lausanne, VD\",\"Superbe 2,5p // Magnifique vue // Grande Loggia et Balcon\",2200.0,,/en/d/flat-rent-lausanne/5256344?s=2&t=1&l=2023&ct=615&ci=187&pn=8\\n5270020.0,95.0,3.0,furnished-residential-property,\"1012 Lausanne, VD\",Magnifique appartement meubl\\xc3\\xa9 pour 6 mois / centre de Lausanne,2200.0,,/en/d/furnished-residential-property-rent-lausanne/5270020?s=2&t=1&l=2023&ct=615&ci=188&pn=8\\n5270614.0,67.0,2.5,flat,\"Chemin Aim\\xc3\\xa9-Steinlen 3B, 1004 Lausanne, VD\",Magnifique appartement 67 m2,2200.0,,/en/d/flat-rent-lausanne/5270614?s=2&t=1&l=2023&ct=615&ci=189&pn=8\\n5281895.0,76.0,4.0,flat,\"Avenue de Beaulieu 24, 1004 Lausanne, VD\",Emplacement id\\xc3\\xa9al !,2200.0,,/en/d/flat-rent-lausanne/5281895?s=2&t=1&l=2023&ct=615&ci=190&pn=8\\n5178743.0,75.0,4.0,flat,\"Guiguer-de-Prangins 4, 1004 Lausanne, VD\",Magnifique vue sur le lac,2210.0,,/en/d/flat-rent-lausanne/5178743?s=2&t=1&l=2023&ct=615&ci=191&pn=8\\n5276761.0,86.0,3.5,flat,\"Avenue de France 18A, 1004 Lausanne, VD\",A seulement deux minutes \\xc3\\xa0 pied du centre-ville !,2210.0,Virtual tour,/en/d/flat-rent-lausanne/5276761?s=2&t=1&l=2023&ct=615&ci=192&pn=8\\n5256810.0,87.0,3.5,flat,\"Avenue Victor-Ruffy 75, 1012 Lausanne, VD\",Bel et spacieux appartement de 3.5 pi\\xc3\\xa8ces.,2220.0,,/en/d/flat-rent-lausanne/5256810?s=2&t=1&l=2023&ct=615&ci=193&pn=9\\n5240575.0,100.0,2.5,flat,\"Chemin Diablerets 16, 1012 Lausanne, VD\",Magnifique attique 2.5 p / 1 chambre / 1 SDB / Balcon / Vue,2225.0,,/en/d/flat-rent-lausanne/5240575?s=2&t=1&l=2023&ct=615&ci=194&pn=9\\n5278578.0,90.0,3.5,flat,\"Chemin de Beau-Val 3, 1012 Lausanne, VD\",Bel appartement de 3.5 pi\\xc3\\xa8ces proche du CHUV,2250.0,,/en/d/flat-rent-lausanne/5278578?s=2&t=1&l=2023&ct=615&ci=195&pn=9\\n4426137.0,90.0,3.5,flat,\"Avenue des Boveresses 64-92, 1010 Lausanne, VD\",Offrez-vous un bel espace de vie moderne,2255.0,,/en/d/flat-rent-lausanne/4426137?s=2&t=1&l=2023&ct=615&ci=196&pn=9\\n4926241.0,60.0,2.5,furnished-residential-property,\"1018 Lausanne, VD\",MEUBL\\xc3\\x89: APPARTEMENT MANSARD\\xc3\\x89 2\\xc2\\xbd PI\\xc3\\x88CES \\xc3\\x80 LAUSANNE - BORDE/BELLEVAUX,2268.0,,/en/d/furnished-residential-property-rent-lausanne/4926241?s=2&t=1&l=2023&ct=615&ci=197&pn=9\\n4468793.0,23.0,,furnished-residential-property,\"Chemin des Epinettes 11, 1007 Lausanne, VD\",\"Junior Studio Apartment - Lausanne, Chemin des Epinettes 11\",2273.0,,/en/d/furnished-residential-property-rent-lausanne/4468793?s=2&t=1&l=2023&ct=615&ci=198&pn=9\\n5155904.0,81.0,4.0,flat,\"Chemin Vermont 24, 1006 Lausanne, VD\",Spacieux 4 pi\\xc3\\xa8ces !,2295.0,,/en/d/flat-rent-lausanne/5155904?s=2&t=1&l=2023&ct=615&ci=199&pn=9\\n5188896.0,107.0,4.5,flat,\"Chemin du Furet 11, 1018 Lausanne, VD\",Logement id\\xc3\\xa9al pour famille quartier Bl\\xc3\\xa9cherette,2310.0,,/en/d/flat-rent-lausanne/5188896?s=2&t=1&l=2023&ct=615&ci=200&pn=9\\n5245605.0,86.0,3.5,flat,\"Chemin des Abeilles 37, 1010 Lausanne, VD\",Magnifique appartement de 3.5 pi\\xc3\\xa8ces avec de grandes baies vitr\\xc3\\xa9es,2310.0,,/en/d/flat-rent-lausanne/5245605?s=2&t=1&l=2023&ct=615&ci=201&pn=9\\n5282411.0,80.0,4.0,flat,\"Ch. de Primerose 30, 1007 Lausanne, VD\",\"Spacieux et lumineux, proche des commodit\\xc3\\xa9s\",2336.0,,/en/d/flat-rent-lausanne/5282411?s=2&t=1&l=2023&ct=615&ci=202&pn=9\\n5236518.0,98.0,4.5,flat,\"Chemin de Pierrefleur 34, 1004 Lausanne, VD\",Lumineux et spacieux logement. Magnifique vue sur le lac.,2340.0,,/en/d/flat-rent-lausanne/5236518?s=2&t=1&l=2023&ct=615&ci=203&pn=9\\n4955463.0,73.0,2.5,flat,\"5 avenue de Jomini, 1004 Lausanne, VD\",2.5 pi\\xc3\\xa8ces dans bel immeuble moderne,2350.0,,/en/d/flat-rent-lausanne/4955463?s=2&t=1&l=2023&ct=615&ci=204&pn=9\\n5230800.0,70.0,2.0,furnished-residential-property,\"1004 Lausanne, VD\",\"Magnifique 2,5 pi\\xc3\\xa8ces / Vue imprenable / Balcon / V\\xc3\\xa9randa\",2370.0,,/en/d/furnished-residential-property-rent-lausanne/5230800?s=2&t=1&l=2023&ct=615&ci=205&pn=9\\n5230401.0,91.0,3.0,flat,\"Avenue de Morges 139, 1004 Lausanne, VD\",Lumineux logement prot\\xc3\\xa9g\\xc3\\xa9 de 3 pi\\xc3\\xa8ces proche du centre-ville,2375.0,,/en/d/flat-rent-lausanne/5230401?s=2&t=1&l=2023&ct=615&ci=206&pn=9\\n4468739.0,25.0,,furnished-residential-property,\"Rue Caroline 23, 1003 Lausanne, VD\",\"Junior Studio Apartment - Lausanne, Rue Caroline 23\",2377.0,,/en/d/furnished-residential-property-rent-lausanne/4468739?s=2&t=1&l=2023&ct=615&ci=207&pn=9\\n5181156.0,109.0,5.0,flat,\"Ch. Isabelle Montolieu 107, 1010 Lausanne, VD\",Appartement de 5 pi\\xc3\\xa8ces au 1er \\xc3\\xa9tage,2380.0,,/en/d/flat-rent-lausanne/5181156?s=2&t=1&l=2023&ct=615&ci=208&pn=9\\n5142206.0,94.0,4.5,flat,\"Ch. des Eterpeys 27, 1010 Lausanne, VD\",Votre nouveau chez vous!!!,2390.0,,/en/d/flat-rent-lausanne/5142206?s=2&t=1&l=2023&ct=615&ci=209&pn=9\\n5265493.0,84.0,3.5,flat,\"13 route de la Feuill\\xc3\\xa8re, 1010 Lausanne, VD\",Bel appartement moderne de 3.5 pi\\xc3\\xa8ces proche du CHUV,2390.0,,/en/d/flat-rent-lausanne/5265493?s=2&t=1&l=2023&ct=615&ci=210&pn=9\\n5268618.0,101.0,3.5,flat,\"Ch. du Devin 80, 1012 Lausanne, VD\",Quartier calme et verdoyant,2390.0,,/en/d/flat-rent-lausanne/5268618?s=2&t=1&l=2023&ct=615&ci=211&pn=9\\n5115844.0,101.0,4.5,flat,\"Chemin de la Vuach\\xc3\\xa8re 20 D, 1012 Lausanne, VD\",Dans les hauts de Pully,2410.0,,/en/d/flat-rent-lausanne/5115844?s=2&t=1&l=2023&ct=615&ci=212&pn=9\\n4804969.0,69.0,2.5,flat,\"Avenue de Chailly 49, 1012 Lausanne, VD\",,2450.0,,/en/d/flat-rent-lausanne/4804969?s=2&t=1&l=2023&ct=615&ci=213&pn=9\\n5243884.0,115.0,4.5,flat,\"Avenue Bergi\\xc3\\xa8res 33, 1004 Lausanne, VD\",4.5 pi\\xc3\\xa8ces avec conciergerie,2450.0,,/en/d/flat-rent-lausanne/5243884?s=2&t=1&l=2023&ct=615&ci=214&pn=9\\n5064979.0,90.0,3.5,flat,\"Avenue de S\\xc3\\xa9velin 13 A, 1004 Lausanne, VD\",Magnifique appartement moderne avec balcon.,2460.0,,/en/d/flat-rent-lausanne/5064979?s=2&t=1&l=2023&ct=615&ci=215&pn=9\\n5176753.0,113.0,4.5,flat,\"L\\xc3\\xa9man, 1005 Lausanne, VD\",Appartement de 4.5 pi\\xc3\\xa8ces avec vue panoramique \\xc3\\xa0 Lausanne,2475.0,,/en/d/flat-rent-lausanne/5176753?s=2&t=1&l=2023&ct=615&ci=216&pn=9\\n5286437.0,89.0,4.5,flat,\"Chemin de Barberine 3, 1004 Lausanne, VD\",Superbe 4.5 p / 3 chambres / 1 SDB / Balcon avec vue,2480.0,New,/en/d/flat-rent-lausanne/5286437?s=2&t=1&l=2023&ct=615&ci=217&pn=10\\n4860598.0,,2.5,flat,\"Avenue Mon-Repos 30, 1000 Lausanne, VD\",Bel appartement r\\xc3\\xa9nov\\xc3\\xa9 de 2.5 pi\\xc3\\xa8ces au centre-ville,2490.0,,/en/d/flat-rent-lausanne/4860598?s=2&t=1&l=2023&ct=615&ci=218&pn=10\\n5238120.0,107.0,4.0,flat,\"Avenue Fantaisie 6, 1006 Lausanne, VD\",Magnifique logement de 4 pi\\xc3\\xa8ces enti\\xc3\\xa8rement r\\xc3\\xa9nov\\xc3\\xa9.,2490.0,,/en/d/flat-rent-lausanne/5238120?s=2&t=1&l=2023&ct=615&ci=219&pn=10\\n5241999.0,84.0,3.5,flat,\"Chemin de Pierrefleur 3, 1004 Lausanne, VD\",Magnifique logement n\\xc2\\xb0 4 de 3.5 pi\\xc3\\xa8ces avec balcon au rez sup.,2490.0,,/en/d/flat-rent-lausanne/5241999?s=2&t=1&l=2023&ct=615&ci=220&pn=10\\n5265736.0,93.0,4.5,flat,\"Ch. du Devin 94, 1012 Lausanne, VD\",Etre au vert sans quitter la ville ?,2495.0,,/en/d/flat-rent-lausanne/5265736?s=2&t=1&l=2023&ct=615&ci=221&pn=10\\n5071748.0,97.0,3.0,flat,\"Av. Ruchonnet 24, 1003 Lausanne, VD\",Ruchonnet 24 - 1ER LOYER OFFERT - Appt 3.5 pi\\xc3\\xa8ces au rez sup\\xc3\\xa9rieur,2499.0,,/en/d/flat-rent-lausanne/5071748?s=2&t=1&l=2023&ct=615&ci=222&pn=10\\n4989959.0,83.0,3.5,flat,\"Avenue de Beaumont 82, 1010 Lausanne, VD\",Magnifique appartement de 3.5 pi\\xc3\\xa8ces,2500.0,,/en/d/flat-rent-lausanne/4989959?s=2&t=1&l=2023&ct=615&ci=223&pn=10\\n5198917.0,100.0,4.5,flat,\"Chemin de Chandieu 12, 1006 Lausanne, VD\",Superbe 4.5 p / 3 chambres / 1 SDB / Balcon,2500.0,,/en/d/flat-rent-lausanne/5198917?s=2&t=1&l=2023&ct=615&ci=224&pn=10\\n5256573.0,100.0,3.5,flat,\"berne, 1010 Lausanne, VD\",Superbe appartement de 3.5 pi\\xc3\\xa8ces situ\\xc3\\xa9 dans une construction moderne,2500.0,,/en/d/flat-rent-lausanne/5256573?s=2&t=1&l=2023&ct=615&ci=225&pn=10\\n5268619.0,114.0,3.5,flat,\"Ch. du Devin 98, 1012 Lausanne, VD\",,2500.0,,/en/d/flat-rent-lausanne/5268619?s=2&t=1&l=2023&ct=615&ci=226&pn=10\\n5242058.0,204.0,3.5,flat,\"Chemin de Pierrefleur 3, 1004 Lausanne, VD\",Magnifique logement n\\xc2\\xb0 204 de 3.5 pi\\xc3\\xa8ces avec balcon au 2\\xc3\\xa8me \\xc3\\xa9tage,2510.0,,/en/d/flat-rent-lausanne/5242058?s=2&t=1&l=2023&ct=615&ci=227&pn=10\\n5275996.0,86.0,3.5,furnished-residential-property,\"1012 Lausanne, VD\",\"MEUBL\\xc3\\x89, DUR\\xc3\\x89E D\\xc3\\x89TERMIN\\xc3\\x89E: APPARTEMENT 3\\xc2\\xbd PI\\xc3\\x88CES \\xc3\\x80 LAUSANNE (VD)\",2520.0,,\"/en/d/furnished-residential-property-rent-VD)\\xc2\\xbblausanne/5275996?s=2&t=1&l=2023&ct=615&ci=228&pn=10## \\xc2\\xabMEUBL\\xc3\\x89, DUR\\xc3\\x89E D\\xc3\\x89TERMIN\\xc3\\x89E: APPARTEMENT 3\\xc2\\xbd PI\\xc3\\x88CES \\xc3\\x80 LAUSANNE (VD\"\\n5202683.0,79.0,3.5,flat,\"Chemin de Pierrefleur 3, 1004 Lausanne, VD\",\"Magnifique logement n\\xc2\\xb0 304 , neuf de 3.5 pi\\xc3\\xa8ces, vue lac\",2530.0,,/en/d/flat-rent-lausanne/5202683?s=2&t=1&l=2023&ct=615&ci=229&pn=10\\n5138087.0,60.0,3.0,flat,\"Passage Belle-Rose 3, 1005 Lausanne, VD\",3 pi\\xc3\\xa8ces meubl\\xc3\\xa9 (ou pas) au centre-ville avec vue sur le lac,2550.0,,/en/d/flat-rent-ou pas) au centre-ville avec vue sur le lac\\xc2\\xbblausanne/5138087?s=2&t=1&l=2023&ct=615&ci=230&pn=10## \\xc2\\xab3 pi\\xc3\\xa8ces meubl\\xc3\\xa9 (ou pas\\n4423191.0,107.0,4.5,flat,\"Boveresses 64 \\xc3\\xa0 92, 1010 Lausanne, VD\",\"Id\\xc3\\xa9al pour famille, faites de ce 4.5 pi\\xc3\\xa8ces votre chez-vous!\",2570.0,Virtual tour,/en/d/flat-rent-lausanne/4423191?s=2&t=1&l=2023&ct=615&ci=231&pn=10\\n4468750.0,25.0,,furnished-residential-property,\"Rue Caroline 23, 1003 Lausanne, VD\",\"Senior Studio Apartment - Lausanne, Rue Caroline 23\",2574.0,,/en/d/furnished-residential-property-rent-lausanne/4468750?s=2&t=1&l=2023&ct=615&ci=232&pn=10\\n5242002.0,84.0,3.5,flat,\"Chemin de Pierrefleur 3, 1004 Lausanne, VD\",Magnifique logement n\\xc2\\xb0 103 de 3.5 pi\\xc3\\xa8ces avec balcon au 1er \\xc3\\xa9tage,2590.0,,/en/d/flat-rent-lausanne/5242002?s=2&t=1&l=2023&ct=615&ci=233&pn=10\\n5262232.0,120.0,5.5,flat,\"Avenue de Valmont 16, 1010 Lausanne, VD\",Appartement de 5.5 pi\\xc3\\xa8ces au 12\\xc3\\xa8me \\xc3\\xa9tage,2590.0,,/en/d/flat-rent-lausanne/5262232?s=2&t=1&l=2023&ct=615&ci=234&pn=10\\n5281814.0,171.0,3.0,flat,\"32D avenue de S\\xc3\\xa9velin, 1004 Lausanne, VD\",Loft de 171 m\\xc2\\xb2 avec deux chambres,2590.0,,/en/d/flat-rent-lausanne/5281814?s=2&t=1&l=2023&ct=615&ci=235&pn=10\\n5208328.0,98.0,3.5,flat,\"Avenue des Figuiers 37, 1007 Lausanne, VD\",Tr\\xc3\\xa8s bel appartement de 3.5 pi\\xc3\\xa8ces avec v\\xc3\\xa9randa et jardin,2600.0,,/en/d/flat-rent-lausanne/5208328?s=2&t=1&l=2023&ct=615&ci=236&pn=10\\n5223734.0,84.0,3.5,flat,\"Chemin de Pierrefleur 3, 1004 Lausanne, VD\",Magnifique logement n\\xc2\\xb0 203 de 3.5 pi\\xc3\\xa8ces avec balcon au 2\\xc3\\xa8me \\xc3\\xa9tage,2640.0,,/en/d/flat-rent-lausanne/5223734?s=2&t=1&l=2023&ct=615&ci=237&pn=10\\n4520430.0,91.0,3.5,flat,\"Route de la Feuill\\xc3\\xa8re 21, 1010 Lausanne, VD\",Spacieux logement de standing avec terrasse.,2650.0,,/en/d/flat-rent-lausanne/4520430?s=2&t=1&l=2023&ct=615&ci=238&pn=10\\n5227781.0,65.0,3.5,penthouse,\"Ruelle de Bourg 11, 1003 Lausanne, VD\",\"Charmant appartement de 3,5 pi\\xc3\\xa8ces en attique avec grande terrasse\",2650.0,,/en/d/penthouse-rent-lausanne/5227781?s=2&t=1&l=2023&ct=615&ci=239&pn=10\\n5255585.0,112.0,4.5,flat,\"rambert 28, 1005 Lausanne, VD\",Appartement de 4.5 pi\\xc3\\xa8ces enti\\xc3\\xa8rement r\\xc3\\xa9nov\\xc3\\xa9 avec vue panoramique,2650.0,,/en/d/flat-rent-lausanne/5255585?s=2&t=1&l=2023&ct=615&ci=240&pn=10\\n5267677.0,101.0,4.5,flat,\"Rte du Signal 1A, 1018 Lausanne, VD\",\"Appartement, 4.5 pi\\xc3\\xa8ce(s)\",2660.0,,\"/en/d/flat-rent-s)\\xc2\\xbblausanne/5267677?s=2&t=1&l=2023&ct=615&ci=241&pn=11## \\xc2\\xabAppartement, 4.5 pi\\xc3\\xa8ce(s\"\\n5227980.0,109.0,3.5,flat,\"Avenue Verdeil 14, 1005 Lausanne, VD\",Magnifique appartement lumineux avec vue sur le lac,2675.0,,/en/d/flat-rent-lausanne/5227980?s=2&t=1&l=2023&ct=615&ci=242&pn=11\\n5244460.0,89.0,4.5,flat,\"Chemin de Barberine 3, 1004 Lausanne, VD\",Bel appartement de 4.5 pi\\xc3\\xa8ces d\\'environ 89m2 au 3\\xc3\\xa8me \\xc3\\xa9tage.,2690.0,,/en/d/flat-rent-lausanne/5244460?s=2&t=1&l=2023&ct=615&ci=243&pn=11\\n5265489.0,107.0,4.5,flat,\"13 route de la Feuill\\xc3\\xa8re, 1010 Lausanne, VD\",Bel appartement moderne de 4.5 pi\\xc3\\xa8ces proche du CHUV,2695.0,,/en/d/flat-rent-lausanne/5265489?s=2&t=1&l=2023&ct=615&ci=244&pn=11\\n5280579.0,101.0,3.5,flat,\"Avenue Juste-Olivier 25, 1006 Lausanne, VD\",Bel appartement de 3.5 pi\\xc3\\xa8ces id\\xc3\\xa9alement situ\\xc3\\xa9,2700.0,,/en/d/flat-rent-lausanne/5280579?s=2&t=1&l=2023&ct=615&ci=245&pn=11\\n5281940.0,100.0,4.5,flat,\"Avenue d\\'Echallens 104a, 1004 Lausanne, VD\",Magnifique appartement de 4.5 pi\\xc3\\xa8ces avec balcon,2700.0,,/en/d/flat-rent-lausanne/5281940?s=2&t=1&l=2023&ct=615&ci=246&pn=11\\n5187527.0,99.0,4.5,flat,\"Avenue de S\\xc3\\xa9velin 13 A, 1004 Lausanne, VD\",Magnifique 4.5 pces de standing avec balcon.,2710.0,,/en/d/flat-rent-lausanne/5187527?s=2&t=1&l=2023&ct=615&ci=247&pn=11\\n4592082.0,84.0,3.0,flat,\"Rue Saint-Fran\\xc3\\xa7ois 2, 1003 Lausanne, VD\",Au coeur de Lausanne,2775.0,Virtual tour,/en/d/flat-rent-lausanne/4592082?s=2&t=1&l=2023&ct=615&ci=248&pn=11\\n5233848.0,93.0,3.5,duplex-maisonette,\"Avenue d\\'Echallens 121, 1004 Lausanne, VD\",Appartement neuf en duplex,2790.0,,/en/d/duplex-maisonette-rent-lausanne/5233848?s=2&t=1&l=2023&ct=615&ci=249&pn=11\\n5000653.0,100.0,4.5,flat,\"Avenue des Alpes 4, 1006 Lausanne, VD\",\"Appartement de 4,5 pi\\xc3\\xa8ces au 4\\xc3\\xa8me \\xc3\\xa9tage avec vue sur le lac et les alpes\",2800.0,,/en/d/flat-rent-lausanne/5000653?s=2&t=1&l=2023&ct=615&ci=250&pn=11\\n5234399.0,91.0,3.5,flat,\"25 Route de la Feuill\\xc3\\xa8re 25, 1010 Lausanne, VD\",Magnifique appartement de 3.5 pi\\xc3\\xa8ces avec grande terrasse,2800.0,,/en/d/flat-rent-lausanne/5234399?s=2&t=1&l=2023&ct=615&ci=251&pn=11\\n5193381.0,103.0,4.5,flat,\"Chemin de Pierrefleur 3, 1004 Lausanne, VD\",Magnifique logement n\\xc2\\xb0 3 neuf de 4.5 pi\\xc3\\xa8ces avec balcon,2810.0,,/en/d/flat-rent-lausanne/5193381?s=2&t=1&l=2023&ct=615&ci=252&pn=11\\n5276378.0,120.0,4.5,attic-flat,\"1006 Lausanne, VD\",SPACIEUX DANS QUARTIER PRIVILEGIE,2880.0,,/en/d/attic-flat-rent-lausanne/5276378?s=2&t=1&l=2023&ct=615&ci=253&pn=11\\n5126910.0,100.0,4.5,flat,\"Avenue de la Sallaz 58, 1010 Lausanne, VD\",Appartement avec magnifique vue sur le lac et tr\\xc3\\xa8s lumineux.,2900.0,,/en/d/flat-rent-lausanne/5126910?s=2&t=1&l=2023&ct=615&ci=254&pn=11\\n5253662.0,99.0,4.0,flat,\"Rue St-Roch 34, 1004 Lausanne, VD\",Votre nouveau chez vous!!!,2900.0,,/en/d/flat-rent-lausanne/5253662?s=2&t=1&l=2023&ct=615&ci=255&pn=11\\n5234621.0,72.0,3.5,flat,\"Avenue Antoine-Michel-Servan 36, 1006 Lausanne, VD\",Magnifique appartement de 3.5 pi\\xc3\\xa8ces d\\'environ 73m2 au 3\\xc3\\xa8me \\xc3\\xa9tage,2915.0,,/en/d/flat-rent-lausanne/5234621?s=2&t=1&l=2023&ct=615&ci=256&pn=11\\n5268985.0,112.0,4.5,flat,\"Av. de Virgile-Rossel 9, 1012 Lausanne, VD\",SPACIEUX APPARTEMENT 4.5 PIECES DE 112M2 AU 2EME ETAGE,2920.0,,/en/d/flat-rent-lausanne/5268985?s=2&t=1&l=2023&ct=615&ci=257&pn=11\\n5216891.0,100.0,4.5,flat,\"Avenue des Alpes 4, 1006 Lausanne, VD\",Avenue des Alpes 4 - 1006 Lausanne,2950.0,,/en/d/flat-rent-lausanne/5216891?s=2&t=1&l=2023&ct=615&ci=258&pn=11\\n5262589.0,100.0,3.5,penthouse,\"Avenue des Alpes 4, 1005 Lausanne, VD\",\"Centre de Lausanne , attique neuf dans immeuble d\\'\\xc3\\xa9poque !\",2950.0,,/en/d/penthouse-rent-lausanne/5262589?s=2&t=1&l=2023&ct=615&ci=259&pn=11\\n5242005.0,103.0,4.5,flat,\"Chemin de Pierrefleur 3, 1004 Lausanne, VD\",Magnifique logement n\\xc2\\xb0 202 de 4.5 pi\\xc3\\xa8ces avec balcon au 2\\xc3\\xa8me \\xc3\\xa9tage,2960.0,,/en/d/flat-rent-lausanne/5242005?s=2&t=1&l=2023&ct=615&ci=260&pn=11\\n5225737.0,80.0,3.0,furnished-residential-property,\"1004 Lausanne, VD\",\"MEUBL\\xc3\\x89, DUR\\xc3\\x89E D\\xc3\\x89TERMIN\\xc3\\x89E: APPARTEMENT 3 PI\\xc3\\x88CES \\xc3\\x80 LAUSANNE - CENTRE-VIL\",2988.0,,/en/d/furnished-residential-property-rent-lausanne/5225737?s=2&t=1&l=2023&ct=615&ci=261&pn=11\\n5268659.0,100.0,3.5,flat,\"Rue des Terreaux 2, 1003 Lausanne, VD\",Habiter au coeur du centre-ville,3000.0,,/en/d/flat-rent-lausanne/5268659?s=2&t=1&l=2023&ct=615&ci=262&pn=11\\n5202676.0,101.0,4.5,flat,\"Chemin de Pierrefleur 3, 1004 Lausanne, VD\",\"Magnifique logement n\\xc2\\xb0 302, neuf de 4.5 pi\\xc3\\xa8ces, vue lac\",3010.0,,/en/d/flat-rent-lausanne/5202676?s=2&t=1&l=2023&ct=615&ci=263&pn=11\\n5275432.0,100.0,4.5,flat,\"Avenue de Beaumont 82, 1010 Lausanne, VD\",Bel appartement moderne de 4.5 pi\\xc3\\xa8ces.,3030.0,,/en/d/flat-rent-lausanne/5275432?s=2&t=1&l=2023&ct=615&ci=264&pn=11\\n5270415.0,140.0,4.5,duplex-maisonette,\"Route d\\'Oron 33d, 1010 Lausanne, VD\",Magnifique appartement duplex de 4.5 pi\\xc3\\xa8ces de 140m2.,3060.0,,/en/d/duplex-maisonette-rent-lausanne/5270415?s=2&t=1&l=2023&ct=615&ci=265&pn=12\\n4468824.0,47.0,2.0,furnished-residential-property,\"Chemin des Epinettes 11, 1007 Lausanne, VD\",\"Senior 1 Bedroom Apartment - Lausanne, Chemin des Epinettes 11\",3114.0,,/en/d/furnished-residential-property-rent-lausanne/4468824?s=2&t=1&l=2023&ct=615&ci=266&pn=12\\n5219798.0,100.0,4.5,furnished-residential-property,\"1010 Lausanne, VD\",\"MEUBL\\xc3\\x89, DUR\\xc3\\x89E D\\xc3\\x89TERMIN\\xc3\\x89E: APPARTEMENT 4\\xc2\\xbd PI\\xc3\\x88CES \\xc3\\x80 LAUSANNE\",3120.0,,/en/d/furnished-residential-property-rent-lausanne/5219798?s=2&t=1&l=2023&ct=615&ci=267&pn=12\\n5212929.0,68.0,2.5,furnished-residential-property,\"1005 Lausanne, VD\",MEUBL\\xc3\\x89: APPARTEMENT 2\\xc2\\xbd PI\\xc3\\x88CES \\xc3\\x80 LAUSANNE,3150.0,,/en/d/furnished-residential-property-rent-lausanne/5212929?s=2&t=1&l=2023&ct=615&ci=268&pn=12\\n5287601.0,115.0,5.5,flat,\"Ch. de Simplemont 10, 1005 Lausanne, VD\",Bel appartement de 5.5 pi\\xc3\\xa8ces id\\xc3\\xa9alement situ\\xc3\\xa9,3150.0,New,/en/d/flat-rent-lausanne/5287601?s=2&t=1&l=2023&ct=615&ci=269&pn=12\\n4835897.0,94.0,3.0,flat,\"23 route de la Feuill\\xc3\\xa8re, 1010 Lausanne, VD\",Duplex avec belle vue sur le lac,3160.0,,/en/d/flat-rent-lausanne/4835897?s=2&t=1&l=2023&ct=615&ci=270&pn=12\\n5268606.0,160.0,3.5,flat,\"Passage Saint-Fran\\xc3\\xa7ois 6, 1003 Lausanne, VD\",Superbe appartement de 3.5 pi\\xc3\\xa8ces \\xc3\\xa0 louer de suite,3165.0,,/en/d/flat-rent-lausanne/5268606?s=2&t=1&l=2023&ct=615&ci=271&pn=12\\n5133877.0,210.0,4.5,flat,\"32D avenue de S\\xc3\\xa9velin, 1004 Lausanne, VD\",Loft de 210 m\\xc2\\xb2 avec trois chambres,3180.0,,/en/d/flat-rent-lausanne/5133877?s=2&t=1&l=2023&ct=615&ci=272&pn=12\\n5282653.0,104.0,4.5,flat,\"Avenue de B\\xc3\\xa9thusy 4, 1005 Lausanne, VD\",Magnifique appartement \\xc3\\xa0 louer,3180.0,,/en/d/flat-rent-lausanne/5282653?s=2&t=1&l=2023&ct=615&ci=273&pn=12\\n4972848.0,142.0,5.5,flat,\"Rue Marterey 56, 1005 Lausanne, VD\",Au coeur de la ville,3220.0,Virtual tour,/en/d/flat-rent-lausanne/4972848?s=2&t=1&l=2023&ct=615&ci=274&pn=12\\n5278281.0,107.0,3.5,flat,\"Avenue de l\\'Avant-Poste 13, 1005 Lausanne, VD\",Superbe appartement en attique avec vue sur le lac et les montagnes,3220.0,Virtual tour,/en/d/flat-rent-lausanne/5278281?s=2&t=1&l=2023&ct=615&ci=275&pn=12\\n5153421.0,90.0,3.5,furnished-residential-property,\"1005 Lausanne, VD\",\"MEUBL\\xc3\\x89, DUR\\xc3\\x89E D\\xc3\\x89TERMIN\\xc3\\x89E: APPARTEMENT DUPLEX 3\\xc2\\xbd PI\\xc3\\x88CES \\xc3\\x80 LAUSANNE - MO\",3240.0,,/en/d/furnished-residential-property-rent-lausanne/5153421?s=2&t=1&l=2023&ct=615&ci=276&pn=12\\n5271276.0,110.0,5.0,furnished-residential-property,\"1004 Lausanne, VD\",\"MEUBL\\xc3\\x89, DUR\\xc3\\x89E D\\xc3\\x89TERMIN\\xc3\\x89E: APPARTEMENT 5 PI\\xc3\\x88CES \\xc3\\x80 LAUSANNE - CENTRE-VIL\",3250.0,,/en/d/furnished-residential-property-rent-lausanne/5271276?s=2&t=1&l=2023&ct=615&ci=277&pn=12\\n5281044.0,120.0,5.5,flat,\"Avenue de Rumine 19 b, 1005 Lausanne, VD\",Quartier Rumine,3290.0,Virtual tour,/en/d/flat-rent-lausanne/5281044?s=2&t=1&l=2023&ct=615&ci=278&pn=12\\n4468768.0,38.0,2.0,furnished-residential-property,\"Rue Caroline 23, 1003 Lausanne, VD\",\"Senior 1 Bedroom Apartment - Lausanne, Rue Caroline 23\",3311.0,,/en/d/furnished-residential-property-rent-lausanne/4468768?s=2&t=1&l=2023&ct=615&ci=279&pn=12\\n5215051.0,102.0,4.5,duplex-maisonette,\"Avenue de Cour 92, 1007 Lausanne, VD\",Superbe duplex en attique,3380.0,,/en/d/duplex-maisonette-rent-lausanne/5215051?s=2&t=1&l=2023&ct=615&ci=280&pn=12\\n4755334.0,160.0,5.5,flat,\"Avenue du Grey 5, 1004 Lausanne, VD\",,3400.0,,/en/d/flat-rent-lausanne/4755334?s=2&t=1&l=2023&ct=615&ci=281&pn=12\\n5108362.0,126.0,4.5,flat,\"Aurore, 1005 Lausanne, VD\",Superbe appartement avec cachet au centre ville de Lausanne,3500.0,,/en/d/flat-rent-lausanne/5108362?s=2&t=1&l=2023&ct=615&ci=282&pn=12\\n5128080.0,,3.5,furnished-residential-property,\"1005 Lausanne, VD\",Superbe 3.5 p meubl\\xc3\\xa9 / 3 chambres / 1 SDB,3500.0,,/en/d/furnished-residential-property-rent-lausanne/5128080?s=2&t=1&l=2023&ct=615&ci=283&pn=12\\n5260577.0,109.0,4.5,flat,\"Av. Mon-Repos 32, 1005 Lausanne, VD\",\"Appartement, 4.5 pi\\xc3\\xa8ce(s)\",3500.0,,\"/en/d/flat-rent-s)\\xc2\\xbblausanne/5260577?s=2&t=1&l=2023&ct=615&ci=284&pn=12## \\xc2\\xabAppartement, 4.5 pi\\xc3\\xa8ce(s\"\\n5281067.0,113.0,4.0,flat,\"Av. Verdeil 9, 1005 Lausanne, VD\",Magnifique appartement de 4 pi\\xc3\\xa8ces dans un quartier r\\xc3\\xa9sidentiel,3500.0,,/en/d/flat-rent-lausanne/5281067?s=2&t=1&l=2023&ct=615&ci=285&pn=12\\n5141457.0,150.0,4.5,duplex-maisonette,\"Chemin de Ratavolar 17, 1000 Lausanne, VD\",\"Duplex de 4.5 pi\\xc3\\xa8ces, \\xc3\\xa0 la campagne \\xc3\\xa0 deux pas de la ville !\",3520.0,,/en/d/duplex-maisonette-rent-lausanne/5141457?s=2&t=1&l=2023&ct=615&ci=286&pn=12\\n5259335.0,112.0,4.5,flat,\"Chemin de la Cure 9 b, 1012 Lausanne, VD\",,3560.0,,/en/d/flat-rent-lausanne/5259335?s=2&t=1&l=2023&ct=615&ci=287&pn=12\\n5269989.0,115.0,5.5,flat,\"Chemin Simplemont 10, 1005 Lausanne, VD\",Bel appartement spacieux et calme dans quartier exclusif de Mousquines,3570.0,,/en/d/flat-rent-lausanne/5269989?s=2&t=1&l=2023&ct=615&ci=288&pn=12\\n5064229.0,162.0,4.0,flat,\"Avenue de la Gare 2, 1003 Lausanne, VD\",A deux pas de la gare,3600.0,,/en/d/flat-rent-lausanne/5064229?s=2&t=1&l=2023&ct=615&ci=289&pn=13\\n5208117.0,143.0,5.0,flat,\"Rue de la Tour 5, 1004 Lausanne, VD\",Superbe appartement \\xc3\\xa0 louer au coeur de la ville de Lausanne,3630.0,Virtual tour,/en/d/flat-rent-lausanne/5208117?s=2&t=1&l=2023&ct=615&ci=290&pn=13\\n5211215.0,134.0,4.0,flat,\"Chemin de Montolivet 35, 1006 Lausanne, VD\",Bel appartement enti\\xc3\\xa8rement r\\xc3\\xa9nov\\xc3\\xa9 de 4 pi\\xc3\\xa8ces proche du lac !,3650.0,,/en/d/flat-rent-lausanne/5211215?s=2&t=1&l=2023&ct=615&ci=291&pn=13\\n5272074.0,150.0,4.5,flat,\"Chemin du Village 29, 1012 Lausanne, VD\",Appartement de charme de 4.5P \\xc3\\xa0 Chailly de 150 m2 avec terrasse et vue,3650.0,,/en/d/flat-rent-lausanne/5272074?s=2&t=1&l=2023&ct=615&ci=292&pn=13\\n5265726.0,77.0,3.5,flat,\"Avenue de l\\'Elys\\xc3\\xa9e 23, 1006 Lausanne, VD\",Magnifique appartement de 3.5 pi\\xc3\\xa8ces d\\'environ 77m2 au 3e \\xc3\\xa9tage.,3685.0,,/en/d/flat-rent-lausanne/5265726?s=2&t=1&l=2023&ct=615&ci=293&pn=13\\n5049370.0,126.0,4.5,flat,\"Rue de l\\'Aurore 3, 1005 Lausanne, VD\",Magnifique appartement de 4.5 au centre ville,3700.0,,/en/d/flat-rent-lausanne/5049370?s=2&t=1&l=2023&ct=615&ci=294&pn=13\\n5168612.0,100.0,4.5,flat,\"Avenue de Jomini 5, 1004 Lausanne, VD\",Appartement moderne avec vue sur le lac,3700.0,,/en/d/flat-rent-lausanne/5168612?s=2&t=1&l=2023&ct=615&ci=295&pn=13\\n5230056.0,100.0,3.5,flat,\"Juste Olivier 14, 1006 Lausanne, VD\",Bel appartement sis au centre de Lausanne,3700.0,,/en/d/flat-rent-lausanne/5230056?s=2&t=1&l=2023&ct=615&ci=296&pn=13\\n5194724.0,114.0,4.5,flat,\"Rue des Terreaux 4, 1003 Lausanne, VD\",Splendide 4.5 pi\\xc3\\xa8ces au centre-ville,3740.0,,/en/d/flat-rent-lausanne/5194724?s=2&t=1&l=2023&ct=615&ci=297&pn=13\\n5229267.0,120.0,4.0,flat,\"Avenu de Morges 11b, 1004 Lausanne, VD\",Une maison sur le toit - Appartement en attique au centre ville,3800.0,,/en/d/flat-rent-lausanne/5229267?s=2&t=1&l=2023&ct=615&ci=298&pn=13\\n4889202.0,110.0,4.5,flat,\"Mauborget 4, 1003 Lausanne, VD\",Superbe 4.5 pi\\xc3\\xa8ces au coeur de Lausanne,3870.0,,/en/d/flat-rent-lausanne/4889202?s=2&t=1&l=2023&ct=615&ci=299&pn=13\\n5242830.0,130.0,4.0,flat,\"Chemin de Montolivet 35, 1006 Lausanne, VD\",,3950.0,,/en/d/flat-rent-lausanne/5242830?s=2&t=1&l=2023&ct=615&ci=300&pn=13\\n5068817.0,95.0,3.5,flat,\"Chemin de Bellerive 3bis, 1007 Lausanne, VD\",OUCHY ! Superbe 3.5 pi\\xc3\\xa8ces meubl\\xc3\\xa9 avec grande terrasse,4050.0,,/en/d/flat-rent-lausanne/5068817?s=2&t=1&l=2023&ct=615&ci=301&pn=13\\n5247748.0,136.0,3.5,flat,\"Quartier de la Violette 6, 1018 Lausanne, VD\",,4050.0,,/en/d/flat-rent-lausanne/5247748?s=2&t=1&l=2023&ct=615&ci=302&pn=13\\n5285027.0,162.0,5.0,flat,\"Avenue du L\\xc3\\xa9man 30, 1005 Lausanne, VD\",Splendide logement avec une vue \\xc3\\xa9poustouflante,4320.0,,/en/d/flat-rent-lausanne/5285027?s=2&t=1&l=2023&ct=615&ci=303&pn=13\\n5204786.0,135.0,4.5,attic-flat,\"Avenue de Rumine 53, 1005 Lausanne, VD\",Une vue \\xc3\\xa0 couper le souffle sur le lac L\\xc3\\xa9man,4350.0,,/en/d/attic-flat-rent-lausanne/5204786?s=2&t=1&l=2023&ct=615&ci=304&pn=13\\n4893934.0,174.0,5.5,flat,\"Place de la Riponne 4, 1005 Lausanne, VD\",Magnifique appartement en duplex au centre de Lausanne,4385.0,Virtual tour,/en/d/flat-rent-lausanne/4893934?s=2&t=1&l=2023&ct=615&ci=305&pn=13\\n5208171.0,150.0,5.5,furnished-residential-property,\"Chemin de Haute-Brise 7B, 1012 Lausanne, VD\",Magnifique duplex de 5.5 pi\\xc3\\xa8ces meubl\\xc3\\xa9 !,4526.0,,/en/d/furnished-residential-property-rent-lausanne/5208171?s=2&t=1&l=2023&ct=615&ci=306&pn=13\\n5256345.0,180.0,5.0,duplex-maisonette,\"1000 Lausanne, VD\",\"Magnifique 5,5p Duplex // 4 chambres // 2 SDB // vue lac\",4580.0,,/en/d/duplex-maisonette-rent-lausanne/5256345?s=2&t=1&l=2023&ct=615&ci=307&pn=13\\n5141480.0,150.0,5.5,penthouse,\"Avenue de Montchoisi 14, 1006 Lausanne, VD\",5.5 pi\\xc3\\xa8ces enti\\xc3\\xa8rement r\\xc3\\xa9nov\\xc3\\xa9 dans vieil immeuble !,4678.0,,/en/d/penthouse-rent-lausanne/5141480?s=2&t=1&l=2023&ct=615&ci=308&pn=13\\n5261630.0,160.0,4.5,flat,\"1005 Lausanne, VD\",\"Magnifique appartement de 4,5 pces sous gare, vue lac\",4800.0,,/en/d/flat-rent-lausanne/5261630?s=2&t=1&l=2023&ct=615&ci=309&pn=13\\n4675879.0,136.0,4.0,flat,\"Avenue Eug\\xc3\\xa8ne Rambert 30, 1005 Lausanne, VD\",Vivez entre ciel et lac,4840.0,,/en/d/flat-rent-lausanne/4675879?s=2&t=1&l=2023&ct=615&ci=310&pn=13\\n4393228.0,106.0,3.5,flat,\"Chemin des Mouettes 22, 1007 Lausanne, VD\",1007 Lausanne - Chemin des Mouettes 22 - Appartement de standing meubl\\xc3\\xa9,4900.0,,/en/d/flat-rent-lausanne/4393228?s=2&t=1&l=2023&ct=615&ci=311&pn=13\\n5132888.0,158.0,5.0,flat,\"1005 Lausanne, VD\",Appartement de standing / 5 pi\\xc3\\xa8ces / Ascenseur privatif / Belle vue,5400.0,,/en/d/flat-rent-lausanne/5132888?s=2&t=1&l=2023&ct=615&ci=312&pn=13\\n5269048.0,220.0,8.5,flat,\"Avenue de Rumine 45, 1005 Lausanne, VD\",Magnifique appartement de 8.5 pi\\xc3\\xa8ces,6010.0,,/en/d/flat-rent-lausanne/5269048?s=2&t=1&l=2023&ct=615&ci=313&pn=14\\n4817672.0,232.0,8.5,flat,\"Bld de Grancy 5, 1006 Lausanne, VD\",Splendide appartement de 8.5 pi\\xc3\\xa8ces avec beaucoup de cachet sous gare,6800.0,,/en/d/flat-rent-lausanne/4817672?s=2&t=1&l=2023&ct=615&ci=314&pn=14\\n5232986.0,262.0,8.5,duplex-maisonette,\"\"\"-\"\", 1005 Lausanne, VD\",\"Classieux attique avec cachet , terrasse et vue lac\",7400.0,,/en/d/duplex-maisonette-rent-lausanne/5232986?s=2&t=1&l=2023&ct=615&ci=315&pn=14\\n4984514.0,423.0,11.0,flat,\"Chemin de Praz-Buchilly 103, 1000 Lausanne, VD\",En bordure de Golf - Luxueux attique avec terrasse,8900.0,,/en/d/flat-rent-lausanne/4984514?s=2&t=1&l=2023&ct=615&ci=316&pn=14\\n5225916.0,540.0,11.0,flat,\"1000 Lausanne, VD\",Duplex d\\'exception dans les hauteurs de Lausanne !,8900.0,,/en/d/flat-rent-lausanne/5225916?s=2&t=1&l=2023&ct=615&ci=317&pn=14\\n5088151.0,52.0,2.0,loft,\"Chemin des Allinges 4, 1006 Lausanne, VD\",Vous cherchez un habitat qui vous ressemble ?,,,/en/d/loft-rent-lausanne/5088151?s=2&t=1&l=2023&ct=615&ci=318&pn=14\\n5117424.0,1.0,2.0,flat,\"Chemin des Allinges 4, 1006 Lausanne, VDClose### Price on requestFavourite## \\xc2\\xabMise en location de votre bien pour 300 francs\\xc2\\xbb1003 Lausanne, VDClose### CHF 1.\\xe2\\x80\\x94Favourite## \\xc2\\xabBelle chambre sur Lausanne, dur\\xc3\\xa9e location \\xc3\\xa0 convenir\\xc2\\xbb1018 Lausanne, VD\",\"Harmonieux 2 pi\\xc3\\xa8ces r\\xc3\\xa9nov\\xc3\\xa9 proche Mus\\xc3\\xa9e OlympiqueMise en location de votre bien pour 300 francsBelle chambre sur Lausanne, dur\\xc3\\xa9e location \\xc3\\xa0 convenir\",300.0,\"## \\xc2\\xabMise en location de votre bien pour 300 francs\\xc2\\xbb## \\xc2\\xabBelle chambre sur Lausanne, dur\\xc3\\xa9e location \\xc3\\xa0 convenir\\xc2\\xbb\",/en/d/flat-rent-lausanne/5117424?s=2&t=1&l=2023&ct=615&ci=319&pn=14\\n5285252.0,80.0,4.5,flat,\"1007 Lausanne, VD\",Sous location no\\xc3\\xabl et ou nouvel an,400.0,,/en/d/flat-rent-lausanne/5285252?s=2&t=1&l=2023&ct=615&ci=322&pn=14\\n5254423.0,50.0,2.0,flat,\"1004 Lausanne, VDClose### CHF 500.\\xe2\\x80\\x94Favourite## \\xc2\\xabA louer chambre \\xc3\\xa0 c\\xc3\\xb4t\\xc3\\xa9 du CHUV pour le mois de janvier\\xc2\\xbbLausanne, 1005 Lausanne, VD\",2 piece in Lausanne until 11th JanuaryA louer chambre \\xc3\\xa0 c\\xc3\\xb4t\\xc3\\xa9 du CHUV pour le mois de janvier,500.0,## \\xc2\\xabA louer chambre \\xc3\\xa0 c\\xc3\\xb4t\\xc3\\xa9 du CHUV pour le mois de janvier\\xc2\\xbb,/en/d/flat-rent-lausanne/5254423?s=2&t=1&l=2023&ct=615&ci=323&pn=14\\n5284570.0,50.0,,flat,\"Chemin de Longeraie 9, 1006 Lausanne, VDClose### CHF 500.\\xe2\\x80\\x94Favourite## \\xc2\\xabJolie chambre proche centre Lausanne\\xc2\\xbb1018 Lausanne, VD\",Appartement meubl\\xc3\\xa9 en plein LausanneJolie chambre proche centre Lausanne,500.0,## \\xc2\\xabJolie chambre proche centre Lausanne\\xc2\\xbb,/en/d/flat-rent-lausanne/5284570?s=2&t=1&l=2023&ct=615&ci=325&pn=14\\n4558192.0,12.0,,single-room,\"Chailly, 1012 Lausanne, VD\",Urgent a lou\\xc3\\xa9 chambre a chailly,600.0,,/en/d/single-room-rent-lausanne/4558192?s=2&t=1&l=2023&ct=615&ci=327&pn=14\\n5252711.0,,2.0,flat,\"1004 Lausanne, VD\",Appartement \\xc3\\xa0 louer,600.0,,/en/d/flat-rent-lausanne/5252711?s=2&t=1&l=2023&ct=615&ci=328&pn=14\\n5279039.0,,1.5,single-room,\"Avenue de Rhodanie 64A, 1007 Lausanne, VD\",Chambre indivuduelle sous-location,600.0,,/en/d/single-room-rent-lausanne/5279039?s=2&t=1&l=2023&ct=615&ci=329&pn=14\\n5283081.0,,,single-room,\"1007 Lausanne, 1007 Lausanne, VD\",Je loue une chambre meubl\\xc3\\xa9 a lausanne,600.0,,/en/d/single-room-rent-lausanne/5283081?s=2&t=1&l=2023&ct=615&ci=330&pn=14\\n5283116.0,,,single-room,\"avenue Druey coll\\xc3\\xa8ge, 1006 Lausanne, VD\",Colocation,600.0,,/en/d/single-room-rent-lausanne/5283116?s=2&t=1&l=2023&ct=615&ci=331&pn=14\\n5238379.0,12.0,,single-room,\"Avenue Marc-Dufour, 1007 Lausanne, VD\",Chambre / Sous location,640.0,,/en/d/single-room-rent-lausanne/5238379?s=2&t=1&l=2023&ct=615&ci=332&pn=14\\n4921996.0,,,single-room,\"1010 Lausanne, VD\",Chambre confortable \\xc3\\xa0 Lausanne d\\xc3\\xa9s f\\xc3\\xa9vrier,650.0,New,/en/d/single-room-rent-lausanne/4921996?s=2&t=1&l=2023&ct=615&ci=333&pn=14\\n5272391.0,25.0,,single-room,\"1018 Lausanne, VDClose### CHF 650.\\xe2\\x80\\x94Favourite## \\xc2\\xabAppartement 3 pi\\xc3\\xa8ces avec jardin \\xc3\\xa0 Lausanne\\xc2\\xbb1006 Lausanne, VD\",CollocationsAppartement 3 pi\\xc3\\xa8ces avec jardin \\xc3\\xa0 Lausanne,650.0,## \\xc2\\xabAppartement 3 pi\\xc3\\xa8ces avec jardin \\xc3\\xa0 Lausanne\\xc2\\xbb,/en/d/single-room-rent-lausanne/5272391?s=2&t=1&l=2023&ct=615&ci=334&pn=14\\n5285874.0,,,single-room,\"Collonges 55, 1004 Lausanne, VD\",Chambre meubl\\xc3\\xa9e,650.0,New,/en/d/single-room-rent-lausanne/5285874?s=2&t=1&l=2023&ct=615&ci=336&pn=14\\n5285309.0,,,single-room,\"chemin de vanil, 1006 Lausanne, VD\",Chambre \\xc3\\xa0 louer au coeur de Lausanne,690.0,,/en/d/single-room-rent-lausanne/5285309?s=2&t=1&l=2023&ct=615&ci=338&pn=15\\n5175721.0,70.0,3.0,single-room,\"Village 8, 1012 Lausanne, VD\",Chambre \\xc3\\xa0 louer dans 3 pcs \\xc3\\xa0 Lausanne 12 min du centre ville,700.0,,/en/d/single-room-rent-lausanne/5175721?s=2&t=1&l=2023&ct=615&ci=339&pn=15\\n5283155.0,12.0,,single-room,\"1005 Lausanne, VD\",Furnished room in Lausanne,700.0,,/en/d/single-room-rent-lausanne/5283155?s=2&t=1&l=2023&ct=615&ci=340&pn=15\\n5269088.0,15.0,,studio,\"1003 Lausanne, VD\",Reprise de bail - studio,715.0,,/en/d/studio-rent-lausanne/5269088?s=2&t=1&l=2023&ct=615&ci=341&pn=15\\n4987751.0,16.0,,single-room,\"1004 Lausanne, VD\",Chambre meuble pour etudiant,750.0,,/en/d/single-room-rent-lausanne/4987751?s=2&t=1&l=2023&ct=615&ci=342&pn=15\\n5279009.0,14.0,,single-room,\"Rue de l\\'Industrie, 1005 Lausanne, VD\",Colocation \\xc3\\xa0 deux pas du CHUV et du centre-ville,750.0,,/en/d/single-room-rent-lausanne/5279009?s=2&t=1&l=2023&ct=615&ci=343&pn=15\\n5281505.0,15.0,,single-room,\"1006 Lausanne, VD\",Studio Ouchy 15m2,750.0,,/en/d/single-room-rent-lausanne/5281505?s=2&t=1&l=2023&ct=615&ci=344&pn=15\\n5285719.0,12.0,2.5,single-room,\"rue de la pontaise, 1018 Lausanne, VD\",Chambre pour 4 janvier colocation,750.0,New,/en/d/single-room-rent-lausanne/5285719?s=2&t=1&l=2023&ct=615&ci=345&pn=15\\n5283201.0,70.0,3.5,single-room,\"Trabandan, 1006 Lausanne, VD\",\"Lausanne, jolie chambre \\xc3\\xa0 louer dans appart 3.5\",770.0,,/en/d/single-room-rent-lausanne/5283201?s=2&t=1&l=2023&ct=615&ci=346&pn=15\\n5287416.0,39.0,1.5,flat,\"Rue du Maupas 81, 1004 Lausanne, VD\",\"1,5 Pi\\xc3\\xa8ce, Centre ville de Lausanne 15.2.19\",770.0,New,/en/d/flat-rent-lausanne/5287416?s=2&t=1&l=2023&ct=615&ci=347&pn=15\\n5278989.0,,2.5,single-room,\"Chemin du Boisy, 1004 Lausanne, VD\",Chambre dans une colocation \\xc3\\xa0 deux,775.0,,/en/d/single-room-rent-lausanne/5278989?s=2&t=1&l=2023&ct=615&ci=348&pn=15\\n5284539.0,,2.0,flat,\"1004 Lausanne, VD\",Une chambre en Sous-locations Ou Location \\xc3\\xa0 Lausanne,775.0,,/en/d/flat-rent-lausanne/5284539?s=2&t=1&l=2023&ct=615&ci=349&pn=15\\n4800688.0,25.0,,single-room,\"Avenue Morges 37, 1004 Lausanne, VD\",Chambre Chauderon meubl\\xc3\\xa9 au centre-ville Lausanne,780.0,,/en/d/single-room-rent-lausanne/4800688?s=2&t=1&l=2023&ct=615&ci=350&pn=15\\n5269118.0,,5.0,single-room,\"Avenue de la Vallonnette 24, 1012 Lausanne, VD\",Chambre en colocation,780.0,,/en/d/single-room-rent-lausanne/5269118?s=2&t=1&l=2023&ct=615&ci=351&pn=15\\n5269223.0,60.0,3.0,single-room,\"1010 Lausanne, VD\",\"Chambre dans appartement entre le Chuv, la Sallaz et Chailly\",790.0,,/en/d/single-room-rent-lausanne/5269223?s=2&t=1&l=2023&ct=615&ci=352&pn=15\\n4798941.0,25.0,,single-room,\"Chemin de la cassinnette 3, 1018 Lausanne, VD\",Chambre \\xc3\\xa0 louer,800.0,,/en/d/single-room-rent-lausanne/4798941?s=2&t=1&l=2023&ct=615&ci=353&pn=15\\n4987213.0,100.0,5.0,single-room,\"1007 Lausanne, VDClose### CHF 800.\\xe2\\x80\\x94Favourite## \\xc2\\xabChambre meubl\\xc3\\xa9e \\xc3\\xa0 louer\\xc2\\xbbAvenue du Grey, 1004 Lausanne, VDClose### CHF 800.\\xe2\\x80\\x94FavouriteNew## \\xc2\\xabChambre \\xc3\\xa0 louer Centre Ville Lausanne\\xc2\\xbbRue du Tunnel 11, 1005 Lausanne, VD\",Chambre meubl\\xc3\\xa9e \\xc3\\xa0 louer proche EPFL et UNIlChambre meubl\\xc3\\xa9e \\xc3\\xa0 louerChambre \\xc3\\xa0 louer Centre Ville Lausanne,800.0,## \\xc2\\xabChambre meubl\\xc3\\xa9e \\xc3\\xa0 louer\\xc2\\xbbNew,/en/d/single-room-rent-lausanne/4987213?s=2&t=1&l=2023&ct=615&ci=354&pn=15\\n5270855.0,50.0,2.0,flat,\"1006 Lausanne, VD\",Sous-location appartement 22.12.2018 au 4.01.2019,800.0,,/en/d/flat-rent-lausanne/5270855?s=2&t=1&l=2023&ct=615&ci=357&pn=15\\n5272411.0,125.0,5.0,single-room,\"1010 Lausanne, VD\",Collocation Lausanne,800.0,,/en/d/single-room-rent-lausanne/5272411?s=2&t=1&l=2023&ct=615&ci=358&pn=15\\n5281509.0,20.0,,single-room,\"1004 Lausanne, VD\",Chambre meubl\\xc3\\xa9e \\xc3\\xa0 louer,800.0,,/en/d/single-room-rent-lausanne/5281509?s=2&t=1&l=2023&ct=615&ci=359&pn=15\\n5267333.0,14.0,5.5,single-room,\"Chemin du champ-rond 25, 1010 Lausanne, VD\",\"Chambre en sous-location Janvier-F\\xc3\\xa9vrier 2019, Lausanne\",805.0,,/en/d/single-room-rent-lausanne/5267333?s=2&t=1&l=2023&ct=615&ci=360&pn=15\\n3641118.0,,,flat,\"1004 Lausanne, VDClose### CHF 850.\\xe2\\x80\\x94Favourite## \\xc2\\xabCabinet th\\xc3\\xa9rapeutique-Lausanne centre,\\xc2\\xbbRue Mauborget 1, 1003 Lausanne, VDClose### CHF 850.\\xe2\\x80\\x94Favourite## \\xc2\\xab2 Chambres en colocation\\xc2\\xbb1007 Lausanne, VD\",\"Grd chambre meubl\\xc3\\xa9e spacieuse pour personne tr\\xc3\\xa9s s\\xc3\\xa9rieuseCabinet th\\xc3\\xa9rapeutique-Lausanne centre,2 Chambres en colocation\",850.0,\"## \\xc2\\xabCabinet th\\xc3\\xa9rapeutique-Lausanne centre,\\xc2\\xbb## \\xc2\\xab2 Chambres en colocation\\xc2\\xbb\",/en/d/flat-rent-lausanne/3641118?s=2&t=1&l=2023&ct=615&ci=361&pn=16\\n5280276.0,30.0,,studio,\"Ch du Furet, 4, 1018 Lausanne, VD\",Appartement 1 pi\\xc3\\xa8ce \\xc3\\xa0 louer \\xc3\\xa0 lausanne 01.02.2019 - 850CHF,850.0,,/en/d/studio-rent-lausanne/5280276?s=2&t=1&l=2023&ct=615&ci=364&pn=16\\n5285850.0,35.0,,flat,\"Rue Saint Martin 34, 1005 Lausanne, VD\",Appartement 1 pi\\xc3\\xa8ce - Centre ville de Lausanne,875.0,New,/en/d/flat-rent-lausanne/5285850?s=2&t=1&l=2023&ct=615&ci=365&pn=16\\n5267358.0,,4.5,duplex-maisonette,\"avenue de France 22, 1004 Lausanne, VD\",Chambre \\xc3\\xa0 louer a Lausanne,877.0,,/en/d/duplex-maisonette-rent-lausanne/5267358?s=2&t=1&l=2023&ct=615&ci=366&pn=16\\n5077363.0,15.0,,single-room,\"Cour, 1007 Lausanne, VD\",Lausanne SUD Au 1 F\\xc3\\x89VRIER 2019,890.0,,/en/d/single-room-rent-lausanne/5077363?s=2&t=1&l=2023&ct=615&ci=367&pn=16\\n5003401.0,16.0,,single-room,\"1004 Lausanne, VD\",Chambre \\xc3\\xa0 louer (appart en colocation) Bus 2. Le D\\xc3\\xa9sert,900.0,,/en/d/single-room-rent-appart en colocation) Bus 2. Le D\\xc3\\xa9sert\\xc2\\xbblausanne/5003401?s=2&t=1&l=2023&ct=615&ci=368&pn=16## \\xc2\\xabChambre \\xc3\\xa0 louer (appart en colocation\\n5187951.0,90.0,,single-room,\"Rte de la Clochatte 10A, 1018 Lausanne, VD\",Chambre \\xc3\\xa0 louer,900.0,,/en/d/single-room-rent-lausanne/5187951?s=2&t=1&l=2023&ct=615&ci=369&pn=16\\n5273920.0,10.0,,single-room,\"Av. Echallens 59, 1004 Lausanne, VD\",Chambre meubl\\xc3\\xa9e & lumineuse \\xc3\\xa0 Lausanne,900.0,,/en/d/single-room-rent-lausanne/5273920?s=2&t=1&l=2023&ct=615&ci=370&pn=16\\n5283140.0,120.0,4.5,single-room,\"1007 Lausanne, VD\",Colocation appartement centre ville,900.0,,/en/d/single-room-rent-lausanne/5283140?s=2&t=1&l=2023&ct=615&ci=371&pn=16\\n5270928.0,30.0,,studio,\"Chemin des Aub\\xc3\\xa9pines 8, 1004 Lausanne, VD\",Joli studio au centre de Lausanne,904.0,,/en/d/studio-rent-lausanne/5270928?s=2&t=1&l=2023&ct=615&ci=372&pn=16\\n5280274.0,,,flat,\"av de Collonge 11, 1004 Lausanne, VD\",\\xc3\\x80 Louer \\xc3\\xa0 lausanne,920.0,,/en/d/flat-rent-lausanne/5280274?s=2&t=1&l=2023&ct=615&ci=373&pn=16\\n5280477.0,30.0,,flat,\"Avenue Saint-Paul 11, 1004 Lausanne, VD\",Appartement 1 pi\\xc3\\xa8ce \\xc3\\xa0 louer \\xc3\\xa0 Lausanne 15.01.2019,940.0,,/en/d/flat-rent-lausanne/5280477?s=2&t=1&l=2023&ct=615&ci=374&pn=16\\n5267444.0,15.0,,studio,\"Chemin de longeraie, 2, 1006 Lausanne, VD\",Studio pr\\xc3\\xa8s gare & centre/studio near station & town/1006,950.0,,/en/d/studio-rent-lausanne/5267444?s=2&t=1&l=2023&ct=615&ci=375&pn=16\\n5272558.0,25.0,,single-room,\"1003 Lausanne, VD\",Chambre \\xc3\\xa0 5 min de la gare de Lausanne,950.0,,/en/d/single-room-rent-lausanne/5272558?s=2&t=1&l=2023&ct=615&ci=376&pn=16\\n5285818.0,25.0,,flat,\"Avenue de Collonges,5, 1004 Lausanne, VD\",Jolie studio au centre ville disponible d\\xc3\\xa8s maintenant,950.0,New,/en/d/flat-rent-lausanne/5285818?s=2&t=1&l=2023&ct=615&ci=377&pn=16\\n5287335.0,12.0,,single-room,\"1004 Lausanne, VD\",Chambre \\xc3\\xa0 louer \\xc3\\xa0 Lausanne,950.0,New,/en/d/single-room-rent-lausanne/5287335?s=2&t=1&l=2023&ct=615&ci=378&pn=16\\n5262916.0,79.0,3.5,flat,\"Borde 20B, 1018 Lausanne, VD\",\"Appartement 3.5 pi\\xc3\\xa8ces, subventionn\\xc3\\xa9\",951.0,,/en/d/flat-rent-lausanne/5262916?s=2&t=1&l=2023&ct=615&ci=379&pn=16\\n5273957.0,39.0,,studio,\"av. victor ruffy 37, 1012 Lausanne, VD\",Proche du CHUV,970.0,,/en/d/studio-rent-lausanne/5273957?s=2&t=1&l=2023&ct=615&ci=380&pn=16\\n5262930.0,25.0,,flat,\"Avenue De La Sallaz 64, 1010 Lausanne, VD\",Appartement \\xc3\\xa0 louer 1 pi\\xc3\\xa8ce,980.0,,/en/d/flat-rent-lausanne/5262930?s=2&t=1&l=2023&ct=615&ci=381&pn=16\\n5281588.0,40.0,,flat,\"Chemin Du Vanil 14, 1006 Lausanne, VD\",Une pi\\xc3\\xa8ce pour le 15 janvier Lausanne,990.0,,/en/d/flat-rent-lausanne/5281588?s=2&t=1&l=2023&ct=615&ci=382&pn=16\\n5281653.0,30.0,,single-room,\"Montchoisi 39, 1006 Lausanne, VD\",Chambre meubl\\xc3\\xa9 \\xc3\\xa0 louer,990.0,,/en/d/single-room-rent-lausanne/5281653?s=2&t=1&l=2023&ct=615&ci=383&pn=16\\n5281663.0,,,single-room,\"1004 Lausanne, VD\",Chambre meubl\\xc3\\xa9e \\xc3\\xa0 louer,990.0,,/en/d/single-room-rent-lausanne/5281663?s=2&t=1&l=2023&ct=615&ci=384&pn=16\\n5205740.0,,2.0,flat,\"1018 Lausanne, VD\",Appartements 2 pieces sous location pour 3 mois voir 6,1000.0,,/en/d/flat-rent-lausanne/5205740?s=2&t=1&l=2023&ct=615&ci=385&pn=17\\n5272390.0,70.0,2.5,flat,\"1003 Lausanne, VD\",Un appartement \\xc3\\xa0 louer,1000.0,,/en/d/flat-rent-lausanne/5272390?s=2&t=1&l=2023&ct=615&ci=386&pn=17\\n5280309.0,85.0,3.5,single-room,\"1004 Lausanne, VD\",Chambre Pont Chaudron,1000.0,,/en/d/single-room-rent-lausanne/5280309?s=2&t=1&l=2023&ct=615&ci=387&pn=17\\n5282995.0,38.0,1.5,studio,\"av de Valmont 14, 1010 Lausanne, VD\",Studio \\xc3\\xa0 sous louer pour 3 mois,1000.0,,/en/d/studio-rent-lausanne/5282995?s=2&t=1&l=2023&ct=615&ci=388&pn=17\\n5285178.0,130.0,5.0,flat,\"Avenue Dapples 7, 1003 Lausanne, VD\",Chambre en colocation quartier sous gare (Grancy),1000.0,,/en/d/flat-rent-Grancy)\\xc2\\xbblausanne/5285178?s=2&t=1&l=2023&ct=615&ci=389&pn=17## \\xc2\\xabChambre en colocation quartier sous gare (Grancy\\n5285778.0,18.0,,studio,\"Chemin de Longeraie 2, 1006 Lausanne, VD\",Un appartement confortable \\xc3\\xa0 Lausanne,1000.0,New,/en/d/studio-rent-lausanne/5285778?s=2&t=1&l=2023&ct=615&ci=390&pn=17\\n5182867.0,35.0,,studio,\"Chemin du R\\xc3\\xa9servoir 1, 1012 Lausanne, VD\",Studio \\xc3\\xa0 Louer au plus vite,1010.0,,/en/d/studio-rent-lausanne/5182867?s=2&t=1&l=2023&ct=615&ci=391&pn=17\\n5205657.0,35.0,,studio,\"1012 Lausanne, VD\",Studio \\xc3\\xa0 Lausanne,1010.0,,/en/d/studio-rent-lausanne/5205657?s=2&t=1&l=2023&ct=615&ci=392&pn=17\\n5261448.0,100.0,4.5,single-room,\"Route de la Feuill\\xc3\\xa8re 21, 1010 Lausanne, VD\",\"Chambre dans Colocation - Lausanne - 4,5 pcs - La Sallaz\",1010.0,,/en/d/single-room-rent-lausanne/5261448?s=2&t=1&l=2023&ct=615&ci=393&pn=17\\n5274129.0,100.0,,single-room,\"Chemin de Mornex, 1003 Lausanne, VD\",Chambre en collocation (Lausanne),1025.0,,/en/d/single-room-rent-Lausanne)\\xc2\\xbblausanne/5274129?s=2&t=1&l=2023&ct=615&ci=394&pn=17## \\xc2\\xabChambre en collocation (Lausanne\\n5287496.0,32.0,1.5,studio,\"Chemin des Cottages 2, 1007 Lausanne, VD\",Appartement pr\\xc3\\xa8s du m\\xc3\\xa9tro Montelly,1050.0,New,/en/d/studio-rent-lausanne/5287496?s=2&t=1&l=2023&ct=615&ci=395&pn=17\\n5267265.0,25.0,,studio,\"Beaumont, 1012 Lausanne, VD\",Studio meubl\\xc3\\xa9 \\xc3\\xa0 louer lausanne,1070.0,,/en/d/studio-rent-lausanne/5267265?s=2&t=1&l=2023&ct=615&ci=396&pn=17\\n5283105.0,41.0,,studio,\"chemin du levant 145, 1005 Lausanne, VD\",\"Charmant et spacieux Studio 41m2, quartier calme \\xc3\\xa0 Lausanne\",1090.0,,/en/d/studio-rent-lausanne/5283105?s=2&t=1&l=2023&ct=615&ci=397&pn=17\\n5245001.0,25.0,,studio,\"1012 Lausanne, VD\",Studio meubl\\xc3\\xa9,1100.0,,/en/d/studio-rent-lausanne/5245001?s=2&t=1&l=2023&ct=615&ci=398&pn=17\\n5254446.0,25.0,,studio,\"Ch. des Lilas 11, 1012 Lausanne, VD\",Studio meubl\\xc3\\xa9 \\xc3\\xa0 louer,1100.0,,/en/d/studio-rent-lausanne/5254446?s=2&t=1&l=2023&ct=615&ci=399&pn=17\\n5262791.0,53.0,2.5,flat,\"Chemin de Champ-Soleil, 1012 Lausanne, VD\",Sous-location Lausanne 2.5 pi\\xc3\\xa8ces 6 mois,1100.0,,/en/d/flat-rent-lausanne/5262791?s=2&t=1&l=2023&ct=615&ci=400&pn=17\\n5280277.0,50.0,2.0,flat,\"1003 Lausanne, VD\",Sous location,1100.0,,/en/d/flat-rent-lausanne/5280277?s=2&t=1&l=2023&ct=615&ci=401&pn=17\\n5279010.0,65.0,2.5,flat,\"Rue de l\\'ecole-de-commerce 5, Appt. 23, deuxieme etage, 1004 Lausanne, VD\",Sous-location temporaire,1110.0,,/en/d/flat-rent-lausanne/5279010?s=2&t=1&l=2023&ct=615&ci=402&pn=17\\n5262923.0,23.0,,studio,\"Avenue de France 9, 1007 Lausanne, VD\",\"LAUSANNE CENTRE, Avenue de France 9, studio 23m2 meubl\\xc3\\xa9, mob\",1120.0,,/en/d/studio-rent-lausanne/5262923?s=2&t=1&l=2023&ct=615&ci=403&pn=17\\n5277156.0,43.0,2.0,flat,\"avenue d\\'echallens 128, 1004 Lausanne, VD\",\"Appartement 2,5 pi\\xc3\\xa8ces\",1130.0,,/en/d/flat-rent-lausanne/5277156?s=2&t=1&l=2023&ct=615&ci=404&pn=17\\n5252625.0,25.0,,studio,\"Avenue de Cour 67, 1007 Lausanne, VD\",\"Appartement 1 pi\\xc3\\xa8ce,1 \\xc3\\xa8re \\xc3\\xa9tage, env. 25 m2\",1140.0,,/en/d/studio-rent-lausanne/5252625?s=2&t=1&l=2023&ct=615&ci=405&pn=17\\n4753045.0,25.0,,single-room,\"Ch. du Treyblanc 6, 1006 Lausanne, VD\",Belle chambre \\xc3\\xa0 louer,1150.0,,/en/d/single-room-rent-lausanne/4753045?s=2&t=1&l=2023&ct=615&ci=406&pn=17\\n5235128.0,20.0,1.5,flat,\"Avenue Menthon 16, 1005 Lausanne, VD\",\"Appartement 1,5 pi\\xc3\\xa8ce au pied de la cath\\xc3\\xa9drale\",1150.0,,/en/d/flat-rent-lausanne/5235128?s=2&t=1&l=2023&ct=615&ci=407&pn=17\\n5243165.0,26.0,,flat,\"Av. Chailly 57, 1012 Lausanne, VD\",URGENT - Lausanne Appartement 1 pi\\xc3\\xa8ce (\\xc3\\xa9v. meubl\\xc3\\xa9),1150.0,,/en/d/flat-rent-\\xc3\\xa9v. meubl\\xc3\\xa9)\\xc2\\xbblausanne/5243165?s=2&t=1&l=2023&ct=615&ci=408&pn=17## \\xc2\\xabURGENT - Lausanne Appartement 1 pi\\xc3\\xa8ce (\\xc3\\xa9v. meubl\\xc3\\xa9\\n5275707.0,115.0,4.5,single-room,\"rue des cr\\xc3\\xaates 2A, 1018 Lausanne, VD\",Chambre \\xc3\\xa0 louer dans 4.5p Lausanne,1150.0,,/en/d/single-room-rent-lausanne/5275707?s=2&t=1&l=2023&ct=615&ci=409&pn=18\\n5279081.0,26.0,,studio,\"Avenue de Chailly 15, 1012 Lausanne, VD\",\"Chailly s/Lsne - Grd studio au calme, proche des commodit\\xc3\\xa9s\",1150.0,,/en/d/studio-rent-lausanne/5279081?s=2&t=1&l=2023&ct=615&ci=410&pn=18\\n5233363.0,34.0,1.5,flat,\"Chemin du Calvaire 17, 1005 Lausanne, VD\",Appartement \\xc3\\xa0 deux pas du CHUV!,1155.0,,/en/d/flat-rent-lausanne/5233363?s=2&t=1&l=2023&ct=615&ci=411&pn=18\\n5202508.0,55.0,2.0,flat,\"1004 Lausanne, VD\",Appartement subventionn\\xc3\\xa9 2 pi\\xc3\\xa8ces,1193.0,,/en/d/flat-rent-lausanne/5202508?s=2&t=1&l=2023&ct=615&ci=412&pn=18\\n5238983.0,55.0,,flat,\"Rue du Simplon, 1006 Lausanne, VD\",Appartement \\xc3\\xa0 la gare de Lausanne pour 2 mois,1200.0,,/en/d/flat-rent-lausanne/5238983?s=2&t=1&l=2023&ct=615&ci=413&pn=18\\n5252708.0,25.0,,studio,\"Rosi\\xc3\\xa8re 17, 1012 Lausanne, VD\",Studio meubl\\xc3\\xa9 \\xc3\\xa0 Chailly,1200.0,,/en/d/studio-rent-lausanne/5252708?s=2&t=1&l=2023&ct=615&ci=414&pn=18\\n5257047.0,42.0,,flat,\"beau-val 5, 1012 Lausanne, VD\",\"Appartement magnifique 1,5 pi\\xc3\\xa8ces\",1250.0,,/en/d/flat-rent-lausanne/5257047?s=2&t=1&l=2023&ct=615&ci=415&pn=18\\n5262997.0,51.0,2.0,flat,\"Avenue Druey 6, 1018 Lausanne, VD\",Apparemment \\xc3\\xa0 louer 2 pi\\xc3\\xa8ce,1250.0,,/en/d/flat-rent-lausanne/5262997?s=2&t=1&l=2023&ct=615&ci=416&pn=18\\n5280372.0,65.0,2.0,flat,\"1007 Lausanne, VD\",Sous-location d\\'un appartement 2 pi\\xc3\\xa8ces1/2 \\xc3\\xa0 Lausanne 1 mois,1250.0,,/en/d/flat-rent-lausanne/5280372?s=2&t=1&l=2023&ct=615&ci=417&pn=18\\n5257101.0,55.0,2.0,flat,\"Avenue de Valmont 11, 1010 Lausanne, VD\",Appartement \\xc3\\xa0 louer,1255.0,,/en/d/flat-rent-lausanne/5257101?s=2&t=1&l=2023&ct=615&ci=418&pn=18\\n4987183.0,50.0,2.0,flat,\"Rue des Cr\\xc3\\xaates 12, 1018 Lausanne, VD\",Appartement 2.5 pi\\xc3\\xa8ces \\xc3\\xa0 LAUSANNE,1260.0,,/en/d/flat-rent-lausanne/4987183?s=2&t=1&l=2023&ct=615&ci=419&pn=18\\n5270865.0,42.0,2.0,flat,\"Av. de Morges, 1004 Lausanne, VD\",\"Appartement de 2 pi\\xc3\\xa8ces, au rez-de-chauss\\xc3\\xa9e\",1270.0,,/en/d/flat-rent-lausanne/5270865?s=2&t=1&l=2023&ct=615&ci=420&pn=18\\n5287299.0,62.0,2.0,flat,\"Avenue B\\xc3\\xa9thusy, 1012 Lausanne, VD\",Grand 2 pi\\xc3\\xa8ces 1/2 62m2,1270.0,New,/en/d/flat-rent-lausanne/5287299?s=2&t=1&l=2023&ct=615&ci=421&pn=18\\n5255795.0,110.0,5.5,duplex-maisonette,\"Bethusy, 1005 Lausanne, VD\",Appartement en colocation,1280.0,,/en/d/duplex-maisonette-rent-lausanne/5255795?s=2&t=1&l=2023&ct=615&ci=422&pn=18\\n5269378.0,23.0,,studio,\"Avenue du Mont d\\'Or 51, 1007 Lausanne, VD\",\"Studio meubl\\xc3\\xa9 avec balcon, calme, lumineux, \\xc3\\xa0 5mn du lac\",1280.0,,/en/d/studio-rent-lausanne/5269378?s=2&t=1&l=2023&ct=615&ci=423&pn=18\\n5221767.0,35.0,,studio,\"1005 Lausanne, VD\",Studio Lausanne (reprise de bail),1285.0,,/en/d/studio-rent-reprise de bail)\\xc2\\xbblausanne/5221767?s=2&t=1&l=2023&ct=615&ci=424&pn=18## \\xc2\\xabStudio Lausanne (reprise de bail\\n5280306.0,20.0,,studio,\"Avenue de Chailly 15, 1012 Lausanne, VD\",Studio 1 pi\\xc3\\xa8ce sous location ou reprise de bail Lausanne,1290.0,,/en/d/studio-rent-lausanne/5280306?s=2&t=1&l=2023&ct=615&ci=425&pn=18\\n5149443.0,35.0,,studio,\"Av. d\\'Ouchy 58, 1006 Lausanne, VD\",Urgent - Studio au bord du lac \\xc3\\xa0 Ouchy/Lausanne,1300.0,,/en/d/studio-rent-lausanne/5149443?s=2&t=1&l=2023&ct=615&ci=426&pn=18\\n5255836.0,85.0,,flat,\"Av de Rumine, 1005 Lausanne, VDClose### CHF 1,300.\\xe2\\x80\\x94Favourite## \\xc2\\xabAppartement 2,5 du 1 d\\xc3\\xa9cembre au 14 janviers\\xc2\\xbb1004 Lausanne, VD\",\"Colocation LausanneAppartement 2,5 du 1 d\\xc3\\xa9cembre au 14 janviers\",1300.0,\"## \\xc2\\xabAppartement 2,5 du 1 d\\xc3\\xa9cembre au 14 janviers\\xc2\\xbb\",/en/d/flat-rent-lausanne/5255836?s=2&t=1&l=2023&ct=615&ci=427&pn=18\\n5285787.0,50.0,2.0,flat,\"1007 Lausanne, VD\",Urgent !! Reprise de bail - Appartement 2 pi\\xc3\\xa8ces - 50 m2,1305.0,New,/en/d/flat-rent-lausanne/5285787?s=2&t=1&l=2023&ct=615&ci=429&pn=18\\n5265996.0,40.0,2.0,flat,\"Chemin des Pinsons 13, 1012 Lausanne, VD\",En ville mais dans un calme parfait! 2 pi\\xc3\\xa8ces dans une villa,1330.0,,/en/d/flat-rent-lausanne/5265996?s=2&t=1&l=2023&ct=615&ci=430&pn=18\\n5265945.0,55.0,2.5,flat,\"Victor Ruffy 30, 1012 Lausanne, VD\",Superbe appartement 2.5 pi\\xc3\\xa8ces r\\xc3\\xa9nov\\xc3\\xa9 Bettusy,1331.0,,/en/d/flat-rent-lausanne/5265945?s=2&t=1&l=2023&ct=615&ci=431&pn=18\\n5287441.0,53.0,2.0,flat,\"Avenue du L\\xc3\\xa9man 70, 1005 Lausanne, VD\",\"Appartement 2,5 pieces Lausanne-Perraudettaz\",1345.0,New,/en/d/flat-rent-lausanne/5287441?s=2&t=1&l=2023&ct=615&ci=432&pn=18\\n5255957.0,40.0,2.0,flat,\"1005 Lausanne, VD\",Remise de bail - 2 pces - Lausanne - 15.1.2019,1350.0,,/en/d/flat-rent-lausanne/5255957?s=2&t=1&l=2023&ct=615&ci=433&pn=19\\n5261263.0,95.0,3.5,single-room,\"1018 Lausanne, VD\",Chambre \\xc3\\xa0 louer du 1er janvier au 31 mars 2019,1350.0,,/en/d/single-room-rent-lausanne/5261263?s=2&t=1&l=2023&ct=615&ci=434&pn=19\\n5275629.0,,2.5,flat,\"1007 Lausanne, VD\",\"Sous Location appartement 2,5 p meubl\\xc3\\xa9\",1350.0,,/en/d/flat-rent-lausanne/5275629?s=2&t=1&l=2023&ct=615&ci=435&pn=19\\n5273929.0,55.0,2.5,flat,\"1010 Lausanne, VD\",2.5 pi\\xc3\\xa8ces Lausanne sallaz,1369.0,,/en/d/flat-rent-lausanne/5273929?s=2&t=1&l=2023&ct=615&ci=436&pn=19\\n5182772.0,50.0,2.5,flat,\"Ch de Montmeillan 21, 1005 Lausanne, VD\",\"Appartement 2,5 pi\\xc3\\xa8ces lausanne centre\",1370.0,,/en/d/flat-rent-lausanne/5182772?s=2&t=1&l=2023&ct=615&ci=437&pn=19\\n5258283.0,26.0,1.5,flat,\"Place Chauderon 30, 1003 Lausanne, VD\",Studio \\xc3\\xa0 sous-louer,1375.0,,/en/d/flat-rent-lausanne/5258283?s=2&t=1&l=2023&ct=615&ci=438&pn=19\\n5266081.0,50.0,2.0,flat,\"1004 Lausanne, VD\",Appartement 2 pi\\xc3\\xa8ces 1004 Lausanne,1390.0,,/en/d/flat-rent-lausanne/5266081?s=2&t=1&l=2023&ct=615&ci=439&pn=19\\n5275611.0,,2.5,flat,\"Victor ruffy, 1012 Lausanne, VD\",Appartement \\xc3\\xa0 louer 1012 lausanne,1390.0,,/en/d/flat-rent-lausanne/5275611?s=2&t=1&l=2023&ct=615&ci=440&pn=19\\n5070312.0,62.0,3.0,flat,\"entre bois, 1018 Lausanne, VDClose### CHF 1,400.\\xe2\\x80\\x94Favourite## \\xc2\\xabChambre meubl\\xc3\\xa9e colocation - Furnished room / 2019 Lausanne\\xc2\\xbbChemin de Renens 52, 1004 Lausanne, VD\",Offre reprise de location appartement 3.5 pi\\xc3\\xa8ces LausanneChambre meubl\\xc3\\xa9e colocation - Furnished room / 2019 Lausanne,1400.0,## \\xc2\\xabChambre meubl\\xc3\\xa9e colocation - Furnished room / 2019 Lausanne\\xc2\\xbb,/en/d/flat-rent-lausanne/5070312?s=2&t=1&l=2023&ct=615&ci=441&pn=19\\n5244774.0,53.0,2.0,flat,\"Chemin Isabelle de Montolieu 119, 1004 Lausanne, VD\",URGENT - Appartement 2 pi\\xc3\\xa8ces \\xc3\\xa0 louer,1400.0,,/en/d/flat-rent-lausanne/5244774?s=2&t=1&l=2023&ct=615&ci=443&pn=19\\n5277071.0,,,studio,\"Etraz 12, 1003 Lausanne, VD\",Studio sous location,1400.0,,/en/d/studio-rent-lausanne/5277071?s=2&t=1&l=2023&ct=615&ci=444&pn=19\\n5283041.0,45.0,2.0,flat,\"Chemin de la Foret, 1018 Lausanne, VD\",Urgent! Reprise de bail : Appartement 2 pi\\xc3\\xa8ces - 45m2,1400.0,,/en/d/flat-rent-lausanne/5283041?s=2&t=1&l=2023&ct=615&ci=445&pn=19\\n5214343.0,45.0,2.0,flat,\"Avenue d\\xe2\\x80\\x99Echallens 102, 1004 Lausanne, VD\",Appartement 2 pi\\xc3\\xa8ces 45m2 Lausanne,1410.0,,/en/d/flat-rent-lausanne/5214343?s=2&t=1&l=2023&ct=615&ci=446&pn=19\\n5284464.0,,2.0,flat,\"Rue du Maupas 67, 1004 Lausanne, VD\",Appartement 2 pi\\xc3\\xa8ces,1420.0,,/en/d/flat-rent-lausanne/5284464?s=2&t=1&l=2023&ct=615&ci=447&pn=19\\n5276231.0,40.0,1.5,studio,\"Rue St-Laurent, 1003 Lausanne, VD\",Tr\\xc3\\xa8s beau studio temporaire : plein centre ville Lausanne,1433.0,,/en/d/studio-rent-lausanne/5276231?s=2&t=1&l=2023&ct=615&ci=448&pn=19\\n4725589.0,40.0,2.0,flat,\"1004 Lausanne, VD\",Appartement meubl\\xc3\\xa9 2 pcs \\xc3\\xa0 sous louer d\\xc3\\xa8s le 23 Novembre,1450.0,,/en/d/flat-rent-lausanne/4725589?s=2&t=1&l=2023&ct=615&ci=449&pn=19\\n5239926.0,35.0,1.5,flat,\"Escaliers de Billens, 2, 1003 Lausanne, VD\",Appartement en plein de coeur de Lausanne,1450.0,,/en/d/flat-rent-lausanne/5239926?s=2&t=1&l=2023&ct=615&ci=450&pn=19\\n5255923.0,64.0,3.0,flat,\"Ch du Village, 8, 1012 Lausanne, VD\",Appartement 3 pi\\xc3\\xa8ces et hall \\xc3\\xa0 Lausanne 1300 frs+150 Charge,1450.0,,/en/d/flat-rent-lausanne/5255923?s=2&t=1&l=2023&ct=615&ci=451&pn=19\\n5257652.0,75.0,2.0,flat,\"chemin de la Colline 8, 1007 Lausanne, VD\",Appartement \\xc3\\xa0 louer,1450.0,,/en/d/flat-rent-lausanne/5257652?s=2&t=1&l=2023&ct=615&ci=452&pn=19\\n5277133.0,55.0,2.5,flat,\"Route Aloys-Fauquez 122, 1018 Lausanne, VD\",\"Grand 2,5 pi\\xc3\\xa8ces \\xc3\\xa0 Lausanne\",1450.0,,/en/d/flat-rent-lausanne/5277133?s=2&t=1&l=2023&ct=615&ci=453&pn=19\\n5278880.0,28.0,,studio,\"Montchoisi 53, 1006 Lausanne, VD\",Quartier Montchoisi - Grand studio neuf \\xc3\\xa0 louer avec balcon,1450.0,,/en/d/studio-rent-lausanne/5278880?s=2&t=1&l=2023&ct=615&ci=454&pn=19\\n5280403.0,42.0,2.5,flat,\"1007 Lausanne, VD\",\"Apparemment 2,5 pi\\xc3\\xa8ces lac\",1470.0,,/en/d/flat-rent-lausanne/5280403?s=2&t=1&l=2023&ct=615&ci=455&pn=19\\n5287281.0,50.0,2.5,flat,\"rue de l\\'Ale 30, 1003 Lausanne, VD\",Appartement 2 pi\\xc3\\xa8ces au centre de Lausanne,1480.0,New,/en/d/flat-rent-lausanne/5287281?s=2&t=1&l=2023&ct=615&ci=456&pn=19\\n5261477.0,50.0,2.0,flat,\"1004 Lausanne, VD\",Sous-location 1.5 ans a cote de Valency,1490.0,,/en/d/flat-rent-lausanne/5261477?s=2&t=1&l=2023&ct=615&ci=457&pn=20\\n5257015.0,46.0,2.0,flat,\"1007 Lausanne, VD\",Appartement 2 pi\\xc3\\xa8ces Avenue de Cour \\xc3\\xa0 Sous louer,1500.0,,/en/d/flat-rent-lausanne/5257015?s=2&t=1&l=2023&ct=615&ci=458&pn=20\\n5258404.0,70.0,2.5,flat,\"1004 Lausanne, VD\",Sous-location 2.5 pi\\xc3\\xa8ces \\xc3\\xa0 lausanne meubl\\xc3\\xa9 1 mois,1500.0,,/en/d/flat-rent-lausanne/5258404?s=2&t=1&l=2023&ct=615&ci=459&pn=20\\n5264414.0,55.0,2.0,flat,\"1012 Lausanne, VD\",Sous-location 2 pi\\xc3\\xa8ces meubl\\xc3\\xa9,1500.0,,/en/d/flat-rent-lausanne/5264414?s=2&t=1&l=2023&ct=615&ci=460&pn=20\\n5278872.0,45.0,2.0,flat,\"Ch. de la Vuach\\xc3\\xa8re 15, 1005 Lausanne, VD\",Appartement 2 pi\\xc3\\xa8ces,1500.0,,/en/d/flat-rent-lausanne/5278872?s=2&t=1&l=2023&ct=615&ci=461&pn=20\\n5279085.0,60.0,2.0,flat,\"1003 Lausanne, VD\",Appartement 2 pi\\xc3\\xa8ces centre ville Lausanne,1500.0,,/en/d/flat-rent-lausanne/5279085?s=2&t=1&l=2023&ct=615&ci=462&pn=20\\n5281568.0,44.0,2.5,flat,\"1018 Lausanne, VD\",Meubl\\xc3\\xa9 appartement 2.5p de 1 janvier a Lausanne,1500.0,,/en/d/flat-rent-lausanne/5281568?s=2&t=1&l=2023&ct=615&ci=463&pn=20\\n5281726.0,,3.0,flat,\"Chemin de Champrilly 29, 1004 Lausanne, VD\",Bel appartement 3p avec 2 balcons proche de Malley,1500.0,,/en/d/flat-rent-lausanne/5281726?s=2&t=1&l=2023&ct=615&ci=464&pn=20\\n5275600.0,,2.0,flat,\"escaliers du march\\xc3\\xa9, 1003 Lausanne, VD\",2 pi\\xc3\\xa9ces au coeur de Lausanne,1510.0,,/en/d/flat-rent-lausanne/5275600?s=2&t=1&l=2023&ct=615&ci=465&pn=20\\n5241540.0,53.0,2.0,flat,\"Pichard, 1003 Lausanne, VD\",\"Lausanne-centre, 2,5 pces, Frs. 1530.- c.c.\",1530.0,,/en/d/flat-rent-lausanne/5241540?s=2&t=1&l=2023&ct=615&ci=466&pn=20\\n5272447.0,45.0,3.0,flat,\"Ch. des Lilas 5, 1018 Lausanne, VD\",Charmant appartement de 3 pi\\xc3\\xa8ces \\xc3\\xa0 louer Lausanne,1540.0,,/en/d/flat-rent-lausanne/5272447?s=2&t=1&l=2023&ct=615&ci=467&pn=20\\n5277195.0,55.0,2.5,flat,\"Beaulieu, 1004 Lausanne, VD\",Appartement de 2.5 pi\\xc3\\xa8ces avec balcon quartier Beaulieu,1570.0,,/en/d/flat-rent-lausanne/5277195?s=2&t=1&l=2023&ct=615&ci=468&pn=20\\n5283202.0,52.0,2.0,flat,\"Rue Sainte-Beuve 6, 1005 Lausanne, VD\",Reprise de bail - Spacieux 2 pces en plein coeur de Lausanne,1570.0,,/en/d/flat-rent-lausanne/5283202?s=2&t=1&l=2023&ct=615&ci=469&pn=20\\n5271035.0,23.0,,studio,\"Avenue du Mont d\\'Or 51, 1005 Lausanne, VD\",\"Studio meubl\\xc3\\xa9 avec balcon, calme, lumineux, \\xc3\\xa0 5mn du lac\",1580.0,,/en/d/studio-rent-lausanne/5271035?s=2&t=1&l=2023&ct=615&ci=470&pn=20\\n5280268.0,61.0,2.5,flat,\"28 Chemin du Martinet, 1007 Lausanne, VDClose### CHF 1,580.\\xe2\\x80\\x94Favourite## \\xc2\\xabAppartement 2 1/2 \\xc3\\xa0 sous louer\\xc2\\xbbCh Reposoir 14b, 1007 Lausanne, VD\",\"Vue sur le lac, proche de l\\'EPFL/UNILAppartement 2 1/2 \\xc3\\xa0 sous louer\",1580.0,## \\xc2\\xabAppartement 2 1/2 \\xc3\\xa0 sous louer\\xc2\\xbb,/en/d/flat-rent-lausanne/5280268?s=2&t=1&l=2023&ct=615&ci=471&pn=20\\n5266563.0,90.0,3.5,flat,\"1004 Lausanne, VD\",Appartement 3pi\\xc3\\xa8ces 1/2 Lausanne centre,1600.0,,/en/d/flat-rent-lausanne/5266563?s=2&t=1&l=2023&ct=615&ci=473&pn=20\\n5280391.0,,2.0,stepped-apartment,\"1005 Lausanne, VD\",\"Appartement meubl\\xc3\\xa9 2p, sous-location\",1600.0,,/en/d/stepped-apartment-rent-lausanne/5280391?s=2&t=1&l=2023&ct=615&ci=474&pn=20\\n5285878.0,,2.5,flat,\"Avenue de Montoie 6, 1007 Lausanne, VD\",Joli 2.5 pi\\xc3\\xa8ces proche du centre et du lac,1600.0,New,/en/d/flat-rent-lausanne/5285878?s=2&t=1&l=2023&ct=615&ci=475&pn=20\\n5281657.0,80.0,,flat,\"Chemin d\\'Entre-Bois 53, 1018 Lausanne, VD\",Appartement de 4.5 pi\\xc3\\xa8ces,1620.0,,/en/d/flat-rent-lausanne/5281657?s=2&t=1&l=2023&ct=615&ci=476&pn=20\\n5243140.0,,2.0,flat,\"Chemin de Renens 10, 1004 Lausanne, VD\",Appartement 2 pi\\xc3\\xa8ces \\xc3\\xa0 Lausanne,1650.0,,/en/d/flat-rent-lausanne/5243140?s=2&t=1&l=2023&ct=615&ci=477&pn=20\\n5257054.0,,2.0,flat,\"Chemin du Noirmont, 1004 Lausanne, VD\",Magnifique 2 pi\\xc3\\xa8ces au c\\xc5\\x93ur de Lausanne,1650.0,,/en/d/flat-rent-lausanne/5257054?s=2&t=1&l=2023&ct=615&ci=478&pn=20\\n5274052.0,56.0,2.0,stepped-apartment,\"Chemin de la Tour-grise, 1007 Lausanne, VD\",Appartement 2p avec jardin,1650.0,,/en/d/stepped-apartment-rent-lausanne/5274052?s=2&t=1&l=2023&ct=615&ci=479&pn=20\\n5278951.0,,3.0,flat,\"route du chatelard 12, 1018 Lausanne, VD\",Appartement 3 pi\\xc3\\xa8ces,1650.0,,/en/d/flat-rent-lausanne/5278951?s=2&t=1&l=2023&ct=615&ci=480&pn=20\\n5280254.0,55.0,3.0,flat,\"1004 Lausanne, VD\",\"Location appartement 2.5 pi\\xc3\\xa8ces, Lausanne Mont\\xc3\\xa9tan, 1650 chf\",1650.0,,/en/d/flat-rent-lausanne/5280254?s=2&t=1&l=2023&ct=615&ci=481&pn=21\\n5250949.0,90.0,3.5,flat,\"1018 Lausanne, VD\",Appartement 3.5 pieces,1660.0,,/en/d/flat-rent-lausanne/5250949?s=2&t=1&l=2023&ct=615&ci=482&pn=21\\n5280356.0,54.0,2.0,flat,\"Route de la Feuill\\xc3\\xa8re 17, 1010 Lausanne, VD\",Appartement minergie 2 pi\\xc3\\xa8ces 54 m2 (charges+parc inclus),1660.0,,/en/d/flat-rent-charges+parc inclus)\\xc2\\xbblausanne/5280356?s=2&t=1&l=2023&ct=615&ci=483&pn=21## \\xc2\\xabAppartement minergie 2 pi\\xc3\\xa8ces 54 m2 (charges+parc inclus\\n5282984.0,64.0,,flat,\"chemin du levant 157, 1005 Lausanne, VD\",Appartement de 2 1/2 pieces Lausanne,1660.0,,/en/d/flat-rent-lausanne/5282984?s=2&t=1&l=2023&ct=615&ci=484&pn=21\\n5276142.0,114.0,5.0,flat,\"1010 Lausanne, VD\",Appartement de 5.5 pi\\xc3\\xa8ces,1688.0,,/en/d/flat-rent-lausanne/5276142?s=2&t=1&l=2023&ct=615&ci=485&pn=21\\n5002783.0,65.0,2.0,flat,\"1005 Lausanne, VD\",\"Loue appartement 2,5 pces Lausanne /place de l\\'Ours\",1700.0,,/en/d/flat-rent-lausanne/5002783?s=2&t=1&l=2023&ct=615&ci=486&pn=21\\n5221764.0,60.0,3.0,flat,\"Rue de Gen\\xc3\\xa8ve 85, 1004 Lausanne, VD\",Cherche un appartement de 3 pi\\xc3\\xa8ces a Lausanne,1700.0,,/en/d/flat-rent-lausanne/5221764?s=2&t=1&l=2023&ct=615&ci=487&pn=21\\n5259840.0,70.0,,flat,\"1005 Lausanne, VD\",\"Location appartement 2,5 pi\\xc3\\xa8ces\",1700.0,,/en/d/flat-rent-lausanne/5259840?s=2&t=1&l=2023&ct=615&ci=488&pn=21\\n5287400.0,60.0,2.5,flat,\"1012 Lausanne, VD\",Sous location 2.5 pcs lausanne chailly - mars 2019,1700.0,New,/en/d/flat-rent-lausanne/5287400?s=2&t=1&l=2023&ct=615&ci=489&pn=21\\n5266524.0,65.0,3.5,flat,\"1012 Lausanne, VD\",\"Reprise de bail 1 mars 2019 Appartement 3,5 pi\\xc3\\xa8ces 65m2\",1705.0,,/en/d/flat-rent-lausanne/5266524?s=2&t=1&l=2023&ct=615&ci=490&pn=21\\n5285773.0,65.0,2.5,flat,\"Chemin du Suchet 3, 1007 Lausanne, VD\",Appartement 2.5 pi\\xc3\\xa8ces sous gare \\xc3\\xa0 Lausanne,1715.0,New,/en/d/flat-rent-lausanne/5285773?s=2&t=1&l=2023&ct=615&ci=491&pn=21\\n5283102.0,,3.0,flat,\"1018 Lausanne, VD\",Appartement 3.5,1720.0,,/en/d/flat-rent-lausanne/5283102?s=2&t=1&l=2023&ct=615&ci=492&pn=21\\n5262918.0,,2.5,duplex-maisonette,\"Rue de la tour 3, 1004 Lausanne, VD\",\"2,5 - Duplex avec cachet \\xc3\\xa0 2 pas de la Riponne\",1730.0,,/en/d/duplex-maisonette-rent-lausanne/5262918?s=2&t=1&l=2023&ct=615&ci=493&pn=21\\n5254415.0,59.0,2.0,flat,\"1006 Lausanne, VD\",URGENT! appartement de 2 pi\\xc3\\xa8ces disponible,1750.0,,/en/d/flat-rent-lausanne/5254415?s=2&t=1&l=2023&ct=615&ci=494&pn=21\\n5270834.0,90.0,3.0,flat,\"1018 Lausanne, VD\",Sous location 3 pi\\xc3\\xa8ces et demi Servion,1750.0,,/en/d/flat-rent-lausanne/5270834?s=2&t=1&l=2023&ct=615&ci=495&pn=21\\n4883292.0,64.0,3.5,flat,\"Ch. des \\xc3\\xa9pinettes, 1007 Lausanne, VD\",\\xc3\\x89change 3.5 pc proche gare avec vue lac,1760.0,,/en/d/flat-rent-lausanne/4883292?s=2&t=1&l=2023&ct=615&ci=496&pn=21\\n5266106.0,,2.5,flat,\"chemin Aim\\xc3\\xa9 Steinlen,, 1004 Lausanne, VD\",\"2,5 pi\\xc3\\xa8ces r\\xc3\\xa9cent avec une grande terrasse\",1770.0,,/en/d/flat-rent-lausanne/5266106?s=2&t=1&l=2023&ct=615&ci=497&pn=21\\n5283012.0,,2.5,attic-flat,\"chemin Aim\\xc3\\xa9-Steinlen, 1004 Lausanne, VD\",\"2,5 pi\\xc3\\xa8ces r\\xc3\\xa9cent avec une grande terrasse\",1770.0,,/en/d/attic-flat-rent-lausanne/5283012?s=2&t=1&l=2023&ct=615&ci=498&pn=21\\n5287480.0,61.0,3.0,flat,\"1018 Lausanne, VD\",\"Bel appartement 3.5 pi\\xc3\\xa8ces, ensoleill\\xc3\\xa9, balcon\",1770.0,New,/en/d/flat-rent-lausanne/5287480?s=2&t=1&l=2023&ct=615&ci=499&pn=21\\n5287289.0,70.0,3.5,flat,\"chemin des Cottages 2, 1007 Lausanne, VD\",Appartement 3.5 pi\\xc3\\xa8ces proche du Flon,1775.0,New,/en/d/flat-rent-lausanne/5287289?s=2&t=1&l=2023&ct=615&ci=500&pn=21\\n5252572.0,67.0,2.0,flat,\"Chemin des Sauges 24, 1018 Lausanne, VD\",\"Appartement de 2,5 pi\\xc3\\xa8ces \\xc3\\xa0 Lausanne Bl\\xc3\\xa9cherette\",1790.0,,/en/d/flat-rent-lausanne/5252572?s=2&t=1&l=2023&ct=615&ci=501&pn=21\\n5264381.0,67.0,2.0,flat,\"Chemin des Sauges 24, 1018 Lausanne, VD\",\"Reprise de bail 2,5 pi\\xc3\\xa8ces avec terrasse\",1790.0,,/en/d/flat-rent-lausanne/5264381?s=2&t=1&l=2023&ct=615&ci=502&pn=21\\n5279011.0,29.0,,studio,\"Mont-Tendre 8ter, 1007 Lausanne, VD\",Lausanne - Grand sudio meubl\\xc3\\xa9 avec balcon pr\\xc3\\xa8s de la gare.,1790.0,,/en/d/studio-rent-lausanne/5279011?s=2&t=1&l=2023&ct=615&ci=503&pn=21\\n5285228.0,47.0,2.5,flat,\"chemin du Devin, 1012 Lausanne, VD\",\"Tr\\xc3\\xa8s bel appartement meubl\\xc3\\xa9 2,5pi\\xc3\\xa8ces a Chailly\",1790.0,,/en/d/flat-rent-lausanne/5285228?s=2&t=1&l=2023&ct=615&ci=504&pn=21\\n5265991.0,,2.5,flat,\"1004 Lausanne, VD\",\"Sous-location joli 2,5 pi\\xc3\\xa8ces centre-ville\",1800.0,,/en/d/flat-rent-lausanne/5265991?s=2&t=1&l=2023&ct=615&ci=506&pn=22\\n5266100.0,57.0,2.0,flat,\"Avenue des Boveresses 2, 1010 Lausanne, VD\",\"Appartement meubl\\xc3\\xa9 2,5 pi\\xc3\\xa8ces\",1800.0,,/en/d/flat-rent-lausanne/5266100?s=2&t=1&l=2023&ct=615&ci=507&pn=22\\n5266486.0,68.0,2.5,flat,\"av. d\\'Echallens 104A, 1004 Lausanne, VD\",\"Meubl\\xc3\\xa9 neuf \\xc3\\xa0 sous-louer, 2,5p, Lausanne Mont\\xc3\\xa9tan\",1800.0,,/en/d/flat-rent-lausanne/5266486?s=2&t=1&l=2023&ct=615&ci=508&pn=22\\n5279017.0,59.0,2.0,flat,\"1004 Lausanne, VDClose### CHF 1,800.\\xe2\\x80\\x94Favourite## \\xc2\\xabAppartement haussmannien Lausanne centre avec balcon et vue\\xc2\\xbbAvenue Juste-Olivier, 1006 Lausanne, VD\",Sous Location appartement 2 pi\\xc3\\xa8ces Lausanne centre - 10 moisAppartement haussmannien Lausanne centre avec balcon et vue,1800.0,## \\xc2\\xabAppartement haussmannien Lausanne centre avec balcon et vue\\xc2\\xbbNew,/en/d/flat-rent-lausanne/5279017?s=2&t=1&l=2023&ct=615&ci=509&pn=22\\n5255775.0,70.0,3.0,flat,\"Avenue d\\'Echallens 70, 1004 Lausanne, VD\",\"Bel appartement de 70 m2, 3 pi\\xc3\\xa8ces au 2\\xc3\\xa8me \\xc3\\xa9tage\",1820.0,,/en/d/flat-rent-lausanne/5255775?s=2&t=1&l=2023&ct=615&ci=511&pn=22\\n5278984.0,80.0,3.5,flat,\"Avenue e de severy 19, 1004 Lausanne, VD\",Location 3.5 pi\\xc3\\xa8ces lausanne,1830.0,,/en/d/flat-rent-lausanne/5278984?s=2&t=1&l=2023&ct=615&ci=512&pn=22\\n5285305.0,57.0,2.5,penthouse,\"Rue des Echelettes 5, 1004 Lausanne, VD\",Appartement centre ville \\xc3\\xa0 louer (Chauderon)!,1830.0,,/en/d/penthouse-rent-Chauderon)!\\xc2\\xbblausanne/5285305?s=2&t=1&l=2023&ct=615&ci=513&pn=22## \\xc2\\xabAppartement centre ville \\xc3\\xa0 louer (Chauderon\\n4851583.0,53.0,2.0,flat,\"Avenue de la Dole 11, 1005 Lausanne, VD\",\\xc3\\x80 louer centre ville/CHUV appartement 2.5 pi\\xc3\\xa8ces,1840.0,,/en/d/flat-rent-lausanne/4851583?s=2&t=1&l=2023&ct=615&ci=514&pn=22\\n5251102.0,,3.0,flat,\"ch. des Bossons 3, 1018 Lausanne, VD\",A louer appartement 3 pi\\xc3\\xa8ces \\xc3\\xa0 1018 lausanne,1840.0,,/en/d/flat-rent-lausanne/5251102?s=2&t=1&l=2023&ct=615&ci=515&pn=22\\n5281694.0,77.0,2.0,loft,\"1006 Lausanne, VD\",Reprise de bail loft Montchoisi 21 1006 lausanne,1850.0,,/en/d/loft-rent-lausanne/5281694?s=2&t=1&l=2023&ct=615&ci=516&pn=22\\n5279036.0,77.0,3.5,flat,\"1004 Lausanne, VD\",Appartement centre ville Lausanne (3.5 pi\\xc3\\xa8ces),1870.0,,/en/d/flat-rent-3.5 pi\\xc3\\xa8ces)\\xc2\\xbblausanne/5279036?s=2&t=1&l=2023&ct=615&ci=517&pn=22## \\xc2\\xabAppartement centre ville Lausanne (3.5 pi\\xc3\\xa8ces\\n5281482.0,70.0,3.0,flat,\"Chemin du Devin 82, 1012 Lausanne, VD\",A louer: 3 pi\\xc3\\xa8ces r\\xc3\\xa9nov\\xc3\\xa9 en octobre avec balcon,1880.0,,/en/d/flat-rent-lausanne/5281482?s=2&t=1&l=2023&ct=615&ci=518&pn=22\\n5285837.0,69.0,3.5,flat,\"Rue du Maupas 11, 1004 Lausanne, VD\",\"Appartement 3.5 pi\\xc3\\xa8ces, Lausanne centre ville libre de suite\",1880.0,New,/en/d/flat-rent-lausanne/5285837?s=2&t=1&l=2023&ct=615&ci=519&pn=22\\n4520660.0,40.0,2.0,flat,\"Av. Ruchonnet 24, 1003 Lausanne, VD\",Le plus vaste choix de meubl\\xc3\\xa9s Lausanne et Riviera,1890.0,,/en/d/flat-rent-lausanne/4520660?s=2&t=1&l=2023&ct=615&ci=520&pn=22\\n5210399.0,62.0,3.5,attic-flat,\"Chemin de Mont\\xc3\\xa9tan 17, 1007 Lausanne, VD\",\"Splendide appartement de 3,5 pces, Lausanne\",1900.0,,/en/d/attic-flat-rent-lausanne/5210399?s=2&t=1&l=2023&ct=615&ci=521&pn=22\\n5262967.0,84.0,3.5,flat,\"1005 Lausanne, VD\",\"3,5 pi\\xc3\\xa8ces sous loc, 15 min de lausanne et 10 min epfl\",1900.0,,/en/d/flat-rent-lausanne/5262967?s=2&t=1&l=2023&ct=615&ci=522&pn=22\\n5267317.0,84.0,3.0,flat,\"1005 Lausanne, VD\",Appartement 3 pi\\xc3\\xa8ces 15 min de Lausanne,1900.0,,/en/d/flat-rent-lausanne/5267317?s=2&t=1&l=2023&ct=615&ci=523&pn=22\\n5270993.0,76.0,3.0,flat,\"petit-Beaulieu 5, 1004 Lausanne, VD\",Appartement centre ville Lausanne,1900.0,,/en/d/flat-rent-lausanne/5270993?s=2&t=1&l=2023&ct=615&ci=524&pn=22\\n5248607.0,104.0,3.5,flat,\"chemin du Sal\\xc3\\xa8ve 9, 1004 Lausanne, VD\",Appartement,1915.0,,/en/d/flat-rent-lausanne/5248607?s=2&t=1&l=2023&ct=615&ci=525&pn=22\\n5186088.0,60.0,3.0,flat,\"1006 Lausanne, VD\",\"!!!URGENT BAIL A REMETTRE!!! , GRAND 2.5 PIECES LUMINEUX\",1950.0,,/en/d/flat-rent-lausanne/5186088?s=2&t=1&l=2023&ct=615&ci=526&pn=22\\n5262995.0,70.0,3.5,attic-flat,\"1012 Lausanne, VD\",\"URGENT 3.5 pi\\xc3\\xa8ces \\xc3\\xa0 louer, ou colocation 1 ou 2 personne\",1956.0,,/en/d/attic-flat-rent-lausanne/5262995?s=2&t=1&l=2023&ct=615&ci=527&pn=22\\n5280430.0,,3.5,flat,\"Avenue de la Chabli\\xc3\\xa8re, 22, 1004 Lausanne, VD\",Appartement 3.5pc avec vue sur le lac,1960.0,,/en/d/flat-rent-lausanne/5280430?s=2&t=1&l=2023&ct=615&ci=528&pn=22\\n5220150.0,67.0,3.5,flat,\"Chemin de B\\xc3\\xa9r\\xc3\\xa9e 12b, 1010 Lausanne, VD\",\"Appartement 3,5 Chemin de B\\xc3\\xa9r\\xc3\\xa9e, Lausanne\",1985.0,,/en/d/flat-rent-lausanne/5220150?s=2&t=1&l=2023&ct=615&ci=529&pn=23\\n5280258.0,72.0,3.5,flat,\"Chemin du Levant 122, 1005 Lausanne, VD\",\"A louer 3,5 pi\\xc3\\xa8ces 72m2 + parc ext\\xc3\\xa9rieur sur Lausanne\",1995.0,,/en/d/flat-rent-lausanne/5280258?s=2&t=1&l=2023&ct=615&ci=530&pn=23\\n5221785.0,70.0,2.5,flat,\"Chemin de la Coudrette, 7, 1012 Lausanne, VD\",Chailly proche du CHUV: vue sur le lac,2000.0,,/en/d/flat-rent-lausanne/5221785?s=2&t=1&l=2023&ct=615&ci=531&pn=23\\n5254334.0,70.0,3.5,flat,\"1004 Lausanne, VD\",\"Appartement de 3,5 pi\\xc3\\xa8ces \\xc3\\xa0 sous-louer \\xe2\\x80\\x93 janvier \\xc3\\xa0 juin 2019\",2000.0,,/en/d/flat-rent-lausanne/5254334?s=2&t=1&l=2023&ct=615&ci=532&pn=23\\n5272504.0,67.0,2.5,flat,\"Chemin Aim\\xc3\\xa9 Steinlen, 1004 Lausanne, VD\",Magnifique appartement 67 m2,2000.0,,/en/d/flat-rent-lausanne/5272504?s=2&t=1&l=2023&ct=615&ci=533&pn=23\\n5272596.0,74.0,3.0,flat,\"S\\xc3\\xa9very 2, 1004 Lausanne, VD\",Appartement meubl\\xc3\\xa9 de 3.5 pi\\xc3\\xa8ces - vue sur le lac,2000.0,,/en/d/flat-rent-lausanne/5272596?s=2&t=1&l=2023&ct=615&ci=534&pn=23\\n5275713.0,90.0,3.5,flat,\"Ch. des Grandes-Roches, 1018 Lausanne, VD\",Sous-location moderne 3.5 pi\\xc3\\xa8ces meubl\\xc3\\xa9,2050.0,,/en/d/flat-rent-lausanne/5275713?s=2&t=1&l=2023&ct=615&ci=535&pn=23\\n5258200.0,95.0,3.5,flat,\"avenue de b\\xc3\\xa9thusy 82, 1012 Lausanne, VD\",\"URGENT: sous-location 3,5p proche du CHUV\",2090.0,,/en/d/flat-rent-lausanne/5258200?s=2&t=1&l=2023&ct=615&ci=536&pn=23\\n5258327.0,,3.5,flat,\"Avenue du Temple, 1012 Lausanne, VD\",\"Lausanne, appartement de 3.5 pi\\xc3\\xa8ces, \\xc3\\xa0 sous-louer, 6 mois.\",2100.0,,/en/d/flat-rent-lausanne/5258327?s=2&t=1&l=2023&ct=615&ci=537&pn=23\\n5285321.0,82.0,3.0,flat,\"1003 Lausanne, VD\",Sous-location 3 pi\\xc3\\xa8ces,2100.0,,/en/d/flat-rent-lausanne/5285321?s=2&t=1&l=2023&ct=615&ci=538&pn=23\\n5258295.0,,3.5,flat,\"Ruchonnet 19, 1003 Lausanne, VD\",\"Location : A 4 min de la gare de Lausanne 3,5 pi\\xc3\\xa8ces\",2110.0,,/en/d/flat-rent-lausanne/5258295?s=2&t=1&l=2023&ct=615&ci=539&pn=23\\n5239015.0,75.0,2.5,flat,\"Avenue de France 23, 1004 Lausanne, VD\",\"Appartement 2,5 pi\\xc3\\xa8ces avec une vue imprenable sur le lac.\",2115.0,,/en/d/flat-rent-lausanne/5239015?s=2&t=1&l=2023&ct=615&ci=540&pn=23\\n5267356.0,75.0,3.0,flat,\"Coudrette 35, 1012 Lausanne, VD\",Lausanne-Chailly / Bel appartement r\\xc3\\xa9nov\\xc3\\xa9 / 3 pi\\xc3\\xa8ces,2120.0,,/en/d/flat-rent-lausanne/5267356?s=2&t=1&l=2023&ct=615&ci=541&pn=23\\n5285202.0,75.0,3.0,flat,\"Chemin de la Coudrette 35, 1012 Lausanne, VD\",Appartement lumineux 3p Chailly,2120.0,,/en/d/flat-rent-lausanne/5285202?s=2&t=1&l=2023&ct=615&ci=542&pn=23\\n5196045.0,,1.5,flat,\"boulevard de grancy 58, 1006 Lausanne, VD\",Apartment 2.5 rooms Lausanne Gare all included,2145.0,,/en/d/flat-rent-lausanne/5196045?s=2&t=1&l=2023&ct=615&ci=543&pn=23\\n5240014.0,100.0,3.0,flat,\"1004 Lausanne, VD\",\"Appartement 3,5 pi\\xc3\\xa8ces libre le 14/02/2019 Reprise de bail\",2160.0,,/en/d/flat-rent-lausanne/5240014?s=2&t=1&l=2023&ct=615&ci=544&pn=23\\n5243211.0,65.0,2.5,flat,\"Av de Beaulieu 27, 1004 Lausanne, VD\",Un joli 2.5 piece \\xc3\\xa0 louer au centre de Lausanne,2200.0,,/en/d/flat-rent-lausanne/5243211?s=2&t=1&l=2023&ct=615&ci=545&pn=23\\n5262793.0,73.0,2.5,flat,\"Avenue des Alpes, 1006 Lausanne, VD\",Appartement 2.5pi\\xc3\\xa8ces 70m tr\\xc3\\xa8s calme proche gare Lausanne,2200.0,,/en/d/flat-rent-lausanne/5262793?s=2&t=1&l=2023&ct=615&ci=546&pn=23\\n5278962.0,74.0,3.0,flat,\"1006 Lausanne, VD\",Appartement meubl\\xc3\\xa9 \\xc3\\xa0 sous-louer sous-gare Lausanne,2200.0,,/en/d/flat-rent-lausanne/5278962?s=2&t=1&l=2023&ct=615&ci=547&pn=23\\n5284556.0,76.0,3.5,flat,\"Chemin de Renens 8, 1004 Lausanne, VD\",3.5 pi\\xc3\\xa8ces enti\\xc3\\xa8rement r\\xc3\\xa9nov\\xc3\\xa9 avec cachet,2240.0,,/en/d/flat-rent-lausanne/5284556?s=2&t=1&l=2023&ct=615&ci=548&pn=23\\n4897855.0,150.0,6.0,flat,\"1012 Lausanne, VD\",Id\\xc3\\xa9al grande famille : Joli 6 p. CONTRE Joli 4 p.,2244.0,,/en/d/flat-rent-lausanne/4897855?s=2&t=1&l=2023&ct=615&ci=549&pn=23\\n4916416.0,86.0,3.5,flat,\"Avenue du Mont d\\'Or 67, 1007 Lausanne, VD\",\"Lausanne, 3,5 pi\\xc3\\xa8ces proche de la gare\",2250.0,,/en/d/flat-rent-lausanne/4916416?s=2&t=1&l=2023&ct=615&ci=550&pn=23\\n4973930.0,87.0,,flat,\"Avenue du Casino, 51, 1012 Lausanne, VD\",Appartement \\xc3\\xa0 louer,2250.0,,/en/d/flat-rent-lausanne/4973930?s=2&t=1&l=2023&ct=615&ci=551&pn=23\\n5272493.0,76.0,3.5,duplex-maisonette,\"1006 Lausanne, VD\",Duplex avec Jardin \\xc3\\xa0 800m de la gare - reprise de bail,2250.0,,/en/d/duplex-maisonette-rent-lausanne/5272493?s=2&t=1&l=2023&ct=615&ci=552&pn=23\\n5282981.0,88.0,3.5,flat,\"Chemin de Maillefer 137, 1018 Lausanne, VDClose### CHF 2,270.\\xe2\\x80\\x94Favourite## \\xc2\\xabCherche a louer appartement\\xc2\\xbb1007 Lausanne, VD\",\"Lumineux 3,5 pi\\xc3\\xa8ces avec vue sur le lac et les alpes.Cherche a louer appartement\",2270.0,## \\xc2\\xabCherche a louer appartement\\xc2\\xbb,/en/d/flat-rent-lausanne/5282981?s=2&t=1&l=2023&ct=615&ci=553&pn=24\\n5215600.0,,4.5,flat,\"Route de Chavannes 56, 1007 Lausanne, VDClose### CHF 2,335.\\xe2\\x80\\x94Favourite## \\xc2\\xabSous location appartement\\xc2\\xbb1006 Lausanne, VD\",\"Appartement 4.5 pi\\xc3\\xa8ces, 2 salles d\\'eauSous location appartement\",2335.0,## \\xc2\\xabSous location appartement\\xc2\\xbb,/en/d/flat-rent-lausanne/5215600?s=2&t=1&l=2023&ct=615&ci=555&pn=24\\n5281691.0,86.0,3.5,flat,\"1004 Lausanne, VD\",\"Magnifique 3,5 pi\\xc3\\xa8ces au centre de Lausanne \\xc3\\xa0 louer!\",2350.0,,/en/d/flat-rent-lausanne/5281691?s=2&t=1&l=2023&ct=615&ci=557&pn=24\\n5277147.0,80.0,3.5,flat,\"1007 Lausanne, VD\",\"Appartement 3,5 pi\\xc3\\xa8ces \\xc3\\xa0 sous loyer\",2360.0,,/en/d/flat-rent-lausanne/5277147?s=2&t=1&l=2023&ct=615&ci=558&pn=24\\n5280319.0,100.0,4.5,flat,\"31, rue de la pontaise, 1018 Lausanne, VD\",\"Appartement 4,5 pi\\xc3\\xa8ces \\xc3\\xa0 louer\",2363.0,,/en/d/flat-rent-lausanne/5280319?s=2&t=1&l=2023&ct=615&ci=559&pn=24\\n5233423.0,,3.5,flat,\"Rue du Lac 9, 1007 Lausanne, VD\",\"Bel appartement de 3,5 pces \\xc3\\xa0 Lausanne Ouchy\",2400.0,,/en/d/flat-rent-lausanne/5233423?s=2&t=1&l=2023&ct=615&ci=560&pn=24\\n5285744.0,66.0,2.5,flat,\"Avenue des Mosquines, 1005 Lausanne, VD\",\"Avenue des Mosquines, 2.5 pieces meubl\\xc3\\xa9\",2400.0,New,/en/d/flat-rent-lausanne/5285744?s=2&t=1&l=2023&ct=615&ci=561&pn=24\\n5277041.0,85.0,3.5,flat,\"Route de la Feuill\\xc3\\xa9re17, 1010 Lausanne, VD\",\"Appartement 3,5 pi\\xc3\\xa9ces \\xc3\\xa0 Lausanne\",2440.0,,/en/d/flat-rent-lausanne/5277041?s=2&t=1&l=2023&ct=615&ci=562&pn=24\\n5154611.0,74.0,2.0,stepped-apartment,\"1006 Lausanne, VD\",\"Lausanne Pully, Appartement 2,5 pce 74m2 + terrasse 41m2 vue\",2450.0,,/en/d/stepped-apartment-rent-lausanne/5154611?s=2&t=1&l=2023&ct=615&ci=563&pn=24\\n5113656.0,107.0,4.5,flat,\"1007 Lausanne, VD\",Lausanne/Echandens -4.5p. r\\xc3\\xa9sidence jardin piscine et tennis,2490.0,,/en/d/flat-rent-lausanne/5113656?s=2&t=1&l=2023&ct=615&ci=564&pn=24\\n5284465.0,80.0,3.0,flat,\"Rue Neuve, 1004 Lausanne, VD\",Sous-location meubl\\xc3\\xa9 3 pi\\xc3\\xa8ces (min. 6 mois) Lausanne centre,2490.0,,/en/d/flat-rent-min. 6 mois) Lausanne centre\\xc2\\xbblausanne/5284465?s=2&t=1&l=2023&ct=615&ci=565&pn=24## \\xc2\\xabSous-location meubl\\xc3\\xa9 3 pi\\xc3\\xa8ces (min. 6 mois\\n5215706.0,,3.5,flat,\"Victor-Ruffy 2, 1012 Lausanne, VDClose### CHF 2,500.\\xe2\\x80\\x94Favourite## \\xc2\\xabAppartement 5 pi\\xc3\\xa8ces en duplex proche Prilly\\xc2\\xbbRenens 50, 1004 Lausanne, VD\",Bel appartment bien situ\\xc3\\xa9 \\xc3\\xa0 LausanneAppartement 5 pi\\xc3\\xa8ces en duplex proche Prilly,2500.0,## \\xc2\\xabAppartement 5 pi\\xc3\\xa8ces en duplex proche Prilly\\xc2\\xbb,/en/d/flat-rent-lausanne/5215706?s=2&t=1&l=2023&ct=615&ci=566&pn=24\\n5200631.0,86.0,3.5,flat,\"Chemin de Renens 52, 1004 Lausanne, VD\",\"3,5 pi\\xc3\\xa8ces, 86 m2, Lausanne\",2550.0,,/en/d/flat-rent-lausanne/5200631?s=2&t=1&l=2023&ct=615&ci=568&pn=24\\n5257682.0,85.0,3.0,flat,\"Avenue du L\\xc3\\xa9man, 1005 Lausanne, VD\",\"3,5 pi\\xc3\\xa8ces Lausanne 1005\",2565.0,,/en/d/flat-rent-lausanne/5257682?s=2&t=1&l=2023&ct=615&ci=569&pn=24\\n5267468.0,,4.5,flat,\"1005 Lausanne, VD\",Appartement a echanger 4.5 pcs contre 3 ou 3.5 pcs,2580.0,,/en/d/flat-rent-lausanne/5267468?s=2&t=1&l=2023&ct=615&ci=570&pn=24\\n5200522.0,,3.5,flat,\"Avenue Maria Belgia 3, 1006 Lausanne, VD\",\"Montchoisi, 1006 - apartement 3.5 (6mois) charges & immeuble\",2590.0,,\"/en/d/flat-rent-6mois) charges & immeuble\\xc2\\xbblausanne/5200522?s=2&t=1&l=2023&ct=615&ci=571&pn=24## \\xc2\\xabMontchoisi, 1006 - apartement 3.5 (6mois\"\\n5116209.0,100.0,4.5,flat,\"1010 Lausanne, VD\",Sous-location joli appartement 4.5 p du 01.07 au 31.12.19,2600.0,,/en/d/flat-rent-lausanne/5116209?s=2&t=1&l=2023&ct=615&ci=572&pn=24\\n5272490.0,110.0,5.0,flat,\"1004 Lausanne, VD\",URGENT - Sous-location 5 pi\\xc3\\xa8ces meubl\\xc3\\xa9,2600.0,,/en/d/flat-rent-lausanne/5272490?s=2&t=1&l=2023&ct=615&ci=573&pn=24\\n5277103.0,91.0,3.5,flat,\"avenue du mont-d\\'or, 1007 Lausanne, VDClose### CHF 2,620.\\xe2\\x80\\x94Favourite## \\xc2\\xabA remettre pour reprise de bail 1F\\xc3\\xa9vrier 2019\\xc2\\xbbCh. de B\\xc3\\xa9r\\xc3\\xa9e 44, 1010 Lausanne, VD\",\"Tr\\xc3\\xa8s bel appartement 3,5p - id\\xc3\\xa9alement situ\\xc3\\xa9A remettre pour reprise de bail 1F\\xc3\\xa9vrier 2019\",2620.0,## \\xc2\\xabA remettre pour reprise de bail 1F\\xc3\\xa9vrier 2019\\xc2\\xbb,/en/d/flat-rent-lausanne/5277103?s=2&t=1&l=2023&ct=615&ci=574&pn=24\\n5205850.0,85.0,2.5,attic-flat,\"Chemin de Mont\\xc3\\xa9tan, 1004 Lausanne, VD\",Sur les toits de Lausanne 2.5 pi\\xc3\\xa8ces vue lac,2650.0,,/en/d/attic-flat-rent-lausanne/5205850?s=2&t=1&l=2023&ct=615&ci=576&pn=24\\n5285790.0,62.0,3.5,flat,\"Ruelle de Bourg 11, 1003 Lausanne, VD\",Appartement avec grande terrasse au coeur de Lausanne,2650.0,New,/en/d/flat-rent-lausanne/5285790?s=2&t=1&l=2023&ct=615&ci=577&pn=25\\n5252615.0,,5.0,flat,\"1A route du signal, 1018 Lausanne, VD\",\"Location joli appartement lumineux, 5P, spacieux \\xc3\\xa0 Lausanne\",2660.0,,/en/d/flat-rent-lausanne/5252615?s=2&t=1&l=2023&ct=615&ci=578&pn=25\\n5276098.0,108.0,4.5,flat,\"Avenue de la Vallombreuse 50, 1004 Lausanne, VD\",\"Appartement 4,5 pieces 108m2 - libre 1er mars\",2660.0,,/en/d/flat-rent-lausanne/5276098?s=2&t=1&l=2023&ct=615&ci=579&pn=25\\n5252769.0,90.0,4.5,flat,\"ch de Barberine, 1004 Lausanne, VD\",Bel appartement de 4.5 pi\\xc3\\xa8ces d\\'environ 90m2 au 3\\xc3\\xa8me \\xc3\\xa9tage.,2690.0,,/en/d/flat-rent-lausanne/5252769?s=2&t=1&l=2023&ct=615&ci=580&pn=25\\n5275695.0,100.0,4.5,flat,\"Av. des Boveresses 34, 1010 Lausanne, VD\",\"Av. des Boveresses 34, Lausanne\",2690.0,,/en/d/flat-rent-lausanne/5275695?s=2&t=1&l=2023&ct=615&ci=581&pn=25\\n5204516.0,120.0,3.0,flat,\"route de Berne 111, 1010 Lausanne, VD\",\"Urgent reprise de bail Appartement 3,5\",2710.0,,/en/d/flat-rent-lausanne/5204516?s=2&t=1&l=2023&ct=615&ci=582&pn=25\\n5267432.0,99.0,4.5,flat,\"Avenue de S\\xc3\\xa9velin 13a, 1004 Lausanne, VD\",\"Appartement 4,5p - Lausanne - Orient\\xc3\\xa9 Sud - Aucun vis-\\xc3\\xa0-vis\",2710.0,,/en/d/flat-rent-lausanne/5267432?s=2&t=1&l=2023&ct=615&ci=583&pn=25\\n5217348.0,95.0,4.5,stepped-apartment,\"Chemin de primerose, 1007 Lausanne, VD\",Sous-location 4.5 p lausanne sous-gare Janvier 2019,2750.0,,/en/d/stepped-apartment-rent-lausanne/5217348?s=2&t=1&l=2023&ct=615&ci=584&pn=25\\n5199968.0,75.0,3.5,flat,\"Avenue gare, 1003 Lausanne, VD\",Luxueux appartement proche gare lausanne,2800.0,,/en/d/flat-rent-lausanne/5199968?s=2&t=1&l=2023&ct=615&ci=585&pn=25\\n4926600.0,100.0,5.0,duplex-maisonette,\"Route de la Cita 8, 1092 Belmont, 1003 Lausanne, VD\",\"Belmont, triplex avec cachet dans maison villageoise\",2850.0,,/en/d/duplex-maisonette-rent-lausanne/4926600?s=2&t=1&l=2023&ct=615&ci=586&pn=25\\n5257152.0,120.0,4.5,flat,\"Chemin de pr\\xc3\\xa9-fleuri, 1006 Lausanne, VD\",\"Appartement 4,5 pi\\xc3\\xa8ces \\xc3\\xa0 Grancy\",2880.0,,/en/d/flat-rent-lausanne/5257152?s=2&t=1&l=2023&ct=615&ci=587&pn=25\\n5246655.0,91.0,,flat,\"1007 Lausanne, VD\",Sous-location 4 p Lausanne sous-gare Fevrier 2019,2900.0,,/en/d/flat-rent-lausanne/5246655?s=2&t=1&l=2023&ct=615&ci=588&pn=25\\n5200706.0,,3.5,flat,\"1010 Lausanne, VD\",A Louer - Appartement 3.5 pi\\xc3\\xa8ces - Lausanne (English below),2925.0,,/en/d/flat-rent-English below)\\xc2\\xbblausanne/5200706?s=2&t=1&l=2023&ct=615&ci=589&pn=25## \\xc2\\xabA Louer - Appartement 3.5 pi\\xc3\\xa8ces - Lausanne (English below\\n5278982.0,120.0,3.5,flat,\"Avenue du L\\xc3\\xa9man 21, 1005 Lausanne, VD\",\"3.5p, 2sdb, r\\xc3\\xa9nov\\xc3\\xa9, garage, 120m2 / 2bed 2bath w/pkg\",2950.0,,/en/d/flat-rent-lausanne/5278982?s=2&t=1&l=2023&ct=615&ci=590&pn=25\\n5269117.0,150.0,5.5,flat,\"Ch. du Riolet 4, 1012 Lausanne, VD\",Lausanne-Chailly / Appartement 5.5 pi\\xc3\\xa8ces,3000.0,,/en/d/flat-rent-lausanne/5269117?s=2&t=1&l=2023&ct=615&ci=591&pn=25\\n5254274.0,120.0,5.5,flat,\"Avenue Virgile-Rossel 9, 1012 Lausanne, VD\",Appartement 5.5p - Av. Virgile-Rossel 9 \\xc3\\xa0 Lausanne,3024.0,,/en/d/flat-rent-lausanne/5254274?s=2&t=1&l=2023&ct=615&ci=592&pn=25\\n5280347.0,95.0,4.5,flat,\"Avenue Mont-D\\xe2\\x80\\x99Or 21, 1007 Lausanne, VD\",Appartement \\xc3\\xa0 louer,3025.0,,/en/d/flat-rent-lausanne/5280347?s=2&t=1&l=2023&ct=615&ci=593&pn=25\\n5277063.0,115.0,3.5,duplex-maisonette,\"Rue Saint Roch 13, 1004 Lausanne, VD\",Grande Apartement \\xc3\\xa1 Lausanne Centre,3100.0,,/en/d/duplex-maisonette-rent-lausanne/5277063?s=2&t=1&l=2023&ct=615&ci=594&pn=25\\n5252805.0,125.0,4.5,duplex-maisonette,\"avenue saint paul, 11, 1004 Lausanne, VD\",Appartement avec vue,3130.0,,/en/d/duplex-maisonette-rent-lausanne/5252805?s=2&t=1&l=2023&ct=615&ci=595&pn=25\\n5264387.0,110.0,,flat,\"Av Louis Ruchonnet, 1003 Lausanne, VD\",Appartement moderne et lumineux,3190.0,,/en/d/flat-rent-lausanne/5264387?s=2&t=1&l=2023&ct=615&ci=596&pn=25\\n5271038.0,105.0,4.5,flat,\"Av. des Alpes 36, 1006 Lausanne, VD\",Magnifique appartement vue Lac,3260.0,,/en/d/flat-rent-lausanne/5271038?s=2&t=1&l=2023&ct=615&ci=597&pn=25\\n5207248.0,95.0,,stepped-apartment,\"ch suisse, 1005 Lausanne, VD\",\"Jardin priv\\xc3\\xa9 et tranquilit\\xc3\\xa9, quartier pr\\xc3\\xa9viligi\\xc3\\xa9\",3400.0,,/en/d/stepped-apartment-rent-lausanne/5207248?s=2&t=1&l=2023&ct=615&ci=598&pn=25\\n5255871.0,111.0,4.5,attic-flat,\"Chemin de la Cure 9 b, 1012 Lausanne, VD\",Location d\\'un 4 pi\\xc3\\xa8ces 1/2,3560.0,,/en/d/attic-flat-rent-lausanne/5255871?s=2&t=1&l=2023&ct=615&ci=599&pn=25\\n5270848.0,115.0,5.5,flat,\"Chemin Simplemont 10, 1005 Lausanne, VD\",Bel appartement spacieux et calme a Les Mousquines Lausanne,3570.0,,/en/d/flat-rent-lausanne/5270848?s=2&t=1&l=2023&ct=615&ci=600&pn=25\\n5266051.0,140.0,4.5,flat,\"Chemin de Montolivet 35, 1006 Lausanne, VD\",Lumineux et charmant apartament de 4.5 pi\\xc3\\xa8ces \\xc3\\xa0 Ouchy,3650.0,,/en/d/flat-rent-lausanne/5266051?s=2&t=1&l=2023&ct=615&ci=601&pn=26\\n5200047.0,130.0,4.5,flat,\"1010 Lausanne, VD\",Superbe appartement meubl\\xc3\\xa9 / Splendid furnished apartment,3950.0,,/en/d/flat-rent-lausanne/5200047?s=2&t=1&l=2023&ct=615&ci=602&pn=26\\n5119529.0,133.0,4.5,duplex-maisonette,\"Avenue de Morges 11B, 1004 Lausanne, VD\",Duplex de 4.5 pi\\xc3\\xa8ces \\xc3\\xa0 Lausanne - Magnifique vue!,3960.0,,/en/d/duplex-maisonette-rent-lausanne/5119529?s=2&t=1&l=2023&ct=615&ci=603&pn=26\\n5170641.0,156.0,7.0,flat,\"Sainte-Luce 12, 1003 Lausanne, VD\",\"Magnifique 5 pces 1/2, vue sud \\xc3\\xa0 180 degr\\xc3\\xa9s sur le lac L\\xc3\\xa9man\",4050.0,,/en/d/flat-rent-lausanne/5170641?s=2&t=1&l=2023&ct=615&ci=604&pn=26\\n5258205.0,140.0,,flat,\"rue Beau-s\\xc3\\xa9jour 8A, 1003 Lausanne, VD\",Appartement centre de lausanne \\xc3\\xa0 Louer,4600.0,,/en/d/flat-rent-lausanne/5258205?s=2&t=1&l=2023&ct=615&ci=605&pn=26\\n5287473.0,131.0,4.5,duplex-maisonette,\"Avenue Eug\\xc3\\xa8ne Rambert, 30, 1005 Lausanne, VDClose### CHF 4,840.\\xe2\\x80\\x94FavouriteNew## \\xc2\\xabA louer appartement de 3 1/2 pi\\xc3\\xa8ces \\xc3\\xa0 Lausanne\\xc2\\xbb1007 Lausanne, VD\",\"Duplex de 131m carr\\xc3\\xa9, 4.5 pi\\xc3\\xa8ces, vue sur le lacA louer appartement de 3 1/2 pi\\xc3\\xa8ces \\xc3\\xa0 Lausanne\",4840.0,New,/en/d/duplex-maisonette-rent-lausanne/5287473?s=2&t=1&l=2023&ct=615&ci=606&pn=26\\n4796165.0,65.0,3.0,flat,\"1018 Lausanne, VD\",Echange appartement 3 pcs vers rue Pontaise contre 4 pcs,,,/en/d/flat-rent-lausanne/4796165?s=2&t=1&l=2023&ct=615&ci=608&pn=26\\n5104296.0,75.0,3.5,flat,\"Avenue de S\\xc3\\xa9velin, 1004 Lausanne, VD\",Location d\\xe2\\x80\\x99appartement neuf de 3.5 Lausanne /S\\xc3\\xa9velin,,,/en/d/flat-rent-lausanne/5104296?s=2&t=1&l=2023&ct=615&ci=609&pn=26\\n5146045.0,106.0,3.5,flat,\"1004 Lausanne, VD\",Au centre ville,,,/en/d/flat-rent-lausanne/5146045?s=2&t=1&l=2023&ct=615&ci=610&pn=26\\n5217388.0,,2.5,flat,\"1003 Lausanne, VDClose### Price on requestFavourite## \\xc2\\xabAppartement en location\\xc2\\xbb1005 Lausanne, VD\",Nouvelle construction - Le Mont-sur-LausanneAppartement en location,1005.0,## \\xc2\\xabAppartement en location\\xc2\\xbb,/en/d/flat-rent-lausanne/5217388?s=2&t=1&l=2023&ct=615&ci=611&pn=26\\n5265935.0,100.0,,single-room,\"Boissonnet, 1010 Lausanne, VD\",Chambre \\xc3\\xa0 louer,,,/en/d/single-room-rent-lausanne/5265935?s=2&t=1&l=2023&ct=615&ci=613&pn=26\\n5285752.0,120.0,3.5,duplex-maisonette,\"rue saint francois, 1003 Lausanne, VDClose### Price on requestFavouriteNew## \\xc2\\xabVous cherchez un appartement?\\xc2\\xbb1007 Lausanne, VD\",Sublime Duplex 3.5 p Centre ville de LausanneVous cherchez un appartement?,1007.0,NewNew,/en/d/duplex-maisonette-rent-lausanne/5285752?s=2&t=1&l=2023&ct=615&ci=614&pn=26\\n'}"
      ]
     },
     "execution_count": 5,
     "metadata": {
      "tags": []
     },
     "output_type": "execute_result"
    }
   ],
   "source": [
    "from google.colab import files\n",
    "files.upload()"
   ]
  },
  {
   "cell_type": "code",
   "execution_count": null,
   "metadata": {
    "colab": {},
    "colab_type": "code",
    "id": "XYKtNSxFSrqa"
   },
   "outputs": [],
   "source": [
    "!mkdir ../data\n",
    "!mv lausanne_rental.csv ../data"
   ]
  },
  {
   "cell_type": "markdown",
   "metadata": {
    "colab_type": "text",
    "id": "M3LJIx8vjrkp"
   },
   "source": [
    "### Method 2"
   ]
  },
  {
   "cell_type": "code",
   "execution_count": null,
   "metadata": {
    "colab": {},
    "colab_type": "code",
    "id": "zYEW4oSAj1IK"
   },
   "outputs": [],
   "source": [
    "# from google.colab import drive\n",
    "# drive.mount('/content/drive')"
   ]
  },
  {
   "cell_type": "markdown",
   "metadata": {},
   "source": [
    "## Import libraries"
   ]
  },
  {
   "cell_type": "code",
   "execution_count": null,
   "metadata": {
    "colab": {},
    "colab_type": "code",
    "id": "y7Bi9mb3SBS3"
   },
   "outputs": [],
   "source": [
    "import pandas as pd\n",
    "from pyspark.sql import SparkSession"
   ]
  },
  {
   "cell_type": "markdown",
   "metadata": {
    "colab_type": "text",
    "id": "cS0RQVqXSRF-"
   },
   "source": [
    "## Import data"
   ]
  },
  {
   "cell_type": "code",
   "execution_count": null,
   "metadata": {
    "colab": {},
    "colab_type": "code",
    "id": "UjAEZaQ9PDhS"
   },
   "outputs": [],
   "source": [
    "df = pd.read_csv('../data/lausanne_rental.csv')"
   ]
  },
  {
   "cell_type": "markdown",
   "metadata": {
    "colab_type": "text",
    "id": "XXLodhUrPDhb"
   },
   "source": [
    "**PySpark**"
   ]
  },
  {
   "cell_type": "code",
   "execution_count": null,
   "metadata": {
    "colab": {},
    "colab_type": "code",
    "id": "pImvgI5cPDhg"
   },
   "outputs": [],
   "source": [
    "spark = SparkSession.builder.getOrCreate()"
   ]
  },
  {
   "cell_type": "code",
   "execution_count": null,
   "metadata": {
    "colab": {},
    "colab_type": "code",
    "id": "6VzzYaPKPDhn"
   },
   "outputs": [],
   "source": [
    "dfs = spark.read.csv('../data/lausanne_rental.csv', header=True)"
   ]
  },
  {
   "cell_type": "markdown",
   "metadata": {
    "colab_type": "text",
    "id": "KQiIUF6wPDhu"
   },
   "source": [
    "## Preprocessing"
   ]
  },
  {
   "cell_type": "markdown",
   "metadata": {
    "colab_type": "text",
    "id": "0WzhUBPkPDhw"
   },
   "source": [
    "**Pandas**"
   ]
  },
  {
   "cell_type": "code",
   "execution_count": null,
   "metadata": {
    "colab": {
     "base_uri": "https://localhost:8080/",
     "height": 206
    },
    "colab_type": "code",
    "id": "pslMoelsPDh0",
    "outputId": "14aff4a1-26f5-4d9d-d7c6-2facfc710c29"
   },
   "outputs": [
    {
     "data": {
      "text/html": [
       "<div>\n",
       "<style scoped>\n",
       "    .dataframe tbody tr th:only-of-type {\n",
       "        vertical-align: middle;\n",
       "    }\n",
       "\n",
       "    .dataframe tbody tr th {\n",
       "        vertical-align: top;\n",
       "    }\n",
       "\n",
       "    .dataframe thead th {\n",
       "        text-align: right;\n",
       "    }\n",
       "</style>\n",
       "<table border=\"1\" class=\"dataframe\">\n",
       "  <thead>\n",
       "    <tr style=\"text-align: right;\">\n",
       "      <th></th>\n",
       "      <th>Id</th>\n",
       "      <th>SurfaceArea</th>\n",
       "      <th>NumRooms</th>\n",
       "      <th>Type</th>\n",
       "      <th>Address</th>\n",
       "      <th>Description</th>\n",
       "      <th>Rent</th>\n",
       "      <th>Bookmark</th>\n",
       "      <th>Link</th>\n",
       "    </tr>\n",
       "  </thead>\n",
       "  <tbody>\n",
       "    <tr>\n",
       "      <th>0</th>\n",
       "      <td>5286965.0</td>\n",
       "      <td>52.0</td>\n",
       "      <td>2.5</td>\n",
       "      <td>flat</td>\n",
       "      <td>Route Aloys-Fauquez 124, 1018 Lausanne, VD</td>\n",
       "      <td>Agréable 2 pièces proche de toutes les commodités</td>\n",
       "      <td>1460.0</td>\n",
       "      <td>New</td>\n",
       "      <td>/en/d/flat-rent-lausanne/5286965?s=2&amp;t=1&amp;l=202...</td>\n",
       "    </tr>\n",
       "    <tr>\n",
       "      <th>1</th>\n",
       "      <td>5277530.0</td>\n",
       "      <td>80.0</td>\n",
       "      <td>3.0</td>\n",
       "      <td>flat</td>\n",
       "      <td>Avenue de Béthusy 53, 1012 Lausanne, VD</td>\n",
       "      <td>Proche du centre ville</td>\n",
       "      <td>2100.0</td>\n",
       "      <td>NaN</td>\n",
       "      <td>/en/d/flat-rent-lausanne/5277530?s=2&amp;t=1&amp;l=202...</td>\n",
       "    </tr>\n",
       "    <tr>\n",
       "      <th>2</th>\n",
       "      <td>5249019.0</td>\n",
       "      <td>74.0</td>\n",
       "      <td>3.5</td>\n",
       "      <td>stepped-apartment</td>\n",
       "      <td>Route des Plaines-du-Loup 42, 1018 Lausanne, VD</td>\n",
       "      <td>Magnifique 3,5 pièces avec jardin privé -Immeu...</td>\n",
       "      <td>2150.0</td>\n",
       "      <td>Highlight</td>\n",
       "      <td>/en/d/stepped-apartment-rent-lausanne/5249019?...</td>\n",
       "    </tr>\n",
       "    <tr>\n",
       "      <th>3</th>\n",
       "      <td>5274375.0</td>\n",
       "      <td>108.0</td>\n",
       "      <td>3.5</td>\n",
       "      <td>duplex-maisonette</td>\n",
       "      <td>Route de Prilly 12, 1004 Lausanne, VD</td>\n",
       "      <td>Magnifique logement en duplex entièrement neuf</td>\n",
       "      <td>3160.0</td>\n",
       "      <td>NaN</td>\n",
       "      <td>/en/d/duplex-maisonette-rent-lausanne/5274375?...</td>\n",
       "    </tr>\n",
       "    <tr>\n",
       "      <th>4</th>\n",
       "      <td>5274374.0</td>\n",
       "      <td>80.0</td>\n",
       "      <td>3.5</td>\n",
       "      <td>flat</td>\n",
       "      <td>Route de Prilly 12, 1004 Lausanne, VD</td>\n",
       "      <td>Nouveaux logements</td>\n",
       "      <td>2085.0</td>\n",
       "      <td>NaN</td>\n",
       "      <td>/en/d/flat-rent-lausanne/5274374?s=2&amp;t=1&amp;l=202...</td>\n",
       "    </tr>\n",
       "  </tbody>\n",
       "</table>\n",
       "</div>"
      ],
      "text/plain": [
       "          Id  SurfaceArea  NumRooms               Type  \\\n",
       "0  5286965.0         52.0       2.5               flat   \n",
       "1  5277530.0         80.0       3.0               flat   \n",
       "2  5249019.0         74.0       3.5  stepped-apartment   \n",
       "3  5274375.0        108.0       3.5  duplex-maisonette   \n",
       "4  5274374.0         80.0       3.5               flat   \n",
       "\n",
       "                                           Address  \\\n",
       "0       Route Aloys-Fauquez 124, 1018 Lausanne, VD   \n",
       "1          Avenue de Béthusy 53, 1012 Lausanne, VD   \n",
       "2  Route des Plaines-du-Loup 42, 1018 Lausanne, VD   \n",
       "3            Route de Prilly 12, 1004 Lausanne, VD   \n",
       "4            Route de Prilly 12, 1004 Lausanne, VD   \n",
       "\n",
       "                                         Description    Rent   Bookmark  \\\n",
       "0  Agréable 2 pièces proche de toutes les commodités  1460.0        New   \n",
       "1                             Proche du centre ville  2100.0        NaN   \n",
       "2  Magnifique 3,5 pièces avec jardin privé -Immeu...  2150.0  Highlight   \n",
       "3     Magnifique logement en duplex entièrement neuf  3160.0        NaN   \n",
       "4                                 Nouveaux logements  2085.0        NaN   \n",
       "\n",
       "                                                Link  \n",
       "0  /en/d/flat-rent-lausanne/5286965?s=2&t=1&l=202...  \n",
       "1  /en/d/flat-rent-lausanne/5277530?s=2&t=1&l=202...  \n",
       "2  /en/d/stepped-apartment-rent-lausanne/5249019?...  \n",
       "3  /en/d/duplex-maisonette-rent-lausanne/5274375?...  \n",
       "4  /en/d/flat-rent-lausanne/5274374?s=2&t=1&l=202...  "
      ]
     },
     "execution_count": 27,
     "metadata": {
      "tags": []
     },
     "output_type": "execute_result"
    }
   ],
   "source": [
    "df.head()"
   ]
  },
  {
   "cell_type": "markdown",
   "metadata": {
    "colab_type": "text",
    "id": "ASUxTd_ZPDiE"
   },
   "source": [
    "**Spark**"
   ]
  },
  {
   "cell_type": "code",
   "execution_count": null,
   "metadata": {
    "colab": {
     "base_uri": "https://localhost:8080/",
     "height": 124
    },
    "colab_type": "code",
    "id": "Rt1YapfOPDiH",
    "outputId": "c01a0118-8361-410c-a80c-d016ad2022e1"
   },
   "outputs": [
    {
     "data": {
      "text/plain": [
       "[Row(Id='5286965.0', SurfaceArea='52.0', NumRooms='2.5', Type='flat', Address='Route Aloys-Fauquez 124, 1018 Lausanne, VD', Description='Agréable 2 pièces proche de toutes les commodités', Rent='1460.0', Bookmark='New', Link='/en/d/flat-rent-lausanne/5286965?s=2&t=1&l=2023&ct=615&ci=1&pn=1'),\n",
       " Row(Id='5277530.0', SurfaceArea='80.0', NumRooms='3.0', Type='flat', Address='Avenue de Béthusy 53, 1012 Lausanne, VD', Description='Proche du centre ville', Rent='2100.0', Bookmark=None, Link='/en/d/flat-rent-lausanne/5277530?s=2&t=1&l=2023&ct=615&ci=2&pn=1'),\n",
       " Row(Id='5249019.0', SurfaceArea='74.0', NumRooms='3.5', Type='stepped-apartment', Address='Route des Plaines-du-Loup 42, 1018 Lausanne, VD', Description='Magnifique 3,5 pièces avec jardin privé -Immeuble récent à Lausanne', Rent='2150.0', Bookmark='Highlight', Link='/en/d/stepped-apartment-rent-lausanne/5249019?s=2&t=1&l=2023&ct=615&ci=3&pn=1'),\n",
       " Row(Id='5274375.0', SurfaceArea='108.0', NumRooms='3.5', Type='duplex-maisonette', Address='Route de Prilly 12, 1004 Lausanne, VD', Description='Magnifique logement en duplex entièrement neuf', Rent='3160.0', Bookmark=None, Link='/en/d/duplex-maisonette-rent-lausanne/5274375?s=2&t=1&l=2023&ct=615&ci=4&pn=1'),\n",
       " Row(Id='5274374.0', SurfaceArea='80.0', NumRooms='3.5', Type='flat', Address='Route de Prilly 12, 1004 Lausanne, VD', Description='Nouveaux logements', Rent='2085.0', Bookmark=None, Link='/en/d/flat-rent-lausanne/5274374?s=2&t=1&l=2023&ct=615&ci=5&pn=1')]"
      ]
     },
     "execution_count": 28,
     "metadata": {
      "tags": []
     },
     "output_type": "execute_result"
    }
   ],
   "source": [
    "dfs.head(5)"
   ]
  },
  {
   "cell_type": "code",
   "execution_count": null,
   "metadata": {
    "colab": {
     "base_uri": "https://localhost:8080/",
     "height": 208
    },
    "colab_type": "code",
    "id": "iX99ZYH8PDiT",
    "outputId": "9ba090be-5559-4529-bc9d-4e8f61595259"
   },
   "outputs": [
    {
     "name": "stdout",
     "output_type": "stream",
     "text": [
      "+---------+-----------+--------+-----------------+--------------------+--------------------+------+---------+--------------------+\n",
      "|       Id|SurfaceArea|NumRooms|             Type|             Address|         Description|  Rent| Bookmark|                Link|\n",
      "+---------+-----------+--------+-----------------+--------------------+--------------------+------+---------+--------------------+\n",
      "|5286965.0|       52.0|     2.5|             flat|Route Aloys-Fauqu...|Agréable 2 pièces...|1460.0|      New|/en/d/flat-rent-l...|\n",
      "|5277530.0|       80.0|     3.0|             flat|Avenue de Béthusy...|Proche du centre ...|2100.0|     null|/en/d/flat-rent-l...|\n",
      "|5249019.0|       74.0|     3.5|stepped-apartment|Route des Plaines...|Magnifique 3,5 pi...|2150.0|Highlight|/en/d/stepped-apa...|\n",
      "|5274375.0|      108.0|     3.5|duplex-maisonette|Route de Prilly 1...|Magnifique logeme...|3160.0|     null|/en/d/duplex-mais...|\n",
      "|5274374.0|       80.0|     3.5|             flat|Route de Prilly 1...|  Nouveaux logements|2085.0|     null|/en/d/flat-rent-l...|\n",
      "+---------+-----------+--------+-----------------+--------------------+--------------------+------+---------+--------------------+\n",
      "only showing top 5 rows\n",
      "\n"
     ]
    }
   ],
   "source": [
    "dfs.show(5)"
   ]
  },
  {
   "cell_type": "markdown",
   "metadata": {
    "colab_type": "text",
    "id": "U5ZHc89HPDih"
   },
   "source": [
    "**Possible convert to pandas:** "
   ]
  },
  {
   "cell_type": "code",
   "execution_count": null,
   "metadata": {
    "colab": {
     "base_uri": "https://localhost:8080/",
     "height": 206
    },
    "colab_type": "code",
    "id": "5431uoYNPDii",
    "outputId": "99156b6e-9c97-47e9-ab2c-cc2cba15f1e9"
   },
   "outputs": [
    {
     "data": {
      "text/html": [
       "<div>\n",
       "<style scoped>\n",
       "    .dataframe tbody tr th:only-of-type {\n",
       "        vertical-align: middle;\n",
       "    }\n",
       "\n",
       "    .dataframe tbody tr th {\n",
       "        vertical-align: top;\n",
       "    }\n",
       "\n",
       "    .dataframe thead th {\n",
       "        text-align: right;\n",
       "    }\n",
       "</style>\n",
       "<table border=\"1\" class=\"dataframe\">\n",
       "  <thead>\n",
       "    <tr style=\"text-align: right;\">\n",
       "      <th></th>\n",
       "      <th>Id</th>\n",
       "      <th>SurfaceArea</th>\n",
       "      <th>NumRooms</th>\n",
       "      <th>Type</th>\n",
       "      <th>Address</th>\n",
       "      <th>Description</th>\n",
       "      <th>Rent</th>\n",
       "      <th>Bookmark</th>\n",
       "      <th>Link</th>\n",
       "    </tr>\n",
       "  </thead>\n",
       "  <tbody>\n",
       "    <tr>\n",
       "      <th>0</th>\n",
       "      <td>5286965.0</td>\n",
       "      <td>52.0</td>\n",
       "      <td>2.5</td>\n",
       "      <td>flat</td>\n",
       "      <td>Route Aloys-Fauquez 124, 1018 Lausanne, VD</td>\n",
       "      <td>Agréable 2 pièces proche de toutes les commodités</td>\n",
       "      <td>1460.0</td>\n",
       "      <td>New</td>\n",
       "      <td>/en/d/flat-rent-lausanne/5286965?s=2&amp;t=1&amp;l=202...</td>\n",
       "    </tr>\n",
       "    <tr>\n",
       "      <th>1</th>\n",
       "      <td>5277530.0</td>\n",
       "      <td>80.0</td>\n",
       "      <td>3.0</td>\n",
       "      <td>flat</td>\n",
       "      <td>Avenue de Béthusy 53, 1012 Lausanne, VD</td>\n",
       "      <td>Proche du centre ville</td>\n",
       "      <td>2100.0</td>\n",
       "      <td>None</td>\n",
       "      <td>/en/d/flat-rent-lausanne/5277530?s=2&amp;t=1&amp;l=202...</td>\n",
       "    </tr>\n",
       "    <tr>\n",
       "      <th>2</th>\n",
       "      <td>5249019.0</td>\n",
       "      <td>74.0</td>\n",
       "      <td>3.5</td>\n",
       "      <td>stepped-apartment</td>\n",
       "      <td>Route des Plaines-du-Loup 42, 1018 Lausanne, VD</td>\n",
       "      <td>Magnifique 3,5 pièces avec jardin privé -Immeu...</td>\n",
       "      <td>2150.0</td>\n",
       "      <td>Highlight</td>\n",
       "      <td>/en/d/stepped-apartment-rent-lausanne/5249019?...</td>\n",
       "    </tr>\n",
       "    <tr>\n",
       "      <th>3</th>\n",
       "      <td>5274375.0</td>\n",
       "      <td>108.0</td>\n",
       "      <td>3.5</td>\n",
       "      <td>duplex-maisonette</td>\n",
       "      <td>Route de Prilly 12, 1004 Lausanne, VD</td>\n",
       "      <td>Magnifique logement en duplex entièrement neuf</td>\n",
       "      <td>3160.0</td>\n",
       "      <td>None</td>\n",
       "      <td>/en/d/duplex-maisonette-rent-lausanne/5274375?...</td>\n",
       "    </tr>\n",
       "    <tr>\n",
       "      <th>4</th>\n",
       "      <td>5274374.0</td>\n",
       "      <td>80.0</td>\n",
       "      <td>3.5</td>\n",
       "      <td>flat</td>\n",
       "      <td>Route de Prilly 12, 1004 Lausanne, VD</td>\n",
       "      <td>Nouveaux logements</td>\n",
       "      <td>2085.0</td>\n",
       "      <td>None</td>\n",
       "      <td>/en/d/flat-rent-lausanne/5274374?s=2&amp;t=1&amp;l=202...</td>\n",
       "    </tr>\n",
       "  </tbody>\n",
       "</table>\n",
       "</div>"
      ],
      "text/plain": [
       "          Id SurfaceArea NumRooms               Type  \\\n",
       "0  5286965.0        52.0      2.5               flat   \n",
       "1  5277530.0        80.0      3.0               flat   \n",
       "2  5249019.0        74.0      3.5  stepped-apartment   \n",
       "3  5274375.0       108.0      3.5  duplex-maisonette   \n",
       "4  5274374.0        80.0      3.5               flat   \n",
       "\n",
       "                                           Address  \\\n",
       "0       Route Aloys-Fauquez 124, 1018 Lausanne, VD   \n",
       "1          Avenue de Béthusy 53, 1012 Lausanne, VD   \n",
       "2  Route des Plaines-du-Loup 42, 1018 Lausanne, VD   \n",
       "3            Route de Prilly 12, 1004 Lausanne, VD   \n",
       "4            Route de Prilly 12, 1004 Lausanne, VD   \n",
       "\n",
       "                                         Description    Rent   Bookmark  \\\n",
       "0  Agréable 2 pièces proche de toutes les commodités  1460.0        New   \n",
       "1                             Proche du centre ville  2100.0       None   \n",
       "2  Magnifique 3,5 pièces avec jardin privé -Immeu...  2150.0  Highlight   \n",
       "3     Magnifique logement en duplex entièrement neuf  3160.0       None   \n",
       "4                                 Nouveaux logements  2085.0       None   \n",
       "\n",
       "                                                Link  \n",
       "0  /en/d/flat-rent-lausanne/5286965?s=2&t=1&l=202...  \n",
       "1  /en/d/flat-rent-lausanne/5277530?s=2&t=1&l=202...  \n",
       "2  /en/d/stepped-apartment-rent-lausanne/5249019?...  \n",
       "3  /en/d/duplex-maisonette-rent-lausanne/5274375?...  \n",
       "4  /en/d/flat-rent-lausanne/5274374?s=2&t=1&l=202...  "
      ]
     },
     "execution_count": 30,
     "metadata": {
      "tags": []
     },
     "output_type": "execute_result"
    }
   ],
   "source": [
    "pd.DataFrame(dfs.head(5), columns=dfs.columns)"
   ]
  },
  {
   "cell_type": "markdown",
   "metadata": {
    "colab_type": "text",
    "id": "7yzIo65yPDir"
   },
   "source": [
    "### Get column names"
   ]
  },
  {
   "cell_type": "markdown",
   "metadata": {
    "colab_type": "text",
    "id": "2JlLhmaoPDis"
   },
   "source": [
    "**Pandas**"
   ]
  },
  {
   "cell_type": "code",
   "execution_count": null,
   "metadata": {
    "colab": {
     "base_uri": "https://localhost:8080/",
     "height": 69
    },
    "colab_type": "code",
    "id": "Br6BHhtOPDiu",
    "outputId": "5497e1e8-8366-4403-d4be-9c2beb26c2b0"
   },
   "outputs": [
    {
     "data": {
      "text/plain": [
       "Index(['Id', 'SurfaceArea', 'NumRooms', 'Type', 'Address', 'Description',\n",
       "       'Rent', 'Bookmark', 'Link'],\n",
       "      dtype='object')"
      ]
     },
     "execution_count": 31,
     "metadata": {
      "tags": []
     },
     "output_type": "execute_result"
    }
   ],
   "source": [
    "df.columns"
   ]
  },
  {
   "cell_type": "markdown",
   "metadata": {
    "colab_type": "text",
    "id": "Csoht3swPDi3"
   },
   "source": [
    "**PySpark**"
   ]
  },
  {
   "cell_type": "code",
   "execution_count": null,
   "metadata": {
    "colab": {
     "base_uri": "https://localhost:8080/",
     "height": 173
    },
    "colab_type": "code",
    "id": "QQcNMKvVPDi5",
    "outputId": "5427bfd4-f93f-4d7e-e88f-9cd662dc7308"
   },
   "outputs": [
    {
     "data": {
      "text/plain": [
       "['Id',\n",
       " 'SurfaceArea',\n",
       " 'NumRooms',\n",
       " 'Type',\n",
       " 'Address',\n",
       " 'Description',\n",
       " 'Rent',\n",
       " 'Bookmark',\n",
       " 'Link']"
      ]
     },
     "execution_count": 32,
     "metadata": {
      "tags": []
     },
     "output_type": "execute_result"
    }
   ],
   "source": [
    "dfs.columns"
   ]
  },
  {
   "cell_type": "markdown",
   "metadata": {
    "colab_type": "text",
    "id": "SJ7t3Hi4PDjC"
   },
   "source": [
    "### Get types"
   ]
  },
  {
   "cell_type": "markdown",
   "metadata": {
    "colab_type": "text",
    "id": "_q9ekvWhPDjE"
   },
   "source": [
    "**Pandas**"
   ]
  },
  {
   "cell_type": "code",
   "execution_count": null,
   "metadata": {
    "colab": {
     "base_uri": "https://localhost:8080/",
     "height": 191
    },
    "colab_type": "code",
    "id": "WvrCrM5UPDjF",
    "outputId": "76812ee4-3387-49dd-91bd-1786b5daf928"
   },
   "outputs": [
    {
     "data": {
      "text/plain": [
       "Id             float64\n",
       "SurfaceArea    float64\n",
       "NumRooms       float64\n",
       "Type            object\n",
       "Address         object\n",
       "Description     object\n",
       "Rent           float64\n",
       "Bookmark        object\n",
       "Link            object\n",
       "dtype: object"
      ]
     },
     "execution_count": 33,
     "metadata": {
      "tags": []
     },
     "output_type": "execute_result"
    }
   ],
   "source": [
    "df.dtypes"
   ]
  },
  {
   "cell_type": "markdown",
   "metadata": {
    "colab_type": "text",
    "id": "C-qoCP1oPDjM"
   },
   "source": [
    "**PySpark**"
   ]
  },
  {
   "cell_type": "code",
   "execution_count": null,
   "metadata": {
    "colab": {
     "base_uri": "https://localhost:8080/",
     "height": 173
    },
    "colab_type": "code",
    "id": "SyMD7eA6PDjR",
    "outputId": "1efceb56-4a08-476d-b2ce-1cefdc9f0d15"
   },
   "outputs": [
    {
     "data": {
      "text/plain": [
       "[('Id', 'string'),\n",
       " ('SurfaceArea', 'string'),\n",
       " ('NumRooms', 'string'),\n",
       " ('Type', 'string'),\n",
       " ('Address', 'string'),\n",
       " ('Description', 'string'),\n",
       " ('Rent', 'string'),\n",
       " ('Bookmark', 'string'),\n",
       " ('Link', 'string')]"
      ]
     },
     "execution_count": 34,
     "metadata": {
      "tags": []
     },
     "output_type": "execute_result"
    }
   ],
   "source": [
    "dfs.dtypes"
   ]
  },
  {
   "cell_type": "markdown",
   "metadata": {
    "colab_type": "text",
    "id": "MIQzfpm3PDja"
   },
   "source": [
    "Note that the types in PySpark dont match with those of Pandas. This is becauase pandas automatically recognizes (guesses) the types, while in PySpark we need to explicitely specify the names. "
   ]
  },
  {
   "cell_type": "markdown",
   "metadata": {
    "colab_type": "text",
    "id": "3mxl8rPPPDjf"
   },
   "source": [
    "### Converting column types (or Add columns)"
   ]
  },
  {
   "cell_type": "markdown",
   "metadata": {
    "colab_type": "text",
    "id": "Pkjz1ikUPDjg"
   },
   "source": [
    "**Pandas**"
   ]
  },
  {
   "cell_type": "code",
   "execution_count": null,
   "metadata": {
    "colab": {},
    "colab_type": "code",
    "id": "1ZARZ-qRPDji"
   },
   "outputs": [],
   "source": [
    "df['Id'] = df['Id'].astype('int')"
   ]
  },
  {
   "cell_type": "code",
   "execution_count": null,
   "metadata": {
    "colab": {},
    "colab_type": "code",
    "id": "vP7fvXXzPDjn",
    "outputId": "a4e94ca7-238d-4f11-fcc5-928c61e6f8b4"
   },
   "outputs": [
    {
     "data": {
      "text/plain": [
       "Id                int64\n",
       "SurfaceArea     float64\n",
       "NumRooms        float64\n",
       "Type           category\n",
       "Address          object\n",
       "Description      object\n",
       "Rent            float64\n",
       "Bookmark         object\n",
       "Link             object\n",
       "dtype: object"
      ]
     },
     "execution_count": 30,
     "metadata": {
      "tags": []
     },
     "output_type": "execute_result"
    }
   ],
   "source": [
    "df.dtypes"
   ]
  },
  {
   "cell_type": "markdown",
   "metadata": {
    "colab_type": "text",
    "id": "wR2-5LCLPDju"
   },
   "source": [
    "**PySpark**"
   ]
  },
  {
   "cell_type": "code",
   "execution_count": null,
   "metadata": {
    "colab": {},
    "colab_type": "code",
    "id": "rx50NNhBPDjy"
   },
   "outputs": [],
   "source": [
    "dfs = dfs.withColumn('Id', dfs['Id'].astype('int'))\n",
    "dfs = dfs.withColumn('SurfaceArea', dfs['SurfaceArea'].astype('float'))\n",
    "dfs = dfs.withColumn('Rent', dfs['Rent'].astype('float'))\n",
    "dfs = dfs.withColumn('NumRooms', dfs['NumRooms'].astype('float'))"
   ]
  },
  {
   "cell_type": "code",
   "execution_count": null,
   "metadata": {
    "colab": {},
    "colab_type": "code",
    "id": "GgLKEeyCPDj5",
    "outputId": "1c4ff5c6-f7f2-4866-8fa3-0b8573432d1f"
   },
   "outputs": [
    {
     "data": {
      "text/plain": [
       "[('Id', 'int'),\n",
       " ('SurfaceArea', 'float'),\n",
       " ('NumRooms', 'string'),\n",
       " ('Type', 'string'),\n",
       " ('Address', 'string'),\n",
       " ('Description', 'string'),\n",
       " ('Rent', 'float'),\n",
       " ('Bookmark', 'string'),\n",
       " ('Link', 'string')]"
      ]
     },
     "execution_count": 54,
     "metadata": {
      "tags": []
     },
     "output_type": "execute_result"
    }
   ],
   "source": [
    "dfs.dtypes"
   ]
  },
  {
   "cell_type": "markdown",
   "metadata": {
    "colab_type": "text",
    "id": "tI9MZFqKPDkA"
   },
   "source": [
    "### Rename Columns"
   ]
  },
  {
   "cell_type": "markdown",
   "metadata": {
    "colab_type": "text",
    "id": "ZDijJKN3PDkA"
   },
   "source": [
    "**Pandas**"
   ]
  },
  {
   "cell_type": "code",
   "execution_count": null,
   "metadata": {
    "colab": {},
    "colab_type": "code",
    "id": "kwu2m8FwPDkD"
   },
   "outputs": [],
   "source": [
    "dftmp = df.copy()  # if you don't put the .copy() dftmp \"points\" to the same dataframe as df, so any change of dftmp affects df"
   ]
  },
  {
   "cell_type": "code",
   "execution_count": null,
   "metadata": {
    "colab": {},
    "colab_type": "code",
    "id": "YqTP9zGuPDkL",
    "outputId": "a76cc84c-5258-4cea-bafe-fab9c8a15465"
   },
   "outputs": [
    {
     "data": {
      "text/plain": [
       "Index(['Id', 'SurfaceArea', 'NumRooms', 'Type', 'Address', 'Description',\n",
       "       'Rent', 'Bookmark', 'Link'],\n",
       "      dtype='object')"
      ]
     },
     "execution_count": 10,
     "metadata": {
      "tags": []
     },
     "output_type": "execute_result"
    }
   ],
   "source": [
    "df.columns"
   ]
  },
  {
   "cell_type": "code",
   "execution_count": null,
   "metadata": {
    "colab": {},
    "colab_type": "code",
    "id": "5ntoOOkaPDkV"
   },
   "outputs": [],
   "source": [
    "dftmp.columns = list('ABCDEFGHI')"
   ]
  },
  {
   "cell_type": "code",
   "execution_count": null,
   "metadata": {
    "colab": {},
    "colab_type": "code",
    "id": "zEtIM5SBPDka",
    "outputId": "4e2381c8-fda4-4f55-a77b-52a9c24d8ff9"
   },
   "outputs": [
    {
     "data": {
      "text/plain": [
       "Index(['A', 'B', 'C', 'D', 'E', 'F', 'G', 'H', 'I'], dtype='object')"
      ]
     },
     "execution_count": 12,
     "metadata": {
      "tags": []
     },
     "output_type": "execute_result"
    }
   ],
   "source": [
    "dftmp.columns"
   ]
  },
  {
   "cell_type": "markdown",
   "metadata": {
    "colab_type": "text",
    "id": "zbJTtYZnPDkg"
   },
   "source": [
    "Or for a specific column:"
   ]
  },
  {
   "cell_type": "code",
   "execution_count": null,
   "metadata": {
    "colab": {},
    "colab_type": "code",
    "id": "K_5dvBnBPDki"
   },
   "outputs": [],
   "source": [
    "dftmp = dftmp.rename(columns={'A':'Id'})"
   ]
  },
  {
   "cell_type": "code",
   "execution_count": null,
   "metadata": {
    "colab": {},
    "colab_type": "code",
    "id": "s630paGJPDkq",
    "outputId": "db05c81f-f7fd-4cff-9c70-14f44f611ddf"
   },
   "outputs": [
    {
     "data": {
      "text/html": [
       "<div>\n",
       "<style scoped>\n",
       "    .dataframe tbody tr th:only-of-type {\n",
       "        vertical-align: middle;\n",
       "    }\n",
       "\n",
       "    .dataframe tbody tr th {\n",
       "        vertical-align: top;\n",
       "    }\n",
       "\n",
       "    .dataframe thead th {\n",
       "        text-align: right;\n",
       "    }\n",
       "</style>\n",
       "<table border=\"1\" class=\"dataframe\">\n",
       "  <thead>\n",
       "    <tr style=\"text-align: right;\">\n",
       "      <th></th>\n",
       "      <th>Id</th>\n",
       "      <th>B</th>\n",
       "      <th>C</th>\n",
       "      <th>D</th>\n",
       "      <th>E</th>\n",
       "      <th>F</th>\n",
       "      <th>G</th>\n",
       "      <th>H</th>\n",
       "      <th>I</th>\n",
       "    </tr>\n",
       "  </thead>\n",
       "  <tbody>\n",
       "    <tr>\n",
       "      <th>0</th>\n",
       "      <td>5286965.0</td>\n",
       "      <td>52.0</td>\n",
       "      <td>2.5</td>\n",
       "      <td>flat</td>\n",
       "      <td>Route Aloys-Fauquez 124, 1018 Lausanne, VD</td>\n",
       "      <td>Agréable 2 pièces proche de toutes les commodités</td>\n",
       "      <td>1460.0</td>\n",
       "      <td>New</td>\n",
       "      <td>/en/d/flat-rent-lausanne/5286965?s=2&amp;t=1&amp;l=202...</td>\n",
       "    </tr>\n",
       "    <tr>\n",
       "      <th>1</th>\n",
       "      <td>5277530.0</td>\n",
       "      <td>80.0</td>\n",
       "      <td>3.0</td>\n",
       "      <td>flat</td>\n",
       "      <td>Avenue de Béthusy 53, 1012 Lausanne, VD</td>\n",
       "      <td>Proche du centre ville</td>\n",
       "      <td>2100.0</td>\n",
       "      <td>NaN</td>\n",
       "      <td>/en/d/flat-rent-lausanne/5277530?s=2&amp;t=1&amp;l=202...</td>\n",
       "    </tr>\n",
       "    <tr>\n",
       "      <th>2</th>\n",
       "      <td>5249019.0</td>\n",
       "      <td>74.0</td>\n",
       "      <td>3.5</td>\n",
       "      <td>stepped-apartment</td>\n",
       "      <td>Route des Plaines-du-Loup 42, 1018 Lausanne, VD</td>\n",
       "      <td>Magnifique 3,5 pièces avec jardin privé -Immeu...</td>\n",
       "      <td>2150.0</td>\n",
       "      <td>Highlight</td>\n",
       "      <td>/en/d/stepped-apartment-rent-lausanne/5249019?...</td>\n",
       "    </tr>\n",
       "    <tr>\n",
       "      <th>3</th>\n",
       "      <td>5274375.0</td>\n",
       "      <td>108.0</td>\n",
       "      <td>3.5</td>\n",
       "      <td>duplex-maisonette</td>\n",
       "      <td>Route de Prilly 12, 1004 Lausanne, VD</td>\n",
       "      <td>Magnifique logement en duplex entièrement neuf</td>\n",
       "      <td>3160.0</td>\n",
       "      <td>NaN</td>\n",
       "      <td>/en/d/duplex-maisonette-rent-lausanne/5274375?...</td>\n",
       "    </tr>\n",
       "    <tr>\n",
       "      <th>4</th>\n",
       "      <td>5274374.0</td>\n",
       "      <td>80.0</td>\n",
       "      <td>3.5</td>\n",
       "      <td>flat</td>\n",
       "      <td>Route de Prilly 12, 1004 Lausanne, VD</td>\n",
       "      <td>Nouveaux logements</td>\n",
       "      <td>2085.0</td>\n",
       "      <td>NaN</td>\n",
       "      <td>/en/d/flat-rent-lausanne/5274374?s=2&amp;t=1&amp;l=202...</td>\n",
       "    </tr>\n",
       "  </tbody>\n",
       "</table>\n",
       "</div>"
      ],
      "text/plain": [
       "          Id      B    C                  D  \\\n",
       "0  5286965.0   52.0  2.5               flat   \n",
       "1  5277530.0   80.0  3.0               flat   \n",
       "2  5249019.0   74.0  3.5  stepped-apartment   \n",
       "3  5274375.0  108.0  3.5  duplex-maisonette   \n",
       "4  5274374.0   80.0  3.5               flat   \n",
       "\n",
       "                                                 E  \\\n",
       "0       Route Aloys-Fauquez 124, 1018 Lausanne, VD   \n",
       "1          Avenue de Béthusy 53, 1012 Lausanne, VD   \n",
       "2  Route des Plaines-du-Loup 42, 1018 Lausanne, VD   \n",
       "3            Route de Prilly 12, 1004 Lausanne, VD   \n",
       "4            Route de Prilly 12, 1004 Lausanne, VD   \n",
       "\n",
       "                                                   F       G          H  \\\n",
       "0  Agréable 2 pièces proche de toutes les commodités  1460.0        New   \n",
       "1                             Proche du centre ville  2100.0        NaN   \n",
       "2  Magnifique 3,5 pièces avec jardin privé -Immeu...  2150.0  Highlight   \n",
       "3     Magnifique logement en duplex entièrement neuf  3160.0        NaN   \n",
       "4                                 Nouveaux logements  2085.0        NaN   \n",
       "\n",
       "                                                   I  \n",
       "0  /en/d/flat-rent-lausanne/5286965?s=2&t=1&l=202...  \n",
       "1  /en/d/flat-rent-lausanne/5277530?s=2&t=1&l=202...  \n",
       "2  /en/d/stepped-apartment-rent-lausanne/5249019?...  \n",
       "3  /en/d/duplex-maisonette-rent-lausanne/5274375?...  \n",
       "4  /en/d/flat-rent-lausanne/5274374?s=2&t=1&l=202...  "
      ]
     },
     "execution_count": 14,
     "metadata": {
      "tags": []
     },
     "output_type": "execute_result"
    }
   ],
   "source": [
    "dftmp.head()"
   ]
  },
  {
   "cell_type": "markdown",
   "metadata": {
    "colab_type": "text",
    "id": "vARH2VzUPDkv"
   },
   "source": [
    "**PySpark**"
   ]
  },
  {
   "cell_type": "code",
   "execution_count": null,
   "metadata": {
    "colab": {},
    "colab_type": "code",
    "id": "d4ZQhBe4PDkw",
    "outputId": "c02914d3-39e8-4ed5-e666-4946ad9aba5f"
   },
   "outputs": [
    {
     "data": {
      "text/plain": [
       "DataFrame[A: string, B: string, C: string, D: string, E: string, F: string, G: string, H: string, I: string]"
      ]
     },
     "execution_count": 15,
     "metadata": {
      "tags": []
     },
     "output_type": "execute_result"
    }
   ],
   "source": [
    "dfs.toDF('A', 'B', 'C', 'D', 'E', 'F', 'G', 'H', 'I') # note that the changes in PySpark are immutable"
   ]
  },
  {
   "cell_type": "code",
   "execution_count": null,
   "metadata": {
    "colab": {},
    "colab_type": "code",
    "id": "5WCW2lxqPDk0",
    "outputId": "5904e184-bbb0-4fe2-bd1a-aba701ade38a"
   },
   "outputs": [
    {
     "data": {
      "text/plain": [
       "['Id',\n",
       " 'SurfaceArea',\n",
       " 'NumRooms',\n",
       " 'Type',\n",
       " 'Address',\n",
       " 'Description',\n",
       " 'Rent',\n",
       " 'Bookmark',\n",
       " 'Link']"
      ]
     },
     "execution_count": 16,
     "metadata": {
      "tags": []
     },
     "output_type": "execute_result"
    }
   ],
   "source": [
    "dfs.columns"
   ]
  },
  {
   "cell_type": "code",
   "execution_count": null,
   "metadata": {
    "colab": {},
    "colab_type": "code",
    "id": "Vnf2JzL1PDk5",
    "outputId": "72fb53e7-ed43-4441-884a-97ea8e293be1"
   },
   "outputs": [
    {
     "data": {
      "text/plain": [
       "DataFrame[A: string, SurfaceArea: string, NumRooms: string, Type: string, Address: string, Description: string, Rent: string, Bookmark: string, Link: string]"
      ]
     },
     "execution_count": 17,
     "metadata": {
      "tags": []
     },
     "output_type": "execute_result"
    }
   ],
   "source": [
    "dfs.withColumnRenamed('Id', 'A') # again immutable"
   ]
  },
  {
   "cell_type": "code",
   "execution_count": null,
   "metadata": {
    "colab": {},
    "colab_type": "code",
    "id": "oV3bYQQDPDk8",
    "outputId": "24b71dff-a840-490b-d0e5-260dd7d513d0"
   },
   "outputs": [
    {
     "data": {
      "text/plain": [
       "['Id',\n",
       " 'SurfaceArea',\n",
       " 'NumRooms',\n",
       " 'Type',\n",
       " 'Address',\n",
       " 'Description',\n",
       " 'Rent',\n",
       " 'Bookmark',\n",
       " 'Link']"
      ]
     },
     "execution_count": 18,
     "metadata": {
      "tags": []
     },
     "output_type": "execute_result"
    }
   ],
   "source": [
    "dfs.columns"
   ]
  },
  {
   "cell_type": "markdown",
   "metadata": {
    "colab_type": "text",
    "id": "y8rzRRd8PDlC"
   },
   "source": [
    "### Drop columns"
   ]
  },
  {
   "cell_type": "markdown",
   "metadata": {
    "colab_type": "text",
    "id": "gas2u-7NPDlD"
   },
   "source": [
    "**Pandas**"
   ]
  },
  {
   "cell_type": "code",
   "execution_count": null,
   "metadata": {
    "colab": {},
    "colab_type": "code",
    "id": "lBvz_8yOPDlI",
    "outputId": "1b34b699-fb46-44d7-dbb6-93ee0378cc2a"
   },
   "outputs": [
    {
     "data": {
      "text/html": [
       "<div>\n",
       "<style scoped>\n",
       "    .dataframe tbody tr th:only-of-type {\n",
       "        vertical-align: middle;\n",
       "    }\n",
       "\n",
       "    .dataframe tbody tr th {\n",
       "        vertical-align: top;\n",
       "    }\n",
       "\n",
       "    .dataframe thead th {\n",
       "        text-align: right;\n",
       "    }\n",
       "</style>\n",
       "<table border=\"1\" class=\"dataframe\">\n",
       "  <thead>\n",
       "    <tr style=\"text-align: right;\">\n",
       "      <th></th>\n",
       "      <th>SurfaceArea</th>\n",
       "      <th>NumRooms</th>\n",
       "      <th>Type</th>\n",
       "      <th>Address</th>\n",
       "      <th>Description</th>\n",
       "      <th>Rent</th>\n",
       "      <th>Bookmark</th>\n",
       "      <th>Link</th>\n",
       "    </tr>\n",
       "  </thead>\n",
       "  <tbody>\n",
       "    <tr>\n",
       "      <th>0</th>\n",
       "      <td>52.0</td>\n",
       "      <td>2.5</td>\n",
       "      <td>flat</td>\n",
       "      <td>Route Aloys-Fauquez 124, 1018 Lausanne, VD</td>\n",
       "      <td>Agréable 2 pièces proche de toutes les commodités</td>\n",
       "      <td>1460.0</td>\n",
       "      <td>New</td>\n",
       "      <td>/en/d/flat-rent-lausanne/5286965?s=2&amp;t=1&amp;l=202...</td>\n",
       "    </tr>\n",
       "    <tr>\n",
       "      <th>1</th>\n",
       "      <td>80.0</td>\n",
       "      <td>3.0</td>\n",
       "      <td>flat</td>\n",
       "      <td>Avenue de Béthusy 53, 1012 Lausanne, VD</td>\n",
       "      <td>Proche du centre ville</td>\n",
       "      <td>2100.0</td>\n",
       "      <td>NaN</td>\n",
       "      <td>/en/d/flat-rent-lausanne/5277530?s=2&amp;t=1&amp;l=202...</td>\n",
       "    </tr>\n",
       "    <tr>\n",
       "      <th>2</th>\n",
       "      <td>74.0</td>\n",
       "      <td>3.5</td>\n",
       "      <td>stepped-apartment</td>\n",
       "      <td>Route des Plaines-du-Loup 42, 1018 Lausanne, VD</td>\n",
       "      <td>Magnifique 3,5 pièces avec jardin privé -Immeu...</td>\n",
       "      <td>2150.0</td>\n",
       "      <td>Highlight</td>\n",
       "      <td>/en/d/stepped-apartment-rent-lausanne/5249019?...</td>\n",
       "    </tr>\n",
       "    <tr>\n",
       "      <th>3</th>\n",
       "      <td>108.0</td>\n",
       "      <td>3.5</td>\n",
       "      <td>duplex-maisonette</td>\n",
       "      <td>Route de Prilly 12, 1004 Lausanne, VD</td>\n",
       "      <td>Magnifique logement en duplex entièrement neuf</td>\n",
       "      <td>3160.0</td>\n",
       "      <td>NaN</td>\n",
       "      <td>/en/d/duplex-maisonette-rent-lausanne/5274375?...</td>\n",
       "    </tr>\n",
       "    <tr>\n",
       "      <th>4</th>\n",
       "      <td>80.0</td>\n",
       "      <td>3.5</td>\n",
       "      <td>flat</td>\n",
       "      <td>Route de Prilly 12, 1004 Lausanne, VD</td>\n",
       "      <td>Nouveaux logements</td>\n",
       "      <td>2085.0</td>\n",
       "      <td>NaN</td>\n",
       "      <td>/en/d/flat-rent-lausanne/5274374?s=2&amp;t=1&amp;l=202...</td>\n",
       "    </tr>\n",
       "  </tbody>\n",
       "</table>\n",
       "</div>"
      ],
      "text/plain": [
       "   SurfaceArea  NumRooms               Type  \\\n",
       "0         52.0       2.5               flat   \n",
       "1         80.0       3.0               flat   \n",
       "2         74.0       3.5  stepped-apartment   \n",
       "3        108.0       3.5  duplex-maisonette   \n",
       "4         80.0       3.5               flat   \n",
       "\n",
       "                                           Address  \\\n",
       "0       Route Aloys-Fauquez 124, 1018 Lausanne, VD   \n",
       "1          Avenue de Béthusy 53, 1012 Lausanne, VD   \n",
       "2  Route des Plaines-du-Loup 42, 1018 Lausanne, VD   \n",
       "3            Route de Prilly 12, 1004 Lausanne, VD   \n",
       "4            Route de Prilly 12, 1004 Lausanne, VD   \n",
       "\n",
       "                                         Description    Rent   Bookmark  \\\n",
       "0  Agréable 2 pièces proche de toutes les commodités  1460.0        New   \n",
       "1                             Proche du centre ville  2100.0        NaN   \n",
       "2  Magnifique 3,5 pièces avec jardin privé -Immeu...  2150.0  Highlight   \n",
       "3     Magnifique logement en duplex entièrement neuf  3160.0        NaN   \n",
       "4                                 Nouveaux logements  2085.0        NaN   \n",
       "\n",
       "                                                Link  \n",
       "0  /en/d/flat-rent-lausanne/5286965?s=2&t=1&l=202...  \n",
       "1  /en/d/flat-rent-lausanne/5277530?s=2&t=1&l=202...  \n",
       "2  /en/d/stepped-apartment-rent-lausanne/5249019?...  \n",
       "3  /en/d/duplex-maisonette-rent-lausanne/5274375?...  \n",
       "4  /en/d/flat-rent-lausanne/5274374?s=2&t=1&l=202...  "
      ]
     },
     "execution_count": 57,
     "metadata": {
      "tags": []
     },
     "output_type": "execute_result"
    }
   ],
   "source": [
    "df.drop('Id', axis = 1).head() # immutable"
   ]
  },
  {
   "cell_type": "code",
   "execution_count": null,
   "metadata": {
    "colab": {},
    "colab_type": "code",
    "id": "xprq6w4HPDlN",
    "outputId": "3512a972-756b-4eab-aa6a-7f742edde0d0"
   },
   "outputs": [
    {
     "name": "stdout",
     "output_type": "stream",
     "text": [
      "+-----------+--------+-----------------+--------------------+--------------------+------+---------+--------------------+\n",
      "|SurfaceArea|NumRooms|             Type|             Address|         Description|  Rent| Bookmark|                Link|\n",
      "+-----------+--------+-----------------+--------------------+--------------------+------+---------+--------------------+\n",
      "|       52.0|     2.5|             flat|Route Aloys-Fauqu...|Agréable 2 pièces...|1460.0|      New|/en/d/flat-rent-l...|\n",
      "|       80.0|     3.0|             flat|Avenue de Béthusy...|Proche du centre ...|2100.0|     null|/en/d/flat-rent-l...|\n",
      "|       74.0|     3.5|stepped-apartment|Route des Plaines...|Magnifique 3,5 pi...|2150.0|Highlight|/en/d/stepped-apa...|\n",
      "|      108.0|     3.5|duplex-maisonette|Route de Prilly 1...|Magnifique logeme...|3160.0|     null|/en/d/duplex-mais...|\n",
      "|       80.0|     3.5|             flat|Route de Prilly 1...|  Nouveaux logements|2085.0|     null|/en/d/flat-rent-l...|\n",
      "+-----------+--------+-----------------+--------------------+--------------------+------+---------+--------------------+\n",
      "only showing top 5 rows\n",
      "\n"
     ]
    }
   ],
   "source": [
    "dfs.drop('Id').show(5) # immutable"
   ]
  },
  {
   "cell_type": "markdown",
   "metadata": {
    "colab_type": "text",
    "id": "X1Z9REnZPDlR"
   },
   "source": [
    "### Summary Statistics: Describe"
   ]
  },
  {
   "cell_type": "markdown",
   "metadata": {
    "colab_type": "text",
    "id": "ot94DNVQPDlT"
   },
   "source": [
    "**Pandas**"
   ]
  },
  {
   "cell_type": "code",
   "execution_count": null,
   "metadata": {
    "colab": {},
    "colab_type": "code",
    "id": "tPRHtLy-PDlT",
    "outputId": "4455e135-fc05-45c2-915b-56db8e828ac7"
   },
   "outputs": [
    {
     "data": {
      "text/html": [
       "<div>\n",
       "<style scoped>\n",
       "    .dataframe tbody tr th:only-of-type {\n",
       "        vertical-align: middle;\n",
       "    }\n",
       "\n",
       "    .dataframe tbody tr th {\n",
       "        vertical-align: top;\n",
       "    }\n",
       "\n",
       "    .dataframe thead th {\n",
       "        text-align: right;\n",
       "    }\n",
       "</style>\n",
       "<table border=\"1\" class=\"dataframe\">\n",
       "  <thead>\n",
       "    <tr style=\"text-align: right;\">\n",
       "      <th></th>\n",
       "      <th>Id</th>\n",
       "      <th>SurfaceArea</th>\n",
       "      <th>NumRooms</th>\n",
       "      <th>Rent</th>\n",
       "    </tr>\n",
       "  </thead>\n",
       "  <tbody>\n",
       "    <tr>\n",
       "      <th>count</th>\n",
       "      <td>5.930000e+02</td>\n",
       "      <td>533.000000</td>\n",
       "      <td>491.000000</td>\n",
       "      <td>588.000000</td>\n",
       "    </tr>\n",
       "    <tr>\n",
       "      <th>mean</th>\n",
       "      <td>5.192966e+06</td>\n",
       "      <td>74.628518</td>\n",
       "      <td>3.230143</td>\n",
       "      <td>1993.539116</td>\n",
       "    </tr>\n",
       "    <tr>\n",
       "      <th>std</th>\n",
       "      <td>1.777511e+05</td>\n",
       "      <td>44.516628</td>\n",
       "      <td>1.217218</td>\n",
       "      <td>1013.944446</td>\n",
       "    </tr>\n",
       "    <tr>\n",
       "      <th>min</th>\n",
       "      <td>3.641118e+06</td>\n",
       "      <td>1.000000</td>\n",
       "      <td>1.500000</td>\n",
       "      <td>300.000000</td>\n",
       "    </tr>\n",
       "    <tr>\n",
       "      <th>25%</th>\n",
       "      <td>5.200706e+06</td>\n",
       "      <td>49.000000</td>\n",
       "      <td>2.500000</td>\n",
       "      <td>1358.750000</td>\n",
       "    </tr>\n",
       "    <tr>\n",
       "      <th>50%</th>\n",
       "      <td>5.257101e+06</td>\n",
       "      <td>69.000000</td>\n",
       "      <td>3.000000</td>\n",
       "      <td>1795.000000</td>\n",
       "    </tr>\n",
       "    <tr>\n",
       "      <th>75%</th>\n",
       "      <td>5.277133e+06</td>\n",
       "      <td>96.000000</td>\n",
       "      <td>3.500000</td>\n",
       "      <td>2463.750000</td>\n",
       "    </tr>\n",
       "    <tr>\n",
       "      <th>max</th>\n",
       "      <td>5.288318e+06</td>\n",
       "      <td>540.000000</td>\n",
       "      <td>11.000000</td>\n",
       "      <td>8900.000000</td>\n",
       "    </tr>\n",
       "  </tbody>\n",
       "</table>\n",
       "</div>"
      ],
      "text/plain": [
       "                 Id  SurfaceArea    NumRooms         Rent\n",
       "count  5.930000e+02   533.000000  491.000000   588.000000\n",
       "mean   5.192966e+06    74.628518    3.230143  1993.539116\n",
       "std    1.777511e+05    44.516628    1.217218  1013.944446\n",
       "min    3.641118e+06     1.000000    1.500000   300.000000\n",
       "25%    5.200706e+06    49.000000    2.500000  1358.750000\n",
       "50%    5.257101e+06    69.000000    3.000000  1795.000000\n",
       "75%    5.277133e+06    96.000000    3.500000  2463.750000\n",
       "max    5.288318e+06   540.000000   11.000000  8900.000000"
      ]
     },
     "execution_count": 52,
     "metadata": {
      "tags": []
     },
     "output_type": "execute_result"
    }
   ],
   "source": [
    "df.describe()"
   ]
  },
  {
   "cell_type": "markdown",
   "metadata": {
    "colab_type": "text",
    "id": "nKf_dbQCPDlY"
   },
   "source": [
    "**PySpark**"
   ]
  },
  {
   "cell_type": "code",
   "execution_count": null,
   "metadata": {
    "colab": {},
    "colab_type": "code",
    "id": "TBcxrsKqPDlZ",
    "outputId": "6496d9af-becd-43db-d503-eabab9f0cafd"
   },
   "outputs": [
    {
     "name": "stdout",
     "output_type": "stream",
     "text": [
      "+-------+------------------+-----------------+-----------------+----------+--------------------+--------------------+------------------+--------------------+--------------------+\n",
      "|summary|                Id|      SurfaceArea|         NumRooms|      Type|             Address|         Description|              Rent|            Bookmark|                Link|\n",
      "+-------+------------------+-----------------+-----------------+----------+--------------------+--------------------+------------------+--------------------+--------------------+\n",
      "|  count|               593|              533|              491|       593|                 593|                 585|               587|                  68|                 593|\n",
      "|   mean| 5192965.986509275|74.62851782363977|3.230142566191446|      null|                null|                null|1984.3287904599658|                null|              7400.0|\n",
      "| stddev|177751.12215332632|44.51662793438704| 1.21721821532338|      null|                null|                null| 989.8851120494071|                null|                 NaN|\n",
      "|    min|           3641118|              1.0|              1.5|attic-flat|              \"\"\"-\"\"|       1005 Lausanne|             300.0|## «A louer chamb...|/en/d/attic-flat-...|\n",
      "|    max|           5288318|            540.0|              8.5|    studio|rue saint francoi...|à louer, Appartem...|            8900.0|        Virtual tour|              7400.0|\n",
      "+-------+------------------+-----------------+-----------------+----------+--------------------+--------------------+------------------+--------------------+--------------------+\n",
      "\n"
     ]
    }
   ],
   "source": [
    "dfs.describe().show()"
   ]
  },
  {
   "cell_type": "code",
   "execution_count": null,
   "metadata": {
    "colab": {},
    "colab_type": "code",
    "id": "-eHmIEODPDle",
    "outputId": "c87c06bf-631c-4694-c0f6-1553108c839c"
   },
   "outputs": [
    {
     "data": {
      "text/html": [
       "<div>\n",
       "<style scoped>\n",
       "    .dataframe tbody tr th:only-of-type {\n",
       "        vertical-align: middle;\n",
       "    }\n",
       "\n",
       "    .dataframe tbody tr th {\n",
       "        vertical-align: top;\n",
       "    }\n",
       "\n",
       "    .dataframe thead th {\n",
       "        text-align: right;\n",
       "    }\n",
       "</style>\n",
       "<table border=\"1\" class=\"dataframe\">\n",
       "  <thead>\n",
       "    <tr style=\"text-align: right;\">\n",
       "      <th></th>\n",
       "      <th>summary</th>\n",
       "      <th>Id</th>\n",
       "      <th>SurfaceArea</th>\n",
       "      <th>NumRooms</th>\n",
       "      <th>Type</th>\n",
       "      <th>Address</th>\n",
       "      <th>Description</th>\n",
       "      <th>Rent</th>\n",
       "      <th>Bookmark</th>\n",
       "      <th>Link</th>\n",
       "    </tr>\n",
       "  </thead>\n",
       "  <tbody>\n",
       "    <tr>\n",
       "      <th>0</th>\n",
       "      <td>count</td>\n",
       "      <td>593</td>\n",
       "      <td>533</td>\n",
       "      <td>491</td>\n",
       "      <td>593</td>\n",
       "      <td>593</td>\n",
       "      <td>585</td>\n",
       "      <td>587</td>\n",
       "      <td>68</td>\n",
       "      <td>593</td>\n",
       "    </tr>\n",
       "    <tr>\n",
       "      <th>1</th>\n",
       "      <td>mean</td>\n",
       "      <td>5192965.986509275</td>\n",
       "      <td>74.62851782363977</td>\n",
       "      <td>3.230142566191446</td>\n",
       "      <td>None</td>\n",
       "      <td>None</td>\n",
       "      <td>None</td>\n",
       "      <td>1984.3287904599658</td>\n",
       "      <td>None</td>\n",
       "      <td>7400.0</td>\n",
       "    </tr>\n",
       "    <tr>\n",
       "      <th>2</th>\n",
       "      <td>stddev</td>\n",
       "      <td>177751.12215332632</td>\n",
       "      <td>44.51662793438704</td>\n",
       "      <td>1.21721821532338</td>\n",
       "      <td>None</td>\n",
       "      <td>None</td>\n",
       "      <td>None</td>\n",
       "      <td>989.8851120494071</td>\n",
       "      <td>None</td>\n",
       "      <td>NaN</td>\n",
       "    </tr>\n",
       "    <tr>\n",
       "      <th>3</th>\n",
       "      <td>min</td>\n",
       "      <td>3641118</td>\n",
       "      <td>1.0</td>\n",
       "      <td>1.5</td>\n",
       "      <td>attic-flat</td>\n",
       "      <td>\"\"\"-\"\"</td>\n",
       "      <td>1005 Lausanne</td>\n",
       "      <td>300.0</td>\n",
       "      <td>## «A louer chambre à côté du CHUV pour le moi...</td>\n",
       "      <td>/en/d/attic-flat-rent-lausanne/5204786?s=2&amp;t=1...</td>\n",
       "    </tr>\n",
       "    <tr>\n",
       "      <th>4</th>\n",
       "      <td>max</td>\n",
       "      <td>5288318</td>\n",
       "      <td>540.0</td>\n",
       "      <td>8.5</td>\n",
       "      <td>studio</td>\n",
       "      <td>rue saint francois, 1003 Lausanne, VDClose### ...</td>\n",
       "      <td>à louer, Appartement, 1010 Lausanne, Réf 1998728</td>\n",
       "      <td>8900.0</td>\n",
       "      <td>Virtual tour</td>\n",
       "      <td>7400.0</td>\n",
       "    </tr>\n",
       "  </tbody>\n",
       "</table>\n",
       "</div>"
      ],
      "text/plain": [
       "  summary                  Id        SurfaceArea           NumRooms  \\\n",
       "0   count                 593                533                491   \n",
       "1    mean   5192965.986509275  74.62851782363977  3.230142566191446   \n",
       "2  stddev  177751.12215332632  44.51662793438704   1.21721821532338   \n",
       "3     min             3641118                1.0                1.5   \n",
       "4     max             5288318              540.0                8.5   \n",
       "\n",
       "         Type                                            Address  \\\n",
       "0         593                                                593   \n",
       "1        None                                               None   \n",
       "2        None                                               None   \n",
       "3  attic-flat                                             \"\"\"-\"\"   \n",
       "4      studio  rue saint francois, 1003 Lausanne, VDClose### ...   \n",
       "\n",
       "                                        Description                Rent  \\\n",
       "0                                               585                 587   \n",
       "1                                              None  1984.3287904599658   \n",
       "2                                              None   989.8851120494071   \n",
       "3                                     1005 Lausanne               300.0   \n",
       "4  à louer, Appartement, 1010 Lausanne, Réf 1998728              8900.0   \n",
       "\n",
       "                                            Bookmark  \\\n",
       "0                                                 68   \n",
       "1                                               None   \n",
       "2                                               None   \n",
       "3  ## «A louer chambre à côté du CHUV pour le moi...   \n",
       "4                                       Virtual tour   \n",
       "\n",
       "                                                Link  \n",
       "0                                                593  \n",
       "1                                             7400.0  \n",
       "2                                                NaN  \n",
       "3  /en/d/attic-flat-rent-lausanne/5204786?s=2&t=1...  \n",
       "4                                             7400.0  "
      ]
     },
     "execution_count": 58,
     "metadata": {
      "tags": []
     },
     "output_type": "execute_result"
    }
   ],
   "source": [
    "dfs.describe().toPandas()"
   ]
  },
  {
   "cell_type": "markdown",
   "metadata": {
    "colab_type": "text",
    "id": "IKeDf6twPDlh"
   },
   "source": [
    "### Slicing (Filtering)"
   ]
  },
  {
   "cell_type": "markdown",
   "metadata": {
    "colab_type": "text",
    "id": "SwHM15WBPDli"
   },
   "source": [
    "**Pandas**"
   ]
  },
  {
   "cell_type": "code",
   "execution_count": null,
   "metadata": {
    "colab": {},
    "colab_type": "code",
    "id": "teajcu9KPDli",
    "outputId": "30396754-a5b0-4828-be44-fc4306d9b036"
   },
   "outputs": [
    {
     "data": {
      "text/html": [
       "<div>\n",
       "<style scoped>\n",
       "    .dataframe tbody tr th:only-of-type {\n",
       "        vertical-align: middle;\n",
       "    }\n",
       "\n",
       "    .dataframe tbody tr th {\n",
       "        vertical-align: top;\n",
       "    }\n",
       "\n",
       "    .dataframe thead th {\n",
       "        text-align: right;\n",
       "    }\n",
       "</style>\n",
       "<table border=\"1\" class=\"dataframe\">\n",
       "  <thead>\n",
       "    <tr style=\"text-align: right;\">\n",
       "      <th></th>\n",
       "      <th>Id</th>\n",
       "      <th>SurfaceArea</th>\n",
       "      <th>NumRooms</th>\n",
       "      <th>Type</th>\n",
       "      <th>Address</th>\n",
       "      <th>Description</th>\n",
       "      <th>Rent</th>\n",
       "      <th>Bookmark</th>\n",
       "      <th>Link</th>\n",
       "    </tr>\n",
       "  </thead>\n",
       "  <tbody>\n",
       "    <tr>\n",
       "      <th>9</th>\n",
       "      <td>5275170</td>\n",
       "      <td>13.0</td>\n",
       "      <td>NaN</td>\n",
       "      <td>single-room</td>\n",
       "      <td>Av. de Chailly 52, 1012 Lausanne, VD</td>\n",
       "      <td>Pour petit budget - Quartier tranquille proche...</td>\n",
       "      <td>360.0</td>\n",
       "      <td>NaN</td>\n",
       "      <td>/en/d/single-room-rent-lausanne/5275170?s=2&amp;t=...</td>\n",
       "    </tr>\n",
       "    <tr>\n",
       "      <th>10</th>\n",
       "      <td>5212203</td>\n",
       "      <td>13.0</td>\n",
       "      <td>NaN</td>\n",
       "      <td>single-room</td>\n",
       "      <td>Av. de Chailly 52, 1012 Lausanne, VD</td>\n",
       "      <td>Proche de toutes les commodités</td>\n",
       "      <td>380.0</td>\n",
       "      <td>NaN</td>\n",
       "      <td>/en/d/single-room-rent-lausanne/5212203?s=2&amp;t=...</td>\n",
       "    </tr>\n",
       "    <tr>\n",
       "      <th>11</th>\n",
       "      <td>5251291</td>\n",
       "      <td>19.0</td>\n",
       "      <td>NaN</td>\n",
       "      <td>flat</td>\n",
       "      <td>Av. de Riant-Mont 15, 1004 Lausanne, VD</td>\n",
       "      <td>Appartement, 1.0 pièce(s)</td>\n",
       "      <td>637.0</td>\n",
       "      <td>NaN</td>\n",
       "      <td>/en/d/flat-rent-s)»lausanne/5251291?s=2&amp;t=1&amp;l=...</td>\n",
       "    </tr>\n",
       "    <tr>\n",
       "      <th>12</th>\n",
       "      <td>5279333</td>\n",
       "      <td>20.0</td>\n",
       "      <td>NaN</td>\n",
       "      <td>flat</td>\n",
       "      <td>Av. de Tivoli 19Bis, 1007 Lausanne, VD</td>\n",
       "      <td>Appartement, 1.0 pièce(s)</td>\n",
       "      <td>725.0</td>\n",
       "      <td>NaN</td>\n",
       "      <td>/en/d/flat-rent-s)»lausanne/5279333?s=2&amp;t=1&amp;l=...</td>\n",
       "    </tr>\n",
       "    <tr>\n",
       "      <th>13</th>\n",
       "      <td>5280881</td>\n",
       "      <td>27.0</td>\n",
       "      <td>NaN</td>\n",
       "      <td>flat</td>\n",
       "      <td>Isabelle de Montolieu 161, 1010 Lausanne, VD</td>\n",
       "      <td>Haut de la Ville - quartier Vennes - proche de...</td>\n",
       "      <td>780.0</td>\n",
       "      <td>NaN</td>\n",
       "      <td>/en/d/flat-rent-lausanne/5280881?s=2&amp;t=1&amp;l=202...</td>\n",
       "    </tr>\n",
       "  </tbody>\n",
       "</table>\n",
       "</div>"
      ],
      "text/plain": [
       "         Id  SurfaceArea  NumRooms         Type  \\\n",
       "9   5275170         13.0       NaN  single-room   \n",
       "10  5212203         13.0       NaN  single-room   \n",
       "11  5251291         19.0       NaN         flat   \n",
       "12  5279333         20.0       NaN         flat   \n",
       "13  5280881         27.0       NaN         flat   \n",
       "\n",
       "                                         Address  \\\n",
       "9           Av. de Chailly 52, 1012 Lausanne, VD   \n",
       "10          Av. de Chailly 52, 1012 Lausanne, VD   \n",
       "11       Av. de Riant-Mont 15, 1004 Lausanne, VD   \n",
       "12        Av. de Tivoli 19Bis, 1007 Lausanne, VD   \n",
       "13  Isabelle de Montolieu 161, 1010 Lausanne, VD   \n",
       "\n",
       "                                          Description   Rent Bookmark  \\\n",
       "9   Pour petit budget - Quartier tranquille proche...  360.0      NaN   \n",
       "10                    Proche de toutes les commodités  380.0      NaN   \n",
       "11                          Appartement, 1.0 pièce(s)  637.0      NaN   \n",
       "12                          Appartement, 1.0 pièce(s)  725.0      NaN   \n",
       "13  Haut de la Ville - quartier Vennes - proche de...  780.0      NaN   \n",
       "\n",
       "                                                 Link  \n",
       "9   /en/d/single-room-rent-lausanne/5275170?s=2&t=...  \n",
       "10  /en/d/single-room-rent-lausanne/5212203?s=2&t=...  \n",
       "11  /en/d/flat-rent-s)»lausanne/5251291?s=2&t=1&l=...  \n",
       "12  /en/d/flat-rent-s)»lausanne/5279333?s=2&t=1&l=...  \n",
       "13  /en/d/flat-rent-lausanne/5280881?s=2&t=1&l=202...  "
      ]
     },
     "execution_count": 62,
     "metadata": {
      "tags": []
     },
     "output_type": "execute_result"
    }
   ],
   "source": [
    "df[df['SurfaceArea'] < 50].head()"
   ]
  },
  {
   "cell_type": "code",
   "execution_count": null,
   "metadata": {
    "colab": {},
    "colab_type": "code",
    "id": "_1xMm2_EPDlm",
    "outputId": "130016ed-6309-46f1-a417-c66ec45078c6"
   },
   "outputs": [
    {
     "name": "stdout",
     "output_type": "stream",
     "text": [
      "+-------+-----------+--------+-----------+--------------------+--------------------+-----+--------+--------------------+\n",
      "|     Id|SurfaceArea|NumRooms|       Type|             Address|         Description| Rent|Bookmark|                Link|\n",
      "+-------+-----------+--------+-----------+--------------------+--------------------+-----+--------+--------------------+\n",
      "|5275170|       13.0|    null|single-room|Av. de Chailly 52...|Pour petit budget...|360.0|    null|/en/d/single-room...|\n",
      "|5212203|       13.0|    null|single-room|Av. de Chailly 52...|Proche de toutes ...|380.0|    null|/en/d/single-room...|\n",
      "|5251291|       19.0|    null|       flat|Av. de Riant-Mont...|Appartement, 1.0 ...|637.0|    null|/en/d/flat-rent-s...|\n",
      "|5279333|       20.0|    null|       flat|Av. de Tivoli 19B...|Appartement, 1.0 ...|725.0|    null|/en/d/flat-rent-s...|\n",
      "|5280881|       27.0|    null|       flat|Isabelle de Monto...|Haut de la Ville ...|780.0|    null|/en/d/flat-rent-l...|\n",
      "+-------+-----------+--------+-----------+--------------------+--------------------+-----+--------+--------------------+\n",
      "only showing top 5 rows\n",
      "\n"
     ]
    }
   ],
   "source": [
    "dfs[dfs['SurfaceArea'] < 50].show(5)"
   ]
  },
  {
   "cell_type": "markdown",
   "metadata": {
    "colab_type": "text",
    "id": "UlJKusgRPDl2"
   },
   "source": [
    "### Aggregate functions"
   ]
  },
  {
   "cell_type": "markdown",
   "metadata": {
    "colab_type": "text",
    "id": "l93AUZeaPDl3"
   },
   "source": [
    "**Pandas**"
   ]
  },
  {
   "cell_type": "code",
   "execution_count": null,
   "metadata": {
    "colab": {},
    "colab_type": "code",
    "id": "NuzBRfxzPDl3",
    "outputId": "787fa8aa-0f2f-4a09-a440-6c797d2cf926"
   },
   "outputs": [
    {
     "data": {
      "text/plain": [
       "1993.539115646258"
      ]
     },
     "execution_count": 96,
     "metadata": {
      "tags": []
     },
     "output_type": "execute_result"
    }
   ],
   "source": [
    "df['Rent'].mean()"
   ]
  },
  {
   "cell_type": "code",
   "execution_count": null,
   "metadata": {
    "colab": {},
    "colab_type": "code",
    "id": "3jH5YUqPPDl8",
    "outputId": "269310ec-2602-4038-e816-fce4c139f5ad"
   },
   "outputs": [
    {
     "data": {
      "text/plain": [
       "8900.0"
      ]
     },
     "execution_count": 108,
     "metadata": {
      "tags": []
     },
     "output_type": "execute_result"
    }
   ],
   "source": [
    "df['Rent'].max()"
   ]
  },
  {
   "cell_type": "markdown",
   "metadata": {
    "colab_type": "text",
    "id": "2t8zebVrPDl_"
   },
   "source": [
    "**PySpark**"
   ]
  },
  {
   "cell_type": "code",
   "execution_count": null,
   "metadata": {
    "colab": {},
    "colab_type": "code",
    "id": "UFsemxP6PDmA",
    "outputId": "6c0e8532-d0da-425c-eca8-4c699a2ff5f6"
   },
   "outputs": [
    {
     "ename": "TypeError",
     "evalue": "'Column' object is not callable",
     "output_type": "error",
     "traceback": [
      "\u001b[0;31m---------------------------------------------------------------------------\u001b[0m",
      "\u001b[0;31mTypeError\u001b[0m                                 Traceback (most recent call last)",
      "\u001b[0;32m<ipython-input-98-31bcc57b9a35>\u001b[0m in \u001b[0;36m<module>\u001b[0;34m()\u001b[0m\n\u001b[0;32m----> 1\u001b[0;31m \u001b[0mdfs\u001b[0m\u001b[0;34m[\u001b[0m\u001b[0;34m'Rent'\u001b[0m\u001b[0;34m]\u001b[0m\u001b[0;34m.\u001b[0m\u001b[0mmean\u001b[0m\u001b[0;34m(\u001b[0m\u001b[0;34m)\u001b[0m\u001b[0;34m\u001b[0m\u001b[0m\n\u001b[0m",
      "\u001b[0;31mTypeError\u001b[0m: 'Column' object is not callable"
     ]
    }
   ],
   "source": [
    "dfs['Rent'].mean()"
   ]
  },
  {
   "cell_type": "markdown",
   "metadata": {
    "colab_type": "text",
    "id": "XzFuHVsSPDmG"
   },
   "source": [
    "Does not work out the same way! You need to first download the PySpark SQL functions:"
   ]
  },
  {
   "cell_type": "code",
   "execution_count": null,
   "metadata": {
    "colab": {},
    "colab_type": "code",
    "id": "5txiTeiwPDmJ"
   },
   "outputs": [],
   "source": [
    "from pyspark.sql import functions as F"
   ]
  },
  {
   "cell_type": "code",
   "execution_count": null,
   "metadata": {
    "colab": {},
    "colab_type": "code",
    "id": "A3sDZyojPDmN",
    "outputId": "d05d8939-b9d9-468a-e560-1ba6b409b35d"
   },
   "outputs": [
    {
     "name": "stdout",
     "output_type": "stream",
     "text": [
      "+------------------+\n",
      "|         avg(Rent)|\n",
      "+------------------+\n",
      "|1984.3287904599658|\n",
      "+------------------+\n",
      "\n"
     ]
    }
   ],
   "source": [
    "dfs.select(F.mean('Rent')).show()"
   ]
  },
  {
   "cell_type": "code",
   "execution_count": null,
   "metadata": {
    "colab": {},
    "colab_type": "code",
    "id": "THhTABfnPDmT",
    "outputId": "61edf7a4-073b-4944-a705-987856549d8d"
   },
   "outputs": [
    {
     "name": "stdout",
     "output_type": "stream",
     "text": [
      "+---------+\n",
      "|max(Rent)|\n",
      "+---------+\n",
      "|   8900.0|\n",
      "+---------+\n",
      "\n"
     ]
    }
   ],
   "source": [
    "dfs.select(F.max('Rent')).show()"
   ]
  },
  {
   "cell_type": "markdown",
   "metadata": {
    "colab_type": "text",
    "id": "pg7YoKQUPDma"
   },
   "source": [
    "If you want to get the value:"
   ]
  },
  {
   "cell_type": "code",
   "execution_count": null,
   "metadata": {
    "colab": {},
    "colab_type": "code",
    "id": "AGnu8oRhPDmc",
    "outputId": "75b18cd8-1fe6-479d-acb9-4ef0d4e3c32e"
   },
   "outputs": [
    {
     "data": {
      "text/plain": [
       "1984.3287904599658"
      ]
     },
     "execution_count": 165,
     "metadata": {
      "tags": []
     },
     "output_type": "execute_result"
    }
   ],
   "source": [
    "value = dfs.select(F.mean('Rent')).collect()[0].asDict()['avg(Rent)']\n",
    "value"
   ]
  },
  {
   "cell_type": "markdown",
   "metadata": {
    "colab_type": "text",
    "id": "UcvC_NgfPDmj"
   },
   "source": [
    "### Fill Nulls"
   ]
  },
  {
   "cell_type": "markdown",
   "metadata": {
    "colab_type": "text",
    "id": "9_P5G82gPDmk"
   },
   "source": [
    "**Pandas**"
   ]
  },
  {
   "cell_type": "code",
   "execution_count": null,
   "metadata": {
    "colab": {},
    "colab_type": "code",
    "id": "QTLAlzc8PDmk"
   },
   "outputs": [],
   "source": [
    "df['Rent'] = df['Rent'].fillna(df['Rent'].mean()) # generally not a good way of filling nan, how about median? How about filling based on correlation with other features? \n",
    "df['NumRooms'] = df['NumRooms'].fillna(df['NumRooms'].mean())"
   ]
  },
  {
   "cell_type": "markdown",
   "metadata": {
    "colab_type": "text",
    "id": "iJHtiPsAPDmq"
   },
   "source": [
    "**PySpark**"
   ]
  },
  {
   "cell_type": "code",
   "execution_count": null,
   "metadata": {
    "colab": {},
    "colab_type": "code",
    "id": "QOr2jNALPDmr"
   },
   "outputs": [],
   "source": [
    "dfs = dfs.fillna(value, subset=['Rent'])"
   ]
  },
  {
   "cell_type": "code",
   "execution_count": null,
   "metadata": {
    "colab": {},
    "colab_type": "code",
    "id": "pUYvw0mJPDmt"
   },
   "outputs": [],
   "source": [
    "value_numrooms = dfs.select(F.mean('NumRooms')).collect()[0].asDict()['avg(NumRooms)']"
   ]
  },
  {
   "cell_type": "code",
   "execution_count": null,
   "metadata": {
    "colab": {},
    "colab_type": "code",
    "id": "XiU2IsYRPDm1"
   },
   "outputs": [],
   "source": [
    "dfs = dfs.fillna(value_numrooms, subset=['NumRooms'])"
   ]
  },
  {
   "cell_type": "markdown",
   "metadata": {
    "colab_type": "text",
    "id": "nMDCQsRlPDm4"
   },
   "source": [
    "### Group by (Aggregation)"
   ]
  },
  {
   "cell_type": "markdown",
   "metadata": {
    "colab_type": "text",
    "id": "cNaph31zPDm5"
   },
   "source": [
    "**Pandas**"
   ]
  },
  {
   "cell_type": "code",
   "execution_count": null,
   "metadata": {
    "colab": {},
    "colab_type": "code",
    "id": "eM15R-5jPDm5",
    "outputId": "1851c627-bd87-4f61-8b8d-1fbaad7d51d4"
   },
   "outputs": [
    {
     "data": {
      "text/html": [
       "<div>\n",
       "<style scoped>\n",
       "    .dataframe tbody tr th:only-of-type {\n",
       "        vertical-align: middle;\n",
       "    }\n",
       "\n",
       "    .dataframe tbody tr th {\n",
       "        vertical-align: top;\n",
       "    }\n",
       "\n",
       "    .dataframe thead th {\n",
       "        text-align: right;\n",
       "    }\n",
       "</style>\n",
       "<table border=\"1\" class=\"dataframe\">\n",
       "  <thead>\n",
       "    <tr style=\"text-align: right;\">\n",
       "      <th></th>\n",
       "      <th>Rent</th>\n",
       "    </tr>\n",
       "    <tr>\n",
       "      <th>NumRooms</th>\n",
       "      <th></th>\n",
       "    </tr>\n",
       "  </thead>\n",
       "  <tbody>\n",
       "    <tr>\n",
       "      <th>1.5</th>\n",
       "      <td>1346.954545</td>\n",
       "    </tr>\n",
       "    <tr>\n",
       "      <th>2.0</th>\n",
       "      <td>1533.193548</td>\n",
       "    </tr>\n",
       "    <tr>\n",
       "      <th>2.5</th>\n",
       "      <td>1699.888889</td>\n",
       "    </tr>\n",
       "    <tr>\n",
       "      <th>3.0</th>\n",
       "      <td>1932.842105</td>\n",
       "    </tr>\n",
       "    <tr>\n",
       "      <th>3.5</th>\n",
       "      <td>2285.079646</td>\n",
       "    </tr>\n",
       "    <tr>\n",
       "      <th>4.0</th>\n",
       "      <td>2839.941176</td>\n",
       "    </tr>\n",
       "    <tr>\n",
       "      <th>4.5</th>\n",
       "      <td>2882.246377</td>\n",
       "    </tr>\n",
       "    <tr>\n",
       "      <th>5.0</th>\n",
       "      <td>2624.142857</td>\n",
       "    </tr>\n",
       "    <tr>\n",
       "      <th>5.5</th>\n",
       "      <td>3177.714286</td>\n",
       "    </tr>\n",
       "    <tr>\n",
       "      <th>6.0</th>\n",
       "      <td>2244.000000</td>\n",
       "    </tr>\n",
       "    <tr>\n",
       "      <th>7.0</th>\n",
       "      <td>4050.000000</td>\n",
       "    </tr>\n",
       "    <tr>\n",
       "      <th>8.5</th>\n",
       "      <td>6736.666667</td>\n",
       "    </tr>\n",
       "    <tr>\n",
       "      <th>11.0</th>\n",
       "      <td>8900.000000</td>\n",
       "    </tr>\n",
       "  </tbody>\n",
       "</table>\n",
       "</div>"
      ],
      "text/plain": [
       "                 Rent\n",
       "NumRooms             \n",
       "1.5       1346.954545\n",
       "2.0       1533.193548\n",
       "2.5       1699.888889\n",
       "3.0       1932.842105\n",
       "3.5       2285.079646\n",
       "4.0       2839.941176\n",
       "4.5       2882.246377\n",
       "5.0       2624.142857\n",
       "5.5       3177.714286\n",
       "6.0       2244.000000\n",
       "7.0       4050.000000\n",
       "8.5       6736.666667\n",
       "11.0      8900.000000"
      ]
     },
     "execution_count": 8,
     "metadata": {
      "tags": []
     },
     "output_type": "execute_result"
    }
   ],
   "source": [
    "df.groupby('NumRooms').agg({'Rent':'mean'})"
   ]
  },
  {
   "cell_type": "markdown",
   "metadata": {
    "colab_type": "text",
    "id": "rntJsmNdPDm-"
   },
   "source": [
    "**PySpark**"
   ]
  },
  {
   "cell_type": "code",
   "execution_count": null,
   "metadata": {
    "colab": {},
    "colab_type": "code",
    "id": "forAcZqfPDm-",
    "outputId": "3c5a8a89-2804-4ff5-dac0-b31db634eb3e"
   },
   "outputs": [
    {
     "data": {
      "text/plain": [
       "DataFrame[NumRooms: float, avg(Rent): double]"
      ]
     },
     "execution_count": 191,
     "metadata": {
      "tags": []
     },
     "output_type": "execute_result"
    }
   ],
   "source": [
    "dfs.groupby('NumRooms').agg({'Rent':'mean'})"
   ]
  },
  {
   "cell_type": "code",
   "execution_count": null,
   "metadata": {
    "colab": {},
    "colab_type": "code",
    "id": "cLne6eHzPDnE",
    "outputId": "e46543fd-5d67-42b3-ed2d-0ebd1abbf6c3"
   },
   "outputs": [
    {
     "name": "stdout",
     "output_type": "stream",
     "text": [
      "+--------+------------------+------------------+\n",
      "|NumRooms|  avg(SurfaceArea)|         avg(Rent)|\n",
      "+--------+------------------+------------------+\n",
      "|    null| 36.81521739130435|  1207.88557583678|\n",
      "|     1.5| 37.22222222222222|1346.9545454545455|\n",
      "|     2.0| 52.04705882352941|1537.9928588867188|\n",
      "|     2.5| 58.81818181818182| 1699.888888888889|\n",
      "|     3.0| 76.13461538461539|1933.7298057819235|\n",
      "|     3.5| 87.02884615384616|2279.8491953974185|\n",
      "|     4.0| 104.3529411764706|2839.9411764705883|\n",
      "|     4.5|111.37878787878788| 2882.246376811594|\n",
      "|     5.0|128.41666666666666|2624.1428571428573|\n",
      "|     5.5|125.35714285714286| 3177.714285714286|\n",
      "|     6.0|             150.0|            2244.0|\n",
      "|     7.0|             156.0|            4050.0|\n",
      "|     8.5|             238.0|4931.4429117838545|\n",
      "|    11.0|             481.5|            8900.0|\n",
      "+--------+------------------+------------------+\n",
      "\n"
     ]
    }
   ],
   "source": [
    "dfs.groupby(['NumRooms']).agg({'Rent': 'mean', 'SurfaceArea': 'mean'}).sort('NumRooms').show()"
   ]
  },
  {
   "cell_type": "markdown",
   "metadata": {
    "colab_type": "text",
    "id": "I0bPCNjqPDnS"
   },
   "source": [
    "### Transformations"
   ]
  },
  {
   "cell_type": "markdown",
   "metadata": {
    "colab_type": "text",
    "id": "TToyxL7EPDnS"
   },
   "source": [
    "**Pandas**"
   ]
  },
  {
   "cell_type": "code",
   "execution_count": null,
   "metadata": {
    "colab": {},
    "colab_type": "code",
    "id": "fgvvHMBkPDnT"
   },
   "outputs": [],
   "source": [
    "import numpy as np"
   ]
  },
  {
   "cell_type": "code",
   "execution_count": null,
   "metadata": {
    "colab": {},
    "colab_type": "code",
    "id": "IF5lWT_iPDnY"
   },
   "outputs": [],
   "source": [
    "df['logRent'] = np.log(df['Rent'])"
   ]
  },
  {
   "cell_type": "code",
   "execution_count": null,
   "metadata": {
    "colab": {},
    "colab_type": "code",
    "id": "DUxzQ7iRPDna",
    "outputId": "366b57d3-6dcf-4dbf-f29e-f13ef8a0a906"
   },
   "outputs": [
    {
     "data": {
      "text/html": [
       "<div>\n",
       "<style scoped>\n",
       "    .dataframe tbody tr th:only-of-type {\n",
       "        vertical-align: middle;\n",
       "    }\n",
       "\n",
       "    .dataframe tbody tr th {\n",
       "        vertical-align: top;\n",
       "    }\n",
       "\n",
       "    .dataframe thead th {\n",
       "        text-align: right;\n",
       "    }\n",
       "</style>\n",
       "<table border=\"1\" class=\"dataframe\">\n",
       "  <thead>\n",
       "    <tr style=\"text-align: right;\">\n",
       "      <th></th>\n",
       "      <th>Id</th>\n",
       "      <th>SurfaceArea</th>\n",
       "      <th>NumRooms</th>\n",
       "      <th>Type</th>\n",
       "      <th>Address</th>\n",
       "      <th>Description</th>\n",
       "      <th>Rent</th>\n",
       "      <th>Bookmark</th>\n",
       "      <th>Link</th>\n",
       "      <th>logRent</th>\n",
       "    </tr>\n",
       "  </thead>\n",
       "  <tbody>\n",
       "    <tr>\n",
       "      <th>0</th>\n",
       "      <td>5286965</td>\n",
       "      <td>52.0</td>\n",
       "      <td>2.5</td>\n",
       "      <td>flat</td>\n",
       "      <td>Route Aloys-Fauquez 124, 1018 Lausanne, VD</td>\n",
       "      <td>Agréable 2 pièces proche de toutes les commodités</td>\n",
       "      <td>1460.0</td>\n",
       "      <td>New</td>\n",
       "      <td>/en/d/flat-rent-lausanne/5286965?s=2&amp;t=1&amp;l=202...</td>\n",
       "      <td>7.286192</td>\n",
       "    </tr>\n",
       "    <tr>\n",
       "      <th>1</th>\n",
       "      <td>5277530</td>\n",
       "      <td>80.0</td>\n",
       "      <td>3.0</td>\n",
       "      <td>flat</td>\n",
       "      <td>Avenue de Béthusy 53, 1012 Lausanne, VD</td>\n",
       "      <td>Proche du centre ville</td>\n",
       "      <td>2100.0</td>\n",
       "      <td>NaN</td>\n",
       "      <td>/en/d/flat-rent-lausanne/5277530?s=2&amp;t=1&amp;l=202...</td>\n",
       "      <td>7.649693</td>\n",
       "    </tr>\n",
       "    <tr>\n",
       "      <th>2</th>\n",
       "      <td>5249019</td>\n",
       "      <td>74.0</td>\n",
       "      <td>3.5</td>\n",
       "      <td>stepped-apartment</td>\n",
       "      <td>Route des Plaines-du-Loup 42, 1018 Lausanne, VD</td>\n",
       "      <td>Magnifique 3,5 pièces avec jardin privé -Immeu...</td>\n",
       "      <td>2150.0</td>\n",
       "      <td>Highlight</td>\n",
       "      <td>/en/d/stepped-apartment-rent-lausanne/5249019?...</td>\n",
       "      <td>7.673223</td>\n",
       "    </tr>\n",
       "    <tr>\n",
       "      <th>3</th>\n",
       "      <td>5274375</td>\n",
       "      <td>108.0</td>\n",
       "      <td>3.5</td>\n",
       "      <td>duplex-maisonette</td>\n",
       "      <td>Route de Prilly 12, 1004 Lausanne, VD</td>\n",
       "      <td>Magnifique logement en duplex entièrement neuf</td>\n",
       "      <td>3160.0</td>\n",
       "      <td>NaN</td>\n",
       "      <td>/en/d/duplex-maisonette-rent-lausanne/5274375?...</td>\n",
       "      <td>8.058327</td>\n",
       "    </tr>\n",
       "    <tr>\n",
       "      <th>4</th>\n",
       "      <td>5274374</td>\n",
       "      <td>80.0</td>\n",
       "      <td>3.5</td>\n",
       "      <td>flat</td>\n",
       "      <td>Route de Prilly 12, 1004 Lausanne, VD</td>\n",
       "      <td>Nouveaux logements</td>\n",
       "      <td>2085.0</td>\n",
       "      <td>NaN</td>\n",
       "      <td>/en/d/flat-rent-lausanne/5274374?s=2&amp;t=1&amp;l=202...</td>\n",
       "      <td>7.642524</td>\n",
       "    </tr>\n",
       "  </tbody>\n",
       "</table>\n",
       "</div>"
      ],
      "text/plain": [
       "        Id  SurfaceArea  NumRooms               Type  \\\n",
       "0  5286965         52.0       2.5               flat   \n",
       "1  5277530         80.0       3.0               flat   \n",
       "2  5249019         74.0       3.5  stepped-apartment   \n",
       "3  5274375        108.0       3.5  duplex-maisonette   \n",
       "4  5274374         80.0       3.5               flat   \n",
       "\n",
       "                                           Address  \\\n",
       "0       Route Aloys-Fauquez 124, 1018 Lausanne, VD   \n",
       "1          Avenue de Béthusy 53, 1012 Lausanne, VD   \n",
       "2  Route des Plaines-du-Loup 42, 1018 Lausanne, VD   \n",
       "3            Route de Prilly 12, 1004 Lausanne, VD   \n",
       "4            Route de Prilly 12, 1004 Lausanne, VD   \n",
       "\n",
       "                                         Description    Rent   Bookmark  \\\n",
       "0  Agréable 2 pièces proche de toutes les commodités  1460.0        New   \n",
       "1                             Proche du centre ville  2100.0        NaN   \n",
       "2  Magnifique 3,5 pièces avec jardin privé -Immeu...  2150.0  Highlight   \n",
       "3     Magnifique logement en duplex entièrement neuf  3160.0        NaN   \n",
       "4                                 Nouveaux logements  2085.0        NaN   \n",
       "\n",
       "                                                Link   logRent  \n",
       "0  /en/d/flat-rent-lausanne/5286965?s=2&t=1&l=202...  7.286192  \n",
       "1  /en/d/flat-rent-lausanne/5277530?s=2&t=1&l=202...  7.649693  \n",
       "2  /en/d/stepped-apartment-rent-lausanne/5249019?...  7.673223  \n",
       "3  /en/d/duplex-maisonette-rent-lausanne/5274375?...  8.058327  \n",
       "4  /en/d/flat-rent-lausanne/5274374?s=2&t=1&l=202...  7.642524  "
      ]
     },
     "execution_count": 201,
     "metadata": {
      "tags": []
     },
     "output_type": "execute_result"
    }
   ],
   "source": [
    "df.head()"
   ]
  },
  {
   "cell_type": "markdown",
   "metadata": {
    "colab_type": "text",
    "id": "7nhAxgYkPDnd"
   },
   "source": [
    "**PySpark**"
   ]
  },
  {
   "cell_type": "code",
   "execution_count": null,
   "metadata": {
    "colab": {},
    "colab_type": "code",
    "id": "KXEbsJsDPDnh"
   },
   "outputs": [],
   "source": [
    "import pyspark.sql.functions as F"
   ]
  },
  {
   "cell_type": "code",
   "execution_count": null,
   "metadata": {
    "colab": {},
    "colab_type": "code",
    "id": "DihAjBeBPDni"
   },
   "outputs": [],
   "source": [
    "dfs = dfs.withColumn('logRent', F.log(dfs['Rent']))"
   ]
  },
  {
   "cell_type": "code",
   "execution_count": null,
   "metadata": {
    "colab": {},
    "colab_type": "code",
    "id": "Z9igKVITPDnl",
    "outputId": "d082c960-f172-4017-a839-bedafd5da2be"
   },
   "outputs": [
    {
     "name": "stdout",
     "output_type": "stream",
     "text": [
      "+-------+-----------+--------+--------------------+--------------------+--------------------+------+---------+--------------------+-----------------+\n",
      "|     Id|SurfaceArea|NumRooms|                Type|             Address|         Description|  Rent| Bookmark|                Link|          logRent|\n",
      "+-------+-----------+--------+--------------------+--------------------+--------------------+------+---------+--------------------+-----------------+\n",
      "|5286965|       52.0|     2.5|                flat|Route Aloys-Fauqu...|Agréable 2 pièces...|1460.0|      New|/en/d/flat-rent-l...|7.286191714702382|\n",
      "|5277530|       80.0|     3.0|                flat|Avenue de Béthusy...|Proche du centre ...|2100.0|     null|/en/d/flat-rent-l...|7.649692623711514|\n",
      "|5249019|       74.0|     3.5|   stepped-apartment|Route des Plaines...|Magnifique 3,5 pi...|2150.0|Highlight|/en/d/stepped-apa...|7.673223121121708|\n",
      "|5274375|      108.0|     3.5|   duplex-maisonette|Route de Prilly 1...|Magnifique logeme...|3160.0|     null|/en/d/duplex-mais...|8.058327306580958|\n",
      "|5274374|       80.0|     3.5|                flat|Route de Prilly 1...|  Nouveaux logements|2085.0|     null|/en/d/flat-rent-l...|7.642524134232902|\n",
      "|5278160|       55.0|     2.5|                flat|Route Aloys-Fauqu...|Grand 2,5 pièces ...|1450.0|     null|/en/d/flat-rent-l...| 7.27931883541462|\n",
      "|5277696|      128.0|     3.5|   duplex-maisonette|Rue du Bourg 15, ...|Superbe duplex à ...|3000.0|     null|/en/d/duplex-mais...|8.006367567650246|\n",
      "|5256077|      130.0|     4.5|           penthouse|Avenue Druey 13, ...|Belle Attique Rén...|4580.0|     null|/en/d/penthouse-r...|8.429454277108231|\n",
      "|5134449|      123.0|     4.5|                flat|Chemin de Pierref...|Appartement 4.5 p...|2950.0|     null|/en/d/flat-rent-l...|7.989560449333865|\n",
      "|5275170|       13.0|    null|         single-room|Av. de Chailly 52...|Pour petit budget...| 360.0|     null|/en/d/single-room...|5.886104031450156|\n",
      "|5212203|       13.0|    null|         single-room|Av. de Chailly 52...|Proche de toutes ...| 380.0|     null|/en/d/single-room...|5.940171252720432|\n",
      "|5251291|       19.0|    null|                flat|Av. de Riant-Mont...|Appartement, 1.0 ...| 637.0|     null|/en/d/flat-rent-s...|6.456769655572163|\n",
      "|5279333|       20.0|    null|                flat|Av. de Tivoli 19B...|Appartement, 1.0 ...| 725.0|     null|/en/d/flat-rent-s...|6.586171654854675|\n",
      "|5280881|       27.0|    null|                flat|Isabelle de Monto...|Haut de la Ville ...| 780.0|     null|/en/d/flat-rent-l...|6.659293919683638|\n",
      "|5286962|       21.0|    null|                flat|Rue St-Martin 28,...|Votre nouveau che...| 840.0|      New|/en/d/flat-rent-l...|6.733401891837359|\n",
      "|5280449|       24.0|    null|                flat|Avenue Sainte-Luc...|Lausanne, studio ...| 850.0|     null|/en/d/flat-rent-l...|6.745236349484363|\n",
      "|4939726|       18.0|    null|         single-room|Chemin de Montoli...|1006 Lausanne - M...| 860.0|     null|/en/d/single-room...|6.756932389247553|\n",
      "|5085420|       29.0|    null|                flat|Ch. du Devin 64, ...|Grand studio au c...| 940.0|     null|/en/d/flat-rent-l...| 6.84587987526405|\n",
      "|5234626|       33.0|    null|              studio|Chemin de Boston ...|Spacieux et fonct...|1030.0|     null|/en/d/studio-rent...|6.937314081223682|\n",
      "|5189187|       14.0|    null|furnished-residen...|Avenue de Menthon...|Avenue de Menthon...|1050.0|     null|/en/d/furnished-r...|6.956545443151569|\n",
      "+-------+-----------+--------+--------------------+--------------------+--------------------+------+---------+--------------------+-----------------+\n",
      "only showing top 20 rows\n",
      "\n"
     ]
    }
   ],
   "source": [
    "dfs.show()"
   ]
  },
  {
   "cell_type": "markdown",
   "metadata": {
    "colab_type": "text",
    "id": "doVQ3AmdPDnp"
   },
   "source": [
    "**Note**: pyspark.sql.functions perform fast computations as the whole calcluations are doen in JVM! "
   ]
  },
  {
   "cell_type": "markdown",
   "metadata": {
    "colab_type": "text",
    "id": "wZfesnL_PDnq"
   },
   "source": [
    "### User-defined functions"
   ]
  },
  {
   "cell_type": "code",
   "execution_count": null,
   "metadata": {
    "colab": {},
    "colab_type": "code",
    "id": "PzRW1RFMPDnr"
   },
   "outputs": [],
   "source": [
    "df['NumRoomsOnly'] = df['NumRooms'].apply(lambda x: x - 1)"
   ]
  },
  {
   "cell_type": "code",
   "execution_count": null,
   "metadata": {
    "colab": {},
    "colab_type": "code",
    "id": "3sfAIWw-PDnz",
    "outputId": "42ca9c3c-bdfe-426e-95cf-9fb42a027d69"
   },
   "outputs": [
    {
     "data": {
      "text/html": [
       "<div>\n",
       "<style scoped>\n",
       "    .dataframe tbody tr th:only-of-type {\n",
       "        vertical-align: middle;\n",
       "    }\n",
       "\n",
       "    .dataframe tbody tr th {\n",
       "        vertical-align: top;\n",
       "    }\n",
       "\n",
       "    .dataframe thead th {\n",
       "        text-align: right;\n",
       "    }\n",
       "</style>\n",
       "<table border=\"1\" class=\"dataframe\">\n",
       "  <thead>\n",
       "    <tr style=\"text-align: right;\">\n",
       "      <th></th>\n",
       "      <th>Id</th>\n",
       "      <th>SurfaceArea</th>\n",
       "      <th>NumRooms</th>\n",
       "      <th>Type</th>\n",
       "      <th>Address</th>\n",
       "      <th>Description</th>\n",
       "      <th>Rent</th>\n",
       "      <th>Bookmark</th>\n",
       "      <th>Link</th>\n",
       "      <th>logRent</th>\n",
       "      <th>NumRoomsOnly</th>\n",
       "    </tr>\n",
       "  </thead>\n",
       "  <tbody>\n",
       "    <tr>\n",
       "      <th>0</th>\n",
       "      <td>5286965</td>\n",
       "      <td>52.0</td>\n",
       "      <td>2.5</td>\n",
       "      <td>flat</td>\n",
       "      <td>Route Aloys-Fauquez 124, 1018 Lausanne, VD</td>\n",
       "      <td>Agréable 2 pièces proche de toutes les commodités</td>\n",
       "      <td>1460.0</td>\n",
       "      <td>New</td>\n",
       "      <td>/en/d/flat-rent-lausanne/5286965?s=2&amp;t=1&amp;l=202...</td>\n",
       "      <td>7.286192</td>\n",
       "      <td>1.5</td>\n",
       "    </tr>\n",
       "    <tr>\n",
       "      <th>1</th>\n",
       "      <td>5277530</td>\n",
       "      <td>80.0</td>\n",
       "      <td>3.0</td>\n",
       "      <td>flat</td>\n",
       "      <td>Avenue de Béthusy 53, 1012 Lausanne, VD</td>\n",
       "      <td>Proche du centre ville</td>\n",
       "      <td>2100.0</td>\n",
       "      <td>NaN</td>\n",
       "      <td>/en/d/flat-rent-lausanne/5277530?s=2&amp;t=1&amp;l=202...</td>\n",
       "      <td>7.649693</td>\n",
       "      <td>2.0</td>\n",
       "    </tr>\n",
       "    <tr>\n",
       "      <th>2</th>\n",
       "      <td>5249019</td>\n",
       "      <td>74.0</td>\n",
       "      <td>3.5</td>\n",
       "      <td>stepped-apartment</td>\n",
       "      <td>Route des Plaines-du-Loup 42, 1018 Lausanne, VD</td>\n",
       "      <td>Magnifique 3,5 pièces avec jardin privé -Immeu...</td>\n",
       "      <td>2150.0</td>\n",
       "      <td>Highlight</td>\n",
       "      <td>/en/d/stepped-apartment-rent-lausanne/5249019?...</td>\n",
       "      <td>7.673223</td>\n",
       "      <td>2.5</td>\n",
       "    </tr>\n",
       "    <tr>\n",
       "      <th>3</th>\n",
       "      <td>5274375</td>\n",
       "      <td>108.0</td>\n",
       "      <td>3.5</td>\n",
       "      <td>duplex-maisonette</td>\n",
       "      <td>Route de Prilly 12, 1004 Lausanne, VD</td>\n",
       "      <td>Magnifique logement en duplex entièrement neuf</td>\n",
       "      <td>3160.0</td>\n",
       "      <td>NaN</td>\n",
       "      <td>/en/d/duplex-maisonette-rent-lausanne/5274375?...</td>\n",
       "      <td>8.058327</td>\n",
       "      <td>2.5</td>\n",
       "    </tr>\n",
       "    <tr>\n",
       "      <th>4</th>\n",
       "      <td>5274374</td>\n",
       "      <td>80.0</td>\n",
       "      <td>3.5</td>\n",
       "      <td>flat</td>\n",
       "      <td>Route de Prilly 12, 1004 Lausanne, VD</td>\n",
       "      <td>Nouveaux logements</td>\n",
       "      <td>2085.0</td>\n",
       "      <td>NaN</td>\n",
       "      <td>/en/d/flat-rent-lausanne/5274374?s=2&amp;t=1&amp;l=202...</td>\n",
       "      <td>7.642524</td>\n",
       "      <td>2.5</td>\n",
       "    </tr>\n",
       "  </tbody>\n",
       "</table>\n",
       "</div>"
      ],
      "text/plain": [
       "        Id  SurfaceArea  NumRooms               Type  \\\n",
       "0  5286965         52.0       2.5               flat   \n",
       "1  5277530         80.0       3.0               flat   \n",
       "2  5249019         74.0       3.5  stepped-apartment   \n",
       "3  5274375        108.0       3.5  duplex-maisonette   \n",
       "4  5274374         80.0       3.5               flat   \n",
       "\n",
       "                                           Address  \\\n",
       "0       Route Aloys-Fauquez 124, 1018 Lausanne, VD   \n",
       "1          Avenue de Béthusy 53, 1012 Lausanne, VD   \n",
       "2  Route des Plaines-du-Loup 42, 1018 Lausanne, VD   \n",
       "3            Route de Prilly 12, 1004 Lausanne, VD   \n",
       "4            Route de Prilly 12, 1004 Lausanne, VD   \n",
       "\n",
       "                                         Description    Rent   Bookmark  \\\n",
       "0  Agréable 2 pièces proche de toutes les commodités  1460.0        New   \n",
       "1                             Proche du centre ville  2100.0        NaN   \n",
       "2  Magnifique 3,5 pièces avec jardin privé -Immeu...  2150.0  Highlight   \n",
       "3     Magnifique logement en duplex entièrement neuf  3160.0        NaN   \n",
       "4                                 Nouveaux logements  2085.0        NaN   \n",
       "\n",
       "                                                Link   logRent  NumRoomsOnly  \n",
       "0  /en/d/flat-rent-lausanne/5286965?s=2&t=1&l=202...  7.286192           1.5  \n",
       "1  /en/d/flat-rent-lausanne/5277530?s=2&t=1&l=202...  7.649693           2.0  \n",
       "2  /en/d/stepped-apartment-rent-lausanne/5249019?...  7.673223           2.5  \n",
       "3  /en/d/duplex-maisonette-rent-lausanne/5274375?...  8.058327           2.5  \n",
       "4  /en/d/flat-rent-lausanne/5274374?s=2&t=1&l=202...  7.642524           2.5  "
      ]
     },
     "execution_count": 209,
     "metadata": {
      "tags": []
     },
     "output_type": "execute_result"
    }
   ],
   "source": [
    "df.head()"
   ]
  },
  {
   "cell_type": "markdown",
   "metadata": {
    "colab_type": "text",
    "id": "kfbwni-wPDn3"
   },
   "source": [
    "Pyspark user-defined function, note that the udf has to be deterministic. "
   ]
  },
  {
   "cell_type": "code",
   "execution_count": null,
   "metadata": {
    "colab": {},
    "colab_type": "code",
    "id": "p-QRSKZXPDn3"
   },
   "outputs": [],
   "source": [
    "from pyspark.sql.types import FloatType"
   ]
  },
  {
   "cell_type": "code",
   "execution_count": null,
   "metadata": {
    "colab": {},
    "colab_type": "code",
    "id": "oWKyDRlhPDn5"
   },
   "outputs": [],
   "source": [
    "myFun = F.udf(lambda x: x - 1, returnType=FloatType()) # need to specify the return type otherwise you may get NaN"
   ]
  },
  {
   "cell_type": "code",
   "execution_count": null,
   "metadata": {
    "colab": {},
    "colab_type": "code",
    "id": "fsHoBX-sPDn7"
   },
   "outputs": [],
   "source": [
    "dfs2 = dfs.withColumn('NumRoomsOnly', myFun(dfs['NumRooms'])) # Note that if you don't fillna you get an error when you collect the data i.e. in the next line! "
   ]
  },
  {
   "cell_type": "code",
   "execution_count": null,
   "metadata": {
    "colab": {},
    "colab_type": "code",
    "id": "UdV-AtHhPDn9",
    "outputId": "f0130f69-eeb3-4394-aa72-2767b1bdf6ef"
   },
   "outputs": [
    {
     "name": "stdout",
     "output_type": "stream",
     "text": [
      "+-------+-----------+---------+--------------------+--------------------+--------------------+------+---------+--------------------+------------+\n",
      "|     Id|SurfaceArea| NumRooms|                Type|             Address|         Description|  Rent| Bookmark|                Link|NumRoomsOnly|\n",
      "+-------+-----------+---------+--------------------+--------------------+--------------------+------+---------+--------------------+------------+\n",
      "|5286965|       52.0|      2.5|                flat|Route Aloys-Fauqu...|Agréable 2 pièces...|1460.0|      New|/en/d/flat-rent-l...|         1.5|\n",
      "|5277530|       80.0|      3.0|                flat|Avenue de Béthusy...|Proche du centre ...|2100.0|     null|/en/d/flat-rent-l...|         2.0|\n",
      "|5249019|       74.0|      3.5|   stepped-apartment|Route des Plaines...|Magnifique 3,5 pi...|2150.0|Highlight|/en/d/stepped-apa...|         2.5|\n",
      "|5274375|      108.0|      3.5|   duplex-maisonette|Route de Prilly 1...|Magnifique logeme...|3160.0|     null|/en/d/duplex-mais...|         2.5|\n",
      "|5274374|       80.0|      3.5|                flat|Route de Prilly 1...|  Nouveaux logements|2085.0|     null|/en/d/flat-rent-l...|         2.5|\n",
      "|5278160|       55.0|      2.5|                flat|Route Aloys-Fauqu...|Grand 2,5 pièces ...|1450.0|     null|/en/d/flat-rent-l...|         1.5|\n",
      "|5277696|      128.0|      3.5|   duplex-maisonette|Rue du Bourg 15, ...|Superbe duplex à ...|3000.0|     null|/en/d/duplex-mais...|         2.5|\n",
      "|5256077|      130.0|      4.5|           penthouse|Avenue Druey 13, ...|Belle Attique Rén...|4580.0|     null|/en/d/penthouse-r...|         3.5|\n",
      "|5134449|      123.0|      4.5|                flat|Chemin de Pierref...|Appartement 4.5 p...|2950.0|     null|/en/d/flat-rent-l...|         3.5|\n",
      "|5275170|       13.0|3.2301426|         single-room|Av. de Chailly 52...|Pour petit budget...| 360.0|     null|/en/d/single-room...|   2.2301426|\n",
      "|5212203|       13.0|3.2301426|         single-room|Av. de Chailly 52...|Proche de toutes ...| 380.0|     null|/en/d/single-room...|   2.2301426|\n",
      "|5251291|       19.0|3.2301426|                flat|Av. de Riant-Mont...|Appartement, 1.0 ...| 637.0|     null|/en/d/flat-rent-s...|   2.2301426|\n",
      "|5279333|       20.0|3.2301426|                flat|Av. de Tivoli 19B...|Appartement, 1.0 ...| 725.0|     null|/en/d/flat-rent-s...|   2.2301426|\n",
      "|5280881|       27.0|3.2301426|                flat|Isabelle de Monto...|Haut de la Ville ...| 780.0|     null|/en/d/flat-rent-l...|   2.2301426|\n",
      "|5286962|       21.0|3.2301426|                flat|Rue St-Martin 28,...|Votre nouveau che...| 840.0|      New|/en/d/flat-rent-l...|   2.2301426|\n",
      "|5280449|       24.0|3.2301426|                flat|Avenue Sainte-Luc...|Lausanne, studio ...| 850.0|     null|/en/d/flat-rent-l...|   2.2301426|\n",
      "|4939726|       18.0|3.2301426|         single-room|Chemin de Montoli...|1006 Lausanne - M...| 860.0|     null|/en/d/single-room...|   2.2301426|\n",
      "|5085420|       29.0|3.2301426|                flat|Ch. du Devin 64, ...|Grand studio au c...| 940.0|     null|/en/d/flat-rent-l...|   2.2301426|\n",
      "|5234626|       33.0|3.2301426|              studio|Chemin de Boston ...|Spacieux et fonct...|1030.0|     null|/en/d/studio-rent...|   2.2301426|\n",
      "|5189187|       14.0|3.2301426|furnished-residen...|Avenue de Menthon...|Avenue de Menthon...|1050.0|     null|/en/d/furnished-r...|   2.2301426|\n",
      "+-------+-----------+---------+--------------------+--------------------+--------------------+------+---------+--------------------+------------+\n",
      "only showing top 20 rows\n",
      "\n"
     ]
    }
   ],
   "source": [
    "dfs2.show()"
   ]
  },
  {
   "cell_type": "markdown",
   "metadata": {
    "colab_type": "text",
    "id": "gAzcqSq7PDoA"
   },
   "source": [
    "### Join/Merge "
   ]
  },
  {
   "cell_type": "markdown",
   "metadata": {
    "colab_type": "text",
    "id": "vibPKzAcPDoA"
   },
   "source": [
    "**Pandas**"
   ]
  },
  {
   "cell_type": "code",
   "execution_count": null,
   "metadata": {
    "colab": {},
    "colab_type": "code",
    "id": "6zXzqXkQPDoA"
   },
   "outputs": [],
   "source": [
    "map1 = {'name':['Switzerland', 'France', 'Germany', 'Italy'], 'AlphaCode':['CH', 'FR', 'DE', 'IT']}\n",
    "df1 = pd.DataFrame(map1)"
   ]
  },
  {
   "cell_type": "code",
   "execution_count": null,
   "metadata": {
    "colab": {},
    "colab_type": "code",
    "id": "cn6mS9AjPDoC"
   },
   "outputs": [],
   "source": [
    "map2 = {'AlphaCode':['FR', 'CH', 'IT', 'DE'], 'Population':[67, 8.5, 60, 82]}\n",
    "df2 = pd.DataFrame(map2)"
   ]
  },
  {
   "cell_type": "code",
   "execution_count": null,
   "metadata": {
    "colab": {},
    "colab_type": "code",
    "id": "KpKImcBCPDoD",
    "outputId": "91636517-3714-4b5f-89c6-c677bb8e5705"
   },
   "outputs": [
    {
     "data": {
      "text/html": [
       "<div>\n",
       "<style scoped>\n",
       "    .dataframe tbody tr th:only-of-type {\n",
       "        vertical-align: middle;\n",
       "    }\n",
       "\n",
       "    .dataframe tbody tr th {\n",
       "        vertical-align: top;\n",
       "    }\n",
       "\n",
       "    .dataframe thead th {\n",
       "        text-align: right;\n",
       "    }\n",
       "</style>\n",
       "<table border=\"1\" class=\"dataframe\">\n",
       "  <thead>\n",
       "    <tr style=\"text-align: right;\">\n",
       "      <th></th>\n",
       "      <th>name</th>\n",
       "      <th>AlphaCode</th>\n",
       "    </tr>\n",
       "  </thead>\n",
       "  <tbody>\n",
       "    <tr>\n",
       "      <th>0</th>\n",
       "      <td>Switzerland</td>\n",
       "      <td>CH</td>\n",
       "    </tr>\n",
       "    <tr>\n",
       "      <th>1</th>\n",
       "      <td>France</td>\n",
       "      <td>FR</td>\n",
       "    </tr>\n",
       "    <tr>\n",
       "      <th>2</th>\n",
       "      <td>Germany</td>\n",
       "      <td>DE</td>\n",
       "    </tr>\n",
       "    <tr>\n",
       "      <th>3</th>\n",
       "      <td>Italy</td>\n",
       "      <td>IT</td>\n",
       "    </tr>\n",
       "  </tbody>\n",
       "</table>\n",
       "</div>"
      ],
      "text/plain": [
       "          name AlphaCode\n",
       "0  Switzerland        CH\n",
       "1       France        FR\n",
       "2      Germany        DE\n",
       "3        Italy        IT"
      ]
     },
     "execution_count": 20,
     "metadata": {
      "tags": []
     },
     "output_type": "execute_result"
    }
   ],
   "source": [
    "df1"
   ]
  },
  {
   "cell_type": "code",
   "execution_count": null,
   "metadata": {
    "colab": {},
    "colab_type": "code",
    "id": "mVt18CTbPDoG",
    "outputId": "27564ec7-881c-46df-9c2c-094fe7d28767"
   },
   "outputs": [
    {
     "data": {
      "text/html": [
       "<div>\n",
       "<style scoped>\n",
       "    .dataframe tbody tr th:only-of-type {\n",
       "        vertical-align: middle;\n",
       "    }\n",
       "\n",
       "    .dataframe tbody tr th {\n",
       "        vertical-align: top;\n",
       "    }\n",
       "\n",
       "    .dataframe thead th {\n",
       "        text-align: right;\n",
       "    }\n",
       "</style>\n",
       "<table border=\"1\" class=\"dataframe\">\n",
       "  <thead>\n",
       "    <tr style=\"text-align: right;\">\n",
       "      <th></th>\n",
       "      <th>AlphaCode</th>\n",
       "      <th>Population</th>\n",
       "    </tr>\n",
       "  </thead>\n",
       "  <tbody>\n",
       "    <tr>\n",
       "      <th>0</th>\n",
       "      <td>FR</td>\n",
       "      <td>67.0</td>\n",
       "    </tr>\n",
       "    <tr>\n",
       "      <th>1</th>\n",
       "      <td>CH</td>\n",
       "      <td>8.5</td>\n",
       "    </tr>\n",
       "    <tr>\n",
       "      <th>2</th>\n",
       "      <td>IT</td>\n",
       "      <td>60.0</td>\n",
       "    </tr>\n",
       "    <tr>\n",
       "      <th>3</th>\n",
       "      <td>DE</td>\n",
       "      <td>82.0</td>\n",
       "    </tr>\n",
       "  </tbody>\n",
       "</table>\n",
       "</div>"
      ],
      "text/plain": [
       "  AlphaCode  Population\n",
       "0        FR        67.0\n",
       "1        CH         8.5\n",
       "2        IT        60.0\n",
       "3        DE        82.0"
      ]
     },
     "execution_count": 21,
     "metadata": {
      "tags": []
     },
     "output_type": "execute_result"
    }
   ],
   "source": [
    "df2"
   ]
  },
  {
   "cell_type": "code",
   "execution_count": null,
   "metadata": {
    "colab": {},
    "colab_type": "code",
    "id": "qH_BmZBsPDoI",
    "outputId": "a3c372cc-e95a-43fd-87fd-1412a8980afe"
   },
   "outputs": [
    {
     "data": {
      "text/html": [
       "<div>\n",
       "<style scoped>\n",
       "    .dataframe tbody tr th:only-of-type {\n",
       "        vertical-align: middle;\n",
       "    }\n",
       "\n",
       "    .dataframe tbody tr th {\n",
       "        vertical-align: top;\n",
       "    }\n",
       "\n",
       "    .dataframe thead th {\n",
       "        text-align: right;\n",
       "    }\n",
       "</style>\n",
       "<table border=\"1\" class=\"dataframe\">\n",
       "  <thead>\n",
       "    <tr style=\"text-align: right;\">\n",
       "      <th></th>\n",
       "      <th>name</th>\n",
       "      <th>AlphaCode</th>\n",
       "      <th>Population</th>\n",
       "    </tr>\n",
       "  </thead>\n",
       "  <tbody>\n",
       "    <tr>\n",
       "      <th>0</th>\n",
       "      <td>Switzerland</td>\n",
       "      <td>CH</td>\n",
       "      <td>8.5</td>\n",
       "    </tr>\n",
       "    <tr>\n",
       "      <th>1</th>\n",
       "      <td>France</td>\n",
       "      <td>FR</td>\n",
       "      <td>67.0</td>\n",
       "    </tr>\n",
       "    <tr>\n",
       "      <th>2</th>\n",
       "      <td>Germany</td>\n",
       "      <td>DE</td>\n",
       "      <td>82.0</td>\n",
       "    </tr>\n",
       "    <tr>\n",
       "      <th>3</th>\n",
       "      <td>Italy</td>\n",
       "      <td>IT</td>\n",
       "      <td>60.0</td>\n",
       "    </tr>\n",
       "  </tbody>\n",
       "</table>\n",
       "</div>"
      ],
      "text/plain": [
       "          name AlphaCode  Population\n",
       "0  Switzerland        CH         8.5\n",
       "1       France        FR        67.0\n",
       "2      Germany        DE        82.0\n",
       "3        Italy        IT        60.0"
      ]
     },
     "execution_count": 22,
     "metadata": {
      "tags": []
     },
     "output_type": "execute_result"
    }
   ],
   "source": [
    "df1.merge(df2, on='AlphaCode') # Why don't we just add the last column as a new column instead of merge? "
   ]
  },
  {
   "cell_type": "markdown",
   "metadata": {
    "colab_type": "text",
    "id": "MkNKjDurPDoK"
   },
   "source": [
    "**PySpark**"
   ]
  },
  {
   "cell_type": "code",
   "execution_count": null,
   "metadata": {
    "colab": {},
    "colab_type": "code",
    "id": "pYVkrH_RPDoL"
   },
   "outputs": [],
   "source": [
    "df1s = spark.createDataFrame(df1) # you can create a Spark dataframe from a Pandas dataframe\n",
    "df2s = spark.createDataFrame(df2) #"
   ]
  },
  {
   "cell_type": "code",
   "execution_count": null,
   "metadata": {
    "colab": {},
    "colab_type": "code",
    "id": "obROQdI9PDoN",
    "outputId": "d0c8b21d-0605-4ae1-eac7-e14415da4ced"
   },
   "outputs": [
    {
     "name": "stdout",
     "output_type": "stream",
     "text": [
      "+---------+-----------+----------+\n",
      "|AlphaCode|       name|Population|\n",
      "+---------+-----------+----------+\n",
      "|       DE|    Germany|      82.0|\n",
      "|       FR|     France|      67.0|\n",
      "|       CH|Switzerland|       8.5|\n",
      "|       IT|      Italy|      60.0|\n",
      "+---------+-----------+----------+\n",
      "\n"
     ]
    }
   ],
   "source": [
    "df1s.join(df2s, on='AlphaCode').show()"
   ]
  },
  {
   "cell_type": "markdown",
   "metadata": {
    "colab_type": "text",
    "id": "6sAlp1fvPDoO"
   },
   "source": [
    "### Creata dataframe"
   ]
  },
  {
   "cell_type": "markdown",
   "metadata": {
    "colab_type": "text",
    "id": "mkP-kOMQPDoP"
   },
   "source": [
    "**Pandas**"
   ]
  },
  {
   "cell_type": "code",
   "execution_count": null,
   "metadata": {
    "colab": {},
    "colab_type": "code",
    "id": "BsXMK7c5PDoP"
   },
   "outputs": [],
   "source": []
  },
  {
   "cell_type": "markdown",
   "metadata": {
    "colab_type": "text",
    "id": "5OZ4CQ7EPDoR"
   },
   "source": [
    "**PySpark**"
   ]
  },
  {
   "cell_type": "code",
   "execution_count": null,
   "metadata": {
    "colab": {},
    "colab_type": "code",
    "id": "iGdFRmCJPDoT"
   },
   "outputs": [],
   "source": [
    "schema?"
   ]
  },
  {
   "cell_type": "markdown",
   "metadata": {
    "colab_type": "text",
    "id": "AFYK5yG5PDoV"
   },
   "source": [
    "### Pivot table"
   ]
  },
  {
   "cell_type": "markdown",
   "metadata": {
    "colab_type": "text",
    "id": "10P4Dj63PDoV"
   },
   "source": [
    "**Pandas**"
   ]
  },
  {
   "cell_type": "code",
   "execution_count": null,
   "metadata": {
    "colab": {},
    "colab_type": "code",
    "id": "KiXQgMA6PDoV"
   },
   "outputs": [],
   "source": [
    "pd.pivot_table(df, values='D', index=['A', 'B'], columns=['C'], aggfunc=np.sum)"
   ]
  },
  {
   "cell_type": "markdown",
   "metadata": {
    "colab_type": "text",
    "id": "tBrJAOGyPDoZ"
   },
   "source": [
    "**PySpark**"
   ]
  },
  {
   "cell_type": "code",
   "execution_count": null,
   "metadata": {
    "colab": {},
    "colab_type": "code",
    "id": "Emhr36yTPDoZ"
   },
   "outputs": [],
   "source": [
    "dfs.groupby('A', 'B').pivot('C').sum('D')"
   ]
  },
  {
   "cell_type": "code",
   "execution_count": null,
   "metadata": {
    "colab": {},
    "colab_type": "code",
    "id": "jnKBk5fhPDob"
   },
   "outputs": [],
   "source": []
  },
  {
   "cell_type": "markdown",
   "metadata": {
    "colab_type": "text",
    "id": "vj5N-a9APDoc"
   },
   "source": [
    "### Plotting"
   ]
  },
  {
   "cell_type": "code",
   "execution_count": null,
   "metadata": {
    "colab": {},
    "colab_type": "code",
    "id": "GM2JMBKLPDod",
    "outputId": "ca43568a-e18a-49c7-fd97-47dc6508a28b"
   },
   "outputs": [
    {
     "data": {
      "text/plain": [
       "<matplotlib.axes._subplots.AxesSubplot at 0x7f624244ad30>"
      ]
     },
     "execution_count": 34,
     "metadata": {
      "tags": []
     },
     "output_type": "execute_result"
    },
    {
     "data": {
      "image/png": "[encoded data removed]",
      "text/plain": [
       "<Figure size 432x288 with 1 Axes>"
      ]
     },
     "metadata": {
      "tags": []
     },
     "output_type": "display_data"
    }
   ],
   "source": [
    "df['Rent'].hist()"
   ]
  },
  {
   "cell_type": "code",
   "execution_count": null,
   "metadata": {
    "colab": {},
    "colab_type": "code",
    "id": "6CIZqZxjPDof",
    "outputId": "f1881b3a-1908-4759-bef5-9fffa34f067f"
   },
   "outputs": [
    {
     "data": {
      "text/plain": [
       "<matplotlib.axes._subplots.AxesSubplot at 0x7f62372f00b8>"
      ]
     },
     "execution_count": 58,
     "metadata": {
      "tags": []
     },
     "output_type": "execute_result"
    },
    {
     "data": {
      "image/png": "[encoded data removed]",
      "text/plain": [
       "<Figure size 432x288 with 1 Axes>"
      ]
     },
     "metadata": {
      "tags": []
     },
     "output_type": "display_data"
    }
   ],
   "source": [
    "dfs.toPandas()['Rent'].hist()"
   ]
  },
  {
   "cell_type": "markdown",
   "metadata": {
    "colab_type": "text",
    "id": "X2KhisZCPDoi"
   },
   "source": [
    "However, usually `dfs` is too big to be able to plot it (otherwise you may use pandas from the beginning), solution? Sampling:"
   ]
  },
  {
   "cell_type": "code",
   "execution_count": null,
   "metadata": {
    "colab": {},
    "colab_type": "code",
    "id": "jv_xb4p1PDoi",
    "outputId": "c8c1c163-7ad0-4bb4-f572-b76034f315e2"
   },
   "outputs": [
    {
     "data": {
      "text/plain": [
       "<matplotlib.axes._subplots.AxesSubplot at 0x7f6237208da0>"
      ]
     },
     "execution_count": 60,
     "metadata": {
      "tags": []
     },
     "output_type": "execute_result"
    },
    {
     "data": {
      "image/png": "[encoded data removed]",
      "text/plain": [
       "<Figure size 432x288 with 1 Axes>"
      ]
     },
     "metadata": {
      "tags": []
     },
     "output_type": "display_data"
    }
   ],
   "source": [
    "dfs.sample(withReplacement=False, fraction=0.4).toPandas()['Rent'].hist()"
   ]
  },
  {
   "cell_type": "markdown",
   "metadata": {
    "colab_type": "text",
    "id": "pdFWTJgKPDol"
   },
   "source": [
    "### SQL"
   ]
  },
  {
   "cell_type": "markdown",
   "metadata": {
    "colab_type": "text",
    "id": "VbWFq0uwPDol"
   },
   "source": [
    "**Pandas**"
   ]
  },
  {
   "cell_type": "markdown",
   "metadata": {
    "colab_type": "text",
    "id": "kuynnZmaPDom"
   },
   "source": [
    "no built-in SQL to Pandas! "
   ]
  },
  {
   "cell_type": "markdown",
   "metadata": {
    "colab_type": "text",
    "id": "rZt0wmiiPDom"
   },
   "source": [
    "**PySpark**"
   ]
  },
  {
   "cell_type": "code",
   "execution_count": null,
   "metadata": {
    "colab": {},
    "colab_type": "code",
    "id": "3lnEotCwPDon"
   },
   "outputs": [],
   "source": [
    "dfs.createOrReplaceTempView('dfview')"
   ]
  },
  {
   "cell_type": "code",
   "execution_count": null,
   "metadata": {
    "colab": {},
    "colab_type": "code",
    "id": "cm4Z_xDVPDoo",
    "outputId": "a44dd6a5-6b9a-4b38-c2ba-d944abaf2460"
   },
   "outputs": [
    {
     "name": "stdout",
     "output_type": "stream",
     "text": [
      "+--------------------+-----+\n",
      "|             Address| Rent|\n",
      "+--------------------+-----+\n",
      "|Av. de Chailly 52...|360.0|\n",
      "|Av. de Chailly 52...|380.0|\n",
      "|Av. de Riant-Mont...|637.0|\n",
      "|Av. de Tivoli 19B...|725.0|\n",
      "|Isabelle de Monto...|780.0|\n",
      "|Rue St-Martin 28,...|840.0|\n",
      "|Avenue Sainte-Luc...|850.0|\n",
      "|Chemin de Montoli...|860.0|\n",
      "|Ch. du Devin 64, ...|940.0|\n",
      "|Chemin des Alling...|300.0|\n",
      "|   1007 Lausanne, VD|400.0|\n",
      "|1004 Lausanne, VD...|500.0|\n",
      "|Chemin de Longera...|500.0|\n",
      "|Chailly, 1012 Lau...|600.0|\n",
      "|   1004 Lausanne, VD|600.0|\n",
      "|Avenue de Rhodani...|600.0|\n",
      "|1007 Lausanne, 10...|600.0|\n",
      "|avenue Druey coll...|600.0|\n",
      "|Avenue Marc-Dufou...|640.0|\n",
      "|   1010 Lausanne, VD|650.0|\n",
      "+--------------------+-----+\n",
      "only showing top 20 rows\n",
      "\n"
     ]
    }
   ],
   "source": [
    "spark.sql('SELECT Address, Rent FROM dfview WHERE Rent < 1000').show()"
   ]
  },
  {
   "cell_type": "code",
   "execution_count": null,
   "metadata": {
    "colab": {},
    "colab_type": "code",
    "id": "8zbHau_9PDoq"
   },
   "outputs": [],
   "source": []
  }
 ],
 "metadata": {
  "colab": {
   "collapsed_sections": [
    "7yzIo65yPDir",
    "SJ7t3Hi4PDjC",
    "3mxl8rPPPDjf",
    "tI9MZFqKPDkA",
    "y8rzRRd8PDlC",
    "X1Z9REnZPDlR",
    "IKeDf6twPDlh",
    "UlJKusgRPDl2",
    "UcvC_NgfPDmj",
    "nMDCQsRlPDm4",
    "I0bPCNjqPDnS",
    "wZfesnL_PDnq",
    "gAzcqSq7PDoA",
    "6sAlp1fvPDoO",
    "AFYK5yG5PDoV",
    "vj5N-a9APDoc",
    "pdFWTJgKPDol"
   ],
   "name": "quick_start_google_colab.ipynb",
   "provenance": [],
   "version": "0.3.2"
  },
  "kernelspec": {
   "display_name": "Python 3",
   "language": "python",
   "name": "python3"
  },
  "language_info": {
   "codemirror_mode": {
    "name": "ipython",
    "version": 3
   },
   "file_extension": ".py",
   "mimetype": "text/x-python",
   "name": "python",
   "nbconvert_exporter": "python",
   "pygments_lexer": "ipython3",
   "version": "3.6.6"
  }
 },
 "nbformat": 4,
 "nbformat_minor": 2
}

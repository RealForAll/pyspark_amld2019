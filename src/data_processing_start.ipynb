{
 "cells": [
  {
   "cell_type": "markdown",
   "metadata": {},
   "source": [
    "# Introduction to the data processing with PySpark"
   ]
  },
  {
   "cell_type": "code",
   "execution_count": 1,
   "metadata": {},
   "outputs": [],
   "source": [
    "import pandas as pd\n",
    "from pyspark.sql import SparkSession"
   ]
  },
  {
   "cell_type": "markdown",
   "metadata": {},
   "source": [
    "## Import data \n",
    "Import the lausanne rental data stored in `../data/lausanne_rentl.csv` as a Dataframe."
   ]
  },
  {
   "cell_type": "markdown",
   "metadata": {},
   "source": [
    "**Pandas**"
   ]
  },
  {
   "cell_type": "code",
   "execution_count": 2,
   "metadata": {},
   "outputs": [],
   "source": [
    "df = "
   ]
  },
  {
   "cell_type": "markdown",
   "metadata": {},
   "source": [
    "**PySpark**"
   ]
  },
  {
   "cell_type": "code",
   "execution_count": 3,
   "metadata": {},
   "outputs": [],
   "source": [
    "spark = SparkSession.builder.getOrCreate()"
   ]
  },
  {
   "cell_type": "code",
   "execution_count": 4,
   "metadata": {},
   "outputs": [],
   "source": [
    "dfs = "
   ]
  },
  {
   "cell_type": "markdown",
   "metadata": {},
   "source": [
    "## Preprocessing"
   ]
  },
  {
   "cell_type": "markdown",
   "metadata": {},
   "source": [
    "Quick look: show the first 5 rows of the dataframe. "
   ]
  },
  {
   "cell_type": "markdown",
   "metadata": {},
   "source": [
    "**Pandas**"
   ]
  },
  {
   "cell_type": "code",
   "execution_count": null,
   "metadata": {},
   "outputs": [],
   "source": []
  },
  {
   "cell_type": "markdown",
   "metadata": {},
   "source": [
    "**Spark**"
   ]
  },
  {
   "cell_type": "code",
   "execution_count": null,
   "metadata": {},
   "outputs": [],
   "source": []
  },
  {
   "cell_type": "markdown",
   "metadata": {},
   "source": [
    "**Possible convert to pandas:** "
   ]
  },
  {
   "cell_type": "markdown",
   "metadata": {},
   "source": [
    "As you see the PySpark output is not as nice as the Pandas. Any solutions? Can you pass in the output of PySpark to a Pandas dataframe? "
   ]
  },
  {
   "cell_type": "code",
   "execution_count": null,
   "metadata": {},
   "outputs": [],
   "source": [
    "pd.DataFrame()"
   ]
  },
  {
   "cell_type": "markdown",
   "metadata": {},
   "source": [
    "### Get column names"
   ]
  },
  {
   "cell_type": "markdown",
   "metadata": {},
   "source": [
    "Get the column names:"
   ]
  },
  {
   "cell_type": "markdown",
   "metadata": {},
   "source": [
    "**Pandas**"
   ]
  },
  {
   "cell_type": "code",
   "execution_count": null,
   "metadata": {},
   "outputs": [],
   "source": []
  },
  {
   "cell_type": "markdown",
   "metadata": {},
   "source": [
    "**PySpark**"
   ]
  },
  {
   "cell_type": "code",
   "execution_count": null,
   "metadata": {},
   "outputs": [],
   "source": []
  },
  {
   "cell_type": "markdown",
   "metadata": {},
   "source": [
    "### Get types"
   ]
  },
  {
   "cell_type": "markdown",
   "metadata": {},
   "source": [
    "**Pandas**"
   ]
  },
  {
   "cell_type": "code",
   "execution_count": null,
   "metadata": {},
   "outputs": [],
   "source": []
  },
  {
   "cell_type": "markdown",
   "metadata": {},
   "source": [
    "**PySpark**"
   ]
  },
  {
   "cell_type": "code",
   "execution_count": null,
   "metadata": {},
   "outputs": [],
   "source": []
  },
  {
   "cell_type": "markdown",
   "metadata": {},
   "source": [
    "Note that the types in PySpark dont match with those of Pandas. This is becauase pandas automatically recognizes (guesses) the types, while in PySpark we need to explicitely specify the types. "
   ]
  },
  {
   "cell_type": "markdown",
   "metadata": {},
   "source": [
    "### Converting column types (or Add columns)"
   ]
  },
  {
   "cell_type": "markdown",
   "metadata": {},
   "source": [
    "**Pandas**"
   ]
  },
  {
   "cell_type": "markdown",
   "metadata": {},
   "source": [
    "As you saw above the `id` column is in `float24` format. Can you convert it to `int`?"
   ]
  },
  {
   "cell_type": "code",
   "execution_count": 29,
   "metadata": {},
   "outputs": [],
   "source": [
    "df['Id'] = df['Id']. # complete"
   ]
  },
  {
   "cell_type": "code",
   "execution_count": null,
   "metadata": {},
   "outputs": [],
   "source": [
    "df.dtypes # now check if it worked"
   ]
  },
  {
   "cell_type": "markdown",
   "metadata": {},
   "source": [
    "**PySpark**"
   ]
  },
  {
   "cell_type": "markdown",
   "metadata": {},
   "source": [
    "As you saw above all the PySpark dataframe types were reported as `string`. Now we want to convert `Id` to `int`, `SurfaceArea`, `Rent`, `NumRooms` to `float`. "
   ]
  },
  {
   "cell_type": "code",
   "execution_count": 50,
   "metadata": {},
   "outputs": [],
   "source": [
    "dfs = dfs.withColumn() # complete\n",
    "dfs = dfs.withColumn()\n",
    "dfs = dfs.withColumn()\n",
    "dfs = dfs.withColumn()"
   ]
  },
  {
   "cell_type": "code",
   "execution_count": null,
   "metadata": {},
   "outputs": [],
   "source": [
    "dfs.dtypes # check if it worked"
   ]
  },
  {
   "cell_type": "markdown",
   "metadata": {},
   "source": [
    "### Rename Columns"
   ]
  },
  {
   "cell_type": "markdown",
   "metadata": {},
   "source": [
    "**Pandas**"
   ]
  },
  {
   "cell_type": "code",
   "execution_count": 9,
   "metadata": {},
   "outputs": [],
   "source": [
    "dftmp = df.copy()  # if you don't put the .copy() dftmp \"points\" to the same dataframe as df, so any change of dftmp affects df"
   ]
  },
  {
   "cell_type": "code",
   "execution_count": 10,
   "metadata": {},
   "outputs": [
    {
     "data": {
      "text/plain": [
       "Index(['Id', 'SurfaceArea', 'NumRooms', 'Type', 'Address', 'Description',\n",
       "       'Rent', 'Bookmark', 'Link'],\n",
       "      dtype='object')"
      ]
     },
     "execution_count": 10,
     "metadata": {},
     "output_type": "execute_result"
    }
   ],
   "source": [
    "dftmp.columns"
   ]
  },
  {
   "cell_type": "markdown",
   "metadata": {},
   "source": [
    "Rename the dftmp columns to A, B, C, D, E, F, G, H, I:"
   ]
  },
  {
   "cell_type": "code",
   "execution_count": 11,
   "metadata": {},
   "outputs": [],
   "source": [
    "dftmp.columns =  "
   ]
  },
  {
   "cell_type": "code",
   "execution_count": null,
   "metadata": {},
   "outputs": [],
   "source": [
    "dftmp.columns # check"
   ]
  },
  {
   "cell_type": "markdown",
   "metadata": {},
   "source": [
    "Now rename only column A back to Id: "
   ]
  },
  {
   "cell_type": "code",
   "execution_count": 13,
   "metadata": {},
   "outputs": [],
   "source": [
    "dftmp = "
   ]
  },
  {
   "cell_type": "code",
   "execution_count": null,
   "metadata": {},
   "outputs": [],
   "source": [
    "dftmp.head() # check if it worked"
   ]
  },
  {
   "cell_type": "markdown",
   "metadata": {},
   "source": [
    "**PySpark**"
   ]
  },
  {
   "cell_type": "markdown",
   "metadata": {},
   "source": [
    "Rename the dftmp columns to A, B, C, D, E, F, G, H, I:"
   ]
  },
  {
   "cell_type": "code",
   "execution_count": null,
   "metadata": {},
   "outputs": [],
   "source": [
    "dfs. # complete. Hint: Use dfs.toDF(?) note that the changes in PySpark are immutable"
   ]
  },
  {
   "cell_type": "code",
   "execution_count": null,
   "metadata": {},
   "outputs": [],
   "source": [
    "dfs.columns # check"
   ]
  },
  {
   "cell_type": "markdown",
   "metadata": {},
   "source": [
    "Now rename only column A back to Id: "
   ]
  },
  {
   "cell_type": "code",
   "execution_count": null,
   "metadata": {},
   "outputs": [],
   "source": [
    "dfs. # complete again immutable"
   ]
  },
  {
   "cell_type": "code",
   "execution_count": null,
   "metadata": {},
   "outputs": [],
   "source": [
    "dfs.columns # check"
   ]
  },
  {
   "cell_type": "markdown",
   "metadata": {},
   "source": [
    "### Drop columns"
   ]
  },
  {
   "cell_type": "markdown",
   "metadata": {},
   "source": [
    "**Pandas**"
   ]
  },
  {
   "cell_type": "markdown",
   "metadata": {},
   "source": [
    "Drop the Id column."
   ]
  },
  {
   "cell_type": "code",
   "execution_count": null,
   "metadata": {},
   "outputs": [],
   "source": [
    "df # Note: is immutable"
   ]
  },
  {
   "cell_type": "markdown",
   "metadata": {},
   "source": [
    "**PySpark**:"
   ]
  },
  {
   "cell_type": "code",
   "execution_count": null,
   "metadata": {},
   "outputs": [],
   "source": [
    "dfs"
   ]
  },
  {
   "cell_type": "markdown",
   "metadata": {},
   "source": [
    "### Summary Statistics: Describe"
   ]
  },
  {
   "cell_type": "markdown",
   "metadata": {},
   "source": [
    "**Pandas**"
   ]
  },
  {
   "cell_type": "code",
   "execution_count": null,
   "metadata": {},
   "outputs": [],
   "source": []
  },
  {
   "cell_type": "markdown",
   "metadata": {},
   "source": [
    "**PySpark**"
   ]
  },
  {
   "cell_type": "code",
   "execution_count": null,
   "metadata": {},
   "outputs": [],
   "source": []
  },
  {
   "cell_type": "markdown",
   "metadata": {},
   "source": [
    "Can you show the output more nicely? Hint: use `.toPandas()`. "
   ]
  },
  {
   "cell_type": "code",
   "execution_count": null,
   "metadata": {},
   "outputs": [],
   "source": []
  },
  {
   "cell_type": "markdown",
   "metadata": {},
   "source": [
    "### Slicing (Filtering)"
   ]
  },
  {
   "cell_type": "markdown",
   "metadata": {},
   "source": [
    "**Pandas**"
   ]
  },
  {
   "cell_type": "markdown",
   "metadata": {},
   "source": [
    "Define a dataframe from `df` of apartment listings with a surface area less than 50 m2. "
   ]
  },
  {
   "cell_type": "markdown",
   "metadata": {},
   "source": [
    "**PySpark**"
   ]
  },
  {
   "cell_type": "code",
   "execution_count": null,
   "metadata": {},
   "outputs": [],
   "source": []
  },
  {
   "cell_type": "markdown",
   "metadata": {},
   "source": [
    "### Aggregate functions"
   ]
  },
  {
   "cell_type": "markdown",
   "metadata": {},
   "source": [
    "**Pandas**"
   ]
  },
  {
   "cell_type": "code",
   "execution_count": 96,
   "metadata": {},
   "outputs": [
    {
     "data": {
      "text/plain": [
       "1993.539115646258"
      ]
     },
     "execution_count": 96,
     "metadata": {},
     "output_type": "execute_result"
    }
   ],
   "source": [
    "df['Rent'].mean()"
   ]
  },
  {
   "cell_type": "code",
   "execution_count": 108,
   "metadata": {},
   "outputs": [
    {
     "data": {
      "text/plain": [
       "8900.0"
      ]
     },
     "execution_count": 108,
     "metadata": {},
     "output_type": "execute_result"
    }
   ],
   "source": [
    "df['Rent'].max()"
   ]
  },
  {
   "cell_type": "markdown",
   "metadata": {},
   "source": [
    "**PySpark**"
   ]
  },
  {
   "cell_type": "code",
   "execution_count": 98,
   "metadata": {},
   "outputs": [
    {
     "ename": "TypeError",
     "evalue": "'Column' object is not callable",
     "output_type": "error",
     "traceback": [
      "\u001b[0;31m---------------------------------------------------------------------------\u001b[0m",
      "\u001b[0;31mTypeError\u001b[0m                                 Traceback (most recent call last)",
      "\u001b[0;32m<ipython-input-98-31bcc57b9a35>\u001b[0m in \u001b[0;36m<module>\u001b[0;34m()\u001b[0m\n\u001b[0;32m----> 1\u001b[0;31m \u001b[0mdfs\u001b[0m\u001b[0;34m[\u001b[0m\u001b[0;34m'Rent'\u001b[0m\u001b[0;34m]\u001b[0m\u001b[0;34m.\u001b[0m\u001b[0mmean\u001b[0m\u001b[0;34m(\u001b[0m\u001b[0;34m)\u001b[0m\u001b[0;34m\u001b[0m\u001b[0m\n\u001b[0m",
      "\u001b[0;31mTypeError\u001b[0m: 'Column' object is not callable"
     ]
    }
   ],
   "source": [
    "dfs['Rent'].mean()"
   ]
  },
  {
   "cell_type": "markdown",
   "metadata": {},
   "source": [
    "Does not work out the same way! You need to first download the PySpark SQL functions:"
   ]
  },
  {
   "cell_type": "code",
   "execution_count": 99,
   "metadata": {},
   "outputs": [],
   "source": [
    "from pyspark.sql import functions as F"
   ]
  },
  {
   "cell_type": "code",
   "execution_count": 142,
   "metadata": {},
   "outputs": [
    {
     "name": "stdout",
     "output_type": "stream",
     "text": [
      "+------------------+\n",
      "|         avg(Rent)|\n",
      "+------------------+\n",
      "|1984.3287904599658|\n",
      "+------------------+\n",
      "\n"
     ]
    }
   ],
   "source": [
    "dfs.select(F.mean('Rent')).show()"
   ]
  },
  {
   "cell_type": "code",
   "execution_count": 128,
   "metadata": {},
   "outputs": [
    {
     "name": "stdout",
     "output_type": "stream",
     "text": [
      "+---------+\n",
      "|max(Rent)|\n",
      "+---------+\n",
      "|   8900.0|\n",
      "+---------+\n",
      "\n"
     ]
    }
   ],
   "source": [
    "dfs.select(F.max('Rent')).show()"
   ]
  },
  {
   "cell_type": "markdown",
   "metadata": {},
   "source": [
    "If you want to get the value:"
   ]
  },
  {
   "cell_type": "code",
   "execution_count": 165,
   "metadata": {},
   "outputs": [
    {
     "data": {
      "text/plain": [
       "1984.3287904599658"
      ]
     },
     "execution_count": 165,
     "metadata": {},
     "output_type": "execute_result"
    }
   ],
   "source": [
    "value = dfs.select(F.mean('Rent')).collect()[0].asDict()['avg(Rent)']\n",
    "value"
   ]
  },
  {
   "cell_type": "markdown",
   "metadata": {},
   "source": [
    "### Fill Nulls"
   ]
  },
  {
   "cell_type": "markdown",
   "metadata": {},
   "source": [
    "**Pandas**"
   ]
  },
  {
   "cell_type": "code",
   "execution_count": 240,
   "metadata": {},
   "outputs": [],
   "source": [
    "df['Rent'] = df['Rent'].fillna(df['Rent'].mean()) # generally not a good way of filling nan, how about median? How about filling based on correlation with other features? \n",
    "df['NumRooms'] = df['NumRooms'].fillna(df['NumRooms'].mean())"
   ]
  },
  {
   "cell_type": "markdown",
   "metadata": {},
   "source": [
    "**PySpark**"
   ]
  },
  {
   "cell_type": "code",
   "execution_count": 175,
   "metadata": {},
   "outputs": [],
   "source": [
    "dfs = dfs.fillna(value, subset=['Rent'])"
   ]
  },
  {
   "cell_type": "code",
   "execution_count": 252,
   "metadata": {},
   "outputs": [],
   "source": [
    "value_numrooms = dfs.select(F.mean('NumRooms')).collect()[0].asDict()['avg(NumRooms)']"
   ]
  },
  {
   "cell_type": "code",
   "execution_count": 253,
   "metadata": {},
   "outputs": [],
   "source": [
    "dfs = dfs.fillna(value_numrooms, subset=['NumRooms'])"
   ]
  },
  {
   "cell_type": "markdown",
   "metadata": {},
   "source": [
    "### Aggregation"
   ]
  },
  {
   "cell_type": "markdown",
   "metadata": {},
   "source": [
    "What is the averagne rent for apartments with different room numbers in Lausanne? So, we want a list of room numbers with their average rent. "
   ]
  },
  {
   "cell_type": "markdown",
   "metadata": {},
   "source": [
    "**Pandas**"
   ]
  },
  {
   "cell_type": "code",
   "execution_count": null,
   "metadata": {},
   "outputs": [],
   "source": []
  },
  {
   "cell_type": "markdown",
   "metadata": {},
   "source": [
    "**PySpark**"
   ]
  },
  {
   "cell_type": "code",
   "execution_count": null,
   "metadata": {},
   "outputs": [],
   "source": []
  },
  {
   "cell_type": "markdown",
   "metadata": {},
   "source": [
    "Can you list the average surface area as well as the average rent?"
   ]
  },
  {
   "cell_type": "code",
   "execution_count": null,
   "metadata": {},
   "outputs": [],
   "source": []
  },
  {
   "cell_type": "markdown",
   "metadata": {},
   "source": [
    "### Transformations"
   ]
  },
  {
   "cell_type": "markdown",
   "metadata": {},
   "source": [
    "**Pandas**"
   ]
  },
  {
   "cell_type": "code",
   "execution_count": 195,
   "metadata": {},
   "outputs": [],
   "source": [
    "import numpy as np"
   ]
  },
  {
   "cell_type": "code",
   "execution_count": 197,
   "metadata": {},
   "outputs": [],
   "source": [
    "df['logRent'] = np.log(df['Rent'])"
   ]
  },
  {
   "cell_type": "code",
   "execution_count": 201,
   "metadata": {},
   "outputs": [
    {
     "data": {
      "text/html": [
       "<div>\n",
       "<style scoped>\n",
       "    .dataframe tbody tr th:only-of-type {\n",
       "        vertical-align: middle;\n",
       "    }\n",
       "\n",
       "    .dataframe tbody tr th {\n",
       "        vertical-align: top;\n",
       "    }\n",
       "\n",
       "    .dataframe thead th {\n",
       "        text-align: right;\n",
       "    }\n",
       "</style>\n",
       "<table border=\"1\" class=\"dataframe\">\n",
       "  <thead>\n",
       "    <tr style=\"text-align: right;\">\n",
       "      <th></th>\n",
       "      <th>Id</th>\n",
       "      <th>SurfaceArea</th>\n",
       "      <th>NumRooms</th>\n",
       "      <th>Type</th>\n",
       "      <th>Address</th>\n",
       "      <th>Description</th>\n",
       "      <th>Rent</th>\n",
       "      <th>Bookmark</th>\n",
       "      <th>Link</th>\n",
       "      <th>logRent</th>\n",
       "    </tr>\n",
       "  </thead>\n",
       "  <tbody>\n",
       "    <tr>\n",
       "      <th>0</th>\n",
       "      <td>5286965</td>\n",
       "      <td>52.0</td>\n",
       "      <td>2.5</td>\n",
       "      <td>flat</td>\n",
       "      <td>Route Aloys-Fauquez 124, 1018 Lausanne, VD</td>\n",
       "      <td>Agréable 2 pièces proche de toutes les commodités</td>\n",
       "      <td>1460.0</td>\n",
       "      <td>New</td>\n",
       "      <td>/en/d/flat-rent-lausanne/5286965?s=2&amp;t=1&amp;l=202...</td>\n",
       "      <td>7.286192</td>\n",
       "    </tr>\n",
       "    <tr>\n",
       "      <th>1</th>\n",
       "      <td>5277530</td>\n",
       "      <td>80.0</td>\n",
       "      <td>3.0</td>\n",
       "      <td>flat</td>\n",
       "      <td>Avenue de Béthusy 53, 1012 Lausanne, VD</td>\n",
       "      <td>Proche du centre ville</td>\n",
       "      <td>2100.0</td>\n",
       "      <td>NaN</td>\n",
       "      <td>/en/d/flat-rent-lausanne/5277530?s=2&amp;t=1&amp;l=202...</td>\n",
       "      <td>7.649693</td>\n",
       "    </tr>\n",
       "    <tr>\n",
       "      <th>2</th>\n",
       "      <td>5249019</td>\n",
       "      <td>74.0</td>\n",
       "      <td>3.5</td>\n",
       "      <td>stepped-apartment</td>\n",
       "      <td>Route des Plaines-du-Loup 42, 1018 Lausanne, VD</td>\n",
       "      <td>Magnifique 3,5 pièces avec jardin privé -Immeu...</td>\n",
       "      <td>2150.0</td>\n",
       "      <td>Highlight</td>\n",
       "      <td>/en/d/stepped-apartment-rent-lausanne/5249019?...</td>\n",
       "      <td>7.673223</td>\n",
       "    </tr>\n",
       "    <tr>\n",
       "      <th>3</th>\n",
       "      <td>5274375</td>\n",
       "      <td>108.0</td>\n",
       "      <td>3.5</td>\n",
       "      <td>duplex-maisonette</td>\n",
       "      <td>Route de Prilly 12, 1004 Lausanne, VD</td>\n",
       "      <td>Magnifique logement en duplex entièrement neuf</td>\n",
       "      <td>3160.0</td>\n",
       "      <td>NaN</td>\n",
       "      <td>/en/d/duplex-maisonette-rent-lausanne/5274375?...</td>\n",
       "      <td>8.058327</td>\n",
       "    </tr>\n",
       "    <tr>\n",
       "      <th>4</th>\n",
       "      <td>5274374</td>\n",
       "      <td>80.0</td>\n",
       "      <td>3.5</td>\n",
       "      <td>flat</td>\n",
       "      <td>Route de Prilly 12, 1004 Lausanne, VD</td>\n",
       "      <td>Nouveaux logements</td>\n",
       "      <td>2085.0</td>\n",
       "      <td>NaN</td>\n",
       "      <td>/en/d/flat-rent-lausanne/5274374?s=2&amp;t=1&amp;l=202...</td>\n",
       "      <td>7.642524</td>\n",
       "    </tr>\n",
       "  </tbody>\n",
       "</table>\n",
       "</div>"
      ],
      "text/plain": [
       "        Id  SurfaceArea  NumRooms               Type  \\\n",
       "0  5286965         52.0       2.5               flat   \n",
       "1  5277530         80.0       3.0               flat   \n",
       "2  5249019         74.0       3.5  stepped-apartment   \n",
       "3  5274375        108.0       3.5  duplex-maisonette   \n",
       "4  5274374         80.0       3.5               flat   \n",
       "\n",
       "                                           Address  \\\n",
       "0       Route Aloys-Fauquez 124, 1018 Lausanne, VD   \n",
       "1          Avenue de Béthusy 53, 1012 Lausanne, VD   \n",
       "2  Route des Plaines-du-Loup 42, 1018 Lausanne, VD   \n",
       "3            Route de Prilly 12, 1004 Lausanne, VD   \n",
       "4            Route de Prilly 12, 1004 Lausanne, VD   \n",
       "\n",
       "                                         Description    Rent   Bookmark  \\\n",
       "0  Agréable 2 pièces proche de toutes les commodités  1460.0        New   \n",
       "1                             Proche du centre ville  2100.0        NaN   \n",
       "2  Magnifique 3,5 pièces avec jardin privé -Immeu...  2150.0  Highlight   \n",
       "3     Magnifique logement en duplex entièrement neuf  3160.0        NaN   \n",
       "4                                 Nouveaux logements  2085.0        NaN   \n",
       "\n",
       "                                                Link   logRent  \n",
       "0  /en/d/flat-rent-lausanne/5286965?s=2&t=1&l=202...  7.286192  \n",
       "1  /en/d/flat-rent-lausanne/5277530?s=2&t=1&l=202...  7.649693  \n",
       "2  /en/d/stepped-apartment-rent-lausanne/5249019?...  7.673223  \n",
       "3  /en/d/duplex-maisonette-rent-lausanne/5274375?...  8.058327  \n",
       "4  /en/d/flat-rent-lausanne/5274374?s=2&t=1&l=202...  7.642524  "
      ]
     },
     "execution_count": 201,
     "metadata": {},
     "output_type": "execute_result"
    }
   ],
   "source": [
    "df.head()"
   ]
  },
  {
   "cell_type": "markdown",
   "metadata": {},
   "source": [
    "**PySpark**"
   ]
  },
  {
   "cell_type": "code",
   "execution_count": 196,
   "metadata": {},
   "outputs": [],
   "source": [
    "import pyspark.sql.functions as F"
   ]
  },
  {
   "cell_type": "code",
   "execution_count": 203,
   "metadata": {},
   "outputs": [],
   "source": [
    "dfs = dfs.withColumn('logRent', F.log(dfs['Rent']))"
   ]
  },
  {
   "cell_type": "code",
   "execution_count": 200,
   "metadata": {},
   "outputs": [
    {
     "name": "stdout",
     "output_type": "stream",
     "text": [
      "+-------+-----------+--------+--------------------+--------------------+--------------------+------+---------+--------------------+-----------------+\n",
      "|     Id|SurfaceArea|NumRooms|                Type|             Address|         Description|  Rent| Bookmark|                Link|          logRent|\n",
      "+-------+-----------+--------+--------------------+--------------------+--------------------+------+---------+--------------------+-----------------+\n",
      "|5286965|       52.0|     2.5|                flat|Route Aloys-Fauqu...|Agréable 2 pièces...|1460.0|      New|/en/d/flat-rent-l...|7.286191714702382|\n",
      "|5277530|       80.0|     3.0|                flat|Avenue de Béthusy...|Proche du centre ...|2100.0|     null|/en/d/flat-rent-l...|7.649692623711514|\n",
      "|5249019|       74.0|     3.5|   stepped-apartment|Route des Plaines...|Magnifique 3,5 pi...|2150.0|Highlight|/en/d/stepped-apa...|7.673223121121708|\n",
      "|5274375|      108.0|     3.5|   duplex-maisonette|Route de Prilly 1...|Magnifique logeme...|3160.0|     null|/en/d/duplex-mais...|8.058327306580958|\n",
      "|5274374|       80.0|     3.5|                flat|Route de Prilly 1...|  Nouveaux logements|2085.0|     null|/en/d/flat-rent-l...|7.642524134232902|\n",
      "|5278160|       55.0|     2.5|                flat|Route Aloys-Fauqu...|Grand 2,5 pièces ...|1450.0|     null|/en/d/flat-rent-l...| 7.27931883541462|\n",
      "|5277696|      128.0|     3.5|   duplex-maisonette|Rue du Bourg 15, ...|Superbe duplex à ...|3000.0|     null|/en/d/duplex-mais...|8.006367567650246|\n",
      "|5256077|      130.0|     4.5|           penthouse|Avenue Druey 13, ...|Belle Attique Rén...|4580.0|     null|/en/d/penthouse-r...|8.429454277108231|\n",
      "|5134449|      123.0|     4.5|                flat|Chemin de Pierref...|Appartement 4.5 p...|2950.0|     null|/en/d/flat-rent-l...|7.989560449333865|\n",
      "|5275170|       13.0|    null|         single-room|Av. de Chailly 52...|Pour petit budget...| 360.0|     null|/en/d/single-room...|5.886104031450156|\n",
      "|5212203|       13.0|    null|         single-room|Av. de Chailly 52...|Proche de toutes ...| 380.0|     null|/en/d/single-room...|5.940171252720432|\n",
      "|5251291|       19.0|    null|                flat|Av. de Riant-Mont...|Appartement, 1.0 ...| 637.0|     null|/en/d/flat-rent-s...|6.456769655572163|\n",
      "|5279333|       20.0|    null|                flat|Av. de Tivoli 19B...|Appartement, 1.0 ...| 725.0|     null|/en/d/flat-rent-s...|6.586171654854675|\n",
      "|5280881|       27.0|    null|                flat|Isabelle de Monto...|Haut de la Ville ...| 780.0|     null|/en/d/flat-rent-l...|6.659293919683638|\n",
      "|5286962|       21.0|    null|                flat|Rue St-Martin 28,...|Votre nouveau che...| 840.0|      New|/en/d/flat-rent-l...|6.733401891837359|\n",
      "|5280449|       24.0|    null|                flat|Avenue Sainte-Luc...|Lausanne, studio ...| 850.0|     null|/en/d/flat-rent-l...|6.745236349484363|\n",
      "|4939726|       18.0|    null|         single-room|Chemin de Montoli...|1006 Lausanne - M...| 860.0|     null|/en/d/single-room...|6.756932389247553|\n",
      "|5085420|       29.0|    null|                flat|Ch. du Devin 64, ...|Grand studio au c...| 940.0|     null|/en/d/flat-rent-l...| 6.84587987526405|\n",
      "|5234626|       33.0|    null|              studio|Chemin de Boston ...|Spacieux et fonct...|1030.0|     null|/en/d/studio-rent...|6.937314081223682|\n",
      "|5189187|       14.0|    null|furnished-residen...|Avenue de Menthon...|Avenue de Menthon...|1050.0|     null|/en/d/furnished-r...|6.956545443151569|\n",
      "+-------+-----------+--------+--------------------+--------------------+--------------------+------+---------+--------------------+-----------------+\n",
      "only showing top 20 rows\n",
      "\n"
     ]
    }
   ],
   "source": [
    "dfs.show()"
   ]
  },
  {
   "cell_type": "markdown",
   "metadata": {},
   "source": [
    "**Note**: pyspark.sql.functions perform fast computations as the whole calcluations are doen in JVM! "
   ]
  },
  {
   "cell_type": "markdown",
   "metadata": {},
   "source": [
    "### User-defined functions"
   ]
  },
  {
   "cell_type": "code",
   "execution_count": 208,
   "metadata": {},
   "outputs": [],
   "source": [
    "df['NumRoomsOnly'] = df['NumRooms'].apply(lambda x: x - 1)"
   ]
  },
  {
   "cell_type": "code",
   "execution_count": 209,
   "metadata": {},
   "outputs": [
    {
     "data": {
      "text/html": [
       "<div>\n",
       "<style scoped>\n",
       "    .dataframe tbody tr th:only-of-type {\n",
       "        vertical-align: middle;\n",
       "    }\n",
       "\n",
       "    .dataframe tbody tr th {\n",
       "        vertical-align: top;\n",
       "    }\n",
       "\n",
       "    .dataframe thead th {\n",
       "        text-align: right;\n",
       "    }\n",
       "</style>\n",
       "<table border=\"1\" class=\"dataframe\">\n",
       "  <thead>\n",
       "    <tr style=\"text-align: right;\">\n",
       "      <th></th>\n",
       "      <th>Id</th>\n",
       "      <th>SurfaceArea</th>\n",
       "      <th>NumRooms</th>\n",
       "      <th>Type</th>\n",
       "      <th>Address</th>\n",
       "      <th>Description</th>\n",
       "      <th>Rent</th>\n",
       "      <th>Bookmark</th>\n",
       "      <th>Link</th>\n",
       "      <th>logRent</th>\n",
       "      <th>NumRoomsOnly</th>\n",
       "    </tr>\n",
       "  </thead>\n",
       "  <tbody>\n",
       "    <tr>\n",
       "      <th>0</th>\n",
       "      <td>5286965</td>\n",
       "      <td>52.0</td>\n",
       "      <td>2.5</td>\n",
       "      <td>flat</td>\n",
       "      <td>Route Aloys-Fauquez 124, 1018 Lausanne, VD</td>\n",
       "      <td>Agréable 2 pièces proche de toutes les commodités</td>\n",
       "      <td>1460.0</td>\n",
       "      <td>New</td>\n",
       "      <td>/en/d/flat-rent-lausanne/5286965?s=2&amp;t=1&amp;l=202...</td>\n",
       "      <td>7.286192</td>\n",
       "      <td>1.5</td>\n",
       "    </tr>\n",
       "    <tr>\n",
       "      <th>1</th>\n",
       "      <td>5277530</td>\n",
       "      <td>80.0</td>\n",
       "      <td>3.0</td>\n",
       "      <td>flat</td>\n",
       "      <td>Avenue de Béthusy 53, 1012 Lausanne, VD</td>\n",
       "      <td>Proche du centre ville</td>\n",
       "      <td>2100.0</td>\n",
       "      <td>NaN</td>\n",
       "      <td>/en/d/flat-rent-lausanne/5277530?s=2&amp;t=1&amp;l=202...</td>\n",
       "      <td>7.649693</td>\n",
       "      <td>2.0</td>\n",
       "    </tr>\n",
       "    <tr>\n",
       "      <th>2</th>\n",
       "      <td>5249019</td>\n",
       "      <td>74.0</td>\n",
       "      <td>3.5</td>\n",
       "      <td>stepped-apartment</td>\n",
       "      <td>Route des Plaines-du-Loup 42, 1018 Lausanne, VD</td>\n",
       "      <td>Magnifique 3,5 pièces avec jardin privé -Immeu...</td>\n",
       "      <td>2150.0</td>\n",
       "      <td>Highlight</td>\n",
       "      <td>/en/d/stepped-apartment-rent-lausanne/5249019?...</td>\n",
       "      <td>7.673223</td>\n",
       "      <td>2.5</td>\n",
       "    </tr>\n",
       "    <tr>\n",
       "      <th>3</th>\n",
       "      <td>5274375</td>\n",
       "      <td>108.0</td>\n",
       "      <td>3.5</td>\n",
       "      <td>duplex-maisonette</td>\n",
       "      <td>Route de Prilly 12, 1004 Lausanne, VD</td>\n",
       "      <td>Magnifique logement en duplex entièrement neuf</td>\n",
       "      <td>3160.0</td>\n",
       "      <td>NaN</td>\n",
       "      <td>/en/d/duplex-maisonette-rent-lausanne/5274375?...</td>\n",
       "      <td>8.058327</td>\n",
       "      <td>2.5</td>\n",
       "    </tr>\n",
       "    <tr>\n",
       "      <th>4</th>\n",
       "      <td>5274374</td>\n",
       "      <td>80.0</td>\n",
       "      <td>3.5</td>\n",
       "      <td>flat</td>\n",
       "      <td>Route de Prilly 12, 1004 Lausanne, VD</td>\n",
       "      <td>Nouveaux logements</td>\n",
       "      <td>2085.0</td>\n",
       "      <td>NaN</td>\n",
       "      <td>/en/d/flat-rent-lausanne/5274374?s=2&amp;t=1&amp;l=202...</td>\n",
       "      <td>7.642524</td>\n",
       "      <td>2.5</td>\n",
       "    </tr>\n",
       "  </tbody>\n",
       "</table>\n",
       "</div>"
      ],
      "text/plain": [
       "        Id  SurfaceArea  NumRooms               Type  \\\n",
       "0  5286965         52.0       2.5               flat   \n",
       "1  5277530         80.0       3.0               flat   \n",
       "2  5249019         74.0       3.5  stepped-apartment   \n",
       "3  5274375        108.0       3.5  duplex-maisonette   \n",
       "4  5274374         80.0       3.5               flat   \n",
       "\n",
       "                                           Address  \\\n",
       "0       Route Aloys-Fauquez 124, 1018 Lausanne, VD   \n",
       "1          Avenue de Béthusy 53, 1012 Lausanne, VD   \n",
       "2  Route des Plaines-du-Loup 42, 1018 Lausanne, VD   \n",
       "3            Route de Prilly 12, 1004 Lausanne, VD   \n",
       "4            Route de Prilly 12, 1004 Lausanne, VD   \n",
       "\n",
       "                                         Description    Rent   Bookmark  \\\n",
       "0  Agréable 2 pièces proche de toutes les commodités  1460.0        New   \n",
       "1                             Proche du centre ville  2100.0        NaN   \n",
       "2  Magnifique 3,5 pièces avec jardin privé -Immeu...  2150.0  Highlight   \n",
       "3     Magnifique logement en duplex entièrement neuf  3160.0        NaN   \n",
       "4                                 Nouveaux logements  2085.0        NaN   \n",
       "\n",
       "                                                Link   logRent  NumRoomsOnly  \n",
       "0  /en/d/flat-rent-lausanne/5286965?s=2&t=1&l=202...  7.286192           1.5  \n",
       "1  /en/d/flat-rent-lausanne/5277530?s=2&t=1&l=202...  7.649693           2.0  \n",
       "2  /en/d/stepped-apartment-rent-lausanne/5249019?...  7.673223           2.5  \n",
       "3  /en/d/duplex-maisonette-rent-lausanne/5274375?...  8.058327           2.5  \n",
       "4  /en/d/flat-rent-lausanne/5274374?s=2&t=1&l=202...  7.642524           2.5  "
      ]
     },
     "execution_count": 209,
     "metadata": {},
     "output_type": "execute_result"
    }
   ],
   "source": [
    "df.head()"
   ]
  },
  {
   "cell_type": "markdown",
   "metadata": {},
   "source": [
    "Pyspark user-defined function, note that the udf has to be deterministic. "
   ]
  },
  {
   "cell_type": "code",
   "execution_count": 220,
   "metadata": {},
   "outputs": [],
   "source": [
    "from pyspark.sql.types import FloatType"
   ]
  },
  {
   "cell_type": "code",
   "execution_count": 221,
   "metadata": {},
   "outputs": [],
   "source": [
    "myFun = F.udf(lambda x: x - 1, returnType=FloatType()) # need to specify the return type otherwise you may get NaN"
   ]
  },
  {
   "cell_type": "code",
   "execution_count": 254,
   "metadata": {},
   "outputs": [],
   "source": [
    "dfs2 = dfs.withColumn('NumRoomsOnly', myFun(dfs['NumRooms'])) # Note that if you don't fillna you get an error when you collect the data i.e. in the next line! "
   ]
  },
  {
   "cell_type": "code",
   "execution_count": 255,
   "metadata": {},
   "outputs": [
    {
     "name": "stdout",
     "output_type": "stream",
     "text": [
      "+-------+-----------+---------+--------------------+--------------------+--------------------+------+---------+--------------------+------------+\n",
      "|     Id|SurfaceArea| NumRooms|                Type|             Address|         Description|  Rent| Bookmark|                Link|NumRoomsOnly|\n",
      "+-------+-----------+---------+--------------------+--------------------+--------------------+------+---------+--------------------+------------+\n",
      "|5286965|       52.0|      2.5|                flat|Route Aloys-Fauqu...|Agréable 2 pièces...|1460.0|      New|/en/d/flat-rent-l...|         1.5|\n",
      "|5277530|       80.0|      3.0|                flat|Avenue de Béthusy...|Proche du centre ...|2100.0|     null|/en/d/flat-rent-l...|         2.0|\n",
      "|5249019|       74.0|      3.5|   stepped-apartment|Route des Plaines...|Magnifique 3,5 pi...|2150.0|Highlight|/en/d/stepped-apa...|         2.5|\n",
      "|5274375|      108.0|      3.5|   duplex-maisonette|Route de Prilly 1...|Magnifique logeme...|3160.0|     null|/en/d/duplex-mais...|         2.5|\n",
      "|5274374|       80.0|      3.5|                flat|Route de Prilly 1...|  Nouveaux logements|2085.0|     null|/en/d/flat-rent-l...|         2.5|\n",
      "|5278160|       55.0|      2.5|                flat|Route Aloys-Fauqu...|Grand 2,5 pièces ...|1450.0|     null|/en/d/flat-rent-l...|         1.5|\n",
      "|5277696|      128.0|      3.5|   duplex-maisonette|Rue du Bourg 15, ...|Superbe duplex à ...|3000.0|     null|/en/d/duplex-mais...|         2.5|\n",
      "|5256077|      130.0|      4.5|           penthouse|Avenue Druey 13, ...|Belle Attique Rén...|4580.0|     null|/en/d/penthouse-r...|         3.5|\n",
      "|5134449|      123.0|      4.5|                flat|Chemin de Pierref...|Appartement 4.5 p...|2950.0|     null|/en/d/flat-rent-l...|         3.5|\n",
      "|5275170|       13.0|3.2301426|         single-room|Av. de Chailly 52...|Pour petit budget...| 360.0|     null|/en/d/single-room...|   2.2301426|\n",
      "|5212203|       13.0|3.2301426|         single-room|Av. de Chailly 52...|Proche de toutes ...| 380.0|     null|/en/d/single-room...|   2.2301426|\n",
      "|5251291|       19.0|3.2301426|                flat|Av. de Riant-Mont...|Appartement, 1.0 ...| 637.0|     null|/en/d/flat-rent-s...|   2.2301426|\n",
      "|5279333|       20.0|3.2301426|                flat|Av. de Tivoli 19B...|Appartement, 1.0 ...| 725.0|     null|/en/d/flat-rent-s...|   2.2301426|\n",
      "|5280881|       27.0|3.2301426|                flat|Isabelle de Monto...|Haut de la Ville ...| 780.0|     null|/en/d/flat-rent-l...|   2.2301426|\n",
      "|5286962|       21.0|3.2301426|                flat|Rue St-Martin 28,...|Votre nouveau che...| 840.0|      New|/en/d/flat-rent-l...|   2.2301426|\n",
      "|5280449|       24.0|3.2301426|                flat|Avenue Sainte-Luc...|Lausanne, studio ...| 850.0|     null|/en/d/flat-rent-l...|   2.2301426|\n",
      "|4939726|       18.0|3.2301426|         single-room|Chemin de Montoli...|1006 Lausanne - M...| 860.0|     null|/en/d/single-room...|   2.2301426|\n",
      "|5085420|       29.0|3.2301426|                flat|Ch. du Devin 64, ...|Grand studio au c...| 940.0|     null|/en/d/flat-rent-l...|   2.2301426|\n",
      "|5234626|       33.0|3.2301426|              studio|Chemin de Boston ...|Spacieux et fonct...|1030.0|     null|/en/d/studio-rent...|   2.2301426|\n",
      "|5189187|       14.0|3.2301426|furnished-residen...|Avenue de Menthon...|Avenue de Menthon...|1050.0|     null|/en/d/furnished-r...|   2.2301426|\n",
      "+-------+-----------+---------+--------------------+--------------------+--------------------+------+---------+--------------------+------------+\n",
      "only showing top 20 rows\n",
      "\n"
     ]
    }
   ],
   "source": [
    "dfs2.show()"
   ]
  },
  {
   "cell_type": "markdown",
   "metadata": {},
   "source": [
    "### Creata dataframe"
   ]
  },
  {
   "cell_type": "markdown",
   "metadata": {},
   "source": [
    "**Pandas**"
   ]
  },
  {
   "cell_type": "code",
   "execution_count": null,
   "metadata": {},
   "outputs": [],
   "source": [
    "myMap = {'id':[121, 122, 123], 'name':['John', 'Mary', 'Alice']}"
   ]
  },
  {
   "cell_type": "code",
   "execution_count": null,
   "metadata": {},
   "outputs": [],
   "source": [
    "df0 = # Create a dataframe from myMap "
   ]
  },
  {
   "cell_type": "markdown",
   "metadata": {},
   "source": [
    "**PySpark**"
   ]
  },
  {
   "cell_type": "code",
   "execution_count": null,
   "metadata": {},
   "outputs": [],
   "source": [
    "df0s = spark.createDataFrame(myMap) # does this work? "
   ]
  },
  {
   "cell_type": "code",
   "execution_count": null,
   "metadata": {},
   "outputs": [],
   "source": [
    "from pyspark.sql.types import *"
   ]
  },
  {
   "cell_type": "markdown",
   "metadata": {},
   "source": [
    "Similar to SQL to make a dataframe (\"table\" in SQL) you need to specify the types for each column."
   ]
  },
  {
   "cell_type": "code",
   "execution_count": null,
   "metadata": {},
   "outputs": [],
   "source": [
    "fields = [StructField('id', IntegerType(), nullable=False), StructField('name', StringType(), nullable=True)]\n",
    "schema = StructType(fields)"
   ]
  },
  {
   "cell_type": "code",
   "execution_count": null,
   "metadata": {},
   "outputs": [],
   "source": [
    "df0s = spark.createDataFrame(myMap, schema=schema) # does this one work now? "
   ]
  },
  {
   "cell_type": "markdown",
   "metadata": {},
   "source": [
    "The entries need to be inserted \"row by row\":"
   ]
  },
  {
   "cell_type": "code",
   "execution_count": null,
   "metadata": {},
   "outputs": [],
   "source": [
    "myMapS = [[121, 'John'], [122, 'Mary'], [123, 'Alice']]"
   ]
  },
  {
   "cell_type": "code",
   "execution_count": null,
   "metadata": {},
   "outputs": [],
   "source": [
    "df0s = spark.createDataFrame(myMapS, schema=schema)"
   ]
  },
  {
   "cell_type": "code",
   "execution_count": null,
   "metadata": {},
   "outputs": [],
   "source": [
    "df0s.show()"
   ]
  },
  {
   "cell_type": "markdown",
   "metadata": {},
   "source": [
    "Or:"
   ]
  },
  {
   "cell_type": "code",
   "execution_count": null,
   "metadata": {},
   "outputs": [],
   "source": [
    "df0s = spark.createDataFrame(df0) # from pandas dataframe! "
   ]
  },
  {
   "cell_type": "code",
   "execution_count": null,
   "metadata": {},
   "outputs": [],
   "source": [
    "df0s.show()"
   ]
  },
  {
   "cell_type": "markdown",
   "metadata": {},
   "source": [
    "### Join/Merge "
   ]
  },
  {
   "cell_type": "markdown",
   "metadata": {},
   "source": [
    "**Pandas**"
   ]
  },
  {
   "cell_type": "code",
   "execution_count": 23,
   "metadata": {},
   "outputs": [],
   "source": [
    "map1 = {'name':['Switzerland', 'France', 'Germany', 'Italy'], 'AlphaCode':['CH', 'FR', 'DE', 'IT']}\n",
    "df1 = pd.DataFrame(map1)"
   ]
  },
  {
   "cell_type": "code",
   "execution_count": 25,
   "metadata": {},
   "outputs": [],
   "source": [
    "map2 = {'AlphaCode':['FR', 'CH', 'IT', 'DE'], 'Population':[67, 8.5, 60, 82]}\n",
    "df2 = pd.DataFrame(map2)"
   ]
  },
  {
   "cell_type": "code",
   "execution_count": 20,
   "metadata": {},
   "outputs": [
    {
     "data": {
      "text/html": [
       "<div>\n",
       "<style scoped>\n",
       "    .dataframe tbody tr th:only-of-type {\n",
       "        vertical-align: middle;\n",
       "    }\n",
       "\n",
       "    .dataframe tbody tr th {\n",
       "        vertical-align: top;\n",
       "    }\n",
       "\n",
       "    .dataframe thead th {\n",
       "        text-align: right;\n",
       "    }\n",
       "</style>\n",
       "<table border=\"1\" class=\"dataframe\">\n",
       "  <thead>\n",
       "    <tr style=\"text-align: right;\">\n",
       "      <th></th>\n",
       "      <th>name</th>\n",
       "      <th>AlphaCode</th>\n",
       "    </tr>\n",
       "  </thead>\n",
       "  <tbody>\n",
       "    <tr>\n",
       "      <th>0</th>\n",
       "      <td>Switzerland</td>\n",
       "      <td>CH</td>\n",
       "    </tr>\n",
       "    <tr>\n",
       "      <th>1</th>\n",
       "      <td>France</td>\n",
       "      <td>FR</td>\n",
       "    </tr>\n",
       "    <tr>\n",
       "      <th>2</th>\n",
       "      <td>Germany</td>\n",
       "      <td>DE</td>\n",
       "    </tr>\n",
       "    <tr>\n",
       "      <th>3</th>\n",
       "      <td>Italy</td>\n",
       "      <td>IT</td>\n",
       "    </tr>\n",
       "  </tbody>\n",
       "</table>\n",
       "</div>"
      ],
      "text/plain": [
       "          name AlphaCode\n",
       "0  Switzerland        CH\n",
       "1       France        FR\n",
       "2      Germany        DE\n",
       "3        Italy        IT"
      ]
     },
     "execution_count": 20,
     "metadata": {},
     "output_type": "execute_result"
    }
   ],
   "source": [
    "df1"
   ]
  },
  {
   "cell_type": "code",
   "execution_count": 21,
   "metadata": {},
   "outputs": [
    {
     "data": {
      "text/html": [
       "<div>\n",
       "<style scoped>\n",
       "    .dataframe tbody tr th:only-of-type {\n",
       "        vertical-align: middle;\n",
       "    }\n",
       "\n",
       "    .dataframe tbody tr th {\n",
       "        vertical-align: top;\n",
       "    }\n",
       "\n",
       "    .dataframe thead th {\n",
       "        text-align: right;\n",
       "    }\n",
       "</style>\n",
       "<table border=\"1\" class=\"dataframe\">\n",
       "  <thead>\n",
       "    <tr style=\"text-align: right;\">\n",
       "      <th></th>\n",
       "      <th>AlphaCode</th>\n",
       "      <th>Population</th>\n",
       "    </tr>\n",
       "  </thead>\n",
       "  <tbody>\n",
       "    <tr>\n",
       "      <th>0</th>\n",
       "      <td>FR</td>\n",
       "      <td>67.0</td>\n",
       "    </tr>\n",
       "    <tr>\n",
       "      <th>1</th>\n",
       "      <td>CH</td>\n",
       "      <td>8.5</td>\n",
       "    </tr>\n",
       "    <tr>\n",
       "      <th>2</th>\n",
       "      <td>IT</td>\n",
       "      <td>60.0</td>\n",
       "    </tr>\n",
       "    <tr>\n",
       "      <th>3</th>\n",
       "      <td>DE</td>\n",
       "      <td>82.0</td>\n",
       "    </tr>\n",
       "  </tbody>\n",
       "</table>\n",
       "</div>"
      ],
      "text/plain": [
       "  AlphaCode  Population\n",
       "0        FR        67.0\n",
       "1        CH         8.5\n",
       "2        IT        60.0\n",
       "3        DE        82.0"
      ]
     },
     "execution_count": 21,
     "metadata": {},
     "output_type": "execute_result"
    }
   ],
   "source": [
    "df2"
   ]
  },
  {
   "cell_type": "markdown",
   "metadata": {},
   "source": [
    "Get a table with name of the countries, their Alpha code and their population."
   ]
  },
  {
   "cell_type": "code",
   "execution_count": null,
   "metadata": {},
   "outputs": [],
   "source": []
  },
  {
   "cell_type": "markdown",
   "metadata": {},
   "source": [
    "**PySpark**"
   ]
  },
  {
   "cell_type": "code",
   "execution_count": 29,
   "metadata": {},
   "outputs": [],
   "source": [
    "df1s = spark.createDataFrame(df1) # you can create a Spark dataframe from a Pandas dataframe\n",
    "df2s = spark.createDataFrame(df2) "
   ]
  },
  {
   "cell_type": "code",
   "execution_count": 31,
   "metadata": {},
   "outputs": [
    {
     "name": "stdout",
     "output_type": "stream",
     "text": [
      "+---------+-----------+----------+\n",
      "|AlphaCode|       name|Population|\n",
      "+---------+-----------+----------+\n",
      "|       DE|    Germany|      82.0|\n",
      "|       FR|     France|      67.0|\n",
      "|       CH|Switzerland|       8.5|\n",
      "|       IT|      Italy|      60.0|\n",
      "+---------+-----------+----------+\n",
      "\n"
     ]
    }
   ],
   "source": [
    "df1s.join(df2s, on='AlphaCode').show()"
   ]
  },
  {
   "cell_type": "markdown",
   "metadata": {},
   "source": [
    "### Plotting"
   ]
  },
  {
   "cell_type": "code",
   "execution_count": 34,
   "metadata": {},
   "outputs": [
    {
     "data": {
      "text/plain": [
       "<matplotlib.axes._subplots.AxesSubplot at 0x7f624244ad30>"
      ]
     },
     "execution_count": 34,
     "metadata": {},
     "output_type": "execute_result"
    },
    {
     "data": {
      "image/png": "[encoded data removed]",
      "text/plain": [
       "<Figure size 432x288 with 1 Axes>"
      ]
     },
     "metadata": {},
     "output_type": "display_data"
    }
   ],
   "source": [
    "df['Rent'].hist()"
   ]
  },
  {
   "cell_type": "code",
   "execution_count": 58,
   "metadata": {},
   "outputs": [
    {
     "data": {
      "text/plain": [
       "<matplotlib.axes._subplots.AxesSubplot at 0x7f62372f00b8>"
      ]
     },
     "execution_count": 58,
     "metadata": {},
     "output_type": "execute_result"
    },
    {
     "data": {
      "image/png": "[encoded data removed]",
      "text/plain": [
       "<Figure size 432x288 with 1 Axes>"
      ]
     },
     "metadata": {},
     "output_type": "display_data"
    }
   ],
   "source": [
    "dfs.toPandas()['Rent'].hist()"
   ]
  },
  {
   "cell_type": "markdown",
   "metadata": {},
   "source": [
    "However, usually `dfs` is too big to be able to plot it (otherwise you may use pandas from the beginning), solution? Sampling:"
   ]
  },
  {
   "cell_type": "code",
   "execution_count": 60,
   "metadata": {},
   "outputs": [
    {
     "data": {
      "text/plain": [
       "<matplotlib.axes._subplots.AxesSubplot at 0x7f6237208da0>"
      ]
     },
     "execution_count": 60,
     "metadata": {},
     "output_type": "execute_result"
    },
    {
     "data": {
      "image/png": "[encoded data removed]",
      "text/plain": [
       "<Figure size 432x288 with 1 Axes>"
      ]
     },
     "metadata": {},
     "output_type": "display_data"
    }
   ],
   "source": [
    "dfs.sample(withReplacement=False, fraction=0.4).toPandas()['Rent'].hist()"
   ]
  },
  {
   "cell_type": "markdown",
   "metadata": {},
   "source": [
    "### SQL"
   ]
  },
  {
   "cell_type": "markdown",
   "metadata": {},
   "source": [
    "**Pandas**"
   ]
  },
  {
   "cell_type": "markdown",
   "metadata": {},
   "source": [
    "no built-in SQL to Pandas! "
   ]
  },
  {
   "cell_type": "markdown",
   "metadata": {},
   "source": [
    "**PySpark**"
   ]
  },
  {
   "cell_type": "code",
   "execution_count": 62,
   "metadata": {},
   "outputs": [],
   "source": [
    "dfs.createOrReplaceTempView('dfview')"
   ]
  },
  {
   "cell_type": "code",
   "execution_count": 66,
   "metadata": {},
   "outputs": [
    {
     "name": "stdout",
     "output_type": "stream",
     "text": [
      "+--------------------+-----+\n",
      "|             Address| Rent|\n",
      "+--------------------+-----+\n",
      "|Av. de Chailly 52...|360.0|\n",
      "|Av. de Chailly 52...|380.0|\n",
      "|Av. de Riant-Mont...|637.0|\n",
      "|Av. de Tivoli 19B...|725.0|\n",
      "|Isabelle de Monto...|780.0|\n",
      "|Rue St-Martin 28,...|840.0|\n",
      "|Avenue Sainte-Luc...|850.0|\n",
      "|Chemin de Montoli...|860.0|\n",
      "|Ch. du Devin 64, ...|940.0|\n",
      "|Chemin des Alling...|300.0|\n",
      "|   1007 Lausanne, VD|400.0|\n",
      "|1004 Lausanne, VD...|500.0|\n",
      "|Chemin de Longera...|500.0|\n",
      "|Chailly, 1012 Lau...|600.0|\n",
      "|   1004 Lausanne, VD|600.0|\n",
      "|Avenue de Rhodani...|600.0|\n",
      "|1007 Lausanne, 10...|600.0|\n",
      "|avenue Druey coll...|600.0|\n",
      "|Avenue Marc-Dufou...|640.0|\n",
      "|   1010 Lausanne, VD|650.0|\n",
      "+--------------------+-----+\n",
      "only showing top 20 rows\n",
      "\n"
     ]
    }
   ],
   "source": [
    "spark.sql('SELECT Address, Rent FROM dfview WHERE Rent < 1000').show()"
   ]
  }
 ],
 "metadata": {
  "kernelspec": {
   "display_name": "Python 3",
   "language": "python",
   "name": "python3"
  },
  "language_info": {
   "codemirror_mode": {
    "name": "ipython",
    "version": 3
   },
   "file_extension": ".py",
   "mimetype": "text/x-python",
   "name": "python",
   "nbconvert_exporter": "python",
   "pygments_lexer": "ipython3",
   "version": "3.6.6"
  },
  "toc-autonumbering": false,
  "toc-showmarkdowntxt": true
 },
 "nbformat": 4,
 "nbformat_minor": 2
}

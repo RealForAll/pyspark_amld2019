{
 "cells": [
  {
   "cell_type": "markdown",
   "metadata": {},
   "source": [
    "# Machine Learning in PySpark (Spark MLlib)\n",
    "In this notebook we use the same data set used in the data processing notebook; this time our goal is to build a prediction model for rental price in Lausanne. "
   ]
  },
  {
   "cell_type": "markdown",
   "metadata": {},
   "source": [
    "## Import libraries"
   ]
  },
  {
   "cell_type": "code",
   "execution_count": 1,
   "metadata": {},
   "outputs": [],
   "source": [
    "from pyspark.sql import SparkSession\n",
    "import pandas as pd\n",
    "import re\n",
    "from pyspark.sql.functions import col\n",
    "import pyspark.sql.functions as F"
   ]
  },
  {
   "cell_type": "code",
   "execution_count": 2,
   "metadata": {},
   "outputs": [],
   "source": [
    "spark = SparkSession.builder.getOrCreate()"
   ]
  },
  {
   "cell_type": "markdown",
   "metadata": {},
   "source": [
    "## Import Data"
   ]
  },
  {
   "cell_type": "code",
   "execution_count": 3,
   "metadata": {},
   "outputs": [],
   "source": [
    "df = spark.read.csv('../../data/lausanne_rental.csv', header = True)"
   ]
  },
  {
   "cell_type": "markdown",
   "metadata": {},
   "source": [
    "## Preprocessing"
   ]
  },
  {
   "cell_type": "markdown",
   "metadata": {},
   "source": [
    "### Insight"
   ]
  },
  {
   "cell_type": "markdown",
   "metadata": {},
   "source": [
    "**Initial peek**"
   ]
  },
  {
   "cell_type": "code",
   "execution_count": 8,
   "metadata": {},
   "outputs": [
    {
     "data": {
      "text/html": [
       "<div>\n",
       "<style scoped>\n",
       "    .dataframe tbody tr th:only-of-type {\n",
       "        vertical-align: middle;\n",
       "    }\n",
       "\n",
       "    .dataframe tbody tr th {\n",
       "        vertical-align: top;\n",
       "    }\n",
       "\n",
       "    .dataframe thead th {\n",
       "        text-align: right;\n",
       "    }\n",
       "</style>\n",
       "<table border=\"1\" class=\"dataframe\">\n",
       "  <thead>\n",
       "    <tr style=\"text-align: right;\">\n",
       "      <th></th>\n",
       "      <th>Id</th>\n",
       "      <th>SurfaceArea</th>\n",
       "      <th>NumRooms</th>\n",
       "      <th>Type</th>\n",
       "      <th>Address</th>\n",
       "      <th>Description</th>\n",
       "      <th>Rent</th>\n",
       "      <th>Bookmark</th>\n",
       "      <th>Link</th>\n",
       "    </tr>\n",
       "  </thead>\n",
       "  <tbody>\n",
       "    <tr>\n",
       "      <th>0</th>\n",
       "      <td>5286965.0</td>\n",
       "      <td>52.0</td>\n",
       "      <td>2.5</td>\n",
       "      <td>flat</td>\n",
       "      <td>Route Aloys-Fauquez 124, 1018 Lausanne, VD</td>\n",
       "      <td>Agréable 2 pièces proche de toutes les commodités</td>\n",
       "      <td>1460.0</td>\n",
       "      <td>New</td>\n",
       "      <td>/en/d/flat-rent-lausanne/5286965?s=2&amp;t=1&amp;l=202...</td>\n",
       "    </tr>\n",
       "    <tr>\n",
       "      <th>1</th>\n",
       "      <td>5277530.0</td>\n",
       "      <td>80.0</td>\n",
       "      <td>3.0</td>\n",
       "      <td>flat</td>\n",
       "      <td>Avenue de Béthusy 53, 1012 Lausanne, VD</td>\n",
       "      <td>Proche du centre ville</td>\n",
       "      <td>2100.0</td>\n",
       "      <td>None</td>\n",
       "      <td>/en/d/flat-rent-lausanne/5277530?s=2&amp;t=1&amp;l=202...</td>\n",
       "    </tr>\n",
       "    <tr>\n",
       "      <th>2</th>\n",
       "      <td>5249019.0</td>\n",
       "      <td>74.0</td>\n",
       "      <td>3.5</td>\n",
       "      <td>stepped-apartment</td>\n",
       "      <td>Route des Plaines-du-Loup 42, 1018 Lausanne, VD</td>\n",
       "      <td>Magnifique 3,5 pièces avec jardin privé -Immeu...</td>\n",
       "      <td>2150.0</td>\n",
       "      <td>Highlight</td>\n",
       "      <td>/en/d/stepped-apartment-rent-lausanne/5249019?...</td>\n",
       "    </tr>\n",
       "    <tr>\n",
       "      <th>3</th>\n",
       "      <td>5274375.0</td>\n",
       "      <td>108.0</td>\n",
       "      <td>3.5</td>\n",
       "      <td>duplex-maisonette</td>\n",
       "      <td>Route de Prilly 12, 1004 Lausanne, VD</td>\n",
       "      <td>Magnifique logement en duplex entièrement neuf</td>\n",
       "      <td>3160.0</td>\n",
       "      <td>None</td>\n",
       "      <td>/en/d/duplex-maisonette-rent-lausanne/5274375?...</td>\n",
       "    </tr>\n",
       "    <tr>\n",
       "      <th>4</th>\n",
       "      <td>5274374.0</td>\n",
       "      <td>80.0</td>\n",
       "      <td>3.5</td>\n",
       "      <td>flat</td>\n",
       "      <td>Route de Prilly 12, 1004 Lausanne, VD</td>\n",
       "      <td>Nouveaux logements</td>\n",
       "      <td>2085.0</td>\n",
       "      <td>None</td>\n",
       "      <td>/en/d/flat-rent-lausanne/5274374?s=2&amp;t=1&amp;l=202...</td>\n",
       "    </tr>\n",
       "  </tbody>\n",
       "</table>\n",
       "</div>"
      ],
      "text/plain": [
       "          Id SurfaceArea NumRooms               Type  \\\n",
       "0  5286965.0        52.0      2.5               flat   \n",
       "1  5277530.0        80.0      3.0               flat   \n",
       "2  5249019.0        74.0      3.5  stepped-apartment   \n",
       "3  5274375.0       108.0      3.5  duplex-maisonette   \n",
       "4  5274374.0        80.0      3.5               flat   \n",
       "\n",
       "                                           Address  \\\n",
       "0       Route Aloys-Fauquez 124, 1018 Lausanne, VD   \n",
       "1          Avenue de Béthusy 53, 1012 Lausanne, VD   \n",
       "2  Route des Plaines-du-Loup 42, 1018 Lausanne, VD   \n",
       "3            Route de Prilly 12, 1004 Lausanne, VD   \n",
       "4            Route de Prilly 12, 1004 Lausanne, VD   \n",
       "\n",
       "                                         Description    Rent   Bookmark  \\\n",
       "0  Agréable 2 pièces proche de toutes les commodités  1460.0        New   \n",
       "1                             Proche du centre ville  2100.0       None   \n",
       "2  Magnifique 3,5 pièces avec jardin privé -Immeu...  2150.0  Highlight   \n",
       "3     Magnifique logement en duplex entièrement neuf  3160.0       None   \n",
       "4                                 Nouveaux logements  2085.0       None   \n",
       "\n",
       "                                                Link  \n",
       "0  /en/d/flat-rent-lausanne/5286965?s=2&t=1&l=202...  \n",
       "1  /en/d/flat-rent-lausanne/5277530?s=2&t=1&l=202...  \n",
       "2  /en/d/stepped-apartment-rent-lausanne/5249019?...  \n",
       "3  /en/d/duplex-maisonette-rent-lausanne/5274375?...  \n",
       "4  /en/d/flat-rent-lausanne/5274374?s=2&t=1&l=202...  "
      ]
     },
     "execution_count": 8,
     "metadata": {},
     "output_type": "execute_result"
    }
   ],
   "source": [
    "pd.DataFrame(df.head(5), columns=df.columns)"
   ]
  },
  {
   "cell_type": "markdown",
   "metadata": {},
   "source": [
    "**Size**"
   ]
  },
  {
   "cell_type": "code",
   "execution_count": 4,
   "metadata": {},
   "outputs": [
    {
     "data": {
      "text/plain": [
       "594"
      ]
     },
     "execution_count": 4,
     "metadata": {},
     "output_type": "execute_result"
    }
   ],
   "source": [
    "df.count()"
   ]
  },
  {
   "cell_type": "markdown",
   "metadata": {},
   "source": [
    "**Feature size**"
   ]
  },
  {
   "cell_type": "code",
   "execution_count": 11,
   "metadata": {},
   "outputs": [
    {
     "data": {
      "text/plain": [
       "9"
      ]
     },
     "execution_count": 11,
     "metadata": {},
     "output_type": "execute_result"
    }
   ],
   "source": [
    "len(df.columns)"
   ]
  },
  {
   "cell_type": "markdown",
   "metadata": {},
   "source": [
    "Removing `id` and `link` the feature size is **7**. "
   ]
  },
  {
   "cell_type": "markdown",
   "metadata": {},
   "source": [
    "**Summary Statistics**"
   ]
  },
  {
   "cell_type": "code",
   "execution_count": 15,
   "metadata": {},
   "outputs": [
    {
     "data": {
      "text/html": [
       "<div>\n",
       "<style scoped>\n",
       "    .dataframe tbody tr th:only-of-type {\n",
       "        vertical-align: middle;\n",
       "    }\n",
       "\n",
       "    .dataframe tbody tr th {\n",
       "        vertical-align: top;\n",
       "    }\n",
       "\n",
       "    .dataframe thead th {\n",
       "        text-align: right;\n",
       "    }\n",
       "</style>\n",
       "<table border=\"1\" class=\"dataframe\">\n",
       "  <thead>\n",
       "    <tr style=\"text-align: right;\">\n",
       "      <th></th>\n",
       "      <th>summary</th>\n",
       "      <th>SurfaceArea</th>\n",
       "      <th>NumRooms</th>\n",
       "      <th>Rent</th>\n",
       "    </tr>\n",
       "  </thead>\n",
       "  <tbody>\n",
       "    <tr>\n",
       "      <th>0</th>\n",
       "      <td>count</td>\n",
       "      <td>533</td>\n",
       "      <td>491</td>\n",
       "      <td>588</td>\n",
       "    </tr>\n",
       "    <tr>\n",
       "      <th>1</th>\n",
       "      <td>mean</td>\n",
       "      <td>74.62851782363977</td>\n",
       "      <td>3.230142566191446</td>\n",
       "      <td>1984.3287904599658</td>\n",
       "    </tr>\n",
       "    <tr>\n",
       "      <th>2</th>\n",
       "      <td>stddev</td>\n",
       "      <td>44.51662793438704</td>\n",
       "      <td>1.21721821532338</td>\n",
       "      <td>989.8851120494071</td>\n",
       "    </tr>\n",
       "    <tr>\n",
       "      <th>3</th>\n",
       "      <td>min</td>\n",
       "      <td>1.0</td>\n",
       "      <td>1.5</td>\n",
       "      <td>VD\"</td>\n",
       "    </tr>\n",
       "    <tr>\n",
       "      <th>4</th>\n",
       "      <td>max</td>\n",
       "      <td>99.0</td>\n",
       "      <td>8.5</td>\n",
       "      <td>990.0</td>\n",
       "    </tr>\n",
       "  </tbody>\n",
       "</table>\n",
       "</div>"
      ],
      "text/plain": [
       "  summary        SurfaceArea           NumRooms                Rent\n",
       "0   count                533                491                 588\n",
       "1    mean  74.62851782363977  3.230142566191446  1984.3287904599658\n",
       "2  stddev  44.51662793438704   1.21721821532338   989.8851120494071\n",
       "3     min                1.0                1.5                 VD\"\n",
       "4     max               99.0                8.5               990.0"
      ]
     },
     "execution_count": 15,
     "metadata": {},
     "output_type": "execute_result"
    }
   ],
   "source": [
    "df.select(['SurfaceArea', 'NumRooms', 'Rent']).describe().toPandas()"
   ]
  },
  {
   "cell_type": "markdown",
   "metadata": {},
   "source": [
    "Note that strangely, the maximum Rent is reported to be **990.0**, while the average is around **1984.30**! We fix this when we change data types below."
   ]
  },
  {
   "cell_type": "markdown",
   "metadata": {},
   "source": [
    "**Data types**"
   ]
  },
  {
   "cell_type": "code",
   "execution_count": 16,
   "metadata": {},
   "outputs": [
    {
     "data": {
      "text/plain": [
       "[('Id', 'string'),\n",
       " ('SurfaceArea', 'string'),\n",
       " ('NumRooms', 'string'),\n",
       " ('Type', 'string'),\n",
       " ('Address', 'string'),\n",
       " ('Description', 'string'),\n",
       " ('Rent', 'string'),\n",
       " ('Bookmark', 'string'),\n",
       " ('Link', 'string')]"
      ]
     },
     "execution_count": 16,
     "metadata": {},
     "output_type": "execute_result"
    }
   ],
   "source": [
    "df.dtypes"
   ]
  },
  {
   "cell_type": "markdown",
   "metadata": {},
   "source": [
    "Well, PySpark is not as smart as Pandas in getting data types! "
   ]
  },
  {
   "cell_type": "markdown",
   "metadata": {},
   "source": [
    "### Transformations, modifications"
   ]
  },
  {
   "cell_type": "markdown",
   "metadata": {},
   "source": [
    "**Converting data types** (A)"
   ]
  },
  {
   "cell_type": "code",
   "execution_count": 4,
   "metadata": {},
   "outputs": [],
   "source": [
    "df = df.withColumn('SurfaceArea', df['SurfaceArea'].astype('double'))\n",
    "df = df.withColumn('NumRooms', df['NumRooms'].astype('int'))\n",
    "df = df.withColumn('Rent', df['Rent'].astype('double'))"
   ]
  },
  {
   "cell_type": "markdown",
   "metadata": {},
   "source": [
    "**Summary Statistics again**"
   ]
  },
  {
   "cell_type": "code",
   "execution_count": 30,
   "metadata": {},
   "outputs": [
    {
     "data": {
      "text/html": [
       "<div>\n",
       "<style scoped>\n",
       "    .dataframe tbody tr th:only-of-type {\n",
       "        vertical-align: middle;\n",
       "    }\n",
       "\n",
       "    .dataframe tbody tr th {\n",
       "        vertical-align: top;\n",
       "    }\n",
       "\n",
       "    .dataframe thead th {\n",
       "        text-align: right;\n",
       "    }\n",
       "</style>\n",
       "<table border=\"1\" class=\"dataframe\">\n",
       "  <thead>\n",
       "    <tr style=\"text-align: right;\">\n",
       "      <th></th>\n",
       "      <th>summary</th>\n",
       "      <th>SurfaceArea</th>\n",
       "      <th>NumRooms</th>\n",
       "      <th>Rent</th>\n",
       "    </tr>\n",
       "  </thead>\n",
       "  <tbody>\n",
       "    <tr>\n",
       "      <th>0</th>\n",
       "      <td>count</td>\n",
       "      <td>533</td>\n",
       "      <td>491</td>\n",
       "      <td>587</td>\n",
       "    </tr>\n",
       "    <tr>\n",
       "      <th>1</th>\n",
       "      <td>mean</td>\n",
       "      <td>74.62851782363977</td>\n",
       "      <td>2.920570264765784</td>\n",
       "      <td>1984.3287904599658</td>\n",
       "    </tr>\n",
       "    <tr>\n",
       "      <th>2</th>\n",
       "      <td>stddev</td>\n",
       "      <td>44.51662793438704</td>\n",
       "      <td>1.183131645448193</td>\n",
       "      <td>989.8851120494071</td>\n",
       "    </tr>\n",
       "    <tr>\n",
       "      <th>3</th>\n",
       "      <td>min</td>\n",
       "      <td>1.0</td>\n",
       "      <td>1</td>\n",
       "      <td>300.0</td>\n",
       "    </tr>\n",
       "    <tr>\n",
       "      <th>4</th>\n",
       "      <td>max</td>\n",
       "      <td>540.0</td>\n",
       "      <td>11</td>\n",
       "      <td>8900.0</td>\n",
       "    </tr>\n",
       "  </tbody>\n",
       "</table>\n",
       "</div>"
      ],
      "text/plain": [
       "  summary        SurfaceArea           NumRooms                Rent\n",
       "0   count                533                491                 587\n",
       "1    mean  74.62851782363977  2.920570264765784  1984.3287904599658\n",
       "2  stddev  44.51662793438704  1.183131645448193   989.8851120494071\n",
       "3     min                1.0                  1               300.0\n",
       "4     max              540.0                 11              8900.0"
      ]
     },
     "execution_count": 30,
     "metadata": {},
     "output_type": "execute_result"
    }
   ],
   "source": [
    "df.select(['SurfaceArea', 'NumRooms', 'Rent']).describe().toPandas()"
   ]
  },
  {
   "cell_type": "markdown",
   "metadata": {},
   "source": [
    "Just out of curosity, can you have a look at the apartment(s) with the highes Rent?"
   ]
  },
  {
   "cell_type": "code",
   "execution_count": 33,
   "metadata": {},
   "outputs": [
    {
     "name": "stdout",
     "output_type": "stream",
     "text": [
      "+---------+-----------+--------+----+--------------------+--------------------+------+--------+--------------------+\n",
      "|       Id|SurfaceArea|NumRooms|Type|             Address|         Description|  Rent|Bookmark|                Link|\n",
      "+---------+-----------+--------+----+--------------------+--------------------+------+--------+--------------------+\n",
      "|4984514.0|      423.0|      11|flat|Chemin de Praz-Bu...|En bordure de Gol...|8900.0|    null|/en/d/flat-rent-l...|\n",
      "|5225916.0|      540.0|      11|flat|   1000 Lausanne, VD|Duplex d'exceptio...|8900.0|    null|/en/d/flat-rent-l...|\n",
      "+---------+-----------+--------+----+--------------------+--------------------+------+--------+--------------------+\n",
      "\n"
     ]
    }
   ],
   "source": [
    "df[df['Rent'] == 8900.00].show()"
   ]
  },
  {
   "cell_type": "markdown",
   "metadata": {},
   "source": [
    "**Dealing with the outliers**"
   ]
  },
  {
   "cell_type": "code",
   "execution_count": 42,
   "metadata": {},
   "outputs": [],
   "source": [
    "def get_whiskers(df, colname, WHIS):\n",
    "    q1 = df.approxQuantile(colname, [0.25], 0.01)[0]\n",
    "    q3 = df.approxQuantile(colname, [0.75], 0.01)[0]\n",
    "    iqn = q3 - q1\n",
    "    return [q1 - WHIS*iqn, q3 + WHIS*iqn]"
   ]
  },
  {
   "cell_type": "markdown",
   "metadata": {},
   "source": [
    "`SurfaceArea`"
   ]
  },
  {
   "cell_type": "code",
   "execution_count": 43,
   "metadata": {},
   "outputs": [
    {
     "data": {
      "text/plain": [
       "[-22.5, 165.5]"
      ]
     },
     "execution_count": 43,
     "metadata": {},
     "output_type": "execute_result"
    }
   ],
   "source": [
    "get_whiskers(df, 'SurfaceArea', 1.5)"
   ]
  },
  {
   "cell_type": "markdown",
   "metadata": {},
   "source": [
    "`NumRooms`"
   ]
  },
  {
   "cell_type": "code",
   "execution_count": 44,
   "metadata": {},
   "outputs": [
    {
     "data": {
      "text/plain": [
       "[0.5, 4.5]"
      ]
     },
     "execution_count": 44,
     "metadata": {},
     "output_type": "execute_result"
    }
   ],
   "source": [
    "get_whiskers(df, 'NumRooms', 1.5)"
   ]
  },
  {
   "cell_type": "markdown",
   "metadata": {},
   "source": [
    "`Rent`"
   ]
  },
  {
   "cell_type": "code",
   "execution_count": 45,
   "metadata": {},
   "outputs": [
    {
     "data": {
      "text/plain": [
       "[-285.0, 4075.0]"
      ]
     },
     "execution_count": 45,
     "metadata": {},
     "output_type": "execute_result"
    }
   ],
   "source": [
    "get_whiskers(df, 'Rent', 1.5)"
   ]
  },
  {
   "cell_type": "markdown",
   "metadata": {},
   "source": [
    "`RentPerArea` (A)"
   ]
  },
  {
   "cell_type": "code",
   "execution_count": 5,
   "metadata": {},
   "outputs": [],
   "source": [
    "df = df.withColumn('RentPerArea', df['Rent']/df['SurfaceArea'])"
   ]
  },
  {
   "cell_type": "code",
   "execution_count": 58,
   "metadata": {},
   "outputs": [
    {
     "data": {
      "text/plain": [
       "[13.451926414439434, 43.649774383894474]"
      ]
     },
     "execution_count": 58,
     "metadata": {},
     "output_type": "execute_result"
    }
   ],
   "source": [
    "get_whiskers(dftmp, 'RentPerArea', 1.5)"
   ]
  },
  {
   "cell_type": "code",
   "execution_count": 60,
   "metadata": {},
   "outputs": [],
   "source": [
    "out = df[df['RentPerArea'] < 13.45]"
   ]
  },
  {
   "cell_type": "code",
   "execution_count": 55,
   "metadata": {},
   "outputs": [
    {
     "data": {
      "text/html": [
       "<div>\n",
       "<style scoped>\n",
       "    .dataframe tbody tr th:only-of-type {\n",
       "        vertical-align: middle;\n",
       "    }\n",
       "\n",
       "    .dataframe tbody tr th {\n",
       "        vertical-align: top;\n",
       "    }\n",
       "\n",
       "    .dataframe thead th {\n",
       "        text-align: right;\n",
       "    }\n",
       "</style>\n",
       "<table border=\"1\" class=\"dataframe\">\n",
       "  <thead>\n",
       "    <tr style=\"text-align: right;\">\n",
       "      <th></th>\n",
       "      <th>Id</th>\n",
       "      <th>SurfaceArea</th>\n",
       "      <th>NumRooms</th>\n",
       "      <th>Type</th>\n",
       "      <th>Address</th>\n",
       "      <th>Description</th>\n",
       "      <th>Rent</th>\n",
       "      <th>Link</th>\n",
       "      <th>RentPerArea</th>\n",
       "    </tr>\n",
       "  </thead>\n",
       "  <tbody>\n",
       "    <tr>\n",
       "      <th>0</th>\n",
       "      <td>5198531.0</td>\n",
       "      <td>129.0</td>\n",
       "      <td>NaN</td>\n",
       "      <td>flat</td>\n",
       "      <td>1010 Lausanne, VD</td>\n",
       "      <td>Appartements de 1 à 4.5 pièces avec vues panor...</td>\n",
       "      <td>1190.0</td>\n",
       "      <td>/en/d/flat-rent-lausanne/5198531?s=2&amp;t=1&amp;l=202...</td>\n",
       "      <td>9.224806</td>\n",
       "    </tr>\n",
       "    <tr>\n",
       "      <th>1</th>\n",
       "      <td>5242058.0</td>\n",
       "      <td>204.0</td>\n",
       "      <td>3.0</td>\n",
       "      <td>flat</td>\n",
       "      <td>Chemin de Pierrefleur 3, 1004 Lausanne, VD</td>\n",
       "      <td>Magnifique logement n° 204 de 3.5 pièces avec ...</td>\n",
       "      <td>2510.0</td>\n",
       "      <td>/en/d/flat-rent-lausanne/5242058?s=2&amp;t=1&amp;l=202...</td>\n",
       "      <td>12.303922</td>\n",
       "    </tr>\n",
       "    <tr>\n",
       "      <th>2</th>\n",
       "      <td>5285252.0</td>\n",
       "      <td>80.0</td>\n",
       "      <td>4.0</td>\n",
       "      <td>flat</td>\n",
       "      <td>1007 Lausanne, VD</td>\n",
       "      <td>Sous location noël et ou nouvel an</td>\n",
       "      <td>400.0</td>\n",
       "      <td>/en/d/flat-rent-lausanne/5285252?s=2&amp;t=1&amp;l=202...</td>\n",
       "      <td>5.000000</td>\n",
       "    </tr>\n",
       "    <tr>\n",
       "      <th>3</th>\n",
       "      <td>5254423.0</td>\n",
       "      <td>50.0</td>\n",
       "      <td>2.0</td>\n",
       "      <td>flat</td>\n",
       "      <td>1004 Lausanne, VDClose### CHF 500.—Favourite##...</td>\n",
       "      <td>2 piece in Lausanne until 11th JanuaryA louer ...</td>\n",
       "      <td>500.0</td>\n",
       "      <td>/en/d/flat-rent-lausanne/5254423?s=2&amp;t=1&amp;l=202...</td>\n",
       "      <td>10.000000</td>\n",
       "    </tr>\n",
       "    <tr>\n",
       "      <th>4</th>\n",
       "      <td>5284570.0</td>\n",
       "      <td>50.0</td>\n",
       "      <td>NaN</td>\n",
       "      <td>flat</td>\n",
       "      <td>Chemin de Longeraie 9, 1006 Lausanne, VDClose#...</td>\n",
       "      <td>Appartement meublé en plein LausanneJolie cham...</td>\n",
       "      <td>500.0</td>\n",
       "      <td>/en/d/flat-rent-lausanne/5284570?s=2&amp;t=1&amp;l=202...</td>\n",
       "      <td>10.000000</td>\n",
       "    </tr>\n",
       "    <tr>\n",
       "      <th>5</th>\n",
       "      <td>5175721.0</td>\n",
       "      <td>70.0</td>\n",
       "      <td>3.0</td>\n",
       "      <td>single-room</td>\n",
       "      <td>Village 8, 1012 Lausanne, VD</td>\n",
       "      <td>Chambre à louer dans 3 pcs à Lausanne 12 min d...</td>\n",
       "      <td>700.0</td>\n",
       "      <td>/en/d/single-room-rent-lausanne/5175721?s=2&amp;t=...</td>\n",
       "      <td>10.000000</td>\n",
       "    </tr>\n",
       "    <tr>\n",
       "      <th>6</th>\n",
       "      <td>5283201.0</td>\n",
       "      <td>70.0</td>\n",
       "      <td>3.0</td>\n",
       "      <td>single-room</td>\n",
       "      <td>Trabandan, 1006 Lausanne, VD</td>\n",
       "      <td>Lausanne, jolie chambre à louer dans appart 3.5</td>\n",
       "      <td>770.0</td>\n",
       "      <td>/en/d/single-room-rent-lausanne/5283201?s=2&amp;t=...</td>\n",
       "      <td>11.000000</td>\n",
       "    </tr>\n",
       "    <tr>\n",
       "      <th>7</th>\n",
       "      <td>5269223.0</td>\n",
       "      <td>60.0</td>\n",
       "      <td>3.0</td>\n",
       "      <td>single-room</td>\n",
       "      <td>1010 Lausanne, VD</td>\n",
       "      <td>Chambre dans appartement entre le Chuv, la Sal...</td>\n",
       "      <td>790.0</td>\n",
       "      <td>/en/d/single-room-rent-lausanne/5269223?s=2&amp;t=...</td>\n",
       "      <td>13.166667</td>\n",
       "    </tr>\n",
       "    <tr>\n",
       "      <th>8</th>\n",
       "      <td>4987213.0</td>\n",
       "      <td>100.0</td>\n",
       "      <td>5.0</td>\n",
       "      <td>single-room</td>\n",
       "      <td>1007 Lausanne, VDClose### CHF 800.—Favourite##...</td>\n",
       "      <td>Chambre meublée à louer proche EPFL et UNIlCha...</td>\n",
       "      <td>800.0</td>\n",
       "      <td>/en/d/single-room-rent-lausanne/4987213?s=2&amp;t=...</td>\n",
       "      <td>8.000000</td>\n",
       "    </tr>\n",
       "    <tr>\n",
       "      <th>9</th>\n",
       "      <td>5272411.0</td>\n",
       "      <td>125.0</td>\n",
       "      <td>5.0</td>\n",
       "      <td>single-room</td>\n",
       "      <td>1010 Lausanne, VD</td>\n",
       "      <td>Collocation Lausanne</td>\n",
       "      <td>800.0</td>\n",
       "      <td>/en/d/single-room-rent-lausanne/5272411?s=2&amp;t=...</td>\n",
       "      <td>6.400000</td>\n",
       "    </tr>\n",
       "    <tr>\n",
       "      <th>10</th>\n",
       "      <td>5187951.0</td>\n",
       "      <td>90.0</td>\n",
       "      <td>NaN</td>\n",
       "      <td>single-room</td>\n",
       "      <td>Rte de la Clochatte 10A, 1018 Lausanne, VD</td>\n",
       "      <td>Chambre à louer</td>\n",
       "      <td>900.0</td>\n",
       "      <td>/en/d/single-room-rent-lausanne/5187951?s=2&amp;t=...</td>\n",
       "      <td>10.000000</td>\n",
       "    </tr>\n",
       "    <tr>\n",
       "      <th>11</th>\n",
       "      <td>5283140.0</td>\n",
       "      <td>120.0</td>\n",
       "      <td>4.0</td>\n",
       "      <td>single-room</td>\n",
       "      <td>1007 Lausanne, VD</td>\n",
       "      <td>Colocation appartement centre ville</td>\n",
       "      <td>900.0</td>\n",
       "      <td>/en/d/single-room-rent-lausanne/5283140?s=2&amp;t=...</td>\n",
       "      <td>7.500000</td>\n",
       "    </tr>\n",
       "    <tr>\n",
       "      <th>12</th>\n",
       "      <td>5262916.0</td>\n",
       "      <td>79.0</td>\n",
       "      <td>3.0</td>\n",
       "      <td>flat</td>\n",
       "      <td>Borde 20B, 1018 Lausanne, VD</td>\n",
       "      <td>Appartement 3.5 pièces, subventionné</td>\n",
       "      <td>951.0</td>\n",
       "      <td>/en/d/flat-rent-lausanne/5262916?s=2&amp;t=1&amp;l=202...</td>\n",
       "      <td>12.037975</td>\n",
       "    </tr>\n",
       "    <tr>\n",
       "      <th>13</th>\n",
       "      <td>5280309.0</td>\n",
       "      <td>85.0</td>\n",
       "      <td>3.0</td>\n",
       "      <td>single-room</td>\n",
       "      <td>1004 Lausanne, VD</td>\n",
       "      <td>Chambre Pont Chaudron</td>\n",
       "      <td>1000.0</td>\n",
       "      <td>/en/d/single-room-rent-lausanne/5280309?s=2&amp;t=...</td>\n",
       "      <td>11.764706</td>\n",
       "    </tr>\n",
       "    <tr>\n",
       "      <th>14</th>\n",
       "      <td>5285178.0</td>\n",
       "      <td>130.0</td>\n",
       "      <td>5.0</td>\n",
       "      <td>flat</td>\n",
       "      <td>Avenue Dapples 7, 1003 Lausanne, VD</td>\n",
       "      <td>Chambre en colocation quartier sous gare (Grancy)</td>\n",
       "      <td>1000.0</td>\n",
       "      <td>/en/d/flat-rent-Grancy)»lausanne/5285178?s=2&amp;t...</td>\n",
       "      <td>7.692308</td>\n",
       "    </tr>\n",
       "    <tr>\n",
       "      <th>15</th>\n",
       "      <td>5261448.0</td>\n",
       "      <td>100.0</td>\n",
       "      <td>4.0</td>\n",
       "      <td>single-room</td>\n",
       "      <td>Route de la Feuillère 21, 1010 Lausanne, VD</td>\n",
       "      <td>Chambre dans Colocation - Lausanne - 4,5 pcs -...</td>\n",
       "      <td>1010.0</td>\n",
       "      <td>/en/d/single-room-rent-lausanne/5261448?s=2&amp;t=...</td>\n",
       "      <td>10.100000</td>\n",
       "    </tr>\n",
       "    <tr>\n",
       "      <th>16</th>\n",
       "      <td>5274129.0</td>\n",
       "      <td>100.0</td>\n",
       "      <td>NaN</td>\n",
       "      <td>single-room</td>\n",
       "      <td>Chemin de Mornex, 1003 Lausanne, VD</td>\n",
       "      <td>Chambre en collocation (Lausanne)</td>\n",
       "      <td>1025.0</td>\n",
       "      <td>/en/d/single-room-rent-Lausanne)»lausanne/5274...</td>\n",
       "      <td>10.250000</td>\n",
       "    </tr>\n",
       "    <tr>\n",
       "      <th>17</th>\n",
       "      <td>5275707.0</td>\n",
       "      <td>115.0</td>\n",
       "      <td>4.0</td>\n",
       "      <td>single-room</td>\n",
       "      <td>rue des crêtes 2A, 1018 Lausanne, VD</td>\n",
       "      <td>Chambre à louer dans 4.5p Lausanne</td>\n",
       "      <td>1150.0</td>\n",
       "      <td>/en/d/single-room-rent-lausanne/5275707?s=2&amp;t=...</td>\n",
       "      <td>10.000000</td>\n",
       "    </tr>\n",
       "    <tr>\n",
       "      <th>18</th>\n",
       "      <td>5255795.0</td>\n",
       "      <td>110.0</td>\n",
       "      <td>5.0</td>\n",
       "      <td>duplex-maisonette</td>\n",
       "      <td>Bethusy, 1005 Lausanne, VD</td>\n",
       "      <td>Appartement en colocation</td>\n",
       "      <td>1280.0</td>\n",
       "      <td>/en/d/duplex-maisonette-rent-lausanne/5255795?...</td>\n",
       "      <td>11.636364</td>\n",
       "    </tr>\n",
       "    <tr>\n",
       "      <th>19</th>\n",
       "      <td>5285752.0</td>\n",
       "      <td>120.0</td>\n",
       "      <td>3.0</td>\n",
       "      <td>duplex-maisonette</td>\n",
       "      <td>rue saint francois, 1003 Lausanne, VDClose### ...</td>\n",
       "      <td>Sublime Duplex 3.5 p Centre ville de LausanneV...</td>\n",
       "      <td>1007.0</td>\n",
       "      <td>/en/d/duplex-maisonette-rent-lausanne/5285752?...</td>\n",
       "      <td>8.391667</td>\n",
       "    </tr>\n",
       "  </tbody>\n",
       "</table>\n",
       "</div>"
      ],
      "text/plain": [
       "           Id  SurfaceArea  NumRooms               Type  \\\n",
       "0   5198531.0        129.0       NaN               flat   \n",
       "1   5242058.0        204.0       3.0               flat   \n",
       "2   5285252.0         80.0       4.0               flat   \n",
       "3   5254423.0         50.0       2.0               flat   \n",
       "4   5284570.0         50.0       NaN               flat   \n",
       "5   5175721.0         70.0       3.0        single-room   \n",
       "6   5283201.0         70.0       3.0        single-room   \n",
       "7   5269223.0         60.0       3.0        single-room   \n",
       "8   4987213.0        100.0       5.0        single-room   \n",
       "9   5272411.0        125.0       5.0        single-room   \n",
       "10  5187951.0         90.0       NaN        single-room   \n",
       "11  5283140.0        120.0       4.0        single-room   \n",
       "12  5262916.0         79.0       3.0               flat   \n",
       "13  5280309.0         85.0       3.0        single-room   \n",
       "14  5285178.0        130.0       5.0               flat   \n",
       "15  5261448.0        100.0       4.0        single-room   \n",
       "16  5274129.0        100.0       NaN        single-room   \n",
       "17  5275707.0        115.0       4.0        single-room   \n",
       "18  5255795.0        110.0       5.0  duplex-maisonette   \n",
       "19  5285752.0        120.0       3.0  duplex-maisonette   \n",
       "\n",
       "                                              Address  \\\n",
       "0                                   1010 Lausanne, VD   \n",
       "1          Chemin de Pierrefleur 3, 1004 Lausanne, VD   \n",
       "2                                   1007 Lausanne, VD   \n",
       "3   1004 Lausanne, VDClose### CHF 500.—Favourite##...   \n",
       "4   Chemin de Longeraie 9, 1006 Lausanne, VDClose#...   \n",
       "5                        Village 8, 1012 Lausanne, VD   \n",
       "6                        Trabandan, 1006 Lausanne, VD   \n",
       "7                                   1010 Lausanne, VD   \n",
       "8   1007 Lausanne, VDClose### CHF 800.—Favourite##...   \n",
       "9                                   1010 Lausanne, VD   \n",
       "10         Rte de la Clochatte 10A, 1018 Lausanne, VD   \n",
       "11                                  1007 Lausanne, VD   \n",
       "12                       Borde 20B, 1018 Lausanne, VD   \n",
       "13                                  1004 Lausanne, VD   \n",
       "14                Avenue Dapples 7, 1003 Lausanne, VD   \n",
       "15        Route de la Feuillère 21, 1010 Lausanne, VD   \n",
       "16                Chemin de Mornex, 1003 Lausanne, VD   \n",
       "17               rue des crêtes 2A, 1018 Lausanne, VD   \n",
       "18                         Bethusy, 1005 Lausanne, VD   \n",
       "19  rue saint francois, 1003 Lausanne, VDClose### ...   \n",
       "\n",
       "                                          Description    Rent  \\\n",
       "0   Appartements de 1 à 4.5 pièces avec vues panor...  1190.0   \n",
       "1   Magnifique logement n° 204 de 3.5 pièces avec ...  2510.0   \n",
       "2                  Sous location noël et ou nouvel an   400.0   \n",
       "3   2 piece in Lausanne until 11th JanuaryA louer ...   500.0   \n",
       "4   Appartement meublé en plein LausanneJolie cham...   500.0   \n",
       "5   Chambre à louer dans 3 pcs à Lausanne 12 min d...   700.0   \n",
       "6     Lausanne, jolie chambre à louer dans appart 3.5   770.0   \n",
       "7   Chambre dans appartement entre le Chuv, la Sal...   790.0   \n",
       "8   Chambre meublée à louer proche EPFL et UNIlCha...   800.0   \n",
       "9                                Collocation Lausanne   800.0   \n",
       "10                                    Chambre à louer   900.0   \n",
       "11                Colocation appartement centre ville   900.0   \n",
       "12               Appartement 3.5 pièces, subventionné   951.0   \n",
       "13                              Chambre Pont Chaudron  1000.0   \n",
       "14  Chambre en colocation quartier sous gare (Grancy)  1000.0   \n",
       "15  Chambre dans Colocation - Lausanne - 4,5 pcs -...  1010.0   \n",
       "16                  Chambre en collocation (Lausanne)  1025.0   \n",
       "17                 Chambre à louer dans 4.5p Lausanne  1150.0   \n",
       "18                          Appartement en colocation  1280.0   \n",
       "19  Sublime Duplex 3.5 p Centre ville de LausanneV...  1007.0   \n",
       "\n",
       "                                                 Link  RentPerArea  \n",
       "0   /en/d/flat-rent-lausanne/5198531?s=2&t=1&l=202...     9.224806  \n",
       "1   /en/d/flat-rent-lausanne/5242058?s=2&t=1&l=202...    12.303922  \n",
       "2   /en/d/flat-rent-lausanne/5285252?s=2&t=1&l=202...     5.000000  \n",
       "3   /en/d/flat-rent-lausanne/5254423?s=2&t=1&l=202...    10.000000  \n",
       "4   /en/d/flat-rent-lausanne/5284570?s=2&t=1&l=202...    10.000000  \n",
       "5   /en/d/single-room-rent-lausanne/5175721?s=2&t=...    10.000000  \n",
       "6   /en/d/single-room-rent-lausanne/5283201?s=2&t=...    11.000000  \n",
       "7   /en/d/single-room-rent-lausanne/5269223?s=2&t=...    13.166667  \n",
       "8   /en/d/single-room-rent-lausanne/4987213?s=2&t=...     8.000000  \n",
       "9   /en/d/single-room-rent-lausanne/5272411?s=2&t=...     6.400000  \n",
       "10  /en/d/single-room-rent-lausanne/5187951?s=2&t=...    10.000000  \n",
       "11  /en/d/single-room-rent-lausanne/5283140?s=2&t=...     7.500000  \n",
       "12  /en/d/flat-rent-lausanne/5262916?s=2&t=1&l=202...    12.037975  \n",
       "13  /en/d/single-room-rent-lausanne/5280309?s=2&t=...    11.764706  \n",
       "14  /en/d/flat-rent-Grancy)»lausanne/5285178?s=2&t...     7.692308  \n",
       "15  /en/d/single-room-rent-lausanne/5261448?s=2&t=...    10.100000  \n",
       "16  /en/d/single-room-rent-Lausanne)»lausanne/5274...    10.250000  \n",
       "17  /en/d/single-room-rent-lausanne/5275707?s=2&t=...    10.000000  \n",
       "18  /en/d/duplex-maisonette-rent-lausanne/5255795?...    11.636364  \n",
       "19  /en/d/duplex-maisonette-rent-lausanne/5285752?...     8.391667  "
      ]
     },
     "execution_count": 55,
     "metadata": {},
     "output_type": "execute_result"
    }
   ],
   "source": [
    "pd.DataFrame(out.head(20), columns=df.columns)"
   ]
  },
  {
   "cell_type": "markdown",
   "metadata": {},
   "source": [
    "Note that `Rent` column by itself seems reasonable, also `SurfaceArea` by itself, however, when you look at `RentPerArea` you see something is wrong. "
   ]
  },
  {
   "cell_type": "markdown",
   "metadata": {},
   "source": [
    "**Remove** `RentPerArea` **outliers: (A)**"
   ]
  },
  {
   "cell_type": "code",
   "execution_count": 6,
   "metadata": {},
   "outputs": [],
   "source": [
    "df = df.where(col('RentPerArea') > 13.45)"
   ]
  },
  {
   "cell_type": "code",
   "execution_count": 67,
   "metadata": {},
   "outputs": [
    {
     "data": {
      "text/plain": [
       "507"
      ]
     },
     "execution_count": 67,
     "metadata": {},
     "output_type": "execute_result"
    }
   ],
   "source": [
    "df.count()"
   ]
  },
  {
   "cell_type": "markdown",
   "metadata": {},
   "source": [
    "**Missing data**"
   ]
  },
  {
   "cell_type": "code",
   "execution_count": 31,
   "metadata": {},
   "outputs": [
    {
     "name": "stdout",
     "output_type": "stream",
     "text": [
      "Id   0\n",
      "SurfaceArea   60\n",
      "NumRooms   102\n",
      "Type   0\n",
      "Address   0\n",
      "Description   8\n",
      "Rent   6\n",
      "Bookmark   525\n",
      "Link   0\n"
     ]
    }
   ],
   "source": [
    "for c in df.columns:\n",
    "    print(c, ' ', df.where(col(c).isNull()).count())"
   ]
  },
  {
   "cell_type": "markdown",
   "metadata": {},
   "source": [
    "**Dealing with the missing data**\n",
    "\n",
    "Question what whould you do with the missing data? What would you do with `NumRooms`? with `Bookmark`? `Rent`? "
   ]
  },
  {
   "cell_type": "markdown",
   "metadata": {},
   "source": [
    "`Bookmark` (A)"
   ]
  },
  {
   "cell_type": "code",
   "execution_count": 7,
   "metadata": {},
   "outputs": [],
   "source": [
    "df = df.drop('Bookmark')"
   ]
  },
  {
   "cell_type": "markdown",
   "metadata": {},
   "source": [
    "`Rent` (A)"
   ]
  },
  {
   "cell_type": "code",
   "execution_count": 8,
   "metadata": {},
   "outputs": [],
   "source": [
    "rentMedian = df.approxQuantile('Rent', [0.5], 0.01)[0]"
   ]
  },
  {
   "cell_type": "code",
   "execution_count": 9,
   "metadata": {},
   "outputs": [],
   "source": [
    "df = df.fillna(rentMedian, subset=['Rent'])"
   ]
  },
  {
   "cell_type": "markdown",
   "metadata": {},
   "source": [
    "`NumRooms` (A)"
   ]
  },
  {
   "cell_type": "code",
   "execution_count": 10,
   "metadata": {},
   "outputs": [],
   "source": [
    "numRoomsMedian = df.approxQuantile('NumRooms', [0.5], 0.01)[0]"
   ]
  },
  {
   "cell_type": "code",
   "execution_count": 11,
   "metadata": {},
   "outputs": [],
   "source": [
    "df = df.fillna(numRoomsMedian, subset=['NumRooms'])"
   ]
  },
  {
   "cell_type": "markdown",
   "metadata": {},
   "source": [
    "`SurfaceArea` (A)"
   ]
  },
  {
   "cell_type": "code",
   "execution_count": 12,
   "metadata": {},
   "outputs": [],
   "source": [
    "areaMedian = df.approxQuantile('SurfaceArea', [0.5], 0.01)[0]"
   ]
  },
  {
   "cell_type": "code",
   "execution_count": 13,
   "metadata": {},
   "outputs": [],
   "source": [
    "df = df.fillna(areaMedian, subset=['SurfaceArea'])"
   ]
  },
  {
   "cell_type": "markdown",
   "metadata": {},
   "source": [
    "**Check missing data again**"
   ]
  },
  {
   "cell_type": "code",
   "execution_count": 84,
   "metadata": {},
   "outputs": [
    {
     "name": "stdout",
     "output_type": "stream",
     "text": [
      "Id   0\n",
      "SurfaceArea   0\n",
      "NumRooms   0\n",
      "Type   0\n",
      "Address   0\n",
      "Description   8\n",
      "Rent   0\n",
      "Link   0\n",
      "RentPerArea   0\n"
     ]
    }
   ],
   "source": [
    "for c in df.columns:\n",
    "    print(c, ' ', df.where(col(c).isNull()).count())"
   ]
  },
  {
   "cell_type": "markdown",
   "metadata": {},
   "source": [
    "## Building prediction model"
   ]
  },
  {
   "cell_type": "markdown",
   "metadata": {},
   "source": [
    "### Feature engineering"
   ]
  },
  {
   "cell_type": "markdown",
   "metadata": {},
   "source": [
    "Can you get `ZipCode` from the `Address`?"
   ]
  },
  {
   "cell_type": "code",
   "execution_count": 30,
   "metadata": {},
   "outputs": [
    {
     "name": "stdout",
     "output_type": "stream",
     "text": [
      "+--------------------+-------+\n",
      "|             Address|ZipCode|\n",
      "+--------------------+-------+\n",
      "|Route Aloys-Fauqu...|   1018|\n",
      "|Avenue de Béthusy...|   1012|\n",
      "|Route des Plaines...|   1018|\n",
      "|Route de Prilly 1...|   1004|\n",
      "|Route de Prilly 1...|   1004|\n",
      "|Route Aloys-Fauqu...|   1018|\n",
      "|Rue du Bourg 15, ...|   1003|\n",
      "|Avenue Druey 13, ...|   1018|\n",
      "|Chemin de Pierref...|   1004|\n",
      "|Av. de Chailly 52...|   1012|\n",
      "|Av. de Chailly 52...|   1012|\n",
      "|Av. de Riant-Mont...|   1004|\n",
      "|Av. de Tivoli 19B...|   1007|\n",
      "|Isabelle de Monto...|   1010|\n",
      "|Rue St-Martin 28,...|   1005|\n",
      "|Avenue Sainte-Luc...|   1003|\n",
      "|Chemin de Montoli...|   1006|\n",
      "|Ch. du Devin 64, ...|   1012|\n",
      "|Chemin de Boston ...|   1004|\n",
      "|Avenue de Menthon...|   1005|\n",
      "+--------------------+-------+\n",
      "only showing top 20 rows\n",
      "\n"
     ]
    }
   ],
   "source": [
    "df.select('Address').withColumn('ZipCode', F.regexp_extract('Address', '(\\d+) Lausanne', 1)).show()"
   ]
  },
  {
   "cell_type": "code",
   "execution_count": 31,
   "metadata": {},
   "outputs": [],
   "source": [
    "df = df.withColumn('ZipCode', F.regexp_extract('Address', '(\\d+) Lausanne', 1))"
   ]
  },
  {
   "cell_type": "code",
   "execution_count": 32,
   "metadata": {},
   "outputs": [
    {
     "data": {
      "text/html": [
       "<div>\n",
       "<style scoped>\n",
       "    .dataframe tbody tr th:only-of-type {\n",
       "        vertical-align: middle;\n",
       "    }\n",
       "\n",
       "    .dataframe tbody tr th {\n",
       "        vertical-align: top;\n",
       "    }\n",
       "\n",
       "    .dataframe thead th {\n",
       "        text-align: right;\n",
       "    }\n",
       "</style>\n",
       "<table border=\"1\" class=\"dataframe\">\n",
       "  <thead>\n",
       "    <tr style=\"text-align: right;\">\n",
       "      <th></th>\n",
       "      <th>ZipCode</th>\n",
       "    </tr>\n",
       "  </thead>\n",
       "  <tbody>\n",
       "    <tr>\n",
       "      <th>0</th>\n",
       "      <td>1018</td>\n",
       "    </tr>\n",
       "    <tr>\n",
       "      <th>1</th>\n",
       "      <td>1012</td>\n",
       "    </tr>\n",
       "    <tr>\n",
       "      <th>2</th>\n",
       "      <td>1018</td>\n",
       "    </tr>\n",
       "    <tr>\n",
       "      <th>3</th>\n",
       "      <td>1004</td>\n",
       "    </tr>\n",
       "    <tr>\n",
       "      <th>4</th>\n",
       "      <td>1004</td>\n",
       "    </tr>\n",
       "  </tbody>\n",
       "</table>\n",
       "</div>"
      ],
      "text/plain": [
       "  ZipCode\n",
       "0    1018\n",
       "1    1012\n",
       "2    1018\n",
       "3    1004\n",
       "4    1004"
      ]
     },
     "execution_count": 32,
     "metadata": {},
     "output_type": "execute_result"
    }
   ],
   "source": [
    "pd.DataFrame(df.select('ZipCode').head(5), columns=['ZipCode'])"
   ]
  },
  {
   "cell_type": "markdown",
   "metadata": {},
   "source": [
    "**Onehot encoding?**"
   ]
  },
  {
   "cell_type": "markdown",
   "metadata": {},
   "source": [
    "Question: when do we need onehot encoding?"
   ]
  },
  {
   "cell_type": "code",
   "execution_count": 94,
   "metadata": {},
   "outputs": [
    {
     "name": "stdout",
     "output_type": "stream",
     "text": [
      "+--------------------+\n",
      "|                Type|\n",
      "+--------------------+\n",
      "|         single-room|\n",
      "|   duplex-maisonette|\n",
      "|                loft|\n",
      "|           penthouse|\n",
      "|          attic-flat|\n",
      "|              studio|\n",
      "|furnished-residen...|\n",
      "|                flat|\n",
      "|   stepped-apartment|\n",
      "+--------------------+\n",
      "\n"
     ]
    }
   ],
   "source": [
    "df.select(['Type']).groupby(['Type']).mean().show()"
   ]
  },
  {
   "cell_type": "code",
   "execution_count": 84,
   "metadata": {},
   "outputs": [],
   "source": [
    "from pyspark.ml.feature import StringIndexer\n",
    "from pyspark.ml.feature import OneHotEncoderEstimator"
   ]
  },
  {
   "cell_type": "markdown",
   "metadata": {},
   "source": [
    "`Type`:"
   ]
  },
  {
   "cell_type": "code",
   "execution_count": 76,
   "metadata": {},
   "outputs": [],
   "source": [
    "indexer = StringIndexer(inputCol='Type', outputCol='Type_numeric').fit(df)\n",
    "df = indexer.transform(df)\n",
    "encoder = OneHotEncoderEstimator(inputCols=['Type_numeric'], outputCols=['Type_vector']).fit(df)\n",
    "df = encoder.transform(df)"
   ]
  },
  {
   "cell_type": "markdown",
   "metadata": {},
   "source": [
    "`ZipCode`:"
   ]
  },
  {
   "cell_type": "code",
   "execution_count": 85,
   "metadata": {},
   "outputs": [],
   "source": [
    "indexer = StringIndexer(inputCol='ZipCode', outputCol='ZipCode_numeric').fit(df)\n",
    "df = indexer.transform(df)\n",
    "encoder = OneHotEncoderEstimator(inputCols=['ZipCode_numeric'], outputCols=['ZipCode_vector']).fit(df)\n",
    "df = encoder.transform(df)"
   ]
  },
  {
   "cell_type": "markdown",
   "metadata": {},
   "source": [
    "### Prediction"
   ]
  },
  {
   "cell_type": "code",
   "execution_count": 262,
   "metadata": {},
   "outputs": [],
   "source": [
    "from pyspark.ml.regression import LinearRegression, RandomForestRegressor, GBTRegressor\n",
    "from pyspark.ml import Pipeline\n",
    "from pyspark.sql.types import *\n",
    "from pyspark.ml.feature import VectorAssembler"
   ]
  },
  {
   "cell_type": "code",
   "execution_count": 62,
   "metadata": {},
   "outputs": [],
   "source": [
    "features = ['SurfaceArea', 'NumRooms']"
   ]
  },
  {
   "cell_type": "code",
   "execution_count": 51,
   "metadata": {},
   "outputs": [],
   "source": [
    "assembler = VectorAssembler(inputCols = features, outputCol='features')"
   ]
  },
  {
   "cell_type": "code",
   "execution_count": 52,
   "metadata": {},
   "outputs": [],
   "source": [
    "lr = LinearRegression(featuresCol = 'features', labelCol = 'Rent')"
   ]
  },
  {
   "cell_type": "code",
   "execution_count": 53,
   "metadata": {},
   "outputs": [],
   "source": [
    "pipeline = Pipeline(stages=[assembler, lr])"
   ]
  },
  {
   "cell_type": "markdown",
   "metadata": {},
   "source": [
    "**Train test split**"
   ]
  },
  {
   "cell_type": "code",
   "execution_count": 54,
   "metadata": {},
   "outputs": [],
   "source": [
    "(train, test) = df.randomSplit(weights=[0.8, 0.2], seed=1)"
   ]
  },
  {
   "cell_type": "code",
   "execution_count": 55,
   "metadata": {},
   "outputs": [],
   "source": [
    "model = pipeline.fit(train)"
   ]
  },
  {
   "cell_type": "code",
   "execution_count": 56,
   "metadata": {},
   "outputs": [],
   "source": [
    "pred = model.transform(test)"
   ]
  },
  {
   "cell_type": "markdown",
   "metadata": {},
   "source": [
    "**Let's put all these steps into a function:**"
   ]
  },
  {
   "cell_type": "code",
   "execution_count": 184,
   "metadata": {},
   "outputs": [],
   "source": [
    "features = ['SurfaceArea', 'NumRooms', 'Type_vector', 'ZipCode_vector']"
   ]
  },
  {
   "cell_type": "markdown",
   "metadata": {},
   "source": [
    "**ML Algorithms:**"
   ]
  },
  {
   "cell_type": "code",
   "execution_count": 199,
   "metadata": {},
   "outputs": [],
   "source": [
    "lr = LinearRegression(featuresCol = 'features', labelCol = 'Rent')"
   ]
  },
  {
   "cell_type": "code",
   "execution_count": 384,
   "metadata": {},
   "outputs": [],
   "source": [
    "rf = RandomForestRegressor(featuresCol = 'features', labelCol = 'Rent')"
   ]
  },
  {
   "cell_type": "code",
   "execution_count": 385,
   "metadata": {},
   "outputs": [],
   "source": [
    "gb = GBTRegressor(featuresCol = 'features', labelCol = 'Rent', maxDepth = 3)"
   ]
  },
  {
   "cell_type": "code",
   "execution_count": 386,
   "metadata": {},
   "outputs": [],
   "source": [
    "def fit(trainData, features, alg):\n",
    "    assembler = VectorAssembler(inputCols = features, outputCol='features')\n",
    "    pipeline = Pipeline(stages=[assembler, alg])\n",
    "    model = pipeline.fit(trainData)\n",
    "    return model"
   ]
  },
  {
   "cell_type": "code",
   "execution_count": 387,
   "metadata": {},
   "outputs": [],
   "source": [
    "(train, test) = df.randomSplit(weights=[0.8, 0.2], seed=1)"
   ]
  },
  {
   "cell_type": "code",
   "execution_count": 388,
   "metadata": {},
   "outputs": [],
   "source": [
    "model = fit(train, features, rf)\n",
    "pred = model.transform(test)"
   ]
  },
  {
   "cell_type": "code",
   "execution_count": 389,
   "metadata": {},
   "outputs": [
    {
     "name": "stdout",
     "output_type": "stream",
     "text": [
      "+------+------------------+\n",
      "|  Rent|        Prediction|\n",
      "+------+------------------+\n",
      "|2377.0|1763.6753111305966|\n",
      "|2650.0| 2303.923768993243|\n",
      "|1155.0|1299.4327805698963|\n",
      "|1280.0|1293.6998648744807|\n",
      "| 780.0| 851.8083832017655|\n",
      "|2110.0| 2133.529778195488|\n",
      "|2244.0|3605.6230436341307|\n",
      "|2250.0|2119.0173115892785|\n",
      "|2850.0| 3051.605046771757|\n",
      "|3220.0| 4022.473543218022|\n",
      "|1590.0|1590.2329286565023|\n",
      "|1660.0| 1581.095886103378|\n",
      "|2950.0|3008.7022365017365|\n",
      "|1690.0|1744.6811435213301|\n",
      "|4050.0| 6193.814872923774|\n",
      "|1635.0|1584.2747554628493|\n",
      "|2210.0| 2354.084451267648|\n",
      "|2380.0|2851.2713042252244|\n",
      "|1380.0| 1563.949921392174|\n",
      "|1490.0|1576.1641439573152|\n",
      "+------+------------------+\n",
      "only showing top 20 rows\n",
      "\n"
     ]
    }
   ],
   "source": [
    "pred.select(['Rent', 'Prediction']).show()"
   ]
  },
  {
   "cell_type": "markdown",
   "metadata": {},
   "source": [
    "You can now determine **value for money** apartments!"
   ]
  },
  {
   "cell_type": "markdown",
   "metadata": {},
   "source": [
    "### Evaluation"
   ]
  },
  {
   "cell_type": "code",
   "execution_count": 390,
   "metadata": {},
   "outputs": [],
   "source": [
    "from pyspark.ml.evaluation import RegressionEvaluator"
   ]
  },
  {
   "cell_type": "code",
   "execution_count": 391,
   "metadata": {},
   "outputs": [
    {
     "data": {
      "text/plain": [
       "442.8079270040139"
      ]
     },
     "execution_count": 391,
     "metadata": {},
     "output_type": "execute_result"
    }
   ],
   "source": [
    "regEval = RegressionEvaluator(predictionCol = 'prediction', labelCol = 'Rent', metricName = 'rmse')\n",
    "regEval.evaluate(pred)"
   ]
  },
  {
   "cell_type": "markdown",
   "metadata": {},
   "source": [
    "**Relative error:**"
   ]
  },
  {
   "cell_type": "code",
   "execution_count": 311,
   "metadata": {},
   "outputs": [
    {
     "data": {
      "text/plain": [
       "[Row(avg(RelError)=0.14103161091722985)]"
      ]
     },
     "execution_count": 311,
     "metadata": {},
     "output_type": "execute_result"
    }
   ],
   "source": [
    "pred = pred.select(['Rent', 'Prediction']).withColumn('RelError', F.abs((pred['Rent'] - pred['Prediction']) / pred['Rent']))\n",
    "pred.select(F.mean(pred['RelError'])).collect()"
   ]
  },
  {
   "cell_type": "markdown",
   "metadata": {},
   "source": [
    "Less than **15%** relative error on average. Not bad for such a simple model! "
   ]
  },
  {
   "cell_type": "markdown",
   "metadata": {},
   "source": [
    "### Cross validation and GridsearchCV"
   ]
  },
  {
   "cell_type": "markdown",
   "metadata": {},
   "source": [
    "Some hints on how to do Cross validation and Grid search with PySpark."
   ]
  },
  {
   "cell_type": "code",
   "execution_count": 299,
   "metadata": {},
   "outputs": [],
   "source": [
    "from pyspark.ml.tuning import CrossValidator, ParamGridBuilder"
   ]
  },
  {
   "cell_type": "code",
   "execution_count": 403,
   "metadata": {},
   "outputs": [],
   "source": [
    "assembler = VectorAssembler(inputCols = features, outputCol='features')\n",
    "rf = RandomForestRegressor(featuresCol = 'features', labelCol = 'Rent')\n",
    "pipeline = Pipeline(stages=[assembler, rf])\n",
    "evaluator = RegressionEvaluator(predictionCol = 'prediction', labelCol = 'Rent', metricName = 'rmse')"
   ]
  },
  {
   "cell_type": "code",
   "execution_count": 439,
   "metadata": {},
   "outputs": [],
   "source": [
    "paramGrid = ParamGridBuilder().addGrid(rf.maxDepth, [5, 6]).build()"
   ]
  },
  {
   "cell_type": "code",
   "execution_count": 440,
   "metadata": {},
   "outputs": [],
   "source": [
    "crossval = CrossValidator(estimator = pipeline, estimatorParamMaps = paramGrid, evaluator = evaluator, numFolds = 4)"
   ]
  },
  {
   "cell_type": "code",
   "execution_count": 441,
   "metadata": {},
   "outputs": [],
   "source": [
    "cvModel = crossval.fit(train)"
   ]
  },
  {
   "cell_type": "code",
   "execution_count": 442,
   "metadata": {},
   "outputs": [],
   "source": [
    "pred = cvModel.transform(test)"
   ]
  },
  {
   "cell_type": "code",
   "execution_count": 443,
   "metadata": {},
   "outputs": [
    {
     "data": {
      "text/plain": [
       "434.80359030041603"
      ]
     },
     "execution_count": 443,
     "metadata": {},
     "output_type": "execute_result"
    }
   ],
   "source": [
    "evaluator.evaluate(pred)"
   ]
  },
  {
   "cell_type": "code",
   "execution_count": null,
   "metadata": {},
   "outputs": [],
   "source": []
  }
 ],
 "metadata": {
  "kernelspec": {
   "display_name": "Python 3",
   "language": "python",
   "name": "python3"
  },
  "language_info": {
   "codemirror_mode": {
    "name": "ipython",
    "version": 3
   },
   "file_extension": ".py",
   "mimetype": "text/x-python",
   "name": "python",
   "nbconvert_exporter": "python",
   "pygments_lexer": "ipython3",
   "version": "3.6.6"
  }
 },
 "nbformat": 4,
 "nbformat_minor": 2
}

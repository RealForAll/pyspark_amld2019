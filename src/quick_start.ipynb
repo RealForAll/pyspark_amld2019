{
 "cells": [
  {
   "cell_type": "markdown",
   "metadata": {},
   "source": [
    "# Introduction to the basic functionality of PySpark"
   ]
  },
  {
   "cell_type": "code",
   "execution_count": 1,
   "metadata": {},
   "outputs": [],
   "source": [
    "import pandas as pd\n",
    "from pyspark.sql import SparkSession"
   ]
  },
  {
   "cell_type": "markdown",
   "metadata": {},
   "source": [
    "## Import data \n",
    "**Pandas**"
   ]
  },
  {
   "cell_type": "code",
   "execution_count": 2,
   "metadata": {},
   "outputs": [],
   "source": [
    "df = pd.read_csv('../data/lausanne_rental.csv')"
   ]
  },
  {
   "cell_type": "markdown",
   "metadata": {},
   "source": [
    "**PySpark**"
   ]
  },
  {
   "cell_type": "code",
   "execution_count": 3,
   "metadata": {},
   "outputs": [],
   "source": [
    "spark = SparkSession.builder.getOrCreate()"
   ]
  },
  {
   "cell_type": "code",
   "execution_count": 224,
   "metadata": {},
   "outputs": [],
   "source": [
    "dfs = spark.read.csv('../data/lausanne_rental.csv', header=True)"
   ]
  },
  {
   "cell_type": "markdown",
   "metadata": {},
   "source": [
    "## Preprocessing"
   ]
  },
  {
   "cell_type": "markdown",
   "metadata": {},
   "source": [
    "**Pandas**"
   ]
  },
  {
   "cell_type": "code",
   "execution_count": 5,
   "metadata": {},
   "outputs": [
    {
     "data": {
      "text/html": [
       "<div>\n",
       "<style scoped>\n",
       "    .dataframe tbody tr th:only-of-type {\n",
       "        vertical-align: middle;\n",
       "    }\n",
       "\n",
       "    .dataframe tbody tr th {\n",
       "        vertical-align: top;\n",
       "    }\n",
       "\n",
       "    .dataframe thead th {\n",
       "        text-align: right;\n",
       "    }\n",
       "</style>\n",
       "<table border=\"1\" class=\"dataframe\">\n",
       "  <thead>\n",
       "    <tr style=\"text-align: right;\">\n",
       "      <th></th>\n",
       "      <th>Id</th>\n",
       "      <th>SurfaceArea</th>\n",
       "      <th>NumRooms</th>\n",
       "      <th>Type</th>\n",
       "      <th>Address</th>\n",
       "      <th>Description</th>\n",
       "      <th>Rent</th>\n",
       "      <th>Bookmark</th>\n",
       "      <th>Link</th>\n",
       "    </tr>\n",
       "  </thead>\n",
       "  <tbody>\n",
       "    <tr>\n",
       "      <th>0</th>\n",
       "      <td>5286965.0</td>\n",
       "      <td>52.0</td>\n",
       "      <td>2.5</td>\n",
       "      <td>flat</td>\n",
       "      <td>Route Aloys-Fauquez 124, 1018 Lausanne, VD</td>\n",
       "      <td>Agréable 2 pièces proche de toutes les commodités</td>\n",
       "      <td>1460.0</td>\n",
       "      <td>New</td>\n",
       "      <td>/en/d/flat-rent-lausanne/5286965?s=2&amp;t=1&amp;l=202...</td>\n",
       "    </tr>\n",
       "    <tr>\n",
       "      <th>1</th>\n",
       "      <td>5277530.0</td>\n",
       "      <td>80.0</td>\n",
       "      <td>3.0</td>\n",
       "      <td>flat</td>\n",
       "      <td>Avenue de Béthusy 53, 1012 Lausanne, VD</td>\n",
       "      <td>Proche du centre ville</td>\n",
       "      <td>2100.0</td>\n",
       "      <td>NaN</td>\n",
       "      <td>/en/d/flat-rent-lausanne/5277530?s=2&amp;t=1&amp;l=202...</td>\n",
       "    </tr>\n",
       "    <tr>\n",
       "      <th>2</th>\n",
       "      <td>5249019.0</td>\n",
       "      <td>74.0</td>\n",
       "      <td>3.5</td>\n",
       "      <td>stepped-apartment</td>\n",
       "      <td>Route des Plaines-du-Loup 42, 1018 Lausanne, VD</td>\n",
       "      <td>Magnifique 3,5 pièces avec jardin privé -Immeu...</td>\n",
       "      <td>2150.0</td>\n",
       "      <td>Highlight</td>\n",
       "      <td>/en/d/stepped-apartment-rent-lausanne/5249019?...</td>\n",
       "    </tr>\n",
       "    <tr>\n",
       "      <th>3</th>\n",
       "      <td>5274375.0</td>\n",
       "      <td>108.0</td>\n",
       "      <td>3.5</td>\n",
       "      <td>duplex-maisonette</td>\n",
       "      <td>Route de Prilly 12, 1004 Lausanne, VD</td>\n",
       "      <td>Magnifique logement en duplex entièrement neuf</td>\n",
       "      <td>3160.0</td>\n",
       "      <td>NaN</td>\n",
       "      <td>/en/d/duplex-maisonette-rent-lausanne/5274375?...</td>\n",
       "    </tr>\n",
       "    <tr>\n",
       "      <th>4</th>\n",
       "      <td>5274374.0</td>\n",
       "      <td>80.0</td>\n",
       "      <td>3.5</td>\n",
       "      <td>flat</td>\n",
       "      <td>Route de Prilly 12, 1004 Lausanne, VD</td>\n",
       "      <td>Nouveaux logements</td>\n",
       "      <td>2085.0</td>\n",
       "      <td>NaN</td>\n",
       "      <td>/en/d/flat-rent-lausanne/5274374?s=2&amp;t=1&amp;l=202...</td>\n",
       "    </tr>\n",
       "  </tbody>\n",
       "</table>\n",
       "</div>"
      ],
      "text/plain": [
       "          Id  SurfaceArea  NumRooms               Type  \\\n",
       "0  5286965.0         52.0       2.5               flat   \n",
       "1  5277530.0         80.0       3.0               flat   \n",
       "2  5249019.0         74.0       3.5  stepped-apartment   \n",
       "3  5274375.0        108.0       3.5  duplex-maisonette   \n",
       "4  5274374.0         80.0       3.5               flat   \n",
       "\n",
       "                                           Address  \\\n",
       "0       Route Aloys-Fauquez 124, 1018 Lausanne, VD   \n",
       "1          Avenue de Béthusy 53, 1012 Lausanne, VD   \n",
       "2  Route des Plaines-du-Loup 42, 1018 Lausanne, VD   \n",
       "3            Route de Prilly 12, 1004 Lausanne, VD   \n",
       "4            Route de Prilly 12, 1004 Lausanne, VD   \n",
       "\n",
       "                                         Description    Rent   Bookmark  \\\n",
       "0  Agréable 2 pièces proche de toutes les commodités  1460.0        New   \n",
       "1                             Proche du centre ville  2100.0        NaN   \n",
       "2  Magnifique 3,5 pièces avec jardin privé -Immeu...  2150.0  Highlight   \n",
       "3     Magnifique logement en duplex entièrement neuf  3160.0        NaN   \n",
       "4                                 Nouveaux logements  2085.0        NaN   \n",
       "\n",
       "                                                Link  \n",
       "0  /en/d/flat-rent-lausanne/5286965?s=2&t=1&l=202...  \n",
       "1  /en/d/flat-rent-lausanne/5277530?s=2&t=1&l=202...  \n",
       "2  /en/d/stepped-apartment-rent-lausanne/5249019?...  \n",
       "3  /en/d/duplex-maisonette-rent-lausanne/5274375?...  \n",
       "4  /en/d/flat-rent-lausanne/5274374?s=2&t=1&l=202...  "
      ]
     },
     "execution_count": 5,
     "metadata": {},
     "output_type": "execute_result"
    }
   ],
   "source": [
    "df.head()"
   ]
  },
  {
   "cell_type": "markdown",
   "metadata": {},
   "source": [
    "**Spark**"
   ]
  },
  {
   "cell_type": "code",
   "execution_count": 225,
   "metadata": {},
   "outputs": [
    {
     "data": {
      "text/plain": [
       "[Row(Id='5286965.0', SurfaceArea='52.0', NumRooms='2.5', Type='flat', Address='Route Aloys-Fauquez 124, 1018 Lausanne, VD', Description='Agréable 2 pièces proche de toutes les commodités', Rent='1460.0', Bookmark='New', Link='/en/d/flat-rent-lausanne/5286965?s=2&t=1&l=2023&ct=615&ci=1&pn=1'),\n",
       " Row(Id='5277530.0', SurfaceArea='80.0', NumRooms='3.0', Type='flat', Address='Avenue de Béthusy 53, 1012 Lausanne, VD', Description='Proche du centre ville', Rent='2100.0', Bookmark=None, Link='/en/d/flat-rent-lausanne/5277530?s=2&t=1&l=2023&ct=615&ci=2&pn=1'),\n",
       " Row(Id='5249019.0', SurfaceArea='74.0', NumRooms='3.5', Type='stepped-apartment', Address='Route des Plaines-du-Loup 42, 1018 Lausanne, VD', Description='Magnifique 3,5 pièces avec jardin privé -Immeuble récent à Lausanne', Rent='2150.0', Bookmark='Highlight', Link='/en/d/stepped-apartment-rent-lausanne/5249019?s=2&t=1&l=2023&ct=615&ci=3&pn=1'),\n",
       " Row(Id='5274375.0', SurfaceArea='108.0', NumRooms='3.5', Type='duplex-maisonette', Address='Route de Prilly 12, 1004 Lausanne, VD', Description='Magnifique logement en duplex entièrement neuf', Rent='3160.0', Bookmark=None, Link='/en/d/duplex-maisonette-rent-lausanne/5274375?s=2&t=1&l=2023&ct=615&ci=4&pn=1'),\n",
       " Row(Id='5274374.0', SurfaceArea='80.0', NumRooms='3.5', Type='flat', Address='Route de Prilly 12, 1004 Lausanne, VD', Description='Nouveaux logements', Rent='2085.0', Bookmark=None, Link='/en/d/flat-rent-lausanne/5274374?s=2&t=1&l=2023&ct=615&ci=5&pn=1')]"
      ]
     },
     "execution_count": 225,
     "metadata": {},
     "output_type": "execute_result"
    }
   ],
   "source": [
    "dfs.head(5)"
   ]
  },
  {
   "cell_type": "code",
   "execution_count": 226,
   "metadata": {},
   "outputs": [
    {
     "name": "stdout",
     "output_type": "stream",
     "text": [
      "+---------+-----------+--------+-----------------+--------------------+--------------------+------+---------+--------------------+\n",
      "|       Id|SurfaceArea|NumRooms|             Type|             Address|         Description|  Rent| Bookmark|                Link|\n",
      "+---------+-----------+--------+-----------------+--------------------+--------------------+------+---------+--------------------+\n",
      "|5286965.0|       52.0|     2.5|             flat|Route Aloys-Fauqu...|Agréable 2 pièces...|1460.0|      New|/en/d/flat-rent-l...|\n",
      "|5277530.0|       80.0|     3.0|             flat|Avenue de Béthusy...|Proche du centre ...|2100.0|     null|/en/d/flat-rent-l...|\n",
      "|5249019.0|       74.0|     3.5|stepped-apartment|Route des Plaines...|Magnifique 3,5 pi...|2150.0|Highlight|/en/d/stepped-apa...|\n",
      "|5274375.0|      108.0|     3.5|duplex-maisonette|Route de Prilly 1...|Magnifique logeme...|3160.0|     null|/en/d/duplex-mais...|\n",
      "|5274374.0|       80.0|     3.5|             flat|Route de Prilly 1...|  Nouveaux logements|2085.0|     null|/en/d/flat-rent-l...|\n",
      "+---------+-----------+--------+-----------------+--------------------+--------------------+------+---------+--------------------+\n",
      "only showing top 5 rows\n",
      "\n"
     ]
    }
   ],
   "source": [
    "dfs.show(5)"
   ]
  },
  {
   "cell_type": "markdown",
   "metadata": {},
   "source": [
    "**Possible convert to pandas:** "
   ]
  },
  {
   "cell_type": "code",
   "execution_count": 13,
   "metadata": {},
   "outputs": [
    {
     "data": {
      "text/html": [
       "<div>\n",
       "<style scoped>\n",
       "    .dataframe tbody tr th:only-of-type {\n",
       "        vertical-align: middle;\n",
       "    }\n",
       "\n",
       "    .dataframe tbody tr th {\n",
       "        vertical-align: top;\n",
       "    }\n",
       "\n",
       "    .dataframe thead th {\n",
       "        text-align: right;\n",
       "    }\n",
       "</style>\n",
       "<table border=\"1\" class=\"dataframe\">\n",
       "  <thead>\n",
       "    <tr style=\"text-align: right;\">\n",
       "      <th></th>\n",
       "      <th>Id</th>\n",
       "      <th>SurfaceArea</th>\n",
       "      <th>NumRooms</th>\n",
       "      <th>Type</th>\n",
       "      <th>Address</th>\n",
       "      <th>Description</th>\n",
       "      <th>Rent</th>\n",
       "      <th>Bookmark</th>\n",
       "      <th>Link</th>\n",
       "    </tr>\n",
       "  </thead>\n",
       "  <tbody>\n",
       "    <tr>\n",
       "      <th>0</th>\n",
       "      <td>5286965.0</td>\n",
       "      <td>52.0</td>\n",
       "      <td>2.5</td>\n",
       "      <td>flat</td>\n",
       "      <td>Route Aloys-Fauquez 124, 1018 Lausanne, VD</td>\n",
       "      <td>Agréable 2 pièces proche de toutes les commodités</td>\n",
       "      <td>1460.0</td>\n",
       "      <td>New</td>\n",
       "      <td>/en/d/flat-rent-lausanne/5286965?s=2&amp;t=1&amp;l=202...</td>\n",
       "    </tr>\n",
       "    <tr>\n",
       "      <th>1</th>\n",
       "      <td>5277530.0</td>\n",
       "      <td>80.0</td>\n",
       "      <td>3.0</td>\n",
       "      <td>flat</td>\n",
       "      <td>Avenue de Béthusy 53, 1012 Lausanne, VD</td>\n",
       "      <td>Proche du centre ville</td>\n",
       "      <td>2100.0</td>\n",
       "      <td>None</td>\n",
       "      <td>/en/d/flat-rent-lausanne/5277530?s=2&amp;t=1&amp;l=202...</td>\n",
       "    </tr>\n",
       "    <tr>\n",
       "      <th>2</th>\n",
       "      <td>5249019.0</td>\n",
       "      <td>74.0</td>\n",
       "      <td>3.5</td>\n",
       "      <td>stepped-apartment</td>\n",
       "      <td>Route des Plaines-du-Loup 42, 1018 Lausanne, VD</td>\n",
       "      <td>Magnifique 3,5 pièces avec jardin privé -Immeu...</td>\n",
       "      <td>2150.0</td>\n",
       "      <td>Highlight</td>\n",
       "      <td>/en/d/stepped-apartment-rent-lausanne/5249019?...</td>\n",
       "    </tr>\n",
       "    <tr>\n",
       "      <th>3</th>\n",
       "      <td>5274375.0</td>\n",
       "      <td>108.0</td>\n",
       "      <td>3.5</td>\n",
       "      <td>duplex-maisonette</td>\n",
       "      <td>Route de Prilly 12, 1004 Lausanne, VD</td>\n",
       "      <td>Magnifique logement en duplex entièrement neuf</td>\n",
       "      <td>3160.0</td>\n",
       "      <td>None</td>\n",
       "      <td>/en/d/duplex-maisonette-rent-lausanne/5274375?...</td>\n",
       "    </tr>\n",
       "    <tr>\n",
       "      <th>4</th>\n",
       "      <td>5274374.0</td>\n",
       "      <td>80.0</td>\n",
       "      <td>3.5</td>\n",
       "      <td>flat</td>\n",
       "      <td>Route de Prilly 12, 1004 Lausanne, VD</td>\n",
       "      <td>Nouveaux logements</td>\n",
       "      <td>2085.0</td>\n",
       "      <td>None</td>\n",
       "      <td>/en/d/flat-rent-lausanne/5274374?s=2&amp;t=1&amp;l=202...</td>\n",
       "    </tr>\n",
       "  </tbody>\n",
       "</table>\n",
       "</div>"
      ],
      "text/plain": [
       "          Id SurfaceArea NumRooms               Type  \\\n",
       "0  5286965.0        52.0      2.5               flat   \n",
       "1  5277530.0        80.0      3.0               flat   \n",
       "2  5249019.0        74.0      3.5  stepped-apartment   \n",
       "3  5274375.0       108.0      3.5  duplex-maisonette   \n",
       "4  5274374.0        80.0      3.5               flat   \n",
       "\n",
       "                                           Address  \\\n",
       "0       Route Aloys-Fauquez 124, 1018 Lausanne, VD   \n",
       "1          Avenue de Béthusy 53, 1012 Lausanne, VD   \n",
       "2  Route des Plaines-du-Loup 42, 1018 Lausanne, VD   \n",
       "3            Route de Prilly 12, 1004 Lausanne, VD   \n",
       "4            Route de Prilly 12, 1004 Lausanne, VD   \n",
       "\n",
       "                                         Description    Rent   Bookmark  \\\n",
       "0  Agréable 2 pièces proche de toutes les commodités  1460.0        New   \n",
       "1                             Proche du centre ville  2100.0       None   \n",
       "2  Magnifique 3,5 pièces avec jardin privé -Immeu...  2150.0  Highlight   \n",
       "3     Magnifique logement en duplex entièrement neuf  3160.0       None   \n",
       "4                                 Nouveaux logements  2085.0       None   \n",
       "\n",
       "                                                Link  \n",
       "0  /en/d/flat-rent-lausanne/5286965?s=2&t=1&l=202...  \n",
       "1  /en/d/flat-rent-lausanne/5277530?s=2&t=1&l=202...  \n",
       "2  /en/d/stepped-apartment-rent-lausanne/5249019?...  \n",
       "3  /en/d/duplex-maisonette-rent-lausanne/5274375?...  \n",
       "4  /en/d/flat-rent-lausanne/5274374?s=2&t=1&l=202...  "
      ]
     },
     "execution_count": 13,
     "metadata": {},
     "output_type": "execute_result"
    }
   ],
   "source": [
    "pd.DataFrame(dfs.head(5), columns=dfs.columns)"
   ]
  },
  {
   "cell_type": "markdown",
   "metadata": {},
   "source": [
    "### Get column names"
   ]
  },
  {
   "cell_type": "markdown",
   "metadata": {},
   "source": [
    "**Pandas**"
   ]
  },
  {
   "cell_type": "code",
   "execution_count": 17,
   "metadata": {},
   "outputs": [
    {
     "data": {
      "text/plain": [
       "Index(['Id', 'SurfaceArea', 'NumRooms', 'Type', 'Address', 'Description',\n",
       "       'Rent', 'Bookmark', 'Link'],\n",
       "      dtype='object')"
      ]
     },
     "execution_count": 17,
     "metadata": {},
     "output_type": "execute_result"
    }
   ],
   "source": [
    "df.columns"
   ]
  },
  {
   "cell_type": "markdown",
   "metadata": {},
   "source": [
    "**PySpark**"
   ]
  },
  {
   "cell_type": "code",
   "execution_count": 18,
   "metadata": {},
   "outputs": [
    {
     "data": {
      "text/plain": [
       "['Id',\n",
       " 'SurfaceArea',\n",
       " 'NumRooms',\n",
       " 'Type',\n",
       " 'Address',\n",
       " 'Description',\n",
       " 'Rent',\n",
       " 'Bookmark',\n",
       " 'Link']"
      ]
     },
     "execution_count": 18,
     "metadata": {},
     "output_type": "execute_result"
    }
   ],
   "source": [
    "dfs.columns"
   ]
  },
  {
   "cell_type": "markdown",
   "metadata": {},
   "source": [
    "### Get types"
   ]
  },
  {
   "cell_type": "markdown",
   "metadata": {},
   "source": [
    "**Pandas**"
   ]
  },
  {
   "cell_type": "code",
   "execution_count": 19,
   "metadata": {},
   "outputs": [
    {
     "data": {
      "text/plain": [
       "Id             float64\n",
       "SurfaceArea    float64\n",
       "NumRooms       float64\n",
       "Type            object\n",
       "Address         object\n",
       "Description     object\n",
       "Rent           float64\n",
       "Bookmark        object\n",
       "Link            object\n",
       "dtype: object"
      ]
     },
     "execution_count": 19,
     "metadata": {},
     "output_type": "execute_result"
    }
   ],
   "source": [
    "df.dtypes"
   ]
  },
  {
   "cell_type": "markdown",
   "metadata": {},
   "source": [
    "**PySpark**"
   ]
  },
  {
   "cell_type": "code",
   "execution_count": 41,
   "metadata": {},
   "outputs": [
    {
     "data": {
      "text/plain": [
       "[('Id', 'string'),\n",
       " ('SurfaceArea', 'string'),\n",
       " ('NumRooms', 'string'),\n",
       " ('Type', 'string'),\n",
       " ('Address', 'string'),\n",
       " ('Description', 'string'),\n",
       " ('Rent', 'string'),\n",
       " ('Bookmark', 'string'),\n",
       " ('Link', 'string')]"
      ]
     },
     "execution_count": 41,
     "metadata": {},
     "output_type": "execute_result"
    }
   ],
   "source": [
    "dfs.dtypes"
   ]
  },
  {
   "cell_type": "markdown",
   "metadata": {},
   "source": [
    "Note that the types in PySpark dont match with those of Pandas. This is becauase pandas automatically recognizes (guesses) the types, while in PySpark we need to explicitely specify the names. "
   ]
  },
  {
   "cell_type": "markdown",
   "metadata": {},
   "source": [
    "### Converting column types (or Add columns)"
   ]
  },
  {
   "cell_type": "markdown",
   "metadata": {},
   "source": [
    "**Pandas**"
   ]
  },
  {
   "cell_type": "code",
   "execution_count": 29,
   "metadata": {},
   "outputs": [],
   "source": [
    "df['Id'] = df['Id'].astype('int')"
   ]
  },
  {
   "cell_type": "code",
   "execution_count": 30,
   "metadata": {},
   "outputs": [
    {
     "data": {
      "text/plain": [
       "Id                int64\n",
       "SurfaceArea     float64\n",
       "NumRooms        float64\n",
       "Type           category\n",
       "Address          object\n",
       "Description      object\n",
       "Rent            float64\n",
       "Bookmark         object\n",
       "Link             object\n",
       "dtype: object"
      ]
     },
     "execution_count": 30,
     "metadata": {},
     "output_type": "execute_result"
    }
   ],
   "source": [
    "df.dtypes"
   ]
  },
  {
   "cell_type": "markdown",
   "metadata": {},
   "source": [
    "**PySpark**"
   ]
  },
  {
   "cell_type": "code",
   "execution_count": 228,
   "metadata": {},
   "outputs": [],
   "source": [
    "dfs = dfs.withColumn('Id', dfs['Id'].astype('int'))\n",
    "dfs = dfs.withColumn('SurfaceArea', dfs['SurfaceArea'].astype('float'))\n",
    "dfs = dfs.withColumn('Rent', dfs['Rent'].astype('float'))\n",
    "dfs = dfs.withColumn('NumRooms', dfs['NumRooms'].astype('float'))"
   ]
  },
  {
   "cell_type": "code",
   "execution_count": 54,
   "metadata": {},
   "outputs": [
    {
     "data": {
      "text/plain": [
       "[('Id', 'int'),\n",
       " ('SurfaceArea', 'float'),\n",
       " ('NumRooms', 'string'),\n",
       " ('Type', 'string'),\n",
       " ('Address', 'string'),\n",
       " ('Description', 'string'),\n",
       " ('Rent', 'float'),\n",
       " ('Bookmark', 'string'),\n",
       " ('Link', 'string')]"
      ]
     },
     "execution_count": 54,
     "metadata": {},
     "output_type": "execute_result"
    }
   ],
   "source": [
    "dfs.dtypes"
   ]
  },
  {
   "cell_type": "markdown",
   "metadata": {},
   "source": [
    "### Rename Columns"
   ]
  },
  {
   "cell_type": "markdown",
   "metadata": {},
   "source": [
    "**Pandas**"
   ]
  },
  {
   "cell_type": "code",
   "execution_count": 9,
   "metadata": {},
   "outputs": [],
   "source": [
    "dftmp = df.copy()  # if you don't put the .copy() dftmp \"points\" to the same dataframe as df, so any change of dftmp affects df"
   ]
  },
  {
   "cell_type": "code",
   "execution_count": 10,
   "metadata": {},
   "outputs": [
    {
     "data": {
      "text/plain": [
       "Index(['Id', 'SurfaceArea', 'NumRooms', 'Type', 'Address', 'Description',\n",
       "       'Rent', 'Bookmark', 'Link'],\n",
       "      dtype='object')"
      ]
     },
     "execution_count": 10,
     "metadata": {},
     "output_type": "execute_result"
    }
   ],
   "source": [
    "df.columns"
   ]
  },
  {
   "cell_type": "code",
   "execution_count": 11,
   "metadata": {},
   "outputs": [],
   "source": [
    "dftmp.columns = list('ABCDEFGHI')"
   ]
  },
  {
   "cell_type": "code",
   "execution_count": 12,
   "metadata": {},
   "outputs": [
    {
     "data": {
      "text/plain": [
       "Index(['A', 'B', 'C', 'D', 'E', 'F', 'G', 'H', 'I'], dtype='object')"
      ]
     },
     "execution_count": 12,
     "metadata": {},
     "output_type": "execute_result"
    }
   ],
   "source": [
    "dftmp.columns"
   ]
  },
  {
   "cell_type": "markdown",
   "metadata": {},
   "source": [
    "Or for a specific column:"
   ]
  },
  {
   "cell_type": "code",
   "execution_count": 13,
   "metadata": {},
   "outputs": [],
   "source": [
    "dftmp = dftmp.rename(columns={'A':'Id'})"
   ]
  },
  {
   "cell_type": "code",
   "execution_count": 14,
   "metadata": {},
   "outputs": [
    {
     "data": {
      "text/html": [
       "<div>\n",
       "<style scoped>\n",
       "    .dataframe tbody tr th:only-of-type {\n",
       "        vertical-align: middle;\n",
       "    }\n",
       "\n",
       "    .dataframe tbody tr th {\n",
       "        vertical-align: top;\n",
       "    }\n",
       "\n",
       "    .dataframe thead th {\n",
       "        text-align: right;\n",
       "    }\n",
       "</style>\n",
       "<table border=\"1\" class=\"dataframe\">\n",
       "  <thead>\n",
       "    <tr style=\"text-align: right;\">\n",
       "      <th></th>\n",
       "      <th>Id</th>\n",
       "      <th>B</th>\n",
       "      <th>C</th>\n",
       "      <th>D</th>\n",
       "      <th>E</th>\n",
       "      <th>F</th>\n",
       "      <th>G</th>\n",
       "      <th>H</th>\n",
       "      <th>I</th>\n",
       "    </tr>\n",
       "  </thead>\n",
       "  <tbody>\n",
       "    <tr>\n",
       "      <th>0</th>\n",
       "      <td>5286965.0</td>\n",
       "      <td>52.0</td>\n",
       "      <td>2.5</td>\n",
       "      <td>flat</td>\n",
       "      <td>Route Aloys-Fauquez 124, 1018 Lausanne, VD</td>\n",
       "      <td>Agréable 2 pièces proche de toutes les commodités</td>\n",
       "      <td>1460.0</td>\n",
       "      <td>New</td>\n",
       "      <td>/en/d/flat-rent-lausanne/5286965?s=2&amp;t=1&amp;l=202...</td>\n",
       "    </tr>\n",
       "    <tr>\n",
       "      <th>1</th>\n",
       "      <td>5277530.0</td>\n",
       "      <td>80.0</td>\n",
       "      <td>3.0</td>\n",
       "      <td>flat</td>\n",
       "      <td>Avenue de Béthusy 53, 1012 Lausanne, VD</td>\n",
       "      <td>Proche du centre ville</td>\n",
       "      <td>2100.0</td>\n",
       "      <td>NaN</td>\n",
       "      <td>/en/d/flat-rent-lausanne/5277530?s=2&amp;t=1&amp;l=202...</td>\n",
       "    </tr>\n",
       "    <tr>\n",
       "      <th>2</th>\n",
       "      <td>5249019.0</td>\n",
       "      <td>74.0</td>\n",
       "      <td>3.5</td>\n",
       "      <td>stepped-apartment</td>\n",
       "      <td>Route des Plaines-du-Loup 42, 1018 Lausanne, VD</td>\n",
       "      <td>Magnifique 3,5 pièces avec jardin privé -Immeu...</td>\n",
       "      <td>2150.0</td>\n",
       "      <td>Highlight</td>\n",
       "      <td>/en/d/stepped-apartment-rent-lausanne/5249019?...</td>\n",
       "    </tr>\n",
       "    <tr>\n",
       "      <th>3</th>\n",
       "      <td>5274375.0</td>\n",
       "      <td>108.0</td>\n",
       "      <td>3.5</td>\n",
       "      <td>duplex-maisonette</td>\n",
       "      <td>Route de Prilly 12, 1004 Lausanne, VD</td>\n",
       "      <td>Magnifique logement en duplex entièrement neuf</td>\n",
       "      <td>3160.0</td>\n",
       "      <td>NaN</td>\n",
       "      <td>/en/d/duplex-maisonette-rent-lausanne/5274375?...</td>\n",
       "    </tr>\n",
       "    <tr>\n",
       "      <th>4</th>\n",
       "      <td>5274374.0</td>\n",
       "      <td>80.0</td>\n",
       "      <td>3.5</td>\n",
       "      <td>flat</td>\n",
       "      <td>Route de Prilly 12, 1004 Lausanne, VD</td>\n",
       "      <td>Nouveaux logements</td>\n",
       "      <td>2085.0</td>\n",
       "      <td>NaN</td>\n",
       "      <td>/en/d/flat-rent-lausanne/5274374?s=2&amp;t=1&amp;l=202...</td>\n",
       "    </tr>\n",
       "  </tbody>\n",
       "</table>\n",
       "</div>"
      ],
      "text/plain": [
       "          Id      B    C                  D  \\\n",
       "0  5286965.0   52.0  2.5               flat   \n",
       "1  5277530.0   80.0  3.0               flat   \n",
       "2  5249019.0   74.0  3.5  stepped-apartment   \n",
       "3  5274375.0  108.0  3.5  duplex-maisonette   \n",
       "4  5274374.0   80.0  3.5               flat   \n",
       "\n",
       "                                                 E  \\\n",
       "0       Route Aloys-Fauquez 124, 1018 Lausanne, VD   \n",
       "1          Avenue de Béthusy 53, 1012 Lausanne, VD   \n",
       "2  Route des Plaines-du-Loup 42, 1018 Lausanne, VD   \n",
       "3            Route de Prilly 12, 1004 Lausanne, VD   \n",
       "4            Route de Prilly 12, 1004 Lausanne, VD   \n",
       "\n",
       "                                                   F       G          H  \\\n",
       "0  Agréable 2 pièces proche de toutes les commodités  1460.0        New   \n",
       "1                             Proche du centre ville  2100.0        NaN   \n",
       "2  Magnifique 3,5 pièces avec jardin privé -Immeu...  2150.0  Highlight   \n",
       "3     Magnifique logement en duplex entièrement neuf  3160.0        NaN   \n",
       "4                                 Nouveaux logements  2085.0        NaN   \n",
       "\n",
       "                                                   I  \n",
       "0  /en/d/flat-rent-lausanne/5286965?s=2&t=1&l=202...  \n",
       "1  /en/d/flat-rent-lausanne/5277530?s=2&t=1&l=202...  \n",
       "2  /en/d/stepped-apartment-rent-lausanne/5249019?...  \n",
       "3  /en/d/duplex-maisonette-rent-lausanne/5274375?...  \n",
       "4  /en/d/flat-rent-lausanne/5274374?s=2&t=1&l=202...  "
      ]
     },
     "execution_count": 14,
     "metadata": {},
     "output_type": "execute_result"
    }
   ],
   "source": [
    "dftmp.head()"
   ]
  },
  {
   "cell_type": "markdown",
   "metadata": {},
   "source": [
    "**PySpark**"
   ]
  },
  {
   "cell_type": "code",
   "execution_count": 15,
   "metadata": {},
   "outputs": [
    {
     "data": {
      "text/plain": [
       "DataFrame[A: string, B: string, C: string, D: string, E: string, F: string, G: string, H: string, I: string]"
      ]
     },
     "execution_count": 15,
     "metadata": {},
     "output_type": "execute_result"
    }
   ],
   "source": [
    "dfs.toDF('A', 'B', 'C', 'D', 'E', 'F', 'G', 'H', 'I') # note that the changes in PySpark are immutable"
   ]
  },
  {
   "cell_type": "code",
   "execution_count": 16,
   "metadata": {},
   "outputs": [
    {
     "data": {
      "text/plain": [
       "['Id',\n",
       " 'SurfaceArea',\n",
       " 'NumRooms',\n",
       " 'Type',\n",
       " 'Address',\n",
       " 'Description',\n",
       " 'Rent',\n",
       " 'Bookmark',\n",
       " 'Link']"
      ]
     },
     "execution_count": 16,
     "metadata": {},
     "output_type": "execute_result"
    }
   ],
   "source": [
    "dfs.columns"
   ]
  },
  {
   "cell_type": "code",
   "execution_count": 17,
   "metadata": {},
   "outputs": [
    {
     "data": {
      "text/plain": [
       "DataFrame[A: string, SurfaceArea: string, NumRooms: string, Type: string, Address: string, Description: string, Rent: string, Bookmark: string, Link: string]"
      ]
     },
     "execution_count": 17,
     "metadata": {},
     "output_type": "execute_result"
    }
   ],
   "source": [
    "dfs.withColumnRenamed('Id', 'A') # again immutable"
   ]
  },
  {
   "cell_type": "code",
   "execution_count": 18,
   "metadata": {},
   "outputs": [
    {
     "data": {
      "text/plain": [
       "['Id',\n",
       " 'SurfaceArea',\n",
       " 'NumRooms',\n",
       " 'Type',\n",
       " 'Address',\n",
       " 'Description',\n",
       " 'Rent',\n",
       " 'Bookmark',\n",
       " 'Link']"
      ]
     },
     "execution_count": 18,
     "metadata": {},
     "output_type": "execute_result"
    }
   ],
   "source": [
    "dfs.columns"
   ]
  },
  {
   "cell_type": "markdown",
   "metadata": {},
   "source": [
    "### Drop columns"
   ]
  },
  {
   "cell_type": "markdown",
   "metadata": {},
   "source": [
    "**Pandas**"
   ]
  },
  {
   "cell_type": "code",
   "execution_count": 57,
   "metadata": {},
   "outputs": [
    {
     "data": {
      "text/html": [
       "<div>\n",
       "<style scoped>\n",
       "    .dataframe tbody tr th:only-of-type {\n",
       "        vertical-align: middle;\n",
       "    }\n",
       "\n",
       "    .dataframe tbody tr th {\n",
       "        vertical-align: top;\n",
       "    }\n",
       "\n",
       "    .dataframe thead th {\n",
       "        text-align: right;\n",
       "    }\n",
       "</style>\n",
       "<table border=\"1\" class=\"dataframe\">\n",
       "  <thead>\n",
       "    <tr style=\"text-align: right;\">\n",
       "      <th></th>\n",
       "      <th>SurfaceArea</th>\n",
       "      <th>NumRooms</th>\n",
       "      <th>Type</th>\n",
       "      <th>Address</th>\n",
       "      <th>Description</th>\n",
       "      <th>Rent</th>\n",
       "      <th>Bookmark</th>\n",
       "      <th>Link</th>\n",
       "    </tr>\n",
       "  </thead>\n",
       "  <tbody>\n",
       "    <tr>\n",
       "      <th>0</th>\n",
       "      <td>52.0</td>\n",
       "      <td>2.5</td>\n",
       "      <td>flat</td>\n",
       "      <td>Route Aloys-Fauquez 124, 1018 Lausanne, VD</td>\n",
       "      <td>Agréable 2 pièces proche de toutes les commodités</td>\n",
       "      <td>1460.0</td>\n",
       "      <td>New</td>\n",
       "      <td>/en/d/flat-rent-lausanne/5286965?s=2&amp;t=1&amp;l=202...</td>\n",
       "    </tr>\n",
       "    <tr>\n",
       "      <th>1</th>\n",
       "      <td>80.0</td>\n",
       "      <td>3.0</td>\n",
       "      <td>flat</td>\n",
       "      <td>Avenue de Béthusy 53, 1012 Lausanne, VD</td>\n",
       "      <td>Proche du centre ville</td>\n",
       "      <td>2100.0</td>\n",
       "      <td>NaN</td>\n",
       "      <td>/en/d/flat-rent-lausanne/5277530?s=2&amp;t=1&amp;l=202...</td>\n",
       "    </tr>\n",
       "    <tr>\n",
       "      <th>2</th>\n",
       "      <td>74.0</td>\n",
       "      <td>3.5</td>\n",
       "      <td>stepped-apartment</td>\n",
       "      <td>Route des Plaines-du-Loup 42, 1018 Lausanne, VD</td>\n",
       "      <td>Magnifique 3,5 pièces avec jardin privé -Immeu...</td>\n",
       "      <td>2150.0</td>\n",
       "      <td>Highlight</td>\n",
       "      <td>/en/d/stepped-apartment-rent-lausanne/5249019?...</td>\n",
       "    </tr>\n",
       "    <tr>\n",
       "      <th>3</th>\n",
       "      <td>108.0</td>\n",
       "      <td>3.5</td>\n",
       "      <td>duplex-maisonette</td>\n",
       "      <td>Route de Prilly 12, 1004 Lausanne, VD</td>\n",
       "      <td>Magnifique logement en duplex entièrement neuf</td>\n",
       "      <td>3160.0</td>\n",
       "      <td>NaN</td>\n",
       "      <td>/en/d/duplex-maisonette-rent-lausanne/5274375?...</td>\n",
       "    </tr>\n",
       "    <tr>\n",
       "      <th>4</th>\n",
       "      <td>80.0</td>\n",
       "      <td>3.5</td>\n",
       "      <td>flat</td>\n",
       "      <td>Route de Prilly 12, 1004 Lausanne, VD</td>\n",
       "      <td>Nouveaux logements</td>\n",
       "      <td>2085.0</td>\n",
       "      <td>NaN</td>\n",
       "      <td>/en/d/flat-rent-lausanne/5274374?s=2&amp;t=1&amp;l=202...</td>\n",
       "    </tr>\n",
       "  </tbody>\n",
       "</table>\n",
       "</div>"
      ],
      "text/plain": [
       "   SurfaceArea  NumRooms               Type  \\\n",
       "0         52.0       2.5               flat   \n",
       "1         80.0       3.0               flat   \n",
       "2         74.0       3.5  stepped-apartment   \n",
       "3        108.0       3.5  duplex-maisonette   \n",
       "4         80.0       3.5               flat   \n",
       "\n",
       "                                           Address  \\\n",
       "0       Route Aloys-Fauquez 124, 1018 Lausanne, VD   \n",
       "1          Avenue de Béthusy 53, 1012 Lausanne, VD   \n",
       "2  Route des Plaines-du-Loup 42, 1018 Lausanne, VD   \n",
       "3            Route de Prilly 12, 1004 Lausanne, VD   \n",
       "4            Route de Prilly 12, 1004 Lausanne, VD   \n",
       "\n",
       "                                         Description    Rent   Bookmark  \\\n",
       "0  Agréable 2 pièces proche de toutes les commodités  1460.0        New   \n",
       "1                             Proche du centre ville  2100.0        NaN   \n",
       "2  Magnifique 3,5 pièces avec jardin privé -Immeu...  2150.0  Highlight   \n",
       "3     Magnifique logement en duplex entièrement neuf  3160.0        NaN   \n",
       "4                                 Nouveaux logements  2085.0        NaN   \n",
       "\n",
       "                                                Link  \n",
       "0  /en/d/flat-rent-lausanne/5286965?s=2&t=1&l=202...  \n",
       "1  /en/d/flat-rent-lausanne/5277530?s=2&t=1&l=202...  \n",
       "2  /en/d/stepped-apartment-rent-lausanne/5249019?...  \n",
       "3  /en/d/duplex-maisonette-rent-lausanne/5274375?...  \n",
       "4  /en/d/flat-rent-lausanne/5274374?s=2&t=1&l=202...  "
      ]
     },
     "execution_count": 57,
     "metadata": {},
     "output_type": "execute_result"
    }
   ],
   "source": [
    "df.drop('Id', axis = 1).head() # immutable"
   ]
  },
  {
   "cell_type": "code",
   "execution_count": 59,
   "metadata": {},
   "outputs": [
    {
     "name": "stdout",
     "output_type": "stream",
     "text": [
      "+-----------+--------+-----------------+--------------------+--------------------+------+---------+--------------------+\n",
      "|SurfaceArea|NumRooms|             Type|             Address|         Description|  Rent| Bookmark|                Link|\n",
      "+-----------+--------+-----------------+--------------------+--------------------+------+---------+--------------------+\n",
      "|       52.0|     2.5|             flat|Route Aloys-Fauqu...|Agréable 2 pièces...|1460.0|      New|/en/d/flat-rent-l...|\n",
      "|       80.0|     3.0|             flat|Avenue de Béthusy...|Proche du centre ...|2100.0|     null|/en/d/flat-rent-l...|\n",
      "|       74.0|     3.5|stepped-apartment|Route des Plaines...|Magnifique 3,5 pi...|2150.0|Highlight|/en/d/stepped-apa...|\n",
      "|      108.0|     3.5|duplex-maisonette|Route de Prilly 1...|Magnifique logeme...|3160.0|     null|/en/d/duplex-mais...|\n",
      "|       80.0|     3.5|             flat|Route de Prilly 1...|  Nouveaux logements|2085.0|     null|/en/d/flat-rent-l...|\n",
      "+-----------+--------+-----------------+--------------------+--------------------+------+---------+--------------------+\n",
      "only showing top 5 rows\n",
      "\n"
     ]
    }
   ],
   "source": [
    "dfs.drop('Id').show(5) # immutable"
   ]
  },
  {
   "cell_type": "markdown",
   "metadata": {},
   "source": [
    "### Describe"
   ]
  },
  {
   "cell_type": "markdown",
   "metadata": {},
   "source": [
    "**Pandas**"
   ]
  },
  {
   "cell_type": "code",
   "execution_count": 52,
   "metadata": {},
   "outputs": [
    {
     "data": {
      "text/html": [
       "<div>\n",
       "<style scoped>\n",
       "    .dataframe tbody tr th:only-of-type {\n",
       "        vertical-align: middle;\n",
       "    }\n",
       "\n",
       "    .dataframe tbody tr th {\n",
       "        vertical-align: top;\n",
       "    }\n",
       "\n",
       "    .dataframe thead th {\n",
       "        text-align: right;\n",
       "    }\n",
       "</style>\n",
       "<table border=\"1\" class=\"dataframe\">\n",
       "  <thead>\n",
       "    <tr style=\"text-align: right;\">\n",
       "      <th></th>\n",
       "      <th>Id</th>\n",
       "      <th>SurfaceArea</th>\n",
       "      <th>NumRooms</th>\n",
       "      <th>Rent</th>\n",
       "    </tr>\n",
       "  </thead>\n",
       "  <tbody>\n",
       "    <tr>\n",
       "      <th>count</th>\n",
       "      <td>5.930000e+02</td>\n",
       "      <td>533.000000</td>\n",
       "      <td>491.000000</td>\n",
       "      <td>588.000000</td>\n",
       "    </tr>\n",
       "    <tr>\n",
       "      <th>mean</th>\n",
       "      <td>5.192966e+06</td>\n",
       "      <td>74.628518</td>\n",
       "      <td>3.230143</td>\n",
       "      <td>1993.539116</td>\n",
       "    </tr>\n",
       "    <tr>\n",
       "      <th>std</th>\n",
       "      <td>1.777511e+05</td>\n",
       "      <td>44.516628</td>\n",
       "      <td>1.217218</td>\n",
       "      <td>1013.944446</td>\n",
       "    </tr>\n",
       "    <tr>\n",
       "      <th>min</th>\n",
       "      <td>3.641118e+06</td>\n",
       "      <td>1.000000</td>\n",
       "      <td>1.500000</td>\n",
       "      <td>300.000000</td>\n",
       "    </tr>\n",
       "    <tr>\n",
       "      <th>25%</th>\n",
       "      <td>5.200706e+06</td>\n",
       "      <td>49.000000</td>\n",
       "      <td>2.500000</td>\n",
       "      <td>1358.750000</td>\n",
       "    </tr>\n",
       "    <tr>\n",
       "      <th>50%</th>\n",
       "      <td>5.257101e+06</td>\n",
       "      <td>69.000000</td>\n",
       "      <td>3.000000</td>\n",
       "      <td>1795.000000</td>\n",
       "    </tr>\n",
       "    <tr>\n",
       "      <th>75%</th>\n",
       "      <td>5.277133e+06</td>\n",
       "      <td>96.000000</td>\n",
       "      <td>3.500000</td>\n",
       "      <td>2463.750000</td>\n",
       "    </tr>\n",
       "    <tr>\n",
       "      <th>max</th>\n",
       "      <td>5.288318e+06</td>\n",
       "      <td>540.000000</td>\n",
       "      <td>11.000000</td>\n",
       "      <td>8900.000000</td>\n",
       "    </tr>\n",
       "  </tbody>\n",
       "</table>\n",
       "</div>"
      ],
      "text/plain": [
       "                 Id  SurfaceArea    NumRooms         Rent\n",
       "count  5.930000e+02   533.000000  491.000000   588.000000\n",
       "mean   5.192966e+06    74.628518    3.230143  1993.539116\n",
       "std    1.777511e+05    44.516628    1.217218  1013.944446\n",
       "min    3.641118e+06     1.000000    1.500000   300.000000\n",
       "25%    5.200706e+06    49.000000    2.500000  1358.750000\n",
       "50%    5.257101e+06    69.000000    3.000000  1795.000000\n",
       "75%    5.277133e+06    96.000000    3.500000  2463.750000\n",
       "max    5.288318e+06   540.000000   11.000000  8900.000000"
      ]
     },
     "execution_count": 52,
     "metadata": {},
     "output_type": "execute_result"
    }
   ],
   "source": [
    "df.describe()"
   ]
  },
  {
   "cell_type": "markdown",
   "metadata": {},
   "source": [
    "**PySpark**"
   ]
  },
  {
   "cell_type": "code",
   "execution_count": 61,
   "metadata": {},
   "outputs": [
    {
     "name": "stdout",
     "output_type": "stream",
     "text": [
      "+-------+------------------+-----------------+-----------------+----------+--------------------+--------------------+------------------+--------------------+--------------------+\n",
      "|summary|                Id|      SurfaceArea|         NumRooms|      Type|             Address|         Description|              Rent|            Bookmark|                Link|\n",
      "+-------+------------------+-----------------+-----------------+----------+--------------------+--------------------+------------------+--------------------+--------------------+\n",
      "|  count|               593|              533|              491|       593|                 593|                 585|               587|                  68|                 593|\n",
      "|   mean| 5192965.986509275|74.62851782363977|3.230142566191446|      null|                null|                null|1984.3287904599658|                null|              7400.0|\n",
      "| stddev|177751.12215332632|44.51662793438704| 1.21721821532338|      null|                null|                null| 989.8851120494071|                null|                 NaN|\n",
      "|    min|           3641118|              1.0|              1.5|attic-flat|              \"\"\"-\"\"|       1005 Lausanne|             300.0|## «A louer chamb...|/en/d/attic-flat-...|\n",
      "|    max|           5288318|            540.0|              8.5|    studio|rue saint francoi...|à louer, Appartem...|            8900.0|        Virtual tour|              7400.0|\n",
      "+-------+------------------+-----------------+-----------------+----------+--------------------+--------------------+------------------+--------------------+--------------------+\n",
      "\n"
     ]
    }
   ],
   "source": [
    "dfs.describe().show()"
   ]
  },
  {
   "cell_type": "code",
   "execution_count": 58,
   "metadata": {},
   "outputs": [
    {
     "data": {
      "text/html": [
       "<div>\n",
       "<style scoped>\n",
       "    .dataframe tbody tr th:only-of-type {\n",
       "        vertical-align: middle;\n",
       "    }\n",
       "\n",
       "    .dataframe tbody tr th {\n",
       "        vertical-align: top;\n",
       "    }\n",
       "\n",
       "    .dataframe thead th {\n",
       "        text-align: right;\n",
       "    }\n",
       "</style>\n",
       "<table border=\"1\" class=\"dataframe\">\n",
       "  <thead>\n",
       "    <tr style=\"text-align: right;\">\n",
       "      <th></th>\n",
       "      <th>summary</th>\n",
       "      <th>Id</th>\n",
       "      <th>SurfaceArea</th>\n",
       "      <th>NumRooms</th>\n",
       "      <th>Type</th>\n",
       "      <th>Address</th>\n",
       "      <th>Description</th>\n",
       "      <th>Rent</th>\n",
       "      <th>Bookmark</th>\n",
       "      <th>Link</th>\n",
       "    </tr>\n",
       "  </thead>\n",
       "  <tbody>\n",
       "    <tr>\n",
       "      <th>0</th>\n",
       "      <td>count</td>\n",
       "      <td>593</td>\n",
       "      <td>533</td>\n",
       "      <td>491</td>\n",
       "      <td>593</td>\n",
       "      <td>593</td>\n",
       "      <td>585</td>\n",
       "      <td>587</td>\n",
       "      <td>68</td>\n",
       "      <td>593</td>\n",
       "    </tr>\n",
       "    <tr>\n",
       "      <th>1</th>\n",
       "      <td>mean</td>\n",
       "      <td>5192965.986509275</td>\n",
       "      <td>74.62851782363977</td>\n",
       "      <td>3.230142566191446</td>\n",
       "      <td>None</td>\n",
       "      <td>None</td>\n",
       "      <td>None</td>\n",
       "      <td>1984.3287904599658</td>\n",
       "      <td>None</td>\n",
       "      <td>7400.0</td>\n",
       "    </tr>\n",
       "    <tr>\n",
       "      <th>2</th>\n",
       "      <td>stddev</td>\n",
       "      <td>177751.12215332632</td>\n",
       "      <td>44.51662793438704</td>\n",
       "      <td>1.21721821532338</td>\n",
       "      <td>None</td>\n",
       "      <td>None</td>\n",
       "      <td>None</td>\n",
       "      <td>989.8851120494071</td>\n",
       "      <td>None</td>\n",
       "      <td>NaN</td>\n",
       "    </tr>\n",
       "    <tr>\n",
       "      <th>3</th>\n",
       "      <td>min</td>\n",
       "      <td>3641118</td>\n",
       "      <td>1.0</td>\n",
       "      <td>1.5</td>\n",
       "      <td>attic-flat</td>\n",
       "      <td>\"\"\"-\"\"</td>\n",
       "      <td>1005 Lausanne</td>\n",
       "      <td>300.0</td>\n",
       "      <td>## «A louer chambre à côté du CHUV pour le moi...</td>\n",
       "      <td>/en/d/attic-flat-rent-lausanne/5204786?s=2&amp;t=1...</td>\n",
       "    </tr>\n",
       "    <tr>\n",
       "      <th>4</th>\n",
       "      <td>max</td>\n",
       "      <td>5288318</td>\n",
       "      <td>540.0</td>\n",
       "      <td>8.5</td>\n",
       "      <td>studio</td>\n",
       "      <td>rue saint francois, 1003 Lausanne, VDClose### ...</td>\n",
       "      <td>à louer, Appartement, 1010 Lausanne, Réf 1998728</td>\n",
       "      <td>8900.0</td>\n",
       "      <td>Virtual tour</td>\n",
       "      <td>7400.0</td>\n",
       "    </tr>\n",
       "  </tbody>\n",
       "</table>\n",
       "</div>"
      ],
      "text/plain": [
       "  summary                  Id        SurfaceArea           NumRooms  \\\n",
       "0   count                 593                533                491   \n",
       "1    mean   5192965.986509275  74.62851782363977  3.230142566191446   \n",
       "2  stddev  177751.12215332632  44.51662793438704   1.21721821532338   \n",
       "3     min             3641118                1.0                1.5   \n",
       "4     max             5288318              540.0                8.5   \n",
       "\n",
       "         Type                                            Address  \\\n",
       "0         593                                                593   \n",
       "1        None                                               None   \n",
       "2        None                                               None   \n",
       "3  attic-flat                                             \"\"\"-\"\"   \n",
       "4      studio  rue saint francois, 1003 Lausanne, VDClose### ...   \n",
       "\n",
       "                                        Description                Rent  \\\n",
       "0                                               585                 587   \n",
       "1                                              None  1984.3287904599658   \n",
       "2                                              None   989.8851120494071   \n",
       "3                                     1005 Lausanne               300.0   \n",
       "4  à louer, Appartement, 1010 Lausanne, Réf 1998728              8900.0   \n",
       "\n",
       "                                            Bookmark  \\\n",
       "0                                                 68   \n",
       "1                                               None   \n",
       "2                                               None   \n",
       "3  ## «A louer chambre à côté du CHUV pour le moi...   \n",
       "4                                       Virtual tour   \n",
       "\n",
       "                                                Link  \n",
       "0                                                593  \n",
       "1                                             7400.0  \n",
       "2                                                NaN  \n",
       "3  /en/d/attic-flat-rent-lausanne/5204786?s=2&t=1...  \n",
       "4                                             7400.0  "
      ]
     },
     "execution_count": 58,
     "metadata": {},
     "output_type": "execute_result"
    }
   ],
   "source": [
    "dfs.describe().toPandas()"
   ]
  },
  {
   "cell_type": "markdown",
   "metadata": {},
   "source": [
    "### Slicing (Filtering)"
   ]
  },
  {
   "cell_type": "markdown",
   "metadata": {},
   "source": [
    "**Pandas**"
   ]
  },
  {
   "cell_type": "code",
   "execution_count": 62,
   "metadata": {},
   "outputs": [
    {
     "data": {
      "text/html": [
       "<div>\n",
       "<style scoped>\n",
       "    .dataframe tbody tr th:only-of-type {\n",
       "        vertical-align: middle;\n",
       "    }\n",
       "\n",
       "    .dataframe tbody tr th {\n",
       "        vertical-align: top;\n",
       "    }\n",
       "\n",
       "    .dataframe thead th {\n",
       "        text-align: right;\n",
       "    }\n",
       "</style>\n",
       "<table border=\"1\" class=\"dataframe\">\n",
       "  <thead>\n",
       "    <tr style=\"text-align: right;\">\n",
       "      <th></th>\n",
       "      <th>Id</th>\n",
       "      <th>SurfaceArea</th>\n",
       "      <th>NumRooms</th>\n",
       "      <th>Type</th>\n",
       "      <th>Address</th>\n",
       "      <th>Description</th>\n",
       "      <th>Rent</th>\n",
       "      <th>Bookmark</th>\n",
       "      <th>Link</th>\n",
       "    </tr>\n",
       "  </thead>\n",
       "  <tbody>\n",
       "    <tr>\n",
       "      <th>9</th>\n",
       "      <td>5275170</td>\n",
       "      <td>13.0</td>\n",
       "      <td>NaN</td>\n",
       "      <td>single-room</td>\n",
       "      <td>Av. de Chailly 52, 1012 Lausanne, VD</td>\n",
       "      <td>Pour petit budget - Quartier tranquille proche...</td>\n",
       "      <td>360.0</td>\n",
       "      <td>NaN</td>\n",
       "      <td>/en/d/single-room-rent-lausanne/5275170?s=2&amp;t=...</td>\n",
       "    </tr>\n",
       "    <tr>\n",
       "      <th>10</th>\n",
       "      <td>5212203</td>\n",
       "      <td>13.0</td>\n",
       "      <td>NaN</td>\n",
       "      <td>single-room</td>\n",
       "      <td>Av. de Chailly 52, 1012 Lausanne, VD</td>\n",
       "      <td>Proche de toutes les commodités</td>\n",
       "      <td>380.0</td>\n",
       "      <td>NaN</td>\n",
       "      <td>/en/d/single-room-rent-lausanne/5212203?s=2&amp;t=...</td>\n",
       "    </tr>\n",
       "    <tr>\n",
       "      <th>11</th>\n",
       "      <td>5251291</td>\n",
       "      <td>19.0</td>\n",
       "      <td>NaN</td>\n",
       "      <td>flat</td>\n",
       "      <td>Av. de Riant-Mont 15, 1004 Lausanne, VD</td>\n",
       "      <td>Appartement, 1.0 pièce(s)</td>\n",
       "      <td>637.0</td>\n",
       "      <td>NaN</td>\n",
       "      <td>/en/d/flat-rent-s)»lausanne/5251291?s=2&amp;t=1&amp;l=...</td>\n",
       "    </tr>\n",
       "    <tr>\n",
       "      <th>12</th>\n",
       "      <td>5279333</td>\n",
       "      <td>20.0</td>\n",
       "      <td>NaN</td>\n",
       "      <td>flat</td>\n",
       "      <td>Av. de Tivoli 19Bis, 1007 Lausanne, VD</td>\n",
       "      <td>Appartement, 1.0 pièce(s)</td>\n",
       "      <td>725.0</td>\n",
       "      <td>NaN</td>\n",
       "      <td>/en/d/flat-rent-s)»lausanne/5279333?s=2&amp;t=1&amp;l=...</td>\n",
       "    </tr>\n",
       "    <tr>\n",
       "      <th>13</th>\n",
       "      <td>5280881</td>\n",
       "      <td>27.0</td>\n",
       "      <td>NaN</td>\n",
       "      <td>flat</td>\n",
       "      <td>Isabelle de Montolieu 161, 1010 Lausanne, VD</td>\n",
       "      <td>Haut de la Ville - quartier Vennes - proche de...</td>\n",
       "      <td>780.0</td>\n",
       "      <td>NaN</td>\n",
       "      <td>/en/d/flat-rent-lausanne/5280881?s=2&amp;t=1&amp;l=202...</td>\n",
       "    </tr>\n",
       "  </tbody>\n",
       "</table>\n",
       "</div>"
      ],
      "text/plain": [
       "         Id  SurfaceArea  NumRooms         Type  \\\n",
       "9   5275170         13.0       NaN  single-room   \n",
       "10  5212203         13.0       NaN  single-room   \n",
       "11  5251291         19.0       NaN         flat   \n",
       "12  5279333         20.0       NaN         flat   \n",
       "13  5280881         27.0       NaN         flat   \n",
       "\n",
       "                                         Address  \\\n",
       "9           Av. de Chailly 52, 1012 Lausanne, VD   \n",
       "10          Av. de Chailly 52, 1012 Lausanne, VD   \n",
       "11       Av. de Riant-Mont 15, 1004 Lausanne, VD   \n",
       "12        Av. de Tivoli 19Bis, 1007 Lausanne, VD   \n",
       "13  Isabelle de Montolieu 161, 1010 Lausanne, VD   \n",
       "\n",
       "                                          Description   Rent Bookmark  \\\n",
       "9   Pour petit budget - Quartier tranquille proche...  360.0      NaN   \n",
       "10                    Proche de toutes les commodités  380.0      NaN   \n",
       "11                          Appartement, 1.0 pièce(s)  637.0      NaN   \n",
       "12                          Appartement, 1.0 pièce(s)  725.0      NaN   \n",
       "13  Haut de la Ville - quartier Vennes - proche de...  780.0      NaN   \n",
       "\n",
       "                                                 Link  \n",
       "9   /en/d/single-room-rent-lausanne/5275170?s=2&t=...  \n",
       "10  /en/d/single-room-rent-lausanne/5212203?s=2&t=...  \n",
       "11  /en/d/flat-rent-s)»lausanne/5251291?s=2&t=1&l=...  \n",
       "12  /en/d/flat-rent-s)»lausanne/5279333?s=2&t=1&l=...  \n",
       "13  /en/d/flat-rent-lausanne/5280881?s=2&t=1&l=202...  "
      ]
     },
     "execution_count": 62,
     "metadata": {},
     "output_type": "execute_result"
    }
   ],
   "source": [
    "df[df['SurfaceArea'] < 50].head()"
   ]
  },
  {
   "cell_type": "code",
   "execution_count": 64,
   "metadata": {},
   "outputs": [
    {
     "name": "stdout",
     "output_type": "stream",
     "text": [
      "+-------+-----------+--------+-----------+--------------------+--------------------+-----+--------+--------------------+\n",
      "|     Id|SurfaceArea|NumRooms|       Type|             Address|         Description| Rent|Bookmark|                Link|\n",
      "+-------+-----------+--------+-----------+--------------------+--------------------+-----+--------+--------------------+\n",
      "|5275170|       13.0|    null|single-room|Av. de Chailly 52...|Pour petit budget...|360.0|    null|/en/d/single-room...|\n",
      "|5212203|       13.0|    null|single-room|Av. de Chailly 52...|Proche de toutes ...|380.0|    null|/en/d/single-room...|\n",
      "|5251291|       19.0|    null|       flat|Av. de Riant-Mont...|Appartement, 1.0 ...|637.0|    null|/en/d/flat-rent-s...|\n",
      "|5279333|       20.0|    null|       flat|Av. de Tivoli 19B...|Appartement, 1.0 ...|725.0|    null|/en/d/flat-rent-s...|\n",
      "|5280881|       27.0|    null|       flat|Isabelle de Monto...|Haut de la Ville ...|780.0|    null|/en/d/flat-rent-l...|\n",
      "+-------+-----------+--------+-----------+--------------------+--------------------+-----+--------+--------------------+\n",
      "only showing top 5 rows\n",
      "\n"
     ]
    }
   ],
   "source": [
    "dfs[dfs['SurfaceArea'] < 50].show(5)"
   ]
  },
  {
   "cell_type": "markdown",
   "metadata": {},
   "source": [
    "### Aggregate functions"
   ]
  },
  {
   "cell_type": "markdown",
   "metadata": {},
   "source": [
    "**Pandas**"
   ]
  },
  {
   "cell_type": "code",
   "execution_count": 96,
   "metadata": {},
   "outputs": [
    {
     "data": {
      "text/plain": [
       "1993.539115646258"
      ]
     },
     "execution_count": 96,
     "metadata": {},
     "output_type": "execute_result"
    }
   ],
   "source": [
    "df['Rent'].mean()"
   ]
  },
  {
   "cell_type": "code",
   "execution_count": 108,
   "metadata": {},
   "outputs": [
    {
     "data": {
      "text/plain": [
       "8900.0"
      ]
     },
     "execution_count": 108,
     "metadata": {},
     "output_type": "execute_result"
    }
   ],
   "source": [
    "df['Rent'].max()"
   ]
  },
  {
   "cell_type": "markdown",
   "metadata": {},
   "source": [
    "**PySpark**"
   ]
  },
  {
   "cell_type": "code",
   "execution_count": 98,
   "metadata": {},
   "outputs": [
    {
     "ename": "TypeError",
     "evalue": "'Column' object is not callable",
     "output_type": "error",
     "traceback": [
      "\u001b[0;31m---------------------------------------------------------------------------\u001b[0m",
      "\u001b[0;31mTypeError\u001b[0m                                 Traceback (most recent call last)",
      "\u001b[0;32m<ipython-input-98-31bcc57b9a35>\u001b[0m in \u001b[0;36m<module>\u001b[0;34m()\u001b[0m\n\u001b[0;32m----> 1\u001b[0;31m \u001b[0mdfs\u001b[0m\u001b[0;34m[\u001b[0m\u001b[0;34m'Rent'\u001b[0m\u001b[0;34m]\u001b[0m\u001b[0;34m.\u001b[0m\u001b[0mmean\u001b[0m\u001b[0;34m(\u001b[0m\u001b[0;34m)\u001b[0m\u001b[0;34m\u001b[0m\u001b[0m\n\u001b[0m",
      "\u001b[0;31mTypeError\u001b[0m: 'Column' object is not callable"
     ]
    }
   ],
   "source": [
    "dfs['Rent'].mean()"
   ]
  },
  {
   "cell_type": "markdown",
   "metadata": {},
   "source": [
    "Does not work out the same way! You need to first download the PySpark SQL functions:"
   ]
  },
  {
   "cell_type": "code",
   "execution_count": 99,
   "metadata": {},
   "outputs": [],
   "source": [
    "from pyspark.sql import functions as F"
   ]
  },
  {
   "cell_type": "code",
   "execution_count": 142,
   "metadata": {},
   "outputs": [
    {
     "name": "stdout",
     "output_type": "stream",
     "text": [
      "+------------------+\n",
      "|         avg(Rent)|\n",
      "+------------------+\n",
      "|1984.3287904599658|\n",
      "+------------------+\n",
      "\n"
     ]
    }
   ],
   "source": [
    "dfs.select(F.mean('Rent')).show()"
   ]
  },
  {
   "cell_type": "code",
   "execution_count": 128,
   "metadata": {},
   "outputs": [
    {
     "name": "stdout",
     "output_type": "stream",
     "text": [
      "+---------+\n",
      "|max(Rent)|\n",
      "+---------+\n",
      "|   8900.0|\n",
      "+---------+\n",
      "\n"
     ]
    }
   ],
   "source": [
    "dfs.select(F.max('Rent')).show()"
   ]
  },
  {
   "cell_type": "markdown",
   "metadata": {},
   "source": [
    "If you want to get the value:"
   ]
  },
  {
   "cell_type": "code",
   "execution_count": 165,
   "metadata": {},
   "outputs": [
    {
     "data": {
      "text/plain": [
       "1984.3287904599658"
      ]
     },
     "execution_count": 165,
     "metadata": {},
     "output_type": "execute_result"
    }
   ],
   "source": [
    "value = dfs.select(F.mean('Rent')).collect()[0].asDict()['avg(Rent)']\n",
    "value"
   ]
  },
  {
   "cell_type": "markdown",
   "metadata": {},
   "source": [
    "### Fill Nulls"
   ]
  },
  {
   "cell_type": "markdown",
   "metadata": {},
   "source": [
    "**Pandas**"
   ]
  },
  {
   "cell_type": "code",
   "execution_count": 240,
   "metadata": {},
   "outputs": [],
   "source": [
    "df['Rent'] = df['Rent'].fillna(df['Rent'].mean()) # generally not a good way of filling nan, how about median? How about filling based on correlation with other features? \n",
    "df['NumRooms'] = df['NumRooms'].fillna(df['NumRooms'].mean())"
   ]
  },
  {
   "cell_type": "markdown",
   "metadata": {},
   "source": [
    "**PySpark**"
   ]
  },
  {
   "cell_type": "code",
   "execution_count": 175,
   "metadata": {},
   "outputs": [],
   "source": [
    "dfs = dfs.fillna(value, subset=['Rent'])"
   ]
  },
  {
   "cell_type": "code",
   "execution_count": 252,
   "metadata": {},
   "outputs": [],
   "source": [
    "value_numrooms = dfs.select(F.mean('NumRooms')).collect()[0].asDict()['avg(NumRooms)']"
   ]
  },
  {
   "cell_type": "code",
   "execution_count": 253,
   "metadata": {},
   "outputs": [],
   "source": [
    "dfs = dfs.fillna(value_numrooms, subset=['NumRooms'])"
   ]
  },
  {
   "cell_type": "markdown",
   "metadata": {},
   "source": [
    "### Group by (Aggregation)"
   ]
  },
  {
   "cell_type": "code",
   "execution_count": 191,
   "metadata": {},
   "outputs": [
    {
     "data": {
      "text/plain": [
       "DataFrame[NumRooms: float, avg(Rent): double]"
      ]
     },
     "execution_count": 191,
     "metadata": {},
     "output_type": "execute_result"
    }
   ],
   "source": [
    "dfs.groupby('NumRooms').agg({'Rent':'mean'})"
   ]
  },
  {
   "cell_type": "code",
   "execution_count": 194,
   "metadata": {},
   "outputs": [
    {
     "name": "stdout",
     "output_type": "stream",
     "text": [
      "+--------+------------------+------------------+\n",
      "|NumRooms|  avg(SurfaceArea)|         avg(Rent)|\n",
      "+--------+------------------+------------------+\n",
      "|    null| 36.81521739130435|  1207.88557583678|\n",
      "|     1.5| 37.22222222222222|1346.9545454545455|\n",
      "|     2.0| 52.04705882352941|1537.9928588867188|\n",
      "|     2.5| 58.81818181818182| 1699.888888888889|\n",
      "|     3.0| 76.13461538461539|1933.7298057819235|\n",
      "|     3.5| 87.02884615384616|2279.8491953974185|\n",
      "|     4.0| 104.3529411764706|2839.9411764705883|\n",
      "|     4.5|111.37878787878788| 2882.246376811594|\n",
      "|     5.0|128.41666666666666|2624.1428571428573|\n",
      "|     5.5|125.35714285714286| 3177.714285714286|\n",
      "|     6.0|             150.0|            2244.0|\n",
      "|     7.0|             156.0|            4050.0|\n",
      "|     8.5|             238.0|4931.4429117838545|\n",
      "|    11.0|             481.5|            8900.0|\n",
      "+--------+------------------+------------------+\n",
      "\n"
     ]
    }
   ],
   "source": [
    "dfs.groupby(['NumRooms']).agg({'Rent': 'mean', 'SurfaceArea': 'mean'}).sort('NumRooms').show()"
   ]
  },
  {
   "cell_type": "markdown",
   "metadata": {},
   "source": [
    "### Transformations"
   ]
  },
  {
   "cell_type": "markdown",
   "metadata": {},
   "source": [
    "**Pandas**"
   ]
  },
  {
   "cell_type": "code",
   "execution_count": 195,
   "metadata": {},
   "outputs": [],
   "source": [
    "import numpy as np"
   ]
  },
  {
   "cell_type": "code",
   "execution_count": 197,
   "metadata": {},
   "outputs": [],
   "source": [
    "df['logRent'] = np.log(df['Rent'])"
   ]
  },
  {
   "cell_type": "code",
   "execution_count": 201,
   "metadata": {},
   "outputs": [
    {
     "data": {
      "text/html": [
       "<div>\n",
       "<style scoped>\n",
       "    .dataframe tbody tr th:only-of-type {\n",
       "        vertical-align: middle;\n",
       "    }\n",
       "\n",
       "    .dataframe tbody tr th {\n",
       "        vertical-align: top;\n",
       "    }\n",
       "\n",
       "    .dataframe thead th {\n",
       "        text-align: right;\n",
       "    }\n",
       "</style>\n",
       "<table border=\"1\" class=\"dataframe\">\n",
       "  <thead>\n",
       "    <tr style=\"text-align: right;\">\n",
       "      <th></th>\n",
       "      <th>Id</th>\n",
       "      <th>SurfaceArea</th>\n",
       "      <th>NumRooms</th>\n",
       "      <th>Type</th>\n",
       "      <th>Address</th>\n",
       "      <th>Description</th>\n",
       "      <th>Rent</th>\n",
       "      <th>Bookmark</th>\n",
       "      <th>Link</th>\n",
       "      <th>logRent</th>\n",
       "    </tr>\n",
       "  </thead>\n",
       "  <tbody>\n",
       "    <tr>\n",
       "      <th>0</th>\n",
       "      <td>5286965</td>\n",
       "      <td>52.0</td>\n",
       "      <td>2.5</td>\n",
       "      <td>flat</td>\n",
       "      <td>Route Aloys-Fauquez 124, 1018 Lausanne, VD</td>\n",
       "      <td>Agréable 2 pièces proche de toutes les commodités</td>\n",
       "      <td>1460.0</td>\n",
       "      <td>New</td>\n",
       "      <td>/en/d/flat-rent-lausanne/5286965?s=2&amp;t=1&amp;l=202...</td>\n",
       "      <td>7.286192</td>\n",
       "    </tr>\n",
       "    <tr>\n",
       "      <th>1</th>\n",
       "      <td>5277530</td>\n",
       "      <td>80.0</td>\n",
       "      <td>3.0</td>\n",
       "      <td>flat</td>\n",
       "      <td>Avenue de Béthusy 53, 1012 Lausanne, VD</td>\n",
       "      <td>Proche du centre ville</td>\n",
       "      <td>2100.0</td>\n",
       "      <td>NaN</td>\n",
       "      <td>/en/d/flat-rent-lausanne/5277530?s=2&amp;t=1&amp;l=202...</td>\n",
       "      <td>7.649693</td>\n",
       "    </tr>\n",
       "    <tr>\n",
       "      <th>2</th>\n",
       "      <td>5249019</td>\n",
       "      <td>74.0</td>\n",
       "      <td>3.5</td>\n",
       "      <td>stepped-apartment</td>\n",
       "      <td>Route des Plaines-du-Loup 42, 1018 Lausanne, VD</td>\n",
       "      <td>Magnifique 3,5 pièces avec jardin privé -Immeu...</td>\n",
       "      <td>2150.0</td>\n",
       "      <td>Highlight</td>\n",
       "      <td>/en/d/stepped-apartment-rent-lausanne/5249019?...</td>\n",
       "      <td>7.673223</td>\n",
       "    </tr>\n",
       "    <tr>\n",
       "      <th>3</th>\n",
       "      <td>5274375</td>\n",
       "      <td>108.0</td>\n",
       "      <td>3.5</td>\n",
       "      <td>duplex-maisonette</td>\n",
       "      <td>Route de Prilly 12, 1004 Lausanne, VD</td>\n",
       "      <td>Magnifique logement en duplex entièrement neuf</td>\n",
       "      <td>3160.0</td>\n",
       "      <td>NaN</td>\n",
       "      <td>/en/d/duplex-maisonette-rent-lausanne/5274375?...</td>\n",
       "      <td>8.058327</td>\n",
       "    </tr>\n",
       "    <tr>\n",
       "      <th>4</th>\n",
       "      <td>5274374</td>\n",
       "      <td>80.0</td>\n",
       "      <td>3.5</td>\n",
       "      <td>flat</td>\n",
       "      <td>Route de Prilly 12, 1004 Lausanne, VD</td>\n",
       "      <td>Nouveaux logements</td>\n",
       "      <td>2085.0</td>\n",
       "      <td>NaN</td>\n",
       "      <td>/en/d/flat-rent-lausanne/5274374?s=2&amp;t=1&amp;l=202...</td>\n",
       "      <td>7.642524</td>\n",
       "    </tr>\n",
       "  </tbody>\n",
       "</table>\n",
       "</div>"
      ],
      "text/plain": [
       "        Id  SurfaceArea  NumRooms               Type  \\\n",
       "0  5286965         52.0       2.5               flat   \n",
       "1  5277530         80.0       3.0               flat   \n",
       "2  5249019         74.0       3.5  stepped-apartment   \n",
       "3  5274375        108.0       3.5  duplex-maisonette   \n",
       "4  5274374         80.0       3.5               flat   \n",
       "\n",
       "                                           Address  \\\n",
       "0       Route Aloys-Fauquez 124, 1018 Lausanne, VD   \n",
       "1          Avenue de Béthusy 53, 1012 Lausanne, VD   \n",
       "2  Route des Plaines-du-Loup 42, 1018 Lausanne, VD   \n",
       "3            Route de Prilly 12, 1004 Lausanne, VD   \n",
       "4            Route de Prilly 12, 1004 Lausanne, VD   \n",
       "\n",
       "                                         Description    Rent   Bookmark  \\\n",
       "0  Agréable 2 pièces proche de toutes les commodités  1460.0        New   \n",
       "1                             Proche du centre ville  2100.0        NaN   \n",
       "2  Magnifique 3,5 pièces avec jardin privé -Immeu...  2150.0  Highlight   \n",
       "3     Magnifique logement en duplex entièrement neuf  3160.0        NaN   \n",
       "4                                 Nouveaux logements  2085.0        NaN   \n",
       "\n",
       "                                                Link   logRent  \n",
       "0  /en/d/flat-rent-lausanne/5286965?s=2&t=1&l=202...  7.286192  \n",
       "1  /en/d/flat-rent-lausanne/5277530?s=2&t=1&l=202...  7.649693  \n",
       "2  /en/d/stepped-apartment-rent-lausanne/5249019?...  7.673223  \n",
       "3  /en/d/duplex-maisonette-rent-lausanne/5274375?...  8.058327  \n",
       "4  /en/d/flat-rent-lausanne/5274374?s=2&t=1&l=202...  7.642524  "
      ]
     },
     "execution_count": 201,
     "metadata": {},
     "output_type": "execute_result"
    }
   ],
   "source": [
    "df.head()"
   ]
  },
  {
   "cell_type": "markdown",
   "metadata": {},
   "source": [
    "**PySpark**"
   ]
  },
  {
   "cell_type": "code",
   "execution_count": 196,
   "metadata": {},
   "outputs": [],
   "source": [
    "import pyspark.sql.functions as F"
   ]
  },
  {
   "cell_type": "code",
   "execution_count": 203,
   "metadata": {},
   "outputs": [],
   "source": [
    "dfs = dfs.withColumn('logRent', F.log(dfs['Rent']))"
   ]
  },
  {
   "cell_type": "code",
   "execution_count": 200,
   "metadata": {},
   "outputs": [
    {
     "name": "stdout",
     "output_type": "stream",
     "text": [
      "+-------+-----------+--------+--------------------+--------------------+--------------------+------+---------+--------------------+-----------------+\n",
      "|     Id|SurfaceArea|NumRooms|                Type|             Address|         Description|  Rent| Bookmark|                Link|          logRent|\n",
      "+-------+-----------+--------+--------------------+--------------------+--------------------+------+---------+--------------------+-----------------+\n",
      "|5286965|       52.0|     2.5|                flat|Route Aloys-Fauqu...|Agréable 2 pièces...|1460.0|      New|/en/d/flat-rent-l...|7.286191714702382|\n",
      "|5277530|       80.0|     3.0|                flat|Avenue de Béthusy...|Proche du centre ...|2100.0|     null|/en/d/flat-rent-l...|7.649692623711514|\n",
      "|5249019|       74.0|     3.5|   stepped-apartment|Route des Plaines...|Magnifique 3,5 pi...|2150.0|Highlight|/en/d/stepped-apa...|7.673223121121708|\n",
      "|5274375|      108.0|     3.5|   duplex-maisonette|Route de Prilly 1...|Magnifique logeme...|3160.0|     null|/en/d/duplex-mais...|8.058327306580958|\n",
      "|5274374|       80.0|     3.5|                flat|Route de Prilly 1...|  Nouveaux logements|2085.0|     null|/en/d/flat-rent-l...|7.642524134232902|\n",
      "|5278160|       55.0|     2.5|                flat|Route Aloys-Fauqu...|Grand 2,5 pièces ...|1450.0|     null|/en/d/flat-rent-l...| 7.27931883541462|\n",
      "|5277696|      128.0|     3.5|   duplex-maisonette|Rue du Bourg 15, ...|Superbe duplex à ...|3000.0|     null|/en/d/duplex-mais...|8.006367567650246|\n",
      "|5256077|      130.0|     4.5|           penthouse|Avenue Druey 13, ...|Belle Attique Rén...|4580.0|     null|/en/d/penthouse-r...|8.429454277108231|\n",
      "|5134449|      123.0|     4.5|                flat|Chemin de Pierref...|Appartement 4.5 p...|2950.0|     null|/en/d/flat-rent-l...|7.989560449333865|\n",
      "|5275170|       13.0|    null|         single-room|Av. de Chailly 52...|Pour petit budget...| 360.0|     null|/en/d/single-room...|5.886104031450156|\n",
      "|5212203|       13.0|    null|         single-room|Av. de Chailly 52...|Proche de toutes ...| 380.0|     null|/en/d/single-room...|5.940171252720432|\n",
      "|5251291|       19.0|    null|                flat|Av. de Riant-Mont...|Appartement, 1.0 ...| 637.0|     null|/en/d/flat-rent-s...|6.456769655572163|\n",
      "|5279333|       20.0|    null|                flat|Av. de Tivoli 19B...|Appartement, 1.0 ...| 725.0|     null|/en/d/flat-rent-s...|6.586171654854675|\n",
      "|5280881|       27.0|    null|                flat|Isabelle de Monto...|Haut de la Ville ...| 780.0|     null|/en/d/flat-rent-l...|6.659293919683638|\n",
      "|5286962|       21.0|    null|                flat|Rue St-Martin 28,...|Votre nouveau che...| 840.0|      New|/en/d/flat-rent-l...|6.733401891837359|\n",
      "|5280449|       24.0|    null|                flat|Avenue Sainte-Luc...|Lausanne, studio ...| 850.0|     null|/en/d/flat-rent-l...|6.745236349484363|\n",
      "|4939726|       18.0|    null|         single-room|Chemin de Montoli...|1006 Lausanne - M...| 860.0|     null|/en/d/single-room...|6.756932389247553|\n",
      "|5085420|       29.0|    null|                flat|Ch. du Devin 64, ...|Grand studio au c...| 940.0|     null|/en/d/flat-rent-l...| 6.84587987526405|\n",
      "|5234626|       33.0|    null|              studio|Chemin de Boston ...|Spacieux et fonct...|1030.0|     null|/en/d/studio-rent...|6.937314081223682|\n",
      "|5189187|       14.0|    null|furnished-residen...|Avenue de Menthon...|Avenue de Menthon...|1050.0|     null|/en/d/furnished-r...|6.956545443151569|\n",
      "+-------+-----------+--------+--------------------+--------------------+--------------------+------+---------+--------------------+-----------------+\n",
      "only showing top 20 rows\n",
      "\n"
     ]
    }
   ],
   "source": [
    "dfs.show()"
   ]
  },
  {
   "cell_type": "markdown",
   "metadata": {},
   "source": [
    "**Note**: pyspark.sql.functions perform fast computations as the whole calcluations are doen in JVM! "
   ]
  },
  {
   "cell_type": "markdown",
   "metadata": {},
   "source": [
    "### User-defined functions"
   ]
  },
  {
   "cell_type": "code",
   "execution_count": 208,
   "metadata": {},
   "outputs": [],
   "source": [
    "df['NumRoomsOnly'] = df['NumRooms'].apply(lambda x: x - 1)"
   ]
  },
  {
   "cell_type": "code",
   "execution_count": 209,
   "metadata": {},
   "outputs": [
    {
     "data": {
      "text/html": [
       "<div>\n",
       "<style scoped>\n",
       "    .dataframe tbody tr th:only-of-type {\n",
       "        vertical-align: middle;\n",
       "    }\n",
       "\n",
       "    .dataframe tbody tr th {\n",
       "        vertical-align: top;\n",
       "    }\n",
       "\n",
       "    .dataframe thead th {\n",
       "        text-align: right;\n",
       "    }\n",
       "</style>\n",
       "<table border=\"1\" class=\"dataframe\">\n",
       "  <thead>\n",
       "    <tr style=\"text-align: right;\">\n",
       "      <th></th>\n",
       "      <th>Id</th>\n",
       "      <th>SurfaceArea</th>\n",
       "      <th>NumRooms</th>\n",
       "      <th>Type</th>\n",
       "      <th>Address</th>\n",
       "      <th>Description</th>\n",
       "      <th>Rent</th>\n",
       "      <th>Bookmark</th>\n",
       "      <th>Link</th>\n",
       "      <th>logRent</th>\n",
       "      <th>NumRoomsOnly</th>\n",
       "    </tr>\n",
       "  </thead>\n",
       "  <tbody>\n",
       "    <tr>\n",
       "      <th>0</th>\n",
       "      <td>5286965</td>\n",
       "      <td>52.0</td>\n",
       "      <td>2.5</td>\n",
       "      <td>flat</td>\n",
       "      <td>Route Aloys-Fauquez 124, 1018 Lausanne, VD</td>\n",
       "      <td>Agréable 2 pièces proche de toutes les commodités</td>\n",
       "      <td>1460.0</td>\n",
       "      <td>New</td>\n",
       "      <td>/en/d/flat-rent-lausanne/5286965?s=2&amp;t=1&amp;l=202...</td>\n",
       "      <td>7.286192</td>\n",
       "      <td>1.5</td>\n",
       "    </tr>\n",
       "    <tr>\n",
       "      <th>1</th>\n",
       "      <td>5277530</td>\n",
       "      <td>80.0</td>\n",
       "      <td>3.0</td>\n",
       "      <td>flat</td>\n",
       "      <td>Avenue de Béthusy 53, 1012 Lausanne, VD</td>\n",
       "      <td>Proche du centre ville</td>\n",
       "      <td>2100.0</td>\n",
       "      <td>NaN</td>\n",
       "      <td>/en/d/flat-rent-lausanne/5277530?s=2&amp;t=1&amp;l=202...</td>\n",
       "      <td>7.649693</td>\n",
       "      <td>2.0</td>\n",
       "    </tr>\n",
       "    <tr>\n",
       "      <th>2</th>\n",
       "      <td>5249019</td>\n",
       "      <td>74.0</td>\n",
       "      <td>3.5</td>\n",
       "      <td>stepped-apartment</td>\n",
       "      <td>Route des Plaines-du-Loup 42, 1018 Lausanne, VD</td>\n",
       "      <td>Magnifique 3,5 pièces avec jardin privé -Immeu...</td>\n",
       "      <td>2150.0</td>\n",
       "      <td>Highlight</td>\n",
       "      <td>/en/d/stepped-apartment-rent-lausanne/5249019?...</td>\n",
       "      <td>7.673223</td>\n",
       "      <td>2.5</td>\n",
       "    </tr>\n",
       "    <tr>\n",
       "      <th>3</th>\n",
       "      <td>5274375</td>\n",
       "      <td>108.0</td>\n",
       "      <td>3.5</td>\n",
       "      <td>duplex-maisonette</td>\n",
       "      <td>Route de Prilly 12, 1004 Lausanne, VD</td>\n",
       "      <td>Magnifique logement en duplex entièrement neuf</td>\n",
       "      <td>3160.0</td>\n",
       "      <td>NaN</td>\n",
       "      <td>/en/d/duplex-maisonette-rent-lausanne/5274375?...</td>\n",
       "      <td>8.058327</td>\n",
       "      <td>2.5</td>\n",
       "    </tr>\n",
       "    <tr>\n",
       "      <th>4</th>\n",
       "      <td>5274374</td>\n",
       "      <td>80.0</td>\n",
       "      <td>3.5</td>\n",
       "      <td>flat</td>\n",
       "      <td>Route de Prilly 12, 1004 Lausanne, VD</td>\n",
       "      <td>Nouveaux logements</td>\n",
       "      <td>2085.0</td>\n",
       "      <td>NaN</td>\n",
       "      <td>/en/d/flat-rent-lausanne/5274374?s=2&amp;t=1&amp;l=202...</td>\n",
       "      <td>7.642524</td>\n",
       "      <td>2.5</td>\n",
       "    </tr>\n",
       "  </tbody>\n",
       "</table>\n",
       "</div>"
      ],
      "text/plain": [
       "        Id  SurfaceArea  NumRooms               Type  \\\n",
       "0  5286965         52.0       2.5               flat   \n",
       "1  5277530         80.0       3.0               flat   \n",
       "2  5249019         74.0       3.5  stepped-apartment   \n",
       "3  5274375        108.0       3.5  duplex-maisonette   \n",
       "4  5274374         80.0       3.5               flat   \n",
       "\n",
       "                                           Address  \\\n",
       "0       Route Aloys-Fauquez 124, 1018 Lausanne, VD   \n",
       "1          Avenue de Béthusy 53, 1012 Lausanne, VD   \n",
       "2  Route des Plaines-du-Loup 42, 1018 Lausanne, VD   \n",
       "3            Route de Prilly 12, 1004 Lausanne, VD   \n",
       "4            Route de Prilly 12, 1004 Lausanne, VD   \n",
       "\n",
       "                                         Description    Rent   Bookmark  \\\n",
       "0  Agréable 2 pièces proche de toutes les commodités  1460.0        New   \n",
       "1                             Proche du centre ville  2100.0        NaN   \n",
       "2  Magnifique 3,5 pièces avec jardin privé -Immeu...  2150.0  Highlight   \n",
       "3     Magnifique logement en duplex entièrement neuf  3160.0        NaN   \n",
       "4                                 Nouveaux logements  2085.0        NaN   \n",
       "\n",
       "                                                Link   logRent  NumRoomsOnly  \n",
       "0  /en/d/flat-rent-lausanne/5286965?s=2&t=1&l=202...  7.286192           1.5  \n",
       "1  /en/d/flat-rent-lausanne/5277530?s=2&t=1&l=202...  7.649693           2.0  \n",
       "2  /en/d/stepped-apartment-rent-lausanne/5249019?...  7.673223           2.5  \n",
       "3  /en/d/duplex-maisonette-rent-lausanne/5274375?...  8.058327           2.5  \n",
       "4  /en/d/flat-rent-lausanne/5274374?s=2&t=1&l=202...  7.642524           2.5  "
      ]
     },
     "execution_count": 209,
     "metadata": {},
     "output_type": "execute_result"
    }
   ],
   "source": [
    "df.head()"
   ]
  },
  {
   "cell_type": "code",
   "execution_count": 220,
   "metadata": {},
   "outputs": [],
   "source": [
    "from pyspark.sql.types import FloatType"
   ]
  },
  {
   "cell_type": "code",
   "execution_count": 221,
   "metadata": {},
   "outputs": [],
   "source": [
    "myFun = F.udf(lambda x: x - 1, returnType=FloatType())"
   ]
  },
  {
   "cell_type": "code",
   "execution_count": 254,
   "metadata": {},
   "outputs": [],
   "source": [
    "dfs2 = dfs.withColumn('NumRoomsOnly', myFun(dfs['NumRooms'])) # Note that if you don't fillna you get an error when you collect the data i.e. in the next line! "
   ]
  },
  {
   "cell_type": "code",
   "execution_count": 255,
   "metadata": {},
   "outputs": [
    {
     "name": "stdout",
     "output_type": "stream",
     "text": [
      "+-------+-----------+---------+--------------------+--------------------+--------------------+------+---------+--------------------+------------+\n",
      "|     Id|SurfaceArea| NumRooms|                Type|             Address|         Description|  Rent| Bookmark|                Link|NumRoomsOnly|\n",
      "+-------+-----------+---------+--------------------+--------------------+--------------------+------+---------+--------------------+------------+\n",
      "|5286965|       52.0|      2.5|                flat|Route Aloys-Fauqu...|Agréable 2 pièces...|1460.0|      New|/en/d/flat-rent-l...|         1.5|\n",
      "|5277530|       80.0|      3.0|                flat|Avenue de Béthusy...|Proche du centre ...|2100.0|     null|/en/d/flat-rent-l...|         2.0|\n",
      "|5249019|       74.0|      3.5|   stepped-apartment|Route des Plaines...|Magnifique 3,5 pi...|2150.0|Highlight|/en/d/stepped-apa...|         2.5|\n",
      "|5274375|      108.0|      3.5|   duplex-maisonette|Route de Prilly 1...|Magnifique logeme...|3160.0|     null|/en/d/duplex-mais...|         2.5|\n",
      "|5274374|       80.0|      3.5|                flat|Route de Prilly 1...|  Nouveaux logements|2085.0|     null|/en/d/flat-rent-l...|         2.5|\n",
      "|5278160|       55.0|      2.5|                flat|Route Aloys-Fauqu...|Grand 2,5 pièces ...|1450.0|     null|/en/d/flat-rent-l...|         1.5|\n",
      "|5277696|      128.0|      3.5|   duplex-maisonette|Rue du Bourg 15, ...|Superbe duplex à ...|3000.0|     null|/en/d/duplex-mais...|         2.5|\n",
      "|5256077|      130.0|      4.5|           penthouse|Avenue Druey 13, ...|Belle Attique Rén...|4580.0|     null|/en/d/penthouse-r...|         3.5|\n",
      "|5134449|      123.0|      4.5|                flat|Chemin de Pierref...|Appartement 4.5 p...|2950.0|     null|/en/d/flat-rent-l...|         3.5|\n",
      "|5275170|       13.0|3.2301426|         single-room|Av. de Chailly 52...|Pour petit budget...| 360.0|     null|/en/d/single-room...|   2.2301426|\n",
      "|5212203|       13.0|3.2301426|         single-room|Av. de Chailly 52...|Proche de toutes ...| 380.0|     null|/en/d/single-room...|   2.2301426|\n",
      "|5251291|       19.0|3.2301426|                flat|Av. de Riant-Mont...|Appartement, 1.0 ...| 637.0|     null|/en/d/flat-rent-s...|   2.2301426|\n",
      "|5279333|       20.0|3.2301426|                flat|Av. de Tivoli 19B...|Appartement, 1.0 ...| 725.0|     null|/en/d/flat-rent-s...|   2.2301426|\n",
      "|5280881|       27.0|3.2301426|                flat|Isabelle de Monto...|Haut de la Ville ...| 780.0|     null|/en/d/flat-rent-l...|   2.2301426|\n",
      "|5286962|       21.0|3.2301426|                flat|Rue St-Martin 28,...|Votre nouveau che...| 840.0|      New|/en/d/flat-rent-l...|   2.2301426|\n",
      "|5280449|       24.0|3.2301426|                flat|Avenue Sainte-Luc...|Lausanne, studio ...| 850.0|     null|/en/d/flat-rent-l...|   2.2301426|\n",
      "|4939726|       18.0|3.2301426|         single-room|Chemin de Montoli...|1006 Lausanne - M...| 860.0|     null|/en/d/single-room...|   2.2301426|\n",
      "|5085420|       29.0|3.2301426|                flat|Ch. du Devin 64, ...|Grand studio au c...| 940.0|     null|/en/d/flat-rent-l...|   2.2301426|\n",
      "|5234626|       33.0|3.2301426|              studio|Chemin de Boston ...|Spacieux et fonct...|1030.0|     null|/en/d/studio-rent...|   2.2301426|\n",
      "|5189187|       14.0|3.2301426|furnished-residen...|Avenue de Menthon...|Avenue de Menthon...|1050.0|     null|/en/d/furnished-r...|   2.2301426|\n",
      "+-------+-----------+---------+--------------------+--------------------+--------------------+------+---------+--------------------+------------+\n",
      "only showing top 20 rows\n",
      "\n"
     ]
    }
   ],
   "source": [
    "dfs2.show()"
   ]
  },
  {
   "cell_type": "code",
   "execution_count": null,
   "metadata": {},
   "outputs": [],
   "source": []
  }
 ],
 "metadata": {
  "kernelspec": {
   "display_name": "Python 3",
   "language": "python",
   "name": "python3"
  },
  "language_info": {
   "codemirror_mode": {
    "name": "ipython",
    "version": 3
   },
   "file_extension": ".py",
   "mimetype": "text/x-python",
   "name": "python",
   "nbconvert_exporter": "python",
   "pygments_lexer": "ipython3",
   "version": "3.6.6"
  }
 },
 "nbformat": 4,
 "nbformat_minor": 2
}
